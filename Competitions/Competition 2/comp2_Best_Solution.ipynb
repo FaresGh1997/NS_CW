{
 "cells": [
  {
   "cell_type": "markdown",
   "id": "3f2a6fc5",
   "metadata": {},
   "source": [
    "## Marketing Campaign\n",
    "\n",
    "Solution by steps\n",
    "\n"
   ]
  },
  {
   "cell_type": "markdown",
   "id": "48dc36f2",
   "metadata": {},
   "source": [
    "### Step 0. Correct market simulation\n",
    "\n",
    "The most important step!"
   ]
  },
  {
   "cell_type": "code",
   "execution_count": 1,
   "id": "450ec032",
   "metadata": {},
   "outputs": [],
   "source": [
    "import numpy as np\n",
    "import networkx as nx\n",
    "import pandas as pd\n",
    "from tqdm import tqdm"
   ]
  },
  {
   "cell_type": "code",
   "execution_count": 2,
   "id": "59ce833e",
   "metadata": {},
   "outputs": [],
   "source": [
    "edges = []\n",
    "file = open('marketing_edges.txt')\n",
    "for line in file.readlines():\n",
    "    txt = line.split()\n",
    "    ed = []\n",
    "    ed.append(int(txt[0]))\n",
    "    ed.append(int(txt[1]))\n",
    "    edges.append(ed)\n",
    "file.close()"
   ]
  },
  {
   "cell_type": "code",
   "execution_count": 3,
   "id": "2d20a995",
   "metadata": {},
   "outputs": [],
   "source": [
    "G = nx.Graph()\n",
    "G.add_nodes_from(np.arange(4039))\n",
    "G.add_edges_from(edges)\n",
    "A = nx.to_numpy_array(G)\n",
    "deg = A.sum(axis=0)\n",
    "n = 4039"
   ]
  },
  {
   "cell_type": "code",
   "execution_count": 5,
   "id": "7ffc9771",
   "metadata": {},
   "outputs": [],
   "source": [
    "# Main function\n",
    "\n",
    "def simulate_market(strat, bablos=10000, A=A, deg=deg, n=4039):\n",
    "    days_flag = True\n",
    "    aff = np.zeros(n)\n",
    "    for t in range(60):\n",
    "        if t in strat:\n",
    "            for adv in strat[t]:\n",
    "                bablos -= 300 * deg[adv]\n",
    "                aff[adv] = 1\n",
    "            if bablos < 0:\n",
    "                return -15000, 0, 0\n",
    "        new_aff = (aff @ A * (1 - aff) > 0.18 * deg).astype('int')\n",
    "        aff += new_aff\n",
    "        num_new = new_aff.sum()\n",
    "        bablos += 50 * num_new\n",
    "        if num_new == 0:\n",
    "            if days_flag:\n",
    "                days_flag = False\n",
    "            else:\n",
    "                return bablos - 10000, t, aff.sum()\n",
    "        else:\n",
    "            days_flag = True\n",
    "    return bablos - 10000, 60, aff.sum()"
   ]
  },
  {
   "cell_type": "code",
   "execution_count": 6,
   "id": "bc379340",
   "metadata": {},
   "outputs": [
    {
     "data": {
      "text/plain": [
       "(-2350.0, 10, 29.0)"
      ]
     },
     "execution_count": 6,
     "metadata": {},
     "output_type": "execute_result"
    }
   ],
   "source": [
    "test_dict = {\n",
    "    # On the first day, I will sign contracts with 47 and 138\n",
    "    0: [47, 138],\n",
    "    # On the third day, I will sign 2 more contracts\n",
    "    2: [3789, 262]\n",
    "}\n",
    "\n",
    "# Oui, c'est vrai!\n",
    "simulate_market(test_dict)"
   ]
  },
  {
   "cell_type": "markdown",
   "id": "75e9ac07",
   "metadata": {},
   "source": [
    "### Step 1. One in the field is not a warrior!\n",
    "\n"
   ]
  },
  {
   "cell_type": "code",
   "execution_count": 8,
   "id": "472802dd",
   "metadata": {},
   "outputs": [
    {
     "name": "stderr",
     "output_type": "stream",
     "text": [
      "100%|██████████| 4039/4039 [00:56<00:00, 71.18it/s] "
     ]
    },
    {
     "name": "stdout",
     "output_type": "stream",
     "text": [
      "30200.0 3057\n"
     ]
    },
    {
     "name": "stderr",
     "output_type": "stream",
     "text": [
      "\n"
     ]
    }
   ],
   "source": [
    "# Let's choose the best node.\n",
    "\n",
    "n = 4039\n",
    "best_strat = []\n",
    "\n",
    "max_prof = 0\n",
    "best_node = None\n",
    "for i in tqdm(range(n)):\n",
    "    test_strat = best_strat.copy()\n",
    "    test_strat.append(i)\n",
    "    prof = simulate_market({0: test_strat})[0]\n",
    "    if prof > max_prof:\n",
    "        max_prof = prof\n",
    "        best_node = i\n",
    "print(max_prof, best_node)"
   ]
  },
  {
   "cell_type": "code",
   "execution_count": 10,
   "id": "8fdf5412",
   "metadata": {},
   "outputs": [
    {
     "data": {
      "text/plain": [
       "(30200.0, 29, 701.0)"
      ]
     },
     "execution_count": 10,
     "metadata": {},
     "output_type": "execute_result"
    }
   ],
   "source": [
    "# Check\n",
    "\n",
    "simulate_market({0: [3057]})"
   ]
  },
  {
   "cell_type": "markdown",
   "id": "a98b07c7",
   "metadata": {},
   "source": [
    "Wow! One small node was able to bring more profit than both baselines combined! "
   ]
  },
  {
   "cell_type": "code",
   "execution_count": null,
   "id": "3c72ab49",
   "metadata": {},
   "outputs": [],
   "source": [
    "\"\"\"\n",
    "Сложно!\n",
    "Надо отдохнуть.\n",
    "\"\"\""
   ]
  },
  {
   "cell_type": "markdown",
   "id": "7b222823",
   "metadata": {},
   "source": [
    "### Step 2. Greedy algorithm"
   ]
  },
  {
   "cell_type": "markdown",
   "id": "68f2b395",
   "metadata": {},
   "source": [
    "Let's implement a greedy algorithm. https://en.wikipedia.org/wiki/Greedy_algorithm\n",
    "\n",
    "We will only add nodes on day zero in this step."
   ]
  },
  {
   "cell_type": "code",
   "execution_count": null,
   "id": "6a0bf5f6",
   "metadata": {},
   "outputs": [],
   "source": [
    "# Maybe for a long time\n",
    "\n",
    "n = 4039\n",
    "best_strat = []\n",
    "for j in range(10):\n",
    "    max_prof = 0\n",
    "    best_node = None\n",
    "    for i in tqdm(range(n)):\n",
    "        test_strat = best_strat.copy()\n",
    "        test_strat.append(i)\n",
    "        prof = simulate_market({0: test_strat})[0]\n",
    "        if prof > max_prof:\n",
    "            max_prof = prof\n",
    "            best_node = i\n",
    "    best_strat.append(best_node)\n",
    "    print(j, best_strat, max_prof)"
   ]
  },
  {
   "cell_type": "code",
   "execution_count": 14,
   "id": "ba6fd42c",
   "metadata": {},
   "outputs": [
    {
     "data": {
      "text/plain": [
       "(64000.0, 44, 1483.0)"
      ]
     },
     "execution_count": 14,
     "metadata": {},
     "output_type": "execute_result"
    }
   ],
   "source": [
    "# Result\n",
    "\n",
    "simulate_market({0: [3057, 3775, 2263, 3991, 443]})"
   ]
  },
  {
   "cell_type": "markdown",
   "id": "72f6c7de",
   "metadata": {},
   "source": [
    "64k. Not bad!"
   ]
  },
  {
   "cell_type": "markdown",
   "id": "6397845d",
   "metadata": {},
   "source": [
    "### Step 3. Advertising on credit"
   ]
  },
  {
   "cell_type": "markdown",
   "id": "176cd7dd",
   "metadata": {},
   "source": [
    "Let's implement a simplified function. We will assume that there is no restriction on the purchase of advertising. As if it could be taken on credit.\n",
    "\n",
    "In fact, in the present model, we will simply buy part of the advertisement in the later days, when we receive money from the first advertisement."
   ]
  },
  {
   "cell_type": "code",
   "execution_count": 15,
   "id": "129734ca",
   "metadata": {},
   "outputs": [],
   "source": [
    "def simple_simulate_market(aff, bablos=10000, A=A, deg=deg, n=4039):\n",
    "    for i in range(n):\n",
    "        if aff[i] == 1:\n",
    "            bablos -= 300 * deg[i]\n",
    "    for t in range(60):\n",
    "        new_aff = (aff @ A * (1 - aff) > 0.18 * deg).astype('int')\n",
    "        aff += new_aff\n",
    "        num_new = new_aff.sum()\n",
    "        bablos += 50 * num_new\n",
    "        if num_new == 0:\n",
    "            return bablos - 10000\n",
    "        else:\n",
    "            days_flag = True\n",
    "    return bablos - 10000"
   ]
  },
  {
   "cell_type": "code",
   "execution_count": 17,
   "id": "ca8bd2ea",
   "metadata": {},
   "outputs": [
    {
     "data": {
      "text/plain": [
       "30200.0"
      ]
     },
     "execution_count": 17,
     "metadata": {},
     "output_type": "execute_result"
    }
   ],
   "source": [
    "# Let's check solution from step 1\n",
    "n = 4039\n",
    "aff = np.zeros(n)\n",
    "aff[3057] = 1\n",
    "simple_simulate_market(aff)"
   ]
  },
  {
   "cell_type": "markdown",
   "id": "5969e226",
   "metadata": {},
   "source": [
    "Let's find the most profitable nodes."
   ]
  },
  {
   "cell_type": "code",
   "execution_count": 18,
   "id": "6d8d8442",
   "metadata": {},
   "outputs": [
    {
     "name": "stderr",
     "output_type": "stream",
     "text": [
      "100%|██████████| 4039/4039 [01:00<00:00, 67.13it/s] \n"
     ]
    }
   ],
   "source": [
    "one_node_value = np.zeros(n)\n",
    "for i in tqdm(range(n)):\n",
    "    test_aff = np.zeros(n)\n",
    "    test_aff[i] = 1\n",
    "    one_node_value[i] = simple_simulate_market(test_aff)"
   ]
  },
  {
   "cell_type": "code",
   "execution_count": 19,
   "id": "4fd1f15c",
   "metadata": {},
   "outputs": [
    {
     "data": {
      "text/plain": [
       "array([ 202, 2885,  356,  411, 2838, 3003, 3606, 3775,  594, 2788,  454,\n",
       "       3988,  468,  443, 3939, 3989, 4013, 3993, 3985,  337,   93, 4011,\n",
       "        167, 3991, 2558, 2217, 2450, 2113, 2439, 2548, 2528, 2263, 1505,\n",
       "       3057, 1304], dtype=int64)"
      ]
     },
     "execution_count": 19,
     "metadata": {},
     "output_type": "execute_result"
    }
   ],
   "source": [
    "sorted_one_values = np.argsort(one_node_value)\n",
    "top35 = sorted_one_values[-35:]\n",
    "top35"
   ]
  },
  {
   "cell_type": "markdown",
   "id": "046ec10e",
   "metadata": {},
   "source": [
    "We will find the best pairs of 35 top elements."
   ]
  },
  {
   "cell_type": "code",
   "execution_count": 20,
   "id": "1512fbcf",
   "metadata": {},
   "outputs": [
    {
     "data": {
      "text/html": [
       "<div>\n",
       "<style scoped>\n",
       "    .dataframe tbody tr th:only-of-type {\n",
       "        vertical-align: middle;\n",
       "    }\n",
       "\n",
       "    .dataframe tbody tr th {\n",
       "        vertical-align: top;\n",
       "    }\n",
       "\n",
       "    .dataframe thead th {\n",
       "        text-align: right;\n",
       "    }\n",
       "</style>\n",
       "<table border=\"1\" class=\"dataframe\">\n",
       "  <thead>\n",
       "    <tr style=\"text-align: right;\">\n",
       "      <th></th>\n",
       "      <th>fst</th>\n",
       "      <th>snd</th>\n",
       "      <th>value</th>\n",
       "    </tr>\n",
       "  </thead>\n",
       "  <tbody>\n",
       "    <tr>\n",
       "      <th>594</th>\n",
       "      <td>3057</td>\n",
       "      <td>1304</td>\n",
       "      <td>59000.0</td>\n",
       "    </tr>\n",
       "    <tr>\n",
       "      <th>242</th>\n",
       "      <td>3775</td>\n",
       "      <td>3057</td>\n",
       "      <td>52400.0</td>\n",
       "    </tr>\n",
       "    <tr>\n",
       "      <th>593</th>\n",
       "      <td>1505</td>\n",
       "      <td>1304</td>\n",
       "      <td>46700.0</td>\n",
       "    </tr>\n",
       "    <tr>\n",
       "      <th>591</th>\n",
       "      <td>2263</td>\n",
       "      <td>1304</td>\n",
       "      <td>41000.0</td>\n",
       "    </tr>\n",
       "    <tr>\n",
       "      <th>588</th>\n",
       "      <td>2528</td>\n",
       "      <td>1304</td>\n",
       "      <td>41000.0</td>\n",
       "    </tr>\n",
       "    <tr>\n",
       "      <th>...</th>\n",
       "      <td>...</td>\n",
       "      <td>...</td>\n",
       "      <td>...</td>\n",
       "    </tr>\n",
       "    <tr>\n",
       "      <th>252</th>\n",
       "      <td>594</td>\n",
       "      <td>3993</td>\n",
       "      <td>-1150.0</td>\n",
       "    </tr>\n",
       "    <tr>\n",
       "      <th>251</th>\n",
       "      <td>594</td>\n",
       "      <td>4013</td>\n",
       "      <td>-1150.0</td>\n",
       "    </tr>\n",
       "    <tr>\n",
       "      <th>250</th>\n",
       "      <td>594</td>\n",
       "      <td>3989</td>\n",
       "      <td>-1150.0</td>\n",
       "    </tr>\n",
       "    <tr>\n",
       "      <th>323</th>\n",
       "      <td>3988</td>\n",
       "      <td>4013</td>\n",
       "      <td>-1150.0</td>\n",
       "    </tr>\n",
       "    <tr>\n",
       "      <th>246</th>\n",
       "      <td>594</td>\n",
       "      <td>3988</td>\n",
       "      <td>-1450.0</td>\n",
       "    </tr>\n",
       "  </tbody>\n",
       "</table>\n",
       "<p>595 rows × 3 columns</p>\n",
       "</div>"
      ],
      "text/plain": [
       "      fst   snd    value\n",
       "594  3057  1304  59000.0\n",
       "242  3775  3057  52400.0\n",
       "593  1505  1304  46700.0\n",
       "591  2263  1304  41000.0\n",
       "588  2528  1304  41000.0\n",
       "..    ...   ...      ...\n",
       "252   594  3993  -1150.0\n",
       "251   594  4013  -1150.0\n",
       "250   594  3989  -1150.0\n",
       "323  3988  4013  -1150.0\n",
       "246   594  3988  -1450.0\n",
       "\n",
       "[595 rows x 3 columns]"
      ]
     },
     "execution_count": 20,
     "metadata": {},
     "output_type": "execute_result"
    }
   ],
   "source": [
    "fst = []\n",
    "snd = []\n",
    "value = []\n",
    "for i in range(35):\n",
    "    for j in range(35):\n",
    "        if i < j:\n",
    "            fst.append(top35[i])\n",
    "            snd.append(top35[j])\n",
    "            test_aff = np.zeros(n)\n",
    "            test_aff[top35[i]] = 1\n",
    "            test_aff[top35[j]] = 1\n",
    "            value.append(simple_simulate_market(test_aff))\n",
    "df = pd.DataFrame({'fst': fst, 'snd': snd, 'value': value})\n",
    "df = df.sort_values(by=['value'], ascending=False)\n",
    "df"
   ]
  },
  {
   "cell_type": "code",
   "execution_count": 21,
   "id": "9049027c",
   "metadata": {},
   "outputs": [
    {
     "data": {
      "text/html": [
       "<div>\n",
       "<style scoped>\n",
       "    .dataframe tbody tr th:only-of-type {\n",
       "        vertical-align: middle;\n",
       "    }\n",
       "\n",
       "    .dataframe tbody tr th {\n",
       "        vertical-align: top;\n",
       "    }\n",
       "\n",
       "    .dataframe thead th {\n",
       "        text-align: right;\n",
       "    }\n",
       "</style>\n",
       "<table border=\"1\" class=\"dataframe\">\n",
       "  <thead>\n",
       "    <tr style=\"text-align: right;\">\n",
       "      <th></th>\n",
       "      <th>fst</th>\n",
       "      <th>snd</th>\n",
       "      <th>value</th>\n",
       "    </tr>\n",
       "  </thead>\n",
       "  <tbody>\n",
       "    <tr>\n",
       "      <th>594</th>\n",
       "      <td>3057</td>\n",
       "      <td>1304</td>\n",
       "      <td>59000.0</td>\n",
       "    </tr>\n",
       "    <tr>\n",
       "      <th>242</th>\n",
       "      <td>3775</td>\n",
       "      <td>3057</td>\n",
       "      <td>52400.0</td>\n",
       "    </tr>\n",
       "    <tr>\n",
       "      <th>593</th>\n",
       "      <td>1505</td>\n",
       "      <td>1304</td>\n",
       "      <td>46700.0</td>\n",
       "    </tr>\n",
       "    <tr>\n",
       "      <th>591</th>\n",
       "      <td>2263</td>\n",
       "      <td>1304</td>\n",
       "      <td>41000.0</td>\n",
       "    </tr>\n",
       "    <tr>\n",
       "      <th>588</th>\n",
       "      <td>2528</td>\n",
       "      <td>1304</td>\n",
       "      <td>41000.0</td>\n",
       "    </tr>\n",
       "    <tr>\n",
       "      <th>584</th>\n",
       "      <td>2548</td>\n",
       "      <td>1304</td>\n",
       "      <td>40700.0</td>\n",
       "    </tr>\n",
       "    <tr>\n",
       "      <th>573</th>\n",
       "      <td>2113</td>\n",
       "      <td>1304</td>\n",
       "      <td>40100.0</td>\n",
       "    </tr>\n",
       "    <tr>\n",
       "      <th>579</th>\n",
       "      <td>2439</td>\n",
       "      <td>1304</td>\n",
       "      <td>40100.0</td>\n",
       "    </tr>\n",
       "    <tr>\n",
       "      <th>241</th>\n",
       "      <td>3775</td>\n",
       "      <td>1505</td>\n",
       "      <td>40100.0</td>\n",
       "    </tr>\n",
       "    <tr>\n",
       "      <th>587</th>\n",
       "      <td>2528</td>\n",
       "      <td>3057</td>\n",
       "      <td>39700.0</td>\n",
       "    </tr>\n",
       "    <tr>\n",
       "      <th>590</th>\n",
       "      <td>2263</td>\n",
       "      <td>3057</td>\n",
       "      <td>39700.0</td>\n",
       "    </tr>\n",
       "    <tr>\n",
       "      <th>566</th>\n",
       "      <td>2450</td>\n",
       "      <td>1304</td>\n",
       "      <td>39500.0</td>\n",
       "    </tr>\n",
       "    <tr>\n",
       "      <th>583</th>\n",
       "      <td>2548</td>\n",
       "      <td>3057</td>\n",
       "      <td>39400.0</td>\n",
       "    </tr>\n",
       "    <tr>\n",
       "      <th>558</th>\n",
       "      <td>2217</td>\n",
       "      <td>1304</td>\n",
       "      <td>39200.0</td>\n",
       "    </tr>\n",
       "    <tr>\n",
       "      <th>572</th>\n",
       "      <td>2113</td>\n",
       "      <td>3057</td>\n",
       "      <td>38800.0</td>\n",
       "    </tr>\n",
       "    <tr>\n",
       "      <th>578</th>\n",
       "      <td>2439</td>\n",
       "      <td>3057</td>\n",
       "      <td>38800.0</td>\n",
       "    </tr>\n",
       "    <tr>\n",
       "      <th>565</th>\n",
       "      <td>2450</td>\n",
       "      <td>3057</td>\n",
       "      <td>38200.0</td>\n",
       "    </tr>\n",
       "    <tr>\n",
       "      <th>557</th>\n",
       "      <td>2217</td>\n",
       "      <td>3057</td>\n",
       "      <td>37900.0</td>\n",
       "    </tr>\n",
       "    <tr>\n",
       "      <th>549</th>\n",
       "      <td>2558</td>\n",
       "      <td>1304</td>\n",
       "      <td>36500.0</td>\n",
       "    </tr>\n",
       "    <tr>\n",
       "      <th>548</th>\n",
       "      <td>2558</td>\n",
       "      <td>3057</td>\n",
       "      <td>35200.0</td>\n",
       "    </tr>\n",
       "  </tbody>\n",
       "</table>\n",
       "</div>"
      ],
      "text/plain": [
       "      fst   snd    value\n",
       "594  3057  1304  59000.0\n",
       "242  3775  3057  52400.0\n",
       "593  1505  1304  46700.0\n",
       "591  2263  1304  41000.0\n",
       "588  2528  1304  41000.0\n",
       "584  2548  1304  40700.0\n",
       "573  2113  1304  40100.0\n",
       "579  2439  1304  40100.0\n",
       "241  3775  1505  40100.0\n",
       "587  2528  3057  39700.0\n",
       "590  2263  3057  39700.0\n",
       "566  2450  1304  39500.0\n",
       "583  2548  3057  39400.0\n",
       "558  2217  1304  39200.0\n",
       "572  2113  3057  38800.0\n",
       "578  2439  3057  38800.0\n",
       "565  2450  3057  38200.0\n",
       "557  2217  3057  37900.0\n",
       "549  2558  1304  36500.0\n",
       "548  2558  3057  35200.0"
      ]
     },
     "execution_count": 21,
     "metadata": {},
     "output_type": "execute_result"
    }
   ],
   "source": [
    "df.head(20)"
   ]
  },
  {
   "cell_type": "markdown",
   "id": "9e23c60d",
   "metadata": {},
   "source": [
    "Vertices 1304, 3057 and 3775 interact well with each other.\n",
    "\n",
    "Let's create the basis of the set of \"best nodes\" from nodes 1304, 3057 and 3775.\n",
    "\n",
    "Next, we will add one node at a time using a greedy algorithm (as in step 2). We will use function simple_simulate_market. The algorithm stops when adding a vertex does not bring profit."
   ]
  },
  {
   "cell_type": "code",
   "execution_count": 24,
   "id": "1fe41656",
   "metadata": {},
   "outputs": [],
   "source": [
    "\"\"\"\n",
    "\"Доказательство этого утверждения предлагается читателю в качестве упражнения.\"\n",
    "(c) Любой автор учебника, когда ему лень расписывать доказательство.\n",
    "\"\"\"\n",
    "# Result\n",
    "good_nodes = [3775, 3057, 2263, 1304, 2568, 1084, 54, 2745, 167, 154]"
   ]
  },
  {
   "cell_type": "code",
   "execution_count": 26,
   "id": "b07a42b8",
   "metadata": {},
   "outputs": [
    {
     "name": "stdout",
     "output_type": "stream",
     "text": [
      "128250.0\n"
     ]
    }
   ],
   "source": [
    "aff = np.zeros(n)\n",
    "for i in interest_nodes:\n",
    "    aff[i] = 1\n",
    "print(simple_simulate_market(aff))"
   ]
  },
  {
   "cell_type": "markdown",
   "id": "5a069819",
   "metadata": {},
   "source": [
    "NOT BAD!!!"
   ]
  },
  {
   "cell_type": "markdown",
   "id": "37ad9a7c",
   "metadata": {},
   "source": [
    "Now our goal is to arrange these vertices in the \"real function\" so that we do not go into negative on any of the days. \n",
    "\n",
    "By trial and error, we succeed!"
   ]
  },
  {
   "cell_type": "code",
   "execution_count": 27,
   "id": "b435e109",
   "metadata": {},
   "outputs": [
    {
     "data": {
      "text/plain": [
       "(128250.0, 53, 3397.0)"
      ]
     },
     "execution_count": 27,
     "metadata": {},
     "output_type": "execute_result"
    }
   ],
   "source": [
    "simulate_market({0: [3775, 3057, 2263, 154], 12: [1304], 15: [2568, 1084], 16: [54], 19: [2745], 21: [167]})"
   ]
  },
  {
   "cell_type": "markdown",
   "id": "5e5f9835",
   "metadata": {},
   "source": [
    "### Step 4. \"cheap\" neighbors"
   ]
  },
  {
   "cell_type": "markdown",
   "id": "298d5852",
   "metadata": {},
   "source": [
    "The nodes selected by us are very good, but... too expensive.\n",
    "\n",
    "Can we activate some good node by buying the \"cheap\" neighbors of the node?\n",
    "\n",
    "Yes!"
   ]
  },
  {
   "cell_type": "code",
   "execution_count": 32,
   "id": "0553ef78",
   "metadata": {},
   "outputs": [
    {
     "data": {
      "text/plain": [
       "(8, 2.0)"
      ]
     },
     "execution_count": 32,
     "metadata": {},
     "output_type": "execute_result"
    }
   ],
   "source": [
    "# It is enough for us to buy two friends of 3775.\n",
    "G.degree[3775], np.ceil(G.degree[3775] * 0.18)"
   ]
  },
  {
   "cell_type": "code",
   "execution_count": 33,
   "id": "4cb2a11b",
   "metadata": {},
   "outputs": [
    {
     "name": "stdout",
     "output_type": "stream",
     "text": [
      "3953 3\n",
      "3544 4\n",
      "3547 12\n",
      "3454 13\n",
      "3496 18\n",
      "3847 12\n",
      "3660 5\n",
      "3895 12\n"
     ]
    }
   ],
   "source": [
    "for v in G.neighbors(3775):\n",
    "    print(v, G.degree[v])"
   ]
  },
  {
   "cell_type": "code",
   "execution_count": 34,
   "id": "a4c50c0f",
   "metadata": {},
   "outputs": [
    {
     "data": {
      "text/plain": [
       "True"
      ]
     },
     "execution_count": 34,
     "metadata": {},
     "output_type": "execute_result"
    }
   ],
   "source": [
    "3 + 4 < 8"
   ]
  },
  {
   "cell_type": "markdown",
   "id": "256f5fe6",
   "metadata": {},
   "source": [
    "It is profitable for us to replace $3775$ with $3953$ and $3544$!\n",
    "\n",
    "If we buy $3953$ and $3544$, then the useful node will be activated, while we will pay less."
   ]
  },
  {
   "cell_type": "code",
   "execution_count": 35,
   "id": "96451986",
   "metadata": {},
   "outputs": [
    {
     "data": {
      "text/plain": [
       "(128500.0, 53, 3397.0)"
      ]
     },
     "execution_count": 35,
     "metadata": {},
     "output_type": "execute_result"
    }
   ],
   "source": [
    "simulate_market({0: [3953, 3544, 3057, 2263, 154], 12: [1304], 15: [2568, 1084], 16: [54], 19: [2745], 21: [167]})"
   ]
  },
  {
   "cell_type": "markdown",
   "id": "d5f5d709",
   "metadata": {},
   "source": [
    "Unfortunately, this trick does not work with other \"good nodes\".\n",
    "\n",
    "Therefore, $128,500 is my best result.\n",
    "\n",
    "Thanks for your attention!"
   ]
  }
 ],
 "metadata": {
  "kernelspec": {
   "display_name": "Python 3",
   "language": "python",
   "name": "python3"
  },
  "language_info": {
   "codemirror_mode": {
    "name": "ipython",
    "version": 3
   },
   "file_extension": ".py",
   "mimetype": "text/x-python",
   "name": "python",
   "nbconvert_exporter": "python",
   "pygments_lexer": "ipython3",
   "version": "3.8.8"
  }
 },
 "nbformat": 4,
 "nbformat_minor": 5
}
