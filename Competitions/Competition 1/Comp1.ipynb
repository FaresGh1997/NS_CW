{
 "cells": [
  {
   "cell_type": "code",
   "execution_count": 2,
   "metadata": {},
   "outputs": [],
   "source": [
    "import numpy as np\n",
    "import networkx as nx\n",
    "import matplotlib.pyplot as plt\n",
    "parameters = {\"number_nodes\": 1882, \"radius\": [15, 2], \"diameter\": [28, 4], \"average_clustering\": [0.005066798238955518, 0.001], \"average_path_length\": [11.748410823170731, 2], \"number_cc\": [168, 32], \"degree_cdf\": [[0, 1, 2, 3, 4, 5, 6, 7, 8, 9, 10, 11, 12, 13, 14, 15, 16, 17, 19, 21, 24, 46], [0.0, 0.6902231668437833, 0.8517534537725824, 0.9086078639744952, 0.9378320935175345, 0.9516471838469713, 0.9654622741764081, 0.9723698193411264, 0.9776833156216791, 0.9808714133900106, 0.9845908607863975, 0.9888416578108395, 0.9893730074388948, 0.9925611052072264, 0.9936238044633369, 0.9952178533475027, 0.9957492029755579, 0.9968119022316685, 0.997874601487779, 0.9989373007438895, 0.9994686503719448, 1.0]]}\n",
    "X = np.array(parameters['degree_cdf']).T[:,0]\n",
    "Y = np.array(parameters['degree_cdf']).T[:,1]\n",
    "P = Y[1:] - Y[:-1] \n",
    "D = X[1:]\n",
    "\n",
    "D_N = np.array([D,(np.array(P) * 1882).tolist()]).T \n",
    "seq = np.concatenate([np.repeat(D_N[i,0],int(round(D_N[i,1]))) for i in range(D_N.shape[0])])\n",
    "seq = [int(seq[i]) for i in range(len(seq))]\n",
    "\n",
    "# G = nx.random_degree_sequence_graph(seq, seed = 2)\n",
    "# cc = list(nx.connected_components(G))\n",
    "# max_cc = max(cc,key=len)\n",
    "\n",
    "# cc_3 = [i for i in cc if len(i) == 3]\n",
    "# for v in cc_3[0]:\n",
    "#     for u in cc_3[0]:\n",
    "#         if v > u :\n",
    "#             G.add_edge(v,u)\n",
    "\n",
    "\n",
    "\n",
    "\n",
    "            \n",
    "# sort_cc = sorted(cc, key =len)\n",
    "# sort_cc_l = [list(i) for i in sort_cc]\n",
    " \n",
    "# G.add_edge(3,0)\n",
    "# G.add_edge(529,1)\n",
    "# G.add_edge(672,2)\n",
    "\n",
    "# G.add_edge(822,5)\n",
    "\n",
    "\n",
    "\n",
    "\n",
    "# newcc = sort_cc_l[6:]\n",
    "# cc2 = [newcc[i] for i in range(len(newcc)) if len(newcc[i])==2]\n",
    "# for i in np.arange(0,len(cc2),2):\n",
    "#     G.add_edge(cc2[i][1], cc2[i+1][0])\n",
    "    \n",
    "# # nx.write_edgelist(G,'Nikita_G.txt',delimiter=' ',data=False)"
   ]
  },
  {
   "cell_type": "code",
   "execution_count": 3,
   "metadata": {},
   "outputs": [],
   "source": [
    "seq = sorted(seq)\n",
    "seq = np.array(seq)"
   ]
  },
  {
   "cell_type": "code",
   "execution_count": 4,
   "metadata": {},
   "outputs": [
    {
     "data": {
      "text/plain": [
       "451"
      ]
     },
     "execution_count": 4,
     "metadata": {},
     "output_type": "execute_result"
    }
   ],
   "source": [
    "sum(seq[-29 : ])"
   ]
  },
  {
   "cell_type": "code",
   "execution_count": 5,
   "metadata": {},
   "outputs": [
    {
     "data": {
      "text/plain": [
       "array([1, 1, 1, ..., 1, 1, 2])"
      ]
     },
     "execution_count": 5,
     "metadata": {},
     "output_type": "execute_result"
    }
   ],
   "source": [
    "seq[np.where(seq == 1)[-1] + 1]"
   ]
  },
  {
   "cell_type": "code",
   "execution_count": 6,
   "metadata": {},
   "outputs": [],
   "source": [
    "G = nx.Graph()\n"
   ]
  },
  {
   "cell_type": "code",
   "execution_count": 7,
   "metadata": {},
   "outputs": [],
   "source": [
    "G = nx.random_geometric_graph(1882, radius = 15, dim=2)\n",
    "        "
   ]
  },
  {
   "cell_type": "code",
   "execution_count": 8,
   "metadata": {},
   "outputs": [
    {
     "data": {
      "text/plain": [
       "1"
      ]
     },
     "execution_count": 8,
     "metadata": {},
     "output_type": "execute_result"
    }
   ],
   "source": [
    "nx.radius(G)"
   ]
  },
  {
   "cell_type": "code",
   "execution_count": 9,
   "metadata": {},
   "outputs": [
    {
     "data": {
      "image/png": "[encoded data removed]",
      "text/plain": [
       "<Figure size 432x288 with 1 Axes>"
      ]
     },
     "metadata": {
      "needs_background": "light"
     },
     "output_type": "display_data"
    }
   ],
   "source": [
    "X = np.array(parameters['degree_cdf']).T[:,0]\n",
    "Y = np.array(parameters['degree_cdf']).T[:,1]\n",
    "\n",
    "# def mean_absolute_percentage_error(y_true, y_pred): \n",
    "#     y_true, y_pred = np.array(y_true), np.array(y_pred)\n",
    "#     return np.mean(np.abs((y_true - y_pred) / y_true)) * 100\n",
    "\n",
    "plt.plot(X, Y, label = 'true')\n",
    "CDF_X_2 = - (1.46846847 / (X + 1.21181181) ** 2) + 1\n",
    "plt.plot(X, CDF_X_2, label = 'predict3')\n",
    "plt.legend()\n",
    "plt.show()"
   ]
  },
  {
   "cell_type": "code",
   "execution_count": 10,
   "metadata": {},
   "outputs": [],
   "source": [
    "def power_law_generate(n, random_seed):\n",
    "    #######\n",
    "    def power_law_ppf(r):\n",
    "        F_inv = np.sqrt(1.46846847 / (1 - r)) - 1.21181181\n",
    "        return np.intc(np.round(F_inv))\n",
    "    #######\n",
    "    np.random.seed(random_seed)\n",
    "    uni_sample = np.random.uniform(0, 0.999, n)\n",
    "    vec_inv = power_law_ppf(uni_sample)\n",
    "    while  sum(vec_inv) % 2 != 0:\n",
    "        uni_sample = np.random.uniform(0, 0.999, n)\n",
    "        vec_inv = power_law_ppf(uni_sample)\n",
    "    \n",
    "    return vec_inv\n",
    "\n",
    "        "
   ]
  },
  {
   "cell_type": "code",
   "execution_count": 11,
   "metadata": {},
   "outputs": [
    {
     "data": {
      "text/plain": [
       "{'number_nodes': 1882,\n",
       " 'radius': [15, 2],\n",
       " 'diameter': [28, 4],\n",
       " 'average_clustering': [0.005066798238955518, 0.001],\n",
       " 'average_path_length': [11.748410823170731, 2],\n",
       " 'number_cc': [168, 32],\n",
       " 'degree_cdf': [[0,\n",
       "   1,\n",
       "   2,\n",
       "   3,\n",
       "   4,\n",
       "   5,\n",
       "   6,\n",
       "   7,\n",
       "   8,\n",
       "   9,\n",
       "   10,\n",
       "   11,\n",
       "   12,\n",
       "   13,\n",
       "   14,\n",
       "   15,\n",
       "   16,\n",
       "   17,\n",
       "   19,\n",
       "   21,\n",
       "   24,\n",
       "   46],\n",
       "  [0.0,\n",
       "   0.6902231668437833,\n",
       "   0.8517534537725824,\n",
       "   0.9086078639744952,\n",
       "   0.9378320935175345,\n",
       "   0.9516471838469713,\n",
       "   0.9654622741764081,\n",
       "   0.9723698193411264,\n",
       "   0.9776833156216791,\n",
       "   0.9808714133900106,\n",
       "   0.9845908607863975,\n",
       "   0.9888416578108395,\n",
       "   0.9893730074388948,\n",
       "   0.9925611052072264,\n",
       "   0.9936238044633369,\n",
       "   0.9952178533475027,\n",
       "   0.9957492029755579,\n",
       "   0.9968119022316685,\n",
       "   0.997874601487779,\n",
       "   0.9989373007438895,\n",
       "   0.9994686503719448,\n",
       "   1.0]]}"
      ]
     },
     "execution_count": 11,
     "metadata": {},
     "output_type": "execute_result"
    }
   ],
   "source": [
    "parameters"
   ]
  },
  {
   "cell_type": "markdown",
   "metadata": {},
   "source": [
    "\n",
    "\n",
    "    "
   ]
  },
  {
   "cell_type": "code",
   "execution_count": null,
   "metadata": {},
   "outputs": [],
   "source": []
  },
  {
   "cell_type": "code",
   "execution_count": 12,
   "metadata": {},
   "outputs": [
    {
     "name": "stdout",
     "output_type": "stream",
     "text": [
      "0\n",
      "1\n",
      "2\n",
      "3\n",
      "4\n",
      "5\n",
      "6\n",
      "7\n",
      "8\n",
      "9\n"
     ]
    }
   ],
   "source": [
    "par = []\n",
    "for i in range(10):\n",
    "    print(i)\n",
    "    v = power_law_generate(1882, random_seed=i) \n",
    "    try:\n",
    "        G = nx.configuration_model(v, create_using = nx.Graph, seed = i)\n",
    "        cc = len(list(nx.connected_components(G)))\n",
    "        cl = nx.average_clustering(G)\n",
    "        Gcc = max(nx.connected_components(G), key=len)\n",
    "        G0 = G.subgraph(Gcc)\n",
    "        path = nx.average_shortest_path_length(G0)\n",
    "        r = nx.radius(G0)\n",
    "        d = nx.diameter(G0)\n",
    "        par.append([cc,cl,path,r,d]) \n",
    "    except:\n",
    "        pass\n"
   ]
  },
  {
   "cell_type": "code",
   "execution_count": 13,
   "metadata": {},
   "outputs": [
    {
     "data": {
      "text/plain": [
       "[[1059, 0.002912922121601874, 5.5860987017345165, 7, 13],\n",
       " [1079, 0.0013221491280672928, 5.7923692939723255, 8, 14],\n",
       " [1098, 0.0008765106695153362, 6.028047318776382, 8, 14],\n",
       " [1019, 0.0009481329604380249, 5.7470058723535775, 7, 14],\n",
       " [1061, 0.0014251859488872676, 5.505984367366878, 8, 14],\n",
       " [1002, 0.0013786454631126738, 6.126712131052898, 8, 15],\n",
       " [1022, 0.0012295914803450182, 5.965543897143247, 8, 15],\n",
       " [1029, 0.0023290725049749422, 6.324127827479783, 9, 18],\n",
       " [1068, 0.0018912248276520256, 6.008798307161154, 9, 17],\n",
       " [1066, 0.0015226524350356778, 5.882921216128603, 8, 14]]"
      ]
     },
     "execution_count": 13,
     "metadata": {},
     "output_type": "execute_result"
    }
   ],
   "source": [
    "par"
   ]
  },
  {
   "cell_type": "code",
   "execution_count": 14,
   "metadata": {},
   "outputs": [],
   "source": [
    "# G = nx.configuration_model(seq, create_using=nx.Graph)\n",
    "# cc_set = nx.connected_components(G)\n",
    "# cc = len(list(cc_set))\n",
    "# cl = nx.average_clustering(G)\n",
    "# maxcc = max(cc_set, key=len)\n",
    "# G0 = G.subgraph(maxcc)\n",
    "# path = nx.average_shortest_path_length(G0)\n",
    "# r = nx.radius(G0)\n",
    "# d = nx.diameter(G0)\n",
    "\n",
    "\n",
    "\n",
    "\n",
    "\n",
    "par = []\n"
   ]
  },
  {
   "cell_type": "code",
   "execution_count": 15,
   "metadata": {},
   "outputs": [],
   "source": [
    "P = Y[1:] - Y[:-1] \n",
    "D = X[1:]"
   ]
  },
  {
   "cell_type": "code",
   "execution_count": 16,
   "metadata": {},
   "outputs": [],
   "source": [
    "# x_train = power_law_generate(parameters['number_nodes'])\n",
    "# x_space = np.linspace(0, 40, 100)\n",
    "\n",
    "# hist, bin_edges = np.histogram(x_train, bins=200, density=True)\n",
    "\n",
    "# bin_centers = (bin_edges[1:] + bin_edges[:-1]) / 2\n",
    "# plt.scatter(bin_centers[hist > 0], hist[hist > 0], s=10)\n",
    "# plt.plot(x_space, 2 * 1.46846847 / (x_space + 1.21181181) ** 3, \n",
    "#          label='Theoretical PDF', c='tab:orange')\n",
    "# plt.legend()\n",
    "# # plt.xlim(1, 10)\n",
    "# plt.show()"
   ]
  },
  {
   "cell_type": "code",
   "execution_count": 17,
   "metadata": {},
   "outputs": [],
   "source": [
    "D_N = np.array([D,(np.array(P) * 1882).tolist()]).T \n",
    "# D_N = D_N[np.argsort(D_N[:,1])]"
   ]
  },
  {
   "cell_type": "code",
   "execution_count": 18,
   "metadata": {},
   "outputs": [],
   "source": [
    "G = nx.Graph()\n",
    "# G.add_nodes_from(np.arange(parameters['number_nodes']))"
   ]
  },
  {
   "cell_type": "code",
   "execution_count": 19,
   "metadata": {},
   "outputs": [],
   "source": [
    "# G = nx.complete_graph(1882)"
   ]
  },
  {
   "cell_type": "code",
   "execution_count": 20,
   "metadata": {},
   "outputs": [],
   "source": [
    "# D_N\n",
    "D_N = np.array([D,(np.array(P) * 1882).tolist()]).T \n",
    "seq = np.concatenate([np.repeat(D_N[i,0],int(round(D_N[i,1]))) for i in range(D_N.shape[0])])\n",
    "seq = [int(seq[i]) for i in range(len(seq))]"
   ]
  },
  {
   "cell_type": "code",
   "execution_count": 21,
   "metadata": {},
   "outputs": [],
   "source": [
    "seq = [int(seq[i]) for i in range(len(seq))]"
   ]
  },
  {
   "cell_type": "code",
   "execution_count": 22,
   "metadata": {},
   "outputs": [],
   "source": [
    "G = nx.barabasi_albert_graph(1882, 1, seed=None)\n",
    "def GK(x,xbar,sigma): return np.exp(- (x - xbar) ** 2 / (2 * sigma ** 2))\n",
    "cluster_ = nx.average_clustering(G)\n",
    "cc = list(nx.connected_components(G))\n",
    "cc_len_ = len(cc)\n",
    "max_cc = max(cc, key=len)\n",
    "G0 = G.subgraph(max_cc).copy()\n",
    "d_ = nx.diameter(G0)\n",
    "r_ = nx.radius(G0)\n",
    "path_ = nx.average_shortest_path_length(G0)\n",
    "cc_len = GK(cc_len_,168, 32)\n",
    "d = GK(d_,28, 4)\n",
    "r = GK(r_,15, 2)\n",
    "path = GK(path_, 11.748410823170731, 2)\n",
    "cluster_1 = GK(cluster_, 0.005066798238955518, 0.001)"
   ]
  },
  {
   "cell_type": "code",
   "execution_count": null,
   "metadata": {},
   "outputs": [],
   "source": []
  },
  {
   "cell_type": "code",
   "execution_count": 23,
   "metadata": {},
   "outputs": [],
   "source": [
    "nx.write_edgelist(G,'Edge.txt')"
   ]
  },
  {
   "cell_type": "code",
   "execution_count": 24,
   "metadata": {},
   "outputs": [],
   "source": [
    "G = nx.newman_watts_strogatz_graph(1882, 2, 0.001)\n",
    "def GK(x,xbar,sigma): return np.exp(- (x - xbar) ** 2 / (2 * sigma ** 2))\n",
    "cluster_ = nx.average_clustering(G)\n",
    "cc = list(nx.connected_components(G))\n",
    "cc_len_ = len(cc)\n",
    "max_cc = max(cc, key=len)\n",
    "G0 = G.subgraph(max_cc).copy()\n",
    "d_ = nx.diameter(G0)\n",
    "r_ = nx.radius(G0)\n",
    "path_ = nx.average_shortest_path_length(G0)\n",
    "cc_len = GK(cc_len_,168, 32)\n",
    "d = GK(d_,28, 4)\n",
    "r = GK(r_,15, 2)\n",
    "path = GK(path_, 11.748410823170731, 2)\n",
    "cluster = GK(cluster_, 0.005066798238955518, 0.001)"
   ]
  },
  {
   "cell_type": "code",
   "execution_count": 68,
   "metadata": {},
   "outputs": [
    {
     "data": {
      "text/plain": [
       "0.04393693362340742"
      ]
     },
     "execution_count": 68,
     "metadata": {},
     "output_type": "execute_result"
    }
   ],
   "source": [
    "GK(d_,28, 4)"
   ]
  },
  {
   "cell_type": "code",
   "execution_count": 25,
   "metadata": {},
   "outputs": [
    {
     "data": {
      "text/plain": [
       "0.0"
      ]
     },
     "execution_count": 25,
     "metadata": {},
     "output_type": "execute_result"
    }
   ],
   "source": [
    "cluster_"
   ]
  },
  {
   "cell_type": "code",
   "execution_count": 28,
   "metadata": {},
   "outputs": [],
   "source": [
    "G = nx.complete_graph(1882)\n",
    "# G_ = nx.ego_graph(G,radius=15, undirected=True)"
   ]
  },
  {
   "cell_type": "code",
   "execution_count": 29,
   "metadata": {},
   "outputs": [],
   "source": [
    "D = nx.gn_graph(1882, kernel= lambda x: GK(x,28, 4))\n",
    "G = D.to_undirected()"
   ]
  },
  {
   "cell_type": "code",
   "execution_count": 30,
   "metadata": {},
   "outputs": [
    {
     "data": {
      "text/plain": [
       "10"
      ]
     },
     "execution_count": 30,
     "metadata": {},
     "output_type": "execute_result"
    }
   ],
   "source": [
    "178 - 168"
   ]
  },
  {
   "cell_type": "code",
   "execution_count": 31,
   "metadata": {},
   "outputs": [
    {
     "data": {
      "text/plain": [
       "{'number_nodes': 1882,\n",
       " 'radius': [15, 2],\n",
       " 'diameter': [28, 4],\n",
       " 'average_clustering': [0.005066798238955518, 0.001],\n",
       " 'average_path_length': [11.748410823170731, 2],\n",
       " 'number_cc': [168, 32],\n",
       " 'degree_cdf': [[0,\n",
       "   1,\n",
       "   2,\n",
       "   3,\n",
       "   4,\n",
       "   5,\n",
       "   6,\n",
       "   7,\n",
       "   8,\n",
       "   9,\n",
       "   10,\n",
       "   11,\n",
       "   12,\n",
       "   13,\n",
       "   14,\n",
       "   15,\n",
       "   16,\n",
       "   17,\n",
       "   19,\n",
       "   21,\n",
       "   24,\n",
       "   46],\n",
       "  [0.0,\n",
       "   0.6902231668437833,\n",
       "   0.8517534537725824,\n",
       "   0.9086078639744952,\n",
       "   0.9378320935175345,\n",
       "   0.9516471838469713,\n",
       "   0.9654622741764081,\n",
       "   0.9723698193411264,\n",
       "   0.9776833156216791,\n",
       "   0.9808714133900106,\n",
       "   0.9845908607863975,\n",
       "   0.9888416578108395,\n",
       "   0.9893730074388948,\n",
       "   0.9925611052072264,\n",
       "   0.9936238044633369,\n",
       "   0.9952178533475027,\n",
       "   0.9957492029755579,\n",
       "   0.9968119022316685,\n",
       "   0.997874601487779,\n",
       "   0.9989373007438895,\n",
       "   0.9994686503719448,\n",
       "   1.0]]}"
      ]
     },
     "execution_count": 31,
     "metadata": {},
     "output_type": "execute_result"
    }
   ],
   "source": [
    "parameters"
   ]
  },
  {
   "cell_type": "code",
   "execution_count": 32,
   "metadata": {},
   "outputs": [
    {
     "data": {
      "text/plain": [
       "1"
      ]
     },
     "execution_count": 32,
     "metadata": {},
     "output_type": "execute_result"
    }
   ],
   "source": [
    "len(list(nx.connected_components(G)))"
   ]
  },
  {
   "cell_type": "code",
   "execution_count": 33,
   "metadata": {},
   "outputs": [
    {
     "data": {
      "text/plain": [
       "0.0"
      ]
     },
     "execution_count": 33,
     "metadata": {},
     "output_type": "execute_result"
    }
   ],
   "source": [
    "nx.average_clustering(G)"
   ]
  },
  {
   "cell_type": "code",
   "execution_count": 34,
   "metadata": {},
   "outputs": [
    {
     "data": {
      "text/plain": [
       "10"
      ]
     },
     "execution_count": 34,
     "metadata": {},
     "output_type": "execute_result"
    }
   ],
   "source": [
    "Gcc = max(nx.connected_components(G), key=len)\n",
    "G0 = G.subgraph(Gcc)\n",
    "nx.diameter(G0)"
   ]
  },
  {
   "cell_type": "code",
   "execution_count": 35,
   "metadata": {},
   "outputs": [
    {
     "data": {
      "text/plain": [
       "39.24945947864896"
      ]
     },
     "execution_count": 35,
     "metadata": {},
     "output_type": "execute_result"
    }
   ],
   "source": [
    "np.log(1882) / np.log(1.2118)\n"
   ]
  },
  {
   "cell_type": "code",
   "execution_count": 36,
   "metadata": {},
   "outputs": [
    {
     "data": {
      "text/plain": [
       "1.849096705632306"
      ]
     },
     "execution_count": 36,
     "metadata": {},
     "output_type": "execute_result"
    }
   ],
   "source": [
    "np.mean(seq)"
   ]
  },
  {
   "cell_type": "code",
   "execution_count": 37,
   "metadata": {},
   "outputs": [
    {
     "data": {
      "text/plain": [
       "6"
      ]
     },
     "execution_count": 37,
     "metadata": {},
     "output_type": "execute_result"
    }
   ],
   "source": [
    "G = nx.erdos_renyi_graph(1882, 0.005066798238955518)\n",
    "nx.diameter(G)"
   ]
  },
  {
   "cell_type": "code",
   "execution_count": null,
   "metadata": {},
   "outputs": [],
   "source": [
    "         "
   ]
  },
  {
   "cell_type": "code",
   "execution_count": null,
   "metadata": {},
   "outputs": [],
   "source": []
  },
  {
   "cell_type": "code",
   "execution_count": 38,
   "metadata": {},
   "outputs": [
    {
     "name": "stdout",
     "output_type": "stream",
     "text": [
      "0\n",
      "True\n",
      "True\n",
      "True\n",
      "False\n",
      "False\n",
      "1\n",
      "True\n",
      "False\n",
      "False\n",
      "False\n",
      "False\n",
      "2\n",
      "True\n",
      "False\n",
      "True\n",
      "False\n",
      "False\n",
      "3\n",
      "True\n",
      "False\n",
      "True\n",
      "True\n",
      "False\n",
      "4\n",
      "True\n",
      "False\n",
      "True\n",
      "False\n",
      "False\n",
      "5\n",
      "True\n",
      "True\n",
      "True\n",
      "False\n",
      "False\n",
      "6\n",
      "True\n",
      "False\n",
      "False\n",
      "False\n",
      "False\n",
      "7\n",
      "True\n",
      "False\n",
      "False\n",
      "False\n",
      "False\n",
      "8\n",
      "True\n",
      "True\n",
      "True\n",
      "False\n",
      "False\n",
      "9\n",
      "True\n",
      "False\n",
      "True\n",
      "False\n",
      "False\n"
     ]
    }
   ],
   "source": [
    "for i in range(10):\n",
    "    G = nx.random_degree_sequence_graph(seq, seed = i)\n",
    "    cluster_ = nx.average_clustering(G)\n",
    "    cc = list(nx.connected_components(G))\n",
    "    cc_len_ = len(cc)\n",
    "    max_cc = max(cc, key=len)\n",
    "    G0 = G.subgraph(max_cc).copy()\n",
    "    d_ = nx.diameter(G0)\n",
    "    r_ = nx.radius(G0)\n",
    "    path_ = nx.average_shortest_path_length(G0)\n",
    "    print(i)\n",
    "    print(11.748410823170731 - 3 * 2 < path_ < 11.748410823170731 + 3 * 2)\n",
    "    print(15 - 2 * 3 < r_ < 15 + 2 * 3)\n",
    "    print(28 - 4 * 3 < d_ < 28 + 4 * 3)\n",
    "    print(0.005066798238955518 - 0.001 * 3 < cluster_ < 0.005066798238955518 + 0.001 * 3)\n",
    "    print(168 - 32 * 3 < cc_len_ < 168 + 32 * 3)"
   ]
  },
  {
   "cell_type": "code",
   "execution_count": null,
   "metadata": {},
   "outputs": [],
   "source": []
  },
  {
   "cell_type": "code",
   "execution_count": 39,
   "metadata": {},
   "outputs": [],
   "source": [
    "G = nx.random_degree_sequence_graph(seq, seed = 0)\n",
    "cc = list(nx.connected_components(G))\n",
    "max_cc = max(cc,key=len)\n",
    "cc_3 = [i for i in cc if len(i) == 3]\n",
    "for v in cc_3[0]:\n",
    "    for u in cc_3[0]:\n",
    "        if v > u :\n",
    "            G.add_edge(v,u)\n",
    "\n",
    "for v in cc_3[1]:\n",
    "    for u in cc_3[1]:\n",
    "        if v > u :\n",
    "            G.add_edge(v,u)\n",
    "\n",
    "for v in cc_3[2]:\n",
    "    for u in cc_3[2]:\n",
    "        if v > u :\n",
    "            G.add_edge(v,u)\n",
    "            \n",
    "            \n",
    "\n",
    "            \n",
    "sort_cc = sorted(cc, key =len)\n",
    "sort_cc_l = [list(i) for i in sort_cc]\n",
    "# \n",
    "# G.add_edge(3,0)\n",
    "# G.add_edge(529,1)\n",
    "# G.add_edge(672,2)\n",
    "\n",
    "# G.add_edge(822,5)\n",
    "# G.add_edge(51,6)\n",
    "# G.add_edge(670,7)\n",
    "# G.add_edge(1066,9)\n",
    "\n",
    "\n",
    "# newcc = sort_cc_l[7:]\n",
    "# cc2 = [newcc[i] for i in range(len(newcc)) if len(newcc[i])==2]\n",
    "# for i in np.arange(0,len(cc2),2):\n",
    "#     G.add_edge(cc2[i][1], cc2[i+1][0])"
   ]
  },
  {
   "cell_type": "code",
   "execution_count": 40,
   "metadata": {},
   "outputs": [],
   "source": [
    "G = nx.configuration_model(seq, create_using=nx.Graph, seed=0)\n",
    "G0 = G.subgraph(max(nx.connected_components(G),key=len))\n",
    "g = [np.sum(list(nx.shortest_path_length(G0, source=i).values())) for i in G0.nodes]"
   ]
  },
  {
   "cell_type": "code",
   "execution_count": 41,
   "metadata": {
    "scrolled": true
   },
   "outputs": [],
   "source": [
    "# G = nx.configuration_model(seq, create_using=nx.Graph, seed=0)\n",
    "G0 = G.subgraph(max(nx.connected_components(G), key=len)).copy()\n",
    "cc = sorted(nx.connected_components(G), key=len)\n"
   ]
  },
  {
   "cell_type": "code",
   "execution_count": 42,
   "metadata": {},
   "outputs": [
    {
     "data": {
      "text/plain": [
       "6.66875867426656"
      ]
     },
     "execution_count": 42,
     "metadata": {},
     "output_type": "execute_result"
    }
   ],
   "source": [
    "sum(g)/(G0.number_of_nodes() * (G0.number_of_nodes() - 1))"
   ]
  },
  {
   "cell_type": "code",
   "execution_count": 63,
   "metadata": {},
   "outputs": [],
   "source": [
    "# nx.draw(G.subgraph({127, 430, 1145, 1300, 1329, 1498, 1687}))\n",
    "# G.add_edge(1687, 712)\n",
    "l = []\n",
    "for i in G0.nodes:\n",
    "    try:\n",
    "        len_ = np.array(list(nx.single_source_shortest_path_length(G0,i).values()))\n",
    "        j = np.array(list(nx.single_source_shortest_path_length(G0,i).keys()))\n",
    "        l.append([len_[len_==17][0] , i])\n",
    "    except:\n",
    "        continue"
   ]
  },
  {
   "cell_type": "code",
   "execution_count": 64,
   "metadata": {},
   "outputs": [
    {
     "data": {
      "text/plain": [
       "[[17, 131],\n",
       " [17, 200],\n",
       " [17, 212],\n",
       " [17, 226],\n",
       " [17, 277],\n",
       " [17, 328],\n",
       " [17, 783],\n",
       " [17, 949],\n",
       " [17, 969],\n",
       " [17, 1293]]"
      ]
     },
     "execution_count": 64,
     "metadata": {},
     "output_type": "execute_result"
    }
   ],
   "source": [
    "l"
   ]
  },
  {
   "cell_type": "code",
   "execution_count": 70,
   "metadata": {},
   "outputs": [],
   "source": [
    "d = [list(i) for  i in cc if (len(i) != 3) & (len(i) <= 4)][::-1]"
   ]
  },
  {
   "cell_type": "code",
   "execution_count": 75,
   "metadata": {},
   "outputs": [
    {
     "data": {
      "text/plain": [
       "259"
      ]
     },
     "execution_count": 75,
     "metadata": {},
     "output_type": "execute_result"
    }
   ],
   "source": [
    "len(d)"
   ]
  },
  {
   "cell_type": "code",
   "execution_count": 113,
   "metadata": {},
   "outputs": [],
   "source": [
    "v = power_law_generate(1882, random_seed=i) "
   ]
  },
  {
   "cell_type": "code",
   "execution_count": 114,
   "metadata": {},
   "outputs": [
    {
     "data": {
      "text/plain": [
       "array([1, 2, 0, ..., 0, 2, 2], dtype=int32)"
      ]
     },
     "execution_count": 114,
     "metadata": {},
     "output_type": "execute_result"
    }
   ],
   "source": [
    "v"
   ]
  },
  {
   "cell_type": "code",
   "execution_count": 116,
   "metadata": {},
   "outputs": [],
   "source": [
    "v = np.array(l)[:,1].tolist()\n",
    "for i in range(10):\n",
    "    G.add_edge(v[i],d[i][0])"
   ]
  },
  {
   "cell_type": "code",
   "execution_count": 78,
   "metadata": {},
   "outputs": [
    {
     "ename": "IndexError",
     "evalue": "index 2 is out of bounds for axis 1 with size 2",
     "output_type": "error",
     "traceback": [
      "\u001b[0;31m---------------------------------------------------------------------------\u001b[0m",
      "\u001b[0;31mIndexError\u001b[0m                                Traceback (most recent call last)",
      "\u001b[0;32m<ipython-input-78-496d33f8a171>\u001b[0m in \u001b[0;36m<module>\u001b[0;34m\u001b[0m\n\u001b[1;32m      1\u001b[0m \u001b[0ml\u001b[0m \u001b[0;34m=\u001b[0m \u001b[0mnp\u001b[0m\u001b[0;34m.\u001b[0m\u001b[0marray\u001b[0m\u001b[0;34m(\u001b[0m\u001b[0ml\u001b[0m\u001b[0;34m)\u001b[0m\u001b[0;34m\u001b[0m\u001b[0;34m\u001b[0m\u001b[0m\n\u001b[1;32m      2\u001b[0m \u001b[0ma\u001b[0m \u001b[0;34m=\u001b[0m \u001b[0ml\u001b[0m\u001b[0;34m[\u001b[0m\u001b[0ml\u001b[0m\u001b[0;34m[\u001b[0m\u001b[0;34m:\u001b[0m\u001b[0;34m,\u001b[0m\u001b[0;36m0\u001b[0m\u001b[0;34m]\u001b[0m \u001b[0;34m==\u001b[0m \u001b[0ml\u001b[0m\u001b[0;34m[\u001b[0m\u001b[0;34m:\u001b[0m\u001b[0;34m,\u001b[0m\u001b[0;36m0\u001b[0m\u001b[0;34m]\u001b[0m\u001b[0;34m.\u001b[0m\u001b[0mmax\u001b[0m\u001b[0;34m(\u001b[0m\u001b[0;34m)\u001b[0m\u001b[0;34m]\u001b[0m\u001b[0;34m\u001b[0m\u001b[0;34m\u001b[0m\u001b[0m\n\u001b[0;32m----> 3\u001b[0;31m \u001b[0;34m(\u001b[0m\u001b[0ma\u001b[0m\u001b[0;34m[\u001b[0m\u001b[0;36m1\u001b[0m\u001b[0;34m,\u001b[0m\u001b[0;34m[\u001b[0m\u001b[0;36m2\u001b[0m\u001b[0;34m]\u001b[0m\u001b[0;34m]\u001b[0m\u001b[0;34m,\u001b[0m\u001b[0mb\u001b[0m\u001b[0;34m[\u001b[0m\u001b[0;34m-\u001b[0m\u001b[0;36m1\u001b[0m\u001b[0;34m,\u001b[0m\u001b[0;34m[\u001b[0m\u001b[0;36m0\u001b[0m\u001b[0;34m]\u001b[0m\u001b[0;34m]\u001b[0m\u001b[0;34m)\u001b[0m\u001b[0;34m\u001b[0m\u001b[0;34m\u001b[0m\u001b[0m\n\u001b[0m\u001b[1;32m      4\u001b[0m \u001b[0mprint\u001b[0m\u001b[0;34m(\u001b[0m\u001b[0ma\u001b[0m\u001b[0;34m.\u001b[0m\u001b[0mshape\u001b[0m\u001b[0;34m)\u001b[0m\u001b[0;34m\u001b[0m\u001b[0;34m\u001b[0m\u001b[0m\n\u001b[1;32m      5\u001b[0m \u001b[0;34m\u001b[0m\u001b[0m\n",
      "\u001b[0;31mIndexError\u001b[0m: index 2 is out of bounds for axis 1 with size 2"
     ]
    }
   ],
   "source": [
    "l = np.array(l)\n",
    "a = l[l[:,0] == l[:,0].max()]\n",
    "(a[1,[2]],b[-1,[0]])\n",
    "print(a.shape)\n",
    "\n",
    "def Add_Gi(Gi_set, G):\n",
    "    G0 = G.subgraph(Gi_set)\n",
    "    l = []\n",
    "    for i in Gi_set:\n",
    "        len_ = list(nx.single_source_shortest_path_length(G0,i).values())[-1]\n",
    "        j = list(nx.single_source_shortest_path_length(G0,i).keys())[-1]\n",
    "        l.append([len_,j,i])\n",
    "    l = np.array(l)\n",
    "    l = l[l[:,0] == l[:,0].max()]\n",
    "    return [l[0,1],l[0,2], l[0,0]]\n",
    "    \n",
    "b = np.array([Add_Gi(i,G) for i in cc[:-1]])"
   ]
  },
  {
   "cell_type": "code",
   "execution_count": 79,
   "metadata": {},
   "outputs": [
    {
     "ename": "IndexError",
     "evalue": "index 2 is out of bounds for axis 1 with size 2",
     "output_type": "error",
     "traceback": [
      "\u001b[0;31m---------------------------------------------------------------------------\u001b[0m",
      "\u001b[0;31mIndexError\u001b[0m                                Traceback (most recent call last)",
      "\u001b[0;32m<ipython-input-79-73a832764b63>\u001b[0m in \u001b[0;36m<module>\u001b[0;34m\u001b[0m\n\u001b[0;32m----> 1\u001b[0;31m \u001b[0ma\u001b[0m\u001b[0;34m[\u001b[0m\u001b[0;34m:\u001b[0m\u001b[0;34m,\u001b[0m\u001b[0;34m[\u001b[0m\u001b[0;36m1\u001b[0m\u001b[0;34m,\u001b[0m\u001b[0;36m2\u001b[0m\u001b[0;34m]\u001b[0m\u001b[0;34m]\u001b[0m\u001b[0;34m\u001b[0m\u001b[0;34m\u001b[0m\u001b[0m\n\u001b[0m\u001b[1;32m      2\u001b[0m \u001b[0;34m\u001b[0m\u001b[0m\n\u001b[1;32m      3\u001b[0m \u001b[0;32mfor\u001b[0m \u001b[0mi\u001b[0m \u001b[0;32min\u001b[0m \u001b[0mrange\u001b[0m\u001b[0;34m(\u001b[0m\u001b[0;36m1\u001b[0m\u001b[0;34m,\u001b[0m\u001b[0;36m10\u001b[0m\u001b[0;34m)\u001b[0m\u001b[0;34m:\u001b[0m\u001b[0;34m\u001b[0m\u001b[0;34m\u001b[0m\u001b[0m\n\u001b[1;32m      4\u001b[0m     \u001b[0mG\u001b[0m\u001b[0;34m.\u001b[0m\u001b[0madd_edge\u001b[0m\u001b[0;34m(\u001b[0m\u001b[0ma\u001b[0m\u001b[0;34m[\u001b[0m\u001b[0mi\u001b[0m\u001b[0;34m,\u001b[0m\u001b[0;34m[\u001b[0m\u001b[0;36m2\u001b[0m\u001b[0;34m]\u001b[0m\u001b[0;34m]\u001b[0m\u001b[0;34m[\u001b[0m\u001b[0;36m0\u001b[0m\u001b[0;34m]\u001b[0m\u001b[0;34m,\u001b[0m\u001b[0mb\u001b[0m\u001b[0;34m[\u001b[0m\u001b[0;34m-\u001b[0m\u001b[0mi\u001b[0m\u001b[0;34m,\u001b[0m\u001b[0;34m[\u001b[0m\u001b[0;36m0\u001b[0m\u001b[0;34m]\u001b[0m\u001b[0;34m]\u001b[0m\u001b[0;34m[\u001b[0m\u001b[0;36m0\u001b[0m\u001b[0;34m]\u001b[0m\u001b[0;34m)\u001b[0m\u001b[0;34m\u001b[0m\u001b[0;34m\u001b[0m\u001b[0m\n",
      "\u001b[0;31mIndexError\u001b[0m: index 2 is out of bounds for axis 1 with size 2"
     ]
    }
   ],
   "source": [
    "a[:,[1,2]]\n",
    "\n",
    "for i in range(1,10):\n",
    "    G.add_edge(a[i,[2]][0],b[-i,[0]][0])"
   ]
  },
  {
   "cell_type": "code",
   "execution_count": 80,
   "metadata": {},
   "outputs": [
    {
     "name": "stdout",
     "output_type": "stream",
     "text": [
      "0.0022766704651065407\n",
      "24\n",
      "13\n",
      "7.024243598357288\n",
      "300\n"
     ]
    }
   ],
   "source": [
    "G0 = G.subgraph(max(nx.connected_components(G), key=len)).copy()\n",
    "print(nx.average_clustering(G))\n",
    "print(nx.diameter(G0))\n",
    "print(nx.radius(G0))\n",
    "print(nx.average_shortest_path_length(G0))\n",
    "print(nx.number_connected_components(G))"
   ]
  },
  {
   "cell_type": "code",
   "execution_count": 81,
   "metadata": {},
   "outputs": [],
   "source": [
    "Gnew = G.copy()"
   ]
  },
  {
   "cell_type": "code",
   "execution_count": 82,
   "metadata": {},
   "outputs": [
    {
     "data": {
      "text/plain": [
       "3"
      ]
     },
     "execution_count": 82,
     "metadata": {},
     "output_type": "execute_result"
    }
   ],
   "source": [
    "171-168"
   ]
  },
  {
   "cell_type": "code",
   "execution_count": null,
   "metadata": {},
   "outputs": [],
   "source": []
  },
  {
   "cell_type": "code",
   "execution_count": 83,
   "metadata": {},
   "outputs": [
    {
     "data": {
      "image/png": "[encoded data removed]",
      "text/plain": [
       "<Figure size 432x288 with 1 Axes>"
      ]
     },
     "metadata": {},
     "output_type": "display_data"
    }
   ],
   "source": [
    "nx.draw(G.subgraph({11, 1076, 1465}))"
   ]
  },
  {
   "cell_type": "code",
   "execution_count": 84,
   "metadata": {},
   "outputs": [
    {
     "data": {
      "text/plain": [
       "[{1, 204, 1496}, {9, 673, 1494}, {11, 1076, 1465}]"
      ]
     },
     "execution_count": 84,
     "metadata": {},
     "output_type": "execute_result"
    }
   ],
   "source": [
    "cc = sorted(nx.connected_components(G), key=len)\n",
    "[i for i in cc if len(i)==3][:3]"
   ]
  },
  {
   "cell_type": "code",
   "execution_count": null,
   "metadata": {},
   "outputs": [],
   "source": []
  },
  {
   "cell_type": "code",
   "execution_count": null,
   "metadata": {},
   "outputs": [],
   "source": []
  },
  {
   "cell_type": "code",
   "execution_count": 85,
   "metadata": {},
   "outputs": [
    {
     "ename": "NameError",
     "evalue": "name 'Add_Gi' is not defined",
     "output_type": "error",
     "traceback": [
      "\u001b[0;31m---------------------------------------------------------------------------\u001b[0m",
      "\u001b[0;31mNameError\u001b[0m                                 Traceback (most recent call last)",
      "\u001b[0;32m<ipython-input-85-0229d2898a87>\u001b[0m in \u001b[0;36m<module>\u001b[0;34m\u001b[0m\n\u001b[0;32m----> 1\u001b[0;31m \u001b[0maa\u001b[0m \u001b[0;34m=\u001b[0m \u001b[0mAdd_Gi\u001b[0m\u001b[0;34m(\u001b[0m\u001b[0mset\u001b[0m\u001b[0;34m(\u001b[0m\u001b[0mG0\u001b[0m\u001b[0;34m.\u001b[0m\u001b[0mnodes\u001b[0m\u001b[0;34m)\u001b[0m\u001b[0;34m,\u001b[0m \u001b[0mG\u001b[0m\u001b[0;34m)\u001b[0m\u001b[0;34m\u001b[0m\u001b[0;34m\u001b[0m\u001b[0m\n\u001b[0m",
      "\u001b[0;31mNameError\u001b[0m: name 'Add_Gi' is not defined"
     ]
    }
   ],
   "source": [
    "aa = Add_Gi(set(G0.nodes), G)"
   ]
  },
  {
   "cell_type": "code",
   "execution_count": 86,
   "metadata": {},
   "outputs": [],
   "source": [
    "# G.add_edge(783,465)\n",
    "# G.add_edge(1701,712)\n",
    "# G.add_edge(1764,127)\n",
    "# G.add_edge(1687,452)\n",
    "# nx.draw(G.subgraph({170, 224, 843, 964, 1472, 1732}))\n",
    "# {170, 224, 843, 964, 1472, 1732},\n",
    "# {452, 602, 638, 1446, 1599, 1689},\n",
    "# {127, 430, 1145, 1300, 1329, 1498, 1687},\n",
    "# {712, 1136, 1326, 1463, 1518, 1590, 1764}\n",
    "# {465, 529, 563, 1071, 1127, 1627, 1631, 1701}\n",
    "\n",
    "\n",
    "\n",
    "# G.add_edge(783,712)\n",
    "# G.add_edge(783,127)\n",
    "# G.add_edge(783,452)\n",
    "# G.add_edge(783,170)\n",
    "# G.add_edge(783,511)\n",
    "# G.add_edge(783,248)\n",
    "# G.add_edge(783,62)\n",
    "# G.add_edge(783,48)\n",
    "\n",
    "#  {582, 1123, 1397, 1492},\n",
    "#  {954\n",
    "  \n",
    "# G.add_edge(783,27)\n",
    "# G.add_edge(783,151)\n",
    "# G.add_edge(783,209)\n",
    "# G.add_edge(783,412)\n",
    "# G.add_edge(783,481)"
   ]
  },
  {
   "cell_type": "code",
   "execution_count": 87,
   "metadata": {},
   "outputs": [],
   "source": [
    "G.add_edge(1293,1136)\n",
    "G.add_edge(712,511)"
   ]
  },
  {
   "cell_type": "code",
   "execution_count": 88,
   "metadata": {},
   "outputs": [
    {
     "name": "stdout",
     "output_type": "stream",
     "text": [
      "0.0022766704651065407\n",
      "31\n",
      "16\n",
      "7.211976222131522\n"
     ]
    }
   ],
   "source": [
    "G0 = G.subgraph(max(nx.connected_components(G), key=len)).copy()\n",
    "print(nx.average_clustering(G))\n",
    "print(nx.diameter(G0))\n",
    "print(nx.radius(G0))\n",
    "print(nx.average_shortest_path_length(G0))"
   ]
  },
  {
   "cell_type": "code",
   "execution_count": 89,
   "metadata": {},
   "outputs": [
    {
     "name": "stdout",
     "output_type": "stream",
     "text": [
      "7.211976222131522\n",
      "0.0022766704651065407\n",
      "31\n",
      "16\n",
      "298\n"
     ]
    }
   ],
   "source": [
    "print(nx.average_shortest_path_length(G.subgraph(max(list(nx.connected_components(G)),key=len))))\n",
    "print(nx.average_clustering(G))\n",
    "print(nx.diameter(G.subgraph(max(list(nx.connected_components(G)),key=len))))\n",
    "print(nx.radius(G.subgraph(max(list(nx.connected_components(G)),key=len))))\n",
    "print(nx.number_connected_components(G))\n"
   ]
  },
  {
   "cell_type": "code",
   "execution_count": 90,
   "metadata": {},
   "outputs": [
    {
     "name": "stdout",
     "output_type": "stream",
     "text": [
      "7.211976222131522\n",
      "0.0022766704651065407\n",
      "31\n",
      "16\n"
     ]
    },
    {
     "data": {
      "text/plain": [
       "298"
      ]
     },
     "execution_count": 90,
     "metadata": {},
     "output_type": "execute_result"
    }
   ],
   "source": [
    "print(nx.average_shortest_path_length(G.subgraph(max(list(nx.connected_components(G)),key=len))))\n",
    "print(nx.average_clustering(G))\n",
    "print(nx.diameter(G.subgraph(max(list(nx.connected_components(G)),key=len))))\n",
    "print(nx.radius(G.subgraph(max(list(nx.connected_components(G)),key=len))))\n",
    "nx.number_connected_components(G)"
   ]
  },
  {
   "cell_type": "code",
   "execution_count": 91,
   "metadata": {},
   "outputs": [],
   "source": [
    "\n",
    "# {0, 529},\n",
    "#  {1, 672},\n",
    "#  {2, 822},\n",
    "#  {5, 51},\n",
    "#  {6, 670},\n",
    "#  {7, 1066},\n",
    "#  {9, 534}"
   ]
  },
  {
   "cell_type": "code",
   "execution_count": 92,
   "metadata": {},
   "outputs": [],
   "source": [
    "for i in range(7,136):\n",
    "    G.add_edge(sort_cc_l[i][1],sort_cc_l[i+1][0])"
   ]
  },
  {
   "cell_type": "code",
   "execution_count": 93,
   "metadata": {},
   "outputs": [],
   "source": [
    "cc = list(nx.connected_components(G))\n",
    "max_cc = max(cc,key=len)\n",
    "cc_3 = [i for i in cc if len(i) == 3]"
   ]
  },
  {
   "cell_type": "code",
   "execution_count": 94,
   "metadata": {},
   "outputs": [],
   "source": [
    "# for v in cc_3[0]:\n",
    "#     for u in cc_3[0]:\n",
    "#         if v > u :\n",
    "#             G.add_edge(v,u)\n",
    "\n",
    "for v in cc_3[1]:\n",
    "    for u in cc_3[1]:\n",
    "        if v > u :\n",
    "            G.add_edge(v,u)\n",
    "            \n",
    "            \n",
    "# for v in cc_3[2]:\n",
    "#     for u in cc_3[2]:\n",
    "#         if v > u :\n",
    "#             G.add_edge(v,u)\n"
   ]
  },
  {
   "cell_type": "code",
   "execution_count": 95,
   "metadata": {},
   "outputs": [
    {
     "data": {
      "text/plain": [
       "36"
      ]
     },
     "execution_count": 95,
     "metadata": {},
     "output_type": "execute_result"
    }
   ],
   "source": [
    "200 - 168 +4"
   ]
  },
  {
   "cell_type": "code",
   "execution_count": 96,
   "metadata": {},
   "outputs": [],
   "source": [
    "nx.write_edgelist(G,'g5.txt',delimiter=' ',data=False)"
   ]
  },
  {
   "cell_type": "code",
   "execution_count": 97,
   "metadata": {},
   "outputs": [
    {
     "name": "stdout",
     "output_type": "stream",
     "text": [
      "7.490223425579028\n",
      "0.003870719349272321\n",
      "27\n",
      "14\n",
      "212\n"
     ]
    }
   ],
   "source": [
    "print(nx.average_shortest_path_length(G.subgraph(max(list(nx.connected_components(G)),key=len))))\n",
    "print(nx.average_clustering(G))\n",
    "print(nx.diameter(G.subgraph(max(list(nx.connected_components(G)),key=len))))\n",
    "print(nx.radius(G.subgraph(max(list(nx.connected_components(G)),key=len))))\n",
    "print(nx.number_connected_components(G))"
   ]
  },
  {
   "cell_type": "code",
   "execution_count": 98,
   "metadata": {},
   "outputs": [
    {
     "data": {
      "text/plain": [
       "DegreeView({0: 1, 3: 1, 5: 1, 6: 1, 7: 1, 12: 1, 13: 2, 14: 2, 15: 2, 16: 1, 17: 1, 18: 2, 19: 2, 20: 1, 21: 2, 22: 1, 23: 2, 24: 2, 25: 2, 26: 1, 27: 2, 31: 1, 32: 1, 34: 1, 35: 1, 36: 1, 37: 1, 38: 1, 39: 2, 40: 2, 41: 2, 42: 2, 43: 2, 44: 1, 45: 2, 46: 2, 47: 2, 48: 1, 50: 1, 52: 1, 53: 2, 57: 2, 58: 2, 62: 2, 63: 1, 64: 2, 67: 1, 69: 1, 71: 1, 74: 1, 77: 1, 78: 1, 79: 2, 80: 1, 81: 2, 82: 2, 83: 1, 85: 1, 86: 1, 87: 2, 89: 2, 90: 2, 92: 1, 93: 2, 94: 1, 95: 2, 96: 2, 97: 1, 99: 1, 100: 2, 104: 1, 105: 1, 106: 2, 108: 1, 109: 1, 110: 1, 112: 1, 113: 1, 115: 1, 117: 1, 118: 2, 119: 1, 120: 2, 122: 2, 123: 1, 124: 2, 126: 1, 127: 2, 128: 1, 130: 2, 131: 3, 132: 1, 133: 1, 134: 2, 135: 2, 138: 2, 139: 1, 141: 1, 142: 1, 145: 1, 146: 2, 147: 1, 148: 2, 150: 1, 151: 2, 153: 2, 154: 1, 155: 1, 156: 1, 159: 1, 161: 2, 162: 2, 163: 1, 164: 1, 166: 2, 167: 1, 168: 1, 169: 1, 170: 1, 171: 1, 173: 1, 174: 2, 176: 1, 177: 2, 178: 2, 179: 1, 180: 1, 181: 1, 183: 2, 184: 1, 185: 2, 186: 1, 187: 1, 189: 1, 190: 1, 194: 1, 195: 1, 196: 1, 197: 2, 199: 1, 200: 2, 201: 2, 202: 1, 203: 2, 206: 1, 209: 2, 211: 2, 212: 3, 213: 2, 217: 1, 221: 2, 222: 2, 223: 1, 224: 2, 225: 2, 226: 2, 227: 1, 228: 2, 229: 2, 230: 1, 232: 1, 233: 1, 234: 1, 236: 1, 237: 1, 238: 1, 240: 1, 241: 1, 243: 2, 244: 1, 245: 1, 247: 1, 250: 1, 252: 1, 253: 1, 254: 2, 255: 1, 256: 2, 258: 2, 260: 1, 262: 1, 263: 2, 265: 1, 268: 2, 269: 1, 270: 1, 271: 1, 272: 1, 273: 2, 274: 2, 275: 2, 276: 1, 277: 3, 279: 1, 280: 1, 282: 1, 284: 1, 285: 2, 286: 2, 289: 1, 290: 2, 291: 2, 293: 1, 294: 1, 296: 2, 297: 2, 298: 2, 300: 2, 301: 1, 302: 2, 304: 1, 305: 1, 306: 1, 307: 2, 308: 1, 309: 1, 310: 1, 311: 2, 312: 1, 314: 1, 315: 2, 317: 2, 318: 1, 322: 1, 324: 1, 325: 1, 326: 1, 327: 2, 328: 3, 329: 1, 334: 2, 335: 1, 336: 1, 337: 2, 338: 2, 339: 2, 340: 1, 341: 2, 342: 1, 343: 1, 344: 1, 346: 1, 350: 1, 351: 1, 352: 1, 353: 2, 354: 1, 355: 2, 356: 2, 357: 1, 358: 1, 359: 1, 360: 1, 361: 1, 362: 1, 363: 1, 366: 1, 367: 2, 368: 1, 371: 1, 372: 1, 374: 1, 375: 1, 376: 2, 377: 1, 379: 2, 381: 2, 382: 2, 383: 1, 384: 2, 385: 2, 386: 2, 387: 1, 388: 2, 389: 1, 391: 2, 392: 2, 393: 2, 394: 1, 395: 1, 397: 1, 399: 2, 400: 2, 402: 1, 405: 2, 407: 2, 408: 1, 409: 1, 410: 1, 412: 1, 414: 2, 416: 2, 417: 2, 418: 1, 419: 1, 420: 1, 421: 2, 422: 2, 424: 2, 426: 1, 427: 1, 428: 1, 429: 2, 430: 2, 431: 1, 432: 2, 434: 2, 438: 1, 441: 2, 442: 1, 443: 2, 445: 2, 446: 1, 449: 1, 450: 1, 451: 1, 455: 2, 456: 1, 457: 2, 458: 1, 459: 1, 460: 2, 462: 2, 464: 2, 466: 1, 467: 1, 468: 2, 469: 1, 470: 1, 471: 2, 472: 1, 474: 1, 476: 1, 477: 1, 478: 1, 479: 1, 481: 2, 482: 1, 483: 1, 484: 1, 485: 1, 486: 1, 488: 2, 493: 2, 494: 2, 497: 2, 498: 1, 499: 2, 502: 1, 503: 1, 504: 1, 505: 1, 507: 1, 508: 2, 509: 1, 511: 2, 514: 1, 515: 1, 516: 1, 517: 1, 521: 1, 524: 1, 525: 1, 526: 1, 528: 1, 530: 2, 531: 1, 532: 1, 533: 1, 534: 1, 536: 1, 537: 1, 541: 1, 542: 1, 543: 1, 544: 1, 545: 1, 546: 1, 547: 1, 548: 2, 549: 1, 550: 1, 552: 1, 554: 1, 555: 1, 556: 1, 558: 2, 560: 1, 561: 1, 564: 1, 565: 1, 566: 1, 572: 2, 573: 1, 575: 1, 577: 1, 578: 2, 579: 1, 580: 1, 581: 1, 582: 1, 583: 1, 585: 2, 586: 1, 587: 1, 588: 1, 589: 1, 590: 2, 592: 1, 593: 1, 594: 1, 595: 1, 596: 1, 597: 1, 598: 1, 599: 1, 600: 2, 604: 1, 605: 1, 607: 1, 608: 1, 609: 1, 610: 1, 613: 1, 616: 1, 617: 1, 618: 1, 619: 1, 620: 1, 623: 1, 626: 1, 628: 1, 629: 1, 633: 1, 634: 1, 635: 1, 637: 1, 641: 1, 644: 2, 646: 1, 648: 2, 652: 1, 653: 1, 654: 2, 656: 1, 657: 1, 658: 1, 659: 1, 660: 2, 664: 2, 666: 1, 667: 1, 669: 1, 671: 1, 672: 1, 674: 1, 675: 1, 676: 1, 677: 2, 679: 1, 680: 1, 681: 2, 682: 2, 683: 1, 684: 1, 685: 2, 688: 1, 689: 1, 690: 1, 691: 1, 694: 1, 696: 1, 697: 1, 698: 1, 699: 1, 700: 1, 701: 1, 702: 1, 703: 1, 704: 1, 705: 1, 706: 2, 707: 1, 709: 1, 711: 1, 712: 3, 714: 2, 716: 1, 718: 1, 720: 1, 724: 1, 725: 1, 726: 1, 729: 2, 730: 1, 731: 1, 733: 2, 734: 1, 735: 1, 736: 1, 740: 1, 742: 1, 746: 1, 747: 2, 750: 1, 751: 1, 752: 1, 754: 1, 755: 1, 757: 1, 758: 1, 761: 1, 762: 1, 764: 1, 765: 1, 767: 1, 769: 1, 770: 1, 775: 2, 776: 1, 779: 1, 780: 2, 783: 2, 784: 2, 785: 2, 787: 2, 791: 2, 793: 1, 794: 1, 796: 2, 797: 1, 798: 2, 800: 1, 803: 1, 807: 1, 808: 1, 811: 2, 814: 2, 815: 1, 818: 1, 819: 1, 820: 2, 821: 1, 822: 1, 823: 1, 825: 1, 826: 1, 827: 1, 829: 1, 831: 1, 833: 1, 834: 2, 836: 1, 838: 1, 839: 1, 841: 1, 842: 1, 843: 1, 846: 1, 849: 1, 850: 1, 851: 1, 853: 1, 854: 1, 856: 2, 857: 1, 859: 1, 864: 1, 869: 1, 870: 1, 871: 1, 872: 1, 873: 1, 874: 1, 875: 1, 876: 2, 880: 1, 881: 1, 883: 1, 884: 1, 887: 2, 889: 1, 890: 1, 891: 2, 892: 1, 893: 1, 895: 1, 896: 2, 897: 1, 898: 1, 899: 1, 902: 2, 903: 1, 904: 1, 905: 1, 907: 1, 909: 1, 910: 1, 913: 1, 914: 2, 915: 1, 917: 1, 919: 1, 920: 1, 921: 1, 922: 1, 925: 1, 927: 1, 928: 1, 930: 1, 931: 1, 932: 1, 933: 1, 934: 2, 936: 2, 938: 1, 943: 1, 945: 1, 947: 1, 948: 1, 949: 3, 952: 1, 954: 1, 955: 1, 956: 1, 957: 2, 958: 1, 959: 1, 961: 1, 962: 1, 964: 1, 965: 1, 966: 1, 968: 1, 969: 2, 972: 1, 974: 1, 976: 1, 977: 2, 978: 1, 980: 1, 981: 2, 982: 1, 985: 2, 987: 1, 988: 1, 989: 1, 991: 1, 992: 2, 993: 2, 994: 2, 995: 1, 998: 1, 999: 1, 1001: 1, 1002: 2, 1004: 1, 1006: 1, 1008: 1, 1011: 1, 1014: 2, 1015: 1, 1016: 1, 1017: 1, 1018: 1, 1019: 1, 1020: 2, 1021: 2, 1022: 1, 1025: 1, 1026: 1, 1027: 2, 1028: 1, 1029: 1, 1031: 1, 1032: 1, 1033: 1, 1034: 1, 1035: 1, 1036: 1, 1038: 1, 1040: 1, 1042: 1, 1043: 2, 1045: 1, 1047: 1, 1049: 1, 1050: 1, 1057: 1, 1058: 1, 1059: 1, 1060: 1, 1061: 1, 1063: 1, 1064: 2, 1066: 1, 1067: 2, 1068: 1, 1073: 1, 1075: 1, 1078: 1, 1079: 1, 1081: 1, 1082: 2, 1087: 1, 1088: 1, 1091: 2, 1093: 2, 1095: 2, 1098: 1, 1100: 1, 1102: 2, 1111: 1, 1112: 1, 1113: 1, 1114: 1, 1115: 2, 1118: 2, 1119: 1, 1120: 1, 1121: 1, 1122: 2, 1123: 2, 1125: 1, 1126: 1, 1129: 1, 1130: 1, 1131: 1, 1133: 1, 1134: 1, 1135: 1, 1136: 3, 1137: 1, 1138: 1, 1139: 1, 1140: 1, 1141: 1, 1142: 1, 1143: 1, 1144: 1, 1145: 2, 1146: 1, 1147: 1, 1149: 1, 1151: 2, 1152: 1, 1154: 1, 1157: 1, 1158: 1, 1159: 2, 1160: 2, 1161: 1, 1162: 2, 1163: 1, 1164: 1, 1165: 2, 1167: 1, 1168: 1, 1169: 2, 1170: 2, 1171: 1, 1173: 1, 1174: 1, 1176: 2, 1177: 2, 1179: 1, 1180: 1, 1181: 1, 1182: 1, 1183: 1, 1184: 1, 1185: 1, 1186: 1, 1188: 1, 1189: 1, 1190: 1, 1194: 1, 1196: 1, 1200: 1, 1201: 1, 1203: 1, 1204: 1, 1206: 1, 1207: 1, 1208: 1, 1209: 1, 1210: 2, 1211: 1, 1213: 1, 1219: 2, 1221: 1, 1223: 1, 1224: 2, 1225: 1, 1226: 1, 1227: 1, 1228: 1, 1229: 1, 1235: 1, 1236: 1, 1239: 1, 1240: 2, 1241: 1, 1242: 1, 1244: 1, 1246: 1, 1247: 1, 1249: 1, 1251: 1, 1252: 1, 1253: 1, 1254: 1, 1256: 1, 1257: 1, 1258: 1, 1262: 2, 1265: 1, 1267: 1, 1268: 2, 1269: 1, 1270: 1, 1272: 1, 1278: 1, 1280: 1, 1281: 1, 1282: 1, 1283: 2, 1284: 1, 1285: 1, 1286: 1, 1287: 1, 1288: 1, 1289: 1, 1291: 1, 1292: 1, 1293: 3, 1294: 2, 1295: 1, 1296: 2, 1297: 2, 1300: 2, 1301: 2, 1302: 2, 1303: 2, 1304: 2, 1305: 2, 1306: 2, 1307: 2, 1309: 2, 1310: 2, 1311: 2, 1312: 2, 1314: 2, 1315: 2, 1316: 2, 1317: 2, 1318: 2, 1319: 2, 1320: 2, 1321: 2, 1322: 2, 1323: 2, 1324: 2, 1325: 2, 1326: 1, 1327: 2, 1328: 2, 1329: 2, 1330: 2, 1331: 2, 1333: 2, 1335: 2, 1336: 2, 1337: 2, 1338: 2, 1341: 2, 1342: 2, 1343: 2, 1344: 2, 1345: 2, 1346: 2, 1347: 2, 1348: 2, 1350: 2, 1351: 2, 1353: 2, 1354: 2, 1355: 2, 1356: 2, 1357: 2, 1358: 2, 1359: 2, 1360: 2, 1361: 2, 1362: 2, 1363: 2, 1364: 2, 1365: 2, 1366: 2, 1368: 2, 1369: 2, 1370: 2, 1371: 2, 1372: 2, 1373: 2, 1374: 2, 1375: 2, 1378: 2, 1379: 2, 1380: 2, 1381: 2, 1382: 2, 1383: 2, 1385: 2, 1386: 2, 1387: 2, 1388: 2, 1389: 2, 1390: 2, 1391: 2, 1392: 3, 1394: 2, 1395: 2, 1397: 2, 1398: 2, 1399: 2, 1400: 2, 1401: 2, 1403: 2, 1404: 2, 1405: 2, 1406: 2, 1407: 2, 1408: 2, 1409: 2, 1410: 2, 1412: 2, 1414: 2, 1415: 2, 1416: 2, 1417: 2, 1418: 2, 1419: 2, 1421: 2, 1422: 2, 1423: 2, 1424: 2, 1425: 2, 1426: 2, 1427: 2, 1428: 2, 1430: 2, 1431: 2, 1432: 2, 1433: 2, 1434: 2, 1435: 2, 1436: 2, 1437: 2, 1438: 2, 1440: 2, 1441: 2, 1442: 2, 1443: 2, 1444: 2, 1445: 2, 1447: 2, 1448: 2, 1449: 2, 1450: 2, 1451: 2, 1452: 2, 1453: 2, 1454: 2, 1455: 2, 1456: 2, 1457: 2, 1458: 2, 1459: 2, 1460: 2, 1461: 2, 1462: 2, 1463: 2, 1466: 2, 1467: 2, 1468: 2, 1469: 2, 1470: 2, 1471: 2, 1472: 2, 1473: 2, 1474: 2, 1475: 2, 1476: 2, 1478: 2, 1479: 2, 1480: 2, 1481: 2, 1482: 2, 1484: 2, 1485: 2, 1486: 2, 1487: 2, 1488: 2, 1489: 2, 1490: 2, 1491: 2, 1492: 2, 1493: 2, 1495: 2, 1497: 2, 1498: 2, 1499: 2, 1500: 2, 1501: 2, 1502: 1, 1503: 2, 1504: 2, 1505: 2, 1506: 2, 1507: 2, 1508: 2, 1509: 2, 1511: 2, 1512: 2, 1513: 2, 1514: 2, 1515: 2, 1516: 2, 1518: 2, 1519: 2, 1520: 2, 1521: 2, 1522: 2, 1523: 2, 1524: 2, 1525: 2, 1526: 2, 1527: 2, 1528: 2, 1529: 2, 1530: 2, 1531: 2, 1532: 2, 1533: 2, 1534: 2, 1535: 2, 1536: 2, 1537: 2, 1538: 2, 1539: 2, 1541: 2, 1542: 2, 1543: 2, 1544: 2, 1545: 2, 1546: 2, 1548: 2, 1549: 2, 1550: 2, 1551: 2, 1554: 2, 1555: 2, 1556: 2, 1558: 2, 1559: 2, 1560: 2, 1561: 2, 1562: 2, 1563: 2, 1564: 2, 1565: 2, 1566: 2, 1567: 2, 1568: 2, 1569: 2, 1570: 2, 1571: 2, 1572: 2, 1573: 2, 1574: 2, 1575: 2, 1576: 2, 1577: 2, 1578: 2, 1579: 2, 1580: 2, 1581: 2, 1582: 2, 1583: 2, 1584: 2, 1585: 2, 1586: 2, 1587: 2, 1588: 2, 1589: 2, 1590: 2, 1591: 2, 1592: 2, 1594: 2, 1595: 2, 1596: 2, 1597: 2, 1598: 2, 1600: 2, 1601: 2, 1602: 2, 1603: 3, 1604: 3, 1605: 3, 1606: 3, 1607: 3, 1608: 3, 1609: 3, 1610: 3, 1611: 3, 1612: 3, 1613: 3, 1614: 3, 1615: 3, 1616: 3, 1617: 3, 1618: 3, 1619: 3, 1620: 3, 1621: 3, 1622: 3, 1623: 3, 1624: 3, 1625: 3, 1626: 3, 1628: 3, 1629: 3, 1630: 3, 1632: 3, 1633: 3, 1634: 3, 1635: 3, 1636: 3, 1637: 3, 1638: 3, 1639: 3, 1640: 3, 1641: 3, 1642: 3, 1643: 3, 1644: 3, 1645: 3, 1646: 3, 1647: 3, 1648: 3, 1649: 3, 1650: 3, 1651: 3, 1652: 3, 1653: 3, 1654: 3, 1655: 3, 1656: 3, 1657: 3, 1658: 3, 1659: 3, 1660: 3, 1661: 3, 1662: 3, 1663: 3, 1664: 3, 1665: 3, 1666: 3, 1667: 3, 1668: 3, 1669: 3, 1670: 3, 1671: 3, 1672: 3, 1673: 3, 1674: 3, 1675: 3, 1676: 3, 1677: 3, 1678: 3, 1679: 3, 1680: 3, 1681: 3, 1682: 3, 1683: 3, 1684: 3, 1685: 3, 1686: 3, 1687: 3, 1688: 3, 1690: 3, 1692: 3, 1693: 3, 1694: 3, 1695: 3, 1696: 3, 1697: 3, 1698: 3, 1699: 3, 1700: 3, 1702: 3, 1703: 3, 1704: 3, 1705: 3, 1706: 3, 1707: 3, 1708: 3, 1709: 3, 1710: 4, 1711: 4, 1712: 4, 1713: 4, 1714: 4, 1715: 4, 1716: 4, 1717: 4, 1718: 4, 1719: 4, 1720: 4, 1721: 4, 1722: 4, 1723: 4, 1724: 4, 1725: 4, 1726: 4, 1727: 4, 1728: 4, 1729: 4, 1730: 4, 1731: 4, 1732: 4, 1733: 4, 1734: 4, 1735: 4, 1736: 4, 1737: 4, 1738: 4, 1739: 4, 1740: 4, 1741: 4, 1742: 4, 1743: 4, 1744: 4, 1745: 4, 1746: 4, 1747: 4, 1748: 4, 1749: 4, 1750: 4, 1751: 4, 1752: 4, 1753: 4, 1754: 4, 1755: 4, 1756: 4, 1757: 4, 1758: 4, 1759: 4, 1760: 4, 1761: 4, 1762: 4, 1763: 4, 1764: 3, 1765: 5, 1766: 5, 1767: 5, 1768: 5, 1769: 5, 1770: 5, 1771: 5, 1772: 5, 1773: 5, 1774: 5, 1775: 5, 1776: 5, 1777: 5, 1778: 5, 1779: 5, 1780: 5, 1781: 5, 1782: 5, 1783: 5, 1784: 4, 1785: 5, 1786: 5, 1787: 5, 1788: 5, 1789: 5, 1790: 5, 1791: 6, 1792: 6, 1793: 6, 1794: 6, 1795: 6, 1796: 6, 1797: 6, 1798: 6, 1799: 6, 1800: 6, 1801: 6, 1802: 6, 1803: 6, 1804: 6, 1805: 6, 1806: 6, 1807: 6, 1808: 6, 1809: 6, 1810: 6, 1811: 6, 1812: 6, 1813: 6, 1814: 6, 1815: 6, 1816: 6, 1817: 7, 1818: 7, 1819: 7, 1820: 7, 1821: 7, 1822: 7, 1823: 7, 1824: 7, 1825: 7, 1826: 7, 1827: 7, 1828: 7, 1829: 7, 1830: 8, 1831: 8, 1832: 8, 1833: 8, 1834: 8, 1835: 8, 1836: 8, 1837: 8, 1838: 8, 1839: 8, 1840: 9, 1841: 9, 1842: 9, 1843: 9, 1844: 8, 1845: 9, 1846: 10, 1847: 10, 1848: 10, 1849: 10, 1850: 10, 1851: 10, 1852: 10, 1853: 11, 1854: 11, 1855: 11, 1856: 11, 1857: 11, 1858: 11, 1859: 11, 1860: 10, 1861: 12, 1862: 13, 1863: 13, 1864: 13, 1865: 13, 1866: 13, 1867: 13, 1868: 14, 1869: 14, 1870: 15, 1871: 15, 1872: 15, 1873: 16, 1874: 17, 1875: 17, 1876: 19, 1877: 18, 1878: 20, 1879: 21, 1880: 24, 1881: 46})"
      ]
     },
     "execution_count": 98,
     "metadata": {},
     "output_type": "execute_result"
    }
   ],
   "source": [
    "G.subgraph(max(nx.connected_components(G), key=len)).degree"
   ]
  },
  {
   "cell_type": "code",
   "execution_count": 99,
   "metadata": {},
   "outputs": [],
   "source": [
    "G.add_edge(8,11)\n",
    "G.add_edge(460,13)\n",
    "G.add_edge(1102,124)\n",
    "\n",
    "G.add_edge(14,120)\n",
    "# G.add_edge(15,18)\n",
    "# G.add_edge(286,1082)\n",
    "# G.add_edge(19,21)\n",
    "\n",
    "\n",
    "# [11, 460],\n",
    "#  [13, 1102],\n",
    "#  [124, 14],\n",
    "#  [120, 15],\n",
    "#  [18, 286],\n",
    "#  [1082, 19],\n",
    "#  [1067, 21]"
   ]
  },
  {
   "cell_type": "code",
   "execution_count": null,
   "metadata": {},
   "outputs": [],
   "source": []
  },
  {
   "cell_type": "code",
   "execution_count": null,
   "metadata": {},
   "outputs": [],
   "source": []
  },
  {
   "cell_type": "code",
   "execution_count": null,
   "metadata": {},
   "outputs": [],
   "source": [
    "    "
   ]
  },
  {
   "cell_type": "code",
   "execution_count": null,
   "metadata": {},
   "outputs": [],
   "source": []
  },
  {
   "cell_type": "code",
   "execution_count": null,
   "metadata": {},
   "outputs": [],
   "source": []
  },
  {
   "cell_type": "code",
   "execution_count": 100,
   "metadata": {},
   "outputs": [
    {
     "data": {
      "text/plain": [
       "211"
      ]
     },
     "execution_count": 100,
     "metadata": {},
     "output_type": "execute_result"
    }
   ],
   "source": [
    "nx.number_connected_components(G)"
   ]
  },
  {
   "cell_type": "code",
   "execution_count": 101,
   "metadata": {},
   "outputs": [
    {
     "data": {
      "text/plain": [
       "[{1, 204, 1496},\n",
       " {2, 858},\n",
       " {4, 971},\n",
       " {9, 673, 1494},\n",
       " {10, 88},\n",
       " {28, 520},\n",
       " {29, 1271},\n",
       " {33, 721},\n",
       " {49, 1005},\n",
       " {51, 1012},\n",
       " {54, 475, 1349},\n",
       " {55, 569},\n",
       " {56, 763, 1593},\n",
       " {59, 630},\n",
       " {60, 624},\n",
       " {61, 975},\n",
       " {68, 643},\n",
       " {70, 182},\n",
       " {72, 242},\n",
       " {73, 738},\n",
       " {75, 266},\n",
       " {76, 188, 1334},\n",
       " {84, 501},\n",
       " {91, 944},\n",
       " {98, 1148},\n",
       " {101, 157},\n",
       " {102, 193, 1540},\n",
       " {103, 863},\n",
       " {107, 259},\n",
       " {111, 378},\n",
       " {114, 865},\n",
       " {116, 129},\n",
       " {121, 140},\n",
       " {125, 331},\n",
       " {136, 1041},\n",
       " {137, 1172},\n",
       " {143, 1084},\n",
       " {144, 1243},\n",
       " {152, 496},\n",
       " {165, 1044},\n",
       " {172, 817},\n",
       " {175, 251},\n",
       " {192, 1202},\n",
       " {198, 1046},\n",
       " {205, 655, 1376},\n",
       " {207, 715},\n",
       " {210, 1279},\n",
       " {215, 906},\n",
       " {218, 257},\n",
       " {219, 645},\n",
       " {220, 801},\n",
       " {231, 749, 1340},\n",
       " {235, 523},\n",
       " {239, 732},\n",
       " {246, 557},\n",
       " {249, 1222},\n",
       " {261, 1232},\n",
       " {264, 487},\n",
       " {267, 615},\n",
       " {278, 461},\n",
       " {281, 774},\n",
       " {283, 790, 1313},\n",
       " {287, 506},\n",
       " {288, 1054},\n",
       " {292, 1178},\n",
       " {295, 908},\n",
       " {299, 960},\n",
       " {313, 970, 1402},\n",
       " {316, 886},\n",
       " {319, 997},\n",
       " {320, 1198},\n",
       " {321, 1023},\n",
       " {323, 1037},\n",
       " {330, 979},\n",
       " {332, 1230, 1552},\n",
       " {333, 568},\n",
       " {345, 1233},\n",
       " {347, 1192},\n",
       " {348, 1263},\n",
       " {349, 665, 1557},\n",
       " {364, 824},\n",
       " {365, 1264, 1332},\n",
       " {370, 1266, 1439},\n",
       " {373, 805},\n",
       " {380, 1010},\n",
       " {390, 935, 1367},\n",
       " {396, 492},\n",
       " {403, 1153, 1377},\n",
       " {406, 723},\n",
       " {411, 760},\n",
       " {413, 651},\n",
       " {415, 1051},\n",
       " {433, 662, 1510},\n",
       " {436, 1052},\n",
       " {437, 830},\n",
       " {444, 1166},\n",
       " {453, 1056},\n",
       " {463, 538, 1553},\n",
       " {473, 601, 1517},\n",
       " {480, 1245},\n",
       " {489, 1175},\n",
       " {490, 627},\n",
       " {491, 1077},\n",
       " {495, 867, 1352},\n",
       " {500, 686, 1411},\n",
       " {510, 1195},\n",
       " {512, 611},\n",
       " {513, 584},\n",
       " {518, 848},\n",
       " {522, 768},\n",
       " {527, 753},\n",
       " {535, 967},\n",
       " {539, 567},\n",
       " {553, 1277},\n",
       " {559, 1155},\n",
       " {562, 900},\n",
       " {571, 812},\n",
       " {574, 1259},\n",
       " {576, 973},\n",
       " {603, 614},\n",
       " {606, 1214},\n",
       " {612, 840},\n",
       " {621, 1237},\n",
       " {622, 882},\n",
       " {631, 939},\n",
       " {632, 692},\n",
       " {636, 1085},\n",
       " {639, 1217},\n",
       " {640, 1103},\n",
       " {650, 1205},\n",
       " {661, 1070},\n",
       " {663, 888, 1308},\n",
       " {668, 984},\n",
       " {670, 1212},\n",
       " {678, 828},\n",
       " {687, 942},\n",
       " {693, 996},\n",
       " {695, 806},\n",
       " {708, 1260},\n",
       " {710, 1003},\n",
       " {713, 940},\n",
       " {717, 1107},\n",
       " {719, 1156},\n",
       " {722, 923},\n",
       " {727, 813},\n",
       " {728, 885},\n",
       " {737, 810},\n",
       " {739, 937},\n",
       " {744, 809},\n",
       " {748, 1215},\n",
       " {756, 924},\n",
       " {759, 1216},\n",
       " {766, 1116},\n",
       " {771, 773},\n",
       " {772, 799},\n",
       " {778, 860},\n",
       " {781, 837},\n",
       " {782, 1094},\n",
       " {786, 1274},\n",
       " {788, 1132, 1384},\n",
       " {789, 1048},\n",
       " {792, 951},\n",
       " {795, 1275},\n",
       " {802, 911},\n",
       " {816, 926},\n",
       " {832, 847, 1429},\n",
       " {844, 950},\n",
       " {845, 1007},\n",
       " {855, 1065, 1299},\n",
       " {862, 1104, 1483},\n",
       " {866, 1097, 1413},\n",
       " {868, 929},\n",
       " {877, 1106},\n",
       " {878, 1218},\n",
       " {879, 1072, 1464},\n",
       " {912, 1108},\n",
       " {916, 1187},\n",
       " {918, 1080},\n",
       " {941, 1220},\n",
       " {946, 1234},\n",
       " {963, 986},\n",
       " {983, 1039},\n",
       " {1000, 1124},\n",
       " {1013, 1290},\n",
       " {1024, 1238},\n",
       " {1030, 1248},\n",
       " {1055, 1109},\n",
       " {1069, 1101},\n",
       " {1074, 1086},\n",
       " {1089, 1090},\n",
       " {1099, 1261},\n",
       " {1105, 1197, 1477},\n",
       " {1110, 1276},\n",
       " {1128, 1255}]"
      ]
     },
     "execution_count": 101,
     "metadata": {},
     "output_type": "execute_result"
    }
   ],
   "source": [
    "[i for i in list(nx.connected_components(G)) if (len(i)==3) | (len(i)==2)]"
   ]
  },
  {
   "cell_type": "code",
   "execution_count": 102,
   "metadata": {},
   "outputs": [
    {
     "ename": "SyntaxError",
     "evalue": "invalid syntax (<ipython-input-102-1fff9687f4c6>, line 1)",
     "output_type": "error",
     "traceback": [
      "\u001b[0;36m  File \u001b[0;32m\"<ipython-input-102-1fff9687f4c6>\"\u001b[0;36m, line \u001b[0;32m1\u001b[0m\n\u001b[0;31m    3 и 2\u001b[0m\n\u001b[0m      ^\u001b[0m\n\u001b[0;31mSyntaxError\u001b[0m\u001b[0;31m:\u001b[0m invalid syntax\n"
     ]
    }
   ],
   "source": [
    "3 и 2 \n",
    "3 и 3 и 3\n",
    "3 и 3 и 3\n",
    "1146\n"
   ]
  },
  {
   "cell_type": "code",
   "execution_count": 103,
   "metadata": {},
   "outputs": [],
   "source": [
    "G.add_edge(1388,1393)"
   ]
  },
  {
   "cell_type": "code",
   "execution_count": 104,
   "metadata": {},
   "outputs": [
    {
     "data": {
      "image/png": "[encoded data removed]",
      "text/plain": [
       "<Figure size 432x288 with 1 Axes>"
      ]
     },
     "metadata": {},
     "output_type": "display_data"
    }
   ],
   "source": [
    "nx.draw(G.subgraph(max((nx.connected_components(G)), key = len)),node_size=1,with_labels = True)"
   ]
  },
  {
   "cell_type": "code",
   "execution_count": 105,
   "metadata": {},
   "outputs": [
    {
     "ename": "TypeError",
     "evalue": "'int' object is not iterable",
     "output_type": "error",
     "traceback": [
      "\u001b[0;31m---------------------------------------------------------------------------\u001b[0m",
      "\u001b[0;31mTypeError\u001b[0m                                 Traceback (most recent call last)",
      "\u001b[0;32m<ipython-input-105-4d3ffc325fa9>\u001b[0m in \u001b[0;36m<module>\u001b[0;34m\u001b[0m\n\u001b[0;32m----> 1\u001b[0;31m \u001b[0mmax\u001b[0m\u001b[0;34m(\u001b[0m\u001b[0;34m(\u001b[0m\u001b[0mnx\u001b[0m\u001b[0;34m.\u001b[0m\u001b[0mnumber_connected_components\u001b[0m\u001b[0;34m(\u001b[0m\u001b[0mG\u001b[0m\u001b[0;34m)\u001b[0m\u001b[0;34m)\u001b[0m\u001b[0;34m)\u001b[0m\u001b[0;34m\u001b[0m\u001b[0;34m\u001b[0m\u001b[0m\n\u001b[0m",
      "\u001b[0;31mTypeError\u001b[0m: 'int' object is not iterable"
     ]
    }
   ],
   "source": [
    "max((nx.number_connected_components(G)))"
   ]
  },
  {
   "cell_type": "code",
   "execution_count": 106,
   "metadata": {},
   "outputs": [
    {
     "data": {
      "text/plain": [
       "210"
      ]
     },
     "execution_count": 106,
     "metadata": {},
     "output_type": "execute_result"
    }
   ],
   "source": [
    "nx.number_connected_components(G)"
   ]
  },
  {
   "cell_type": "code",
   "execution_count": 107,
   "metadata": {},
   "outputs": [],
   "source": [
    "a = nx.shortest_simple_paths(G.subgraph(max_cc),3,16)"
   ]
  },
  {
   "cell_type": "code",
   "execution_count": 117,
   "metadata": {},
   "outputs": [
    {
     "data": {
      "text/plain": [
       "[(0, 1804),\n",
       " (1, 1496),\n",
       " (2, 858),\n",
       " (3, 1801),\n",
       " (4, 971),\n",
       " (5, 1854),\n",
       " (6, 1881),\n",
       " (7, 1786),\n",
       " (8, 745),\n",
       " (8, 11),\n",
       " (9, 1494),\n",
       " (9, 673),\n",
       " (10, 88),\n",
       " (11, 1465),\n",
       " (12, 1845),\n",
       " (13, 1826),\n",
       " (13, 460),\n",
       " (14, 1839),\n",
       " (14, 120),\n",
       " (15, 1839),\n",
       " (15, 18),\n",
       " (16, 146),\n",
       " (17, 1829),\n",
       " (18, 1499),\n",
       " (19, 1801),\n",
       " (19, 1067),\n",
       " (20, 1322),\n",
       " (21, 1872),\n",
       " (21, 311),\n",
       " (22, 1842),\n",
       " (23, 1881),\n",
       " (23, 24),\n",
       " (24, 128),\n",
       " (25, 260),\n",
       " (25, 106),\n",
       " (26, 1449),\n",
       " (27, 1707),\n",
       " (27, 685),\n",
       " (28, 520),\n",
       " (29, 1271),\n",
       " (30, 649),\n",
       " (30, 66),\n",
       " (31, 1717),\n",
       " (32, 1743),\n",
       " (33, 721),\n",
       " (34, 914),\n",
       " (35, 1564),\n",
       " (36, 1864),\n",
       " (37, 1876),\n",
       " (38, 1866),\n",
       " (39, 1851),\n",
       " (39, 40),\n",
       " (40, 1801),\n",
       " (41, 1241),\n",
       " (41, 434),\n",
       " (42, 683),\n",
       " (42, 421),\n",
       " (43, 1162),\n",
       " (43, 914),\n",
       " (44, 1634),\n",
       " (45, 1786),\n",
       " (45, 949),\n",
       " (46, 376),\n",
       " (46, 1002),\n",
       " (47, 978),\n",
       " (47, 714),\n",
       " (48, 1658),\n",
       " (49, 1005),\n",
       " (50, 1391),\n",
       " (51, 1012),\n",
       " (52, 648),\n",
       " (53, 1717),\n",
       " (53, 57),\n",
       " (54, 1349),\n",
       " (55, 569),\n",
       " (56, 1593),\n",
       " (57, 516),\n",
       " (58, 1859),\n",
       " (58, 660),\n",
       " (59, 630),\n",
       " (60, 624),\n",
       " (61, 975),\n",
       " (62, 1713),\n",
       " (62, 221),\n",
       " (63, 258),\n",
       " (64, 988),\n",
       " (64, 798),\n",
       " (65, 454),\n",
       " (66, 1009),\n",
       " (67, 1840),\n",
       " (68, 643),\n",
       " (69, 1480),\n",
       " (70, 182),\n",
       " (71, 1859),\n",
       " (72, 242),\n",
       " (73, 738),\n",
       " (74, 1861),\n",
       " (75, 266),\n",
       " (76, 1334),\n",
       " (77, 1361),\n",
       " (78, 1881),\n",
       " (79, 1808),\n",
       " (79, 82),\n",
       " (80, 1852),\n",
       " (81, 1375),\n",
       " (81, 462),\n",
       " (82, 1079),\n",
       " (83, 1419),\n",
       " (84, 501),\n",
       " (85, 1460),\n",
       " (86, 1532),\n",
       " (87, 1829),\n",
       " (87, 392),\n",
       " (89, 1851),\n",
       " (89, 90),\n",
       " (90, 750),\n",
       " (91, 944),\n",
       " (92, 1696),\n",
       " (93, 1759),\n",
       " (93, 558),\n",
       " (94, 1858),\n",
       " (95, 310),\n",
       " (95, 96),\n",
       " (96, 1630),\n",
       " (97, 1702),\n",
       " (98, 1148),\n",
       " (99, 1734),\n",
       " (100, 1338),\n",
       " (100, 307),\n",
       " (101, 157),\n",
       " (102, 1540),\n",
       " (103, 863),\n",
       " (104, 1333),\n",
       " (105, 1848),\n",
       " (106, 1370),\n",
       " (107, 259),\n",
       " (108, 1699),\n",
       " (109, 1870),\n",
       " (110, 1871),\n",
       " (111, 378),\n",
       " (112, 1838),\n",
       " (113, 1536),\n",
       " (114, 865),\n",
       " (115, 1836),\n",
       " (116, 129),\n",
       " (117, 1847),\n",
       " (118, 605),\n",
       " (118, 122),\n",
       " (119, 1854),\n",
       " (120, 525),\n",
       " (121, 140),\n",
       " (122, 1849),\n",
       " (123, 1359),\n",
       " (124, 1568),\n",
       " (124, 1102),\n",
       " (125, 331),\n",
       " (126, 1362),\n",
       " (127, 1329),\n",
       " (127, 130),\n",
       " (130, 1319),\n",
       " (131, 1694),\n",
       " (131, 1392),\n",
       " (131, 300),\n",
       " (132, 1853),\n",
       " (133, 1825),\n",
       " (134, 703),\n",
       " (134, 902),\n",
       " (135, 1811),\n",
       " (135, 1240),\n",
       " (136, 1041),\n",
       " (137, 1172),\n",
       " (138, 1410),\n",
       " (138, 146),\n",
       " (139, 1655),\n",
       " (141, 1714),\n",
       " (142, 1869),\n",
       " (143, 1084),\n",
       " (144, 1243),\n",
       " (145, 311),\n",
       " (147, 1849),\n",
       " (148, 245),\n",
       " (148, 274),\n",
       " (149, 1547),\n",
       " (149, 423),\n",
       " (150, 644),\n",
       " (151, 1652),\n",
       " (151, 153),\n",
       " (152, 496),\n",
       " (153, 1379),\n",
       " (154, 1806),\n",
       " (155, 1746),\n",
       " (156, 1067),\n",
       " (158, 551),\n",
       " (159, 1794),\n",
       " (160, 901),\n",
       " (160, 953),\n",
       " (161, 1778),\n",
       " (161, 856),\n",
       " (162, 1457),\n",
       " (162, 548),\n",
       " (163, 457),\n",
       " (164, 1772),\n",
       " (165, 1044),\n",
       " (166, 1847),\n",
       " (166, 985),\n",
       " (167, 1862),\n",
       " (168, 1776),\n",
       " (169, 1336),\n",
       " (170, 1732),\n",
       " (171, 1876),\n",
       " (172, 817),\n",
       " (173, 1452),\n",
       " (174, 1542),\n",
       " (174, 177),\n",
       " (175, 251),\n",
       " (176, 1525),\n",
       " (177, 628),\n",
       " (178, 228),\n",
       " (178, 429),\n",
       " (179, 1170),\n",
       " (180, 1832),\n",
       " (181, 1863),\n",
       " (183, 1310),\n",
       " (183, 185),\n",
       " (184, 1850),\n",
       " (185, 1825),\n",
       " (186, 1556),\n",
       " (187, 1753),\n",
       " (188, 1334),\n",
       " (189, 1876),\n",
       " (190, 1792),\n",
       " (191, 1547),\n",
       " (192, 1202),\n",
       " (193, 1540),\n",
       " (194, 1817),\n",
       " (195, 1850),\n",
       " (196, 1628),\n",
       " (197, 1769),\n",
       " (197, 201),\n",
       " (198, 1046),\n",
       " (199, 1770),\n",
       " (200, 1407),\n",
       " (200, 1123),\n",
       " (201, 1135),\n",
       " (202, 1860),\n",
       " (203, 1879),\n",
       " (203, 796),\n",
       " (204, 1496),\n",
       " (205, 1376),\n",
       " (206, 1866),\n",
       " (207, 715),\n",
       " (208, 1150),\n",
       " (208, 894),\n",
       " (209, 1549),\n",
       " (209, 277),\n",
       " (210, 1279),\n",
       " (211, 1335),\n",
       " (211, 1169),\n",
       " (212, 1307),\n",
       " (212, 481),\n",
       " (212, 585),\n",
       " (213, 1582),\n",
       " (213, 1283),\n",
       " (214, 1053),\n",
       " (214, 216),\n",
       " (215, 906),\n",
       " (216, 401),\n",
       " (217, 1818),\n",
       " (218, 257),\n",
       " (219, 645),\n",
       " (220, 801),\n",
       " (221, 1877),\n",
       " (222, 1515),\n",
       " (222, 224),\n",
       " (223, 1858),\n",
       " (224, 1732),\n",
       " (225, 1683),\n",
       " (225, 228),\n",
       " (226, 1545),\n",
       " (226, 677),\n",
       " (227, 1598),\n",
       " (229, 1868),\n",
       " (229, 243),\n",
       " (230, 1769),\n",
       " (231, 1340),\n",
       " (232, 1767),\n",
       " (233, 1421),\n",
       " (234, 1800),\n",
       " (235, 523),\n",
       " (236, 1797),\n",
       " (237, 1879),\n",
       " (238, 1870),\n",
       " (239, 732),\n",
       " (240, 1800),\n",
       " (241, 1845),\n",
       " (243, 1516),\n",
       " (244, 1773),\n",
       " (246, 557),\n",
       " (247, 1807),\n",
       " (248, 1691),\n",
       " (249, 1222),\n",
       " (250, 1312),\n",
       " (252, 1868),\n",
       " (253, 379),\n",
       " (254, 324),\n",
       " (254, 256),\n",
       " (255, 1860),\n",
       " (256, 1722),\n",
       " (258, 957),\n",
       " (261, 1232),\n",
       " (262, 1792),\n",
       " (263, 889),\n",
       " (263, 936),\n",
       " (264, 487),\n",
       " (265, 1729),\n",
       " (267, 615),\n",
       " (268, 1838),\n",
       " (268, 273),\n",
       " (269, 654),\n",
       " (270, 1881),\n",
       " (271, 1544),\n",
       " (272, 1858),\n",
       " (273, 1715),\n",
       " (274, 1758),\n",
       " (275, 1835),\n",
       " (275, 785),\n",
       " (276, 1851),\n",
       " (277, 1448),\n",
       " (277, 644),\n",
       " (278, 461),\n",
       " (279, 1860),\n",
       " (280, 1836),\n",
       " (281, 774),\n",
       " (282, 1821),\n",
       " (283, 1313),\n",
       " (284, 1862),\n",
       " (285, 1757),\n",
       " (285, 290),\n",
       " (286, 1859),\n",
       " (286, 1082),\n",
       " (287, 506),\n",
       " (288, 1054),\n",
       " (289, 1796),\n",
       " (290, 1615),\n",
       " (291, 1575),\n",
       " (291, 977),\n",
       " (292, 1178),\n",
       " (293, 1579),\n",
       " (294, 1817),\n",
       " (295, 908),\n",
       " (296, 1469),\n",
       " (296, 1294),\n",
       " (297, 874),\n",
       " (297, 298),\n",
       " (298, 1851),\n",
       " (299, 960),\n",
       " (300, 1876),\n",
       " (301, 1304),\n",
       " (302, 1873),\n",
       " (302, 648),\n",
       " (303, 625),\n",
       " (303, 1273),\n",
       " (304, 1823),\n",
       " (305, 1833),\n",
       " (306, 1709),\n",
       " (307, 1862),\n",
       " (308, 1671),\n",
       " (309, 1870),\n",
       " (312, 1660),\n",
       " (313, 1402),\n",
       " (314, 1624),\n",
       " (315, 1733),\n",
       " (315, 317),\n",
       " (316, 886),\n",
       " (317, 1335),\n",
       " (318, 1607),\n",
       " (319, 997),\n",
       " (320, 1198),\n",
       " (321, 1023),\n",
       " (322, 1730),\n",
       " (323, 1037),\n",
       " (325, 1621),\n",
       " (326, 1462),\n",
       " (327, 1365),\n",
       " (327, 328),\n",
       " (328, 1675),\n",
       " (328, 1159),\n",
       " (329, 1844),\n",
       " (330, 979),\n",
       " (332, 1552),\n",
       " (333, 568),\n",
       " (334, 1881),\n",
       " (334, 1268),\n",
       " (335, 1784),\n",
       " (336, 1754),\n",
       " (337, 1561),\n",
       " (337, 1095),\n",
       " (338, 1550),\n",
       " (338, 791),\n",
       " (339, 1875),\n",
       " (339, 1122),\n",
       " (340, 1819),\n",
       " (341, 1874),\n",
       " (341, 1176),\n",
       " (342, 1833),\n",
       " (343, 1794),\n",
       " (344, 1816),\n",
       " (345, 1233),\n",
       " (346, 1622),\n",
       " (347, 1192),\n",
       " (348, 1263),\n",
       " (349, 1557),\n",
       " (350, 1792),\n",
       " (351, 1864),\n",
       " (352, 1803),\n",
       " (353, 1677),\n",
       " (353, 729),\n",
       " (354, 1843),\n",
       " (355, 1863),\n",
       " (355, 681),\n",
       " (356, 1806),\n",
       " (356, 600),\n",
       " (357, 1652),\n",
       " (358, 1425),\n",
       " (359, 1841),\n",
       " (360, 1354),\n",
       " (361, 1578),\n",
       " (362, 1834),\n",
       " (363, 1365),\n",
       " (364, 824),\n",
       " (365, 1332),\n",
       " (366, 1828),\n",
       " (367, 1129),\n",
       " (367, 376),\n",
       " (368, 1855),\n",
       " (369, 591),\n",
       " (370, 1439),\n",
       " (371, 1876),\n",
       " (372, 1878),\n",
       " (373, 805),\n",
       " (374, 1637),\n",
       " (375, 1712),\n",
       " (377, 1846),\n",
       " (379, 706),\n",
       " (380, 1010),\n",
       " (381, 1866),\n",
       " (381, 1136),\n",
       " (382, 1785),\n",
       " (382, 384),\n",
       " (383, 1880),\n",
       " (384, 619),\n",
       " (385, 1357),\n",
       " (385, 994),\n",
       " (386, 1877),\n",
       " (386, 654),\n",
       " (387, 1486),\n",
       " (388, 1739),\n",
       " (388, 508),\n",
       " (389, 1867),\n",
       " (390, 1367),\n",
       " (391, 1658),\n",
       " (391, 393),\n",
       " (392, 1375),\n",
       " (393, 1648),\n",
       " (394, 1881),\n",
       " (395, 1619),\n",
       " (396, 492),\n",
       " (397, 1661),\n",
       " (398, 1096),\n",
       " (398, 1083),\n",
       " (399, 1871),\n",
       " (399, 780),\n",
       " (400, 1865),\n",
       " (400, 1162),\n",
       " (402, 1870),\n",
       " (403, 1377),\n",
       " (404, 1092),\n",
       " (405, 1819),\n",
       " (405, 992),\n",
       " (406, 723),\n",
       " (407, 1611),\n",
       " (407, 934),\n",
       " (408, 1858),\n",
       " (409, 1879),\n",
       " (410, 1772),\n",
       " (411, 760),\n",
       " (412, 1613),\n",
       " (413, 651),\n",
       " (414, 1551),\n",
       " (414, 416),\n",
       " (415, 1051),\n",
       " (416, 1822),\n",
       " (417, 1707),\n",
       " (417, 499),\n",
       " (418, 1866),\n",
       " (419, 1548),\n",
       " (420, 1874),\n",
       " (421, 1685),\n",
       " (422, 1158),\n",
       " (422, 494),\n",
       " (423, 835),\n",
       " (424, 1562),\n",
       " (424, 887),\n",
       " (425, 1393),\n",
       " (425, 551),\n",
       " (426, 1705),\n",
       " (427, 1595),\n",
       " (428, 1667),\n",
       " (429, 1700),\n",
       " (430, 1498),\n",
       " (430, 432),\n",
       " (431, 1848),\n",
       " (432, 1167),\n",
       " (433, 1510),\n",
       " (434, 1770),\n",
       " (435, 439),\n",
       " (435, 440),\n",
       " (436, 1052),\n",
       " (437, 830),\n",
       " (438, 1733),\n",
       " (440, 1396),\n",
       " (441, 459),\n",
       " (441, 787),\n",
       " (442, 784),\n",
       " (443, 1270),\n",
       " (443, 445),\n",
       " (444, 1166),\n",
       " (445, 1343),\n",
       " (446, 1827),\n",
       " (447, 953),\n",
       " (447, 448),\n",
       " (448, 1420),\n",
       " (449, 1867),\n",
       " (450, 1857),\n",
       " (451, 1864),\n",
       " (452, 1599),\n",
       " (453, 1056),\n",
       " (454, 602),\n",
       " (455, 1825),\n",
       " (455, 1043),\n",
       " (456, 493),\n",
       " (457, 488),\n",
       " (458, 1646),\n",
       " (460, 1849),\n",
       " (462, 1863),\n",
       " (463, 1553),\n",
       " (464, 1881),\n",
       " (464, 993),\n",
       " (465, 1701),\n",
       " (466, 1878),\n",
       " (467, 1791),\n",
       " (468, 1262),\n",
       " (468, 712),\n",
       " (469, 1827),\n",
       " (470, 1880),\n",
       " (471, 1822),\n",
       " (471, 1297),\n",
       " (472, 1512),\n",
       " (473, 1517),\n",
       " (474, 1816),\n",
       " (475, 1349),\n",
       " (476, 1808),\n",
       " (477, 1853),\n",
       " (478, 1342),\n",
       " (479, 1403),\n",
       " (480, 1245),\n",
       " (481, 1635),\n",
       " (482, 1724),\n",
       " (483, 1692),\n",
       " (484, 1769),\n",
       " (485, 1776),\n",
       " (486, 1617),\n",
       " (488, 1418),\n",
       " (489, 1175),\n",
       " (490, 627),\n",
       " (491, 1077),\n",
       " (493, 578),\n",
       " (494, 1408),\n",
       " (495, 1352),\n",
       " (497, 528),\n",
       " (497, 1262),\n",
       " (498, 1840),\n",
       " (499, 1813),\n",
       " (500, 1411),\n",
       " (502, 1328),\n",
       " (503, 1775),\n",
       " (504, 1855),\n",
       " (505, 1841),\n",
       " (507, 1744),\n",
       " (508, 1870),\n",
       " (509, 1877),\n",
       " (510, 1195),\n",
       " (511, 1488),\n",
       " (511, 712),\n",
       " (512, 611),\n",
       " (513, 584),\n",
       " (514, 1842),\n",
       " (515, 1780),\n",
       " (517, 1805),\n",
       " (518, 848),\n",
       " (519, 1083),\n",
       " (521, 1708),\n",
       " (522, 768),\n",
       " (524, 1864),\n",
       " (526, 1682),\n",
       " (527, 753),\n",
       " (529, 1701),\n",
       " (530, 1416),\n",
       " (530, 1160),\n",
       " (531, 1832),\n",
       " (532, 1853),\n",
       " (533, 1348),\n",
       " (534, 1880),\n",
       " (535, 967),\n",
       " (536, 1522),\n",
       " (537, 785),\n",
       " (538, 1553),\n",
       " (539, 567),\n",
       " (540, 990),\n",
       " (540, 1117),\n",
       " (541, 1635),\n",
       " (542, 1609),\n",
       " (543, 1811),\n",
       " (544, 1871),\n",
       " (545, 1767),\n",
       " (546, 1845),\n",
       " (547, 1633),\n",
       " (548, 1554),\n",
       " (549, 1847),\n",
       " (550, 1766),\n",
       " (552, 1788),\n",
       " (553, 1277),\n",
       " (554, 1870),\n",
       " (555, 1878),\n",
       " (556, 1726),\n",
       " (558, 637),\n",
       " (559, 1155),\n",
       " (560, 1719),\n",
       " (561, 1747),\n",
       " (562, 900),\n",
       " (563, 1627),\n",
       " (564, 1576),\n",
       " (565, 1641),\n",
       " (566, 1868),\n",
       " (570, 777),\n",
       " (570, 591),\n",
       " (571, 812),\n",
       " (572, 1869),\n",
       " (572, 1014),\n",
       " (573, 1790),\n",
       " (574, 1259),\n",
       " (575, 1757),\n",
       " (576, 973),\n",
       " (577, 1863),\n",
       " (578, 1839),\n",
       " (579, 1776),\n",
       " (580, 1779),\n",
       " (581, 1702),\n",
       " (582, 1397),\n",
       " (583, 1879),\n",
       " (585, 1808),\n",
       " (586, 1816),\n",
       " (587, 1619),\n",
       " (588, 1833),\n",
       " (589, 1838),\n",
       " (590, 1790),\n",
       " (590, 1296),\n",
       " (592, 1787),\n",
       " (593, 1778),\n",
       " (594, 1528),\n",
       " (595, 1774),\n",
       " (596, 1705),\n",
       " (597, 1341),\n",
       " (598, 1771),\n",
       " (599, 1868),\n",
       " (600, 1709),\n",
       " (601, 1517),\n",
       " (602, 1689),\n",
       " (603, 614),\n",
       " (604, 1840),\n",
       " (606, 1214),\n",
       " (607, 1818),\n",
       " (608, 1860),\n",
       " (609, 1680),\n",
       " (610, 1869),\n",
       " (612, 840),\n",
       " (613, 1473),\n",
       " (616, 1842),\n",
       " (617, 1782),\n",
       " (618, 1860),\n",
       " (620, 1744),\n",
       " (621, 1237),\n",
       " (622, 882),\n",
       " (623, 1686),\n",
       " (626, 1471),\n",
       " (629, 1745),\n",
       " (631, 939),\n",
       " (632, 692),\n",
       " (633, 1718),\n",
       " (634, 1881),\n",
       " (635, 1828),\n",
       " (636, 1085),\n",
       " (638, 1689),\n",
       " (639, 1217),\n",
       " (640, 1103),\n",
       " (641, 1612),\n",
       " (642, 1250),\n",
       " (642, 1231),\n",
       " (646, 1872),\n",
       " (647, 1396),\n",
       " (650, 1205),\n",
       " (652, 1721),\n",
       " (653, 1877),\n",
       " (655, 1376),\n",
       " (656, 1804),\n",
       " (657, 1843),\n",
       " (658, 1776),\n",
       " (659, 1723),\n",
       " (660, 1686),\n",
       " (661, 1070),\n",
       " (662, 1510),\n",
       " (663, 1308),\n",
       " (664, 1404),\n",
       " (664, 1093),\n",
       " (665, 1557),\n",
       " (666, 1753),\n",
       " (667, 1655),\n",
       " (668, 984),\n",
       " (669, 1740),\n",
       " (670, 1212),\n",
       " (671, 1738),\n",
       " (672, 992),\n",
       " (673, 1494),\n",
       " (674, 1639),\n",
       " (675, 1852),\n",
       " (676, 1513),\n",
       " (677, 1613),\n",
       " (678, 828),\n",
       " (679, 1834),\n",
       " (680, 1747),\n",
       " (681, 1026),\n",
       " (682, 1649),\n",
       " (682, 775),\n",
       " (684, 1824),\n",
       " (685, 1587),\n",
       " (686, 1411),\n",
       " (687, 942),\n",
       " (688, 1745),\n",
       " (689, 1358),\n",
       " (690, 1872),\n",
       " (691, 1828),\n",
       " (693, 996),\n",
       " (694, 1708),\n",
       " (695, 806),\n",
       " (696, 1638),\n",
       " (697, 1838),\n",
       " (698, 1720),\n",
       " (699, 1819),\n",
       " (700, 1878),\n",
       " (701, 1728),\n",
       " (702, 1727),\n",
       " (704, 1801),\n",
       " (705, 1676),\n",
       " (706, 1779),\n",
       " (707, 1754),\n",
       " (708, 1260),\n",
       " (709, 1794),\n",
       " (710, 1003),\n",
       " (711, 1485),\n",
       " (712, 1764),\n",
       " (713, 940),\n",
       " (714, 1873),\n",
       " (716, 1783),\n",
       " (717, 1107),\n",
       " (718, 1722),\n",
       " (719, 1156),\n",
       " (720, 1624),\n",
       " (722, 923),\n",
       " (724, 1725),\n",
       " (725, 1866),\n",
       " (726, 1746),\n",
       " (727, 813),\n",
       " (728, 885),\n",
       " (729, 796),\n",
       " (730, 1854),\n",
       " (731, 1679),\n",
       " (733, 1707),\n",
       " (733, 783),\n",
       " (734, 1604),\n",
       " (735, 1583),\n",
       " (736, 1880),\n",
       " (737, 810),\n",
       " (739, 937),\n",
       " (740, 1818),\n",
       " (741, 1231),\n",
       " (742, 1879),\n",
       " (743, 861),\n",
       " (743, 1062),\n",
       " (744, 809),\n",
       " (746, 1649),\n",
       " (747, 1018),\n",
       " (747, 1027),\n",
       " (748, 1215),\n",
       " (749, 1340),\n",
       " (751, 1450),\n",
       " (752, 1881),\n",
       " (754, 1713),\n",
       " (755, 1877),\n",
       " (756, 924),\n",
       " (757, 1745),\n",
       " (758, 1804),\n",
       " (759, 1216),\n",
       " (761, 1466),\n",
       " (762, 1610),\n",
       " (763, 1593),\n",
       " (764, 1657),\n",
       " (765, 1800),\n",
       " (766, 1116),\n",
       " (767, 1424),\n",
       " (769, 1855),\n",
       " (770, 1772),\n",
       " (771, 773),\n",
       " (772, 799),\n",
       " (775, 1773),\n",
       " (776, 1856),\n",
       " (778, 860),\n",
       " (779, 1790),\n",
       " (780, 1254),\n",
       " (781, 837),\n",
       " (782, 1094),\n",
       " (783, 1555),\n",
       " (784, 1091),\n",
       " (786, 1274),\n",
       " (787, 1423),\n",
       " (788, 1384),\n",
       " (789, 1048),\n",
       " (790, 1313),\n",
       " (791, 1879),\n",
       " (792, 951),\n",
       " (793, 1715),\n",
       " (794, 1866),\n",
       " (795, 1275),\n",
       " (797, 1721),\n",
       " (798, 1741),\n",
       " (800, 1315),\n",
       " (802, 911),\n",
       " (803, 1504),\n",
       " (804, 1117),\n",
       " (807, 1775),\n",
       " (808, 1618),\n",
       " (811, 1873),\n",
       " (811, 1064),\n",
       " (814, 1147),\n",
       " (814, 1145),\n",
       " (815, 1881),\n",
       " (816, 926),\n",
       " (818, 1681),\n",
       " (819, 1849),\n",
       " (820, 1125),\n",
       " (820, 1020),\n",
       " (821, 1804),\n",
       " (822, 1314),\n",
       " (823, 1713),\n",
       " (825, 1768),\n",
       " (826, 1736),\n",
       " (827, 1848),\n",
       " (829, 1611),\n",
       " (831, 1868),\n",
       " (832, 1429),\n",
       " (833, 1867),\n",
       " (834, 1856),\n",
       " (834, 1115),\n",
       " (836, 1303),\n",
       " (838, 1757),\n",
       " (839, 1876),\n",
       " (841, 1713),\n",
       " (842, 1663),\n",
       " (843, 1472),\n",
       " (844, 950),\n",
       " (845, 1007),\n",
       " (846, 1650),\n",
       " (847, 1429),\n",
       " (849, 1294),\n",
       " (850, 981),\n",
       " (851, 1482),\n",
       " (852, 1273),\n",
       " (853, 1711),\n",
       " (854, 1640),\n",
       " (855, 1299),\n",
       " (856, 1860),\n",
       " (857, 1859),\n",
       " (859, 1526),\n",
       " (862, 1483),\n",
       " (864, 1823),\n",
       " (866, 1413),\n",
       " (867, 1352),\n",
       " (868, 929),\n",
       " (869, 1695),\n",
       " (870, 1802),\n",
       " (871, 1835),\n",
       " (872, 1775),\n",
       " (873, 1854),\n",
       " (875, 1843),\n",
       " (876, 1035),\n",
       " (876, 1165),\n",
       " (877, 1106),\n",
       " (878, 1218),\n",
       " (879, 1464),\n",
       " (880, 1434),\n",
       " (881, 1876),\n",
       " (883, 1880),\n",
       " (884, 1874),\n",
       " (887, 1867),\n",
       " (888, 1308),\n",
       " (890, 1765),\n",
       " (891, 1850),\n",
       " (891, 1219),\n",
       " (892, 1617),\n",
       " (893, 1782),\n",
       " (894, 1339),\n",
       " (895, 1688),\n",
       " (896, 1091),\n",
       " (896, 1151),\n",
       " (897, 1815),\n",
       " (898, 1653),\n",
       " (899, 1845),\n",
       " (902, 1800),\n",
       " (903, 1697),\n",
       " (904, 1813),\n",
       " (905, 1479),\n",
       " (907, 1719),\n",
       " (909, 1679),\n",
       " (910, 1880),\n",
       " (912, 1108),\n",
       " (913, 1743),\n",
       " (915, 1685),\n",
       " (916, 1187),\n",
       " (917, 1871),\n",
       " (918, 1080),\n",
       " (919, 1803),\n",
       " (920, 1813),\n",
       " (921, 1735),\n",
       " (922, 1695),\n",
       " (925, 1832),\n",
       " (927, 1169),\n",
       " (928, 1744),\n",
       " (930, 1401),\n",
       " (931, 1751),\n",
       " (932, 1337),\n",
       " (933, 1833),\n",
       " (934, 1698),\n",
       " (935, 1367),\n",
       " (936, 1824),\n",
       " (938, 1870),\n",
       " (941, 1220),\n",
       " (943, 1635),\n",
       " (945, 1724),\n",
       " (946, 1234),\n",
       " (947, 1648),\n",
       " (948, 1876),\n",
       " (949, 1372),\n",
       " (949, 1224),\n",
       " (952, 1814),\n",
       " (954, 1392),\n",
       " (955, 1559),\n",
       " (956, 1573),\n",
       " (957, 1613),\n",
       " (958, 1653),\n",
       " (959, 1678),\n",
       " (961, 1584),\n",
       " (962, 1568),\n",
       " (963, 986),\n",
       " (964, 1732),\n",
       " (965, 1534),\n",
       " (966, 1798),\n",
       " (968, 1872),\n",
       " (969, 1675),\n",
       " (969, 1210),\n",
       " (970, 1402),\n",
       " (972, 1720),\n",
       " (974, 1850),\n",
       " (976, 1799),\n",
       " (977, 1380),\n",
       " (980, 1748),\n",
       " (981, 1118),\n",
       " (982, 1386),\n",
       " (983, 1039),\n",
       " (985, 1066),\n",
       " (987, 1603),\n",
       " (989, 1861),\n",
       " (991, 1580),\n",
       " (993, 1768),\n",
       " (994, 1845),\n",
       " (995, 1647),\n",
       " (998, 1749),\n",
       " (999, 1839),\n",
       " (1000, 1124),\n",
       " (1001, 1881),\n",
       " (1002, 1736),\n",
       " (1004, 1861),\n",
       " ...]"
      ]
     },
     "execution_count": 117,
     "metadata": {},
     "output_type": "execute_result"
    }
   ],
   "source": [
    "list(G.edges)"
   ]
  },
  {
   "cell_type": "code",
   "execution_count": null,
   "metadata": {},
   "outputs": [],
   "source": []
  }
 ],
 "metadata": {
  "kernelspec": {
   "display_name": "Python 3",
   "language": "python",
   "name": "python3"
  },
  "language_info": {
   "codemirror_mode": {
    "name": "ipython",
    "version": 3
   },
   "file_extension": ".py",
   "mimetype": "text/x-python",
   "name": "python",
   "nbconvert_exporter": "python",
   "pygments_lexer": "ipython3",
   "version": "3.8.3"
  }
 },
 "nbformat": 4,
 "nbformat_minor": 2
}
