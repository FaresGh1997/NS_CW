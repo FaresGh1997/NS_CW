{
 "cells": [
  {
   "cell_type": "markdown",
   "id": "5d6ee612",
   "metadata": {},
   "source": [
    "## Link prediction\n",
    "\n",
    "Task: http://ns-hseds.ddns.net/web/challenges/challenge-page/37/overview \n",
    "\n"
   ]
  },
  {
   "cell_type": "markdown",
   "id": "60081b3b",
   "metadata": {},
   "source": [
    "### Part 0. Uploading data"
   ]
  },
  {
   "cell_type": "code",
   "execution_count": 1,
   "id": "cae26460",
   "metadata": {},
   "outputs": [],
   "source": [
    "import numpy as np\n",
    "import pandas as pd\n",
    "import networkx as nx\n",
    "import matplotlib.pyplot as plt\n",
    "from collections import Counter\n",
    "from tqdm import tqdm\n",
    "from scipy.spatial.distance import cosine\n",
    "from sklearn.decomposition import PCA\n",
    "from sklearn.model_selection import cross_validate\n",
    "from sklearn.model_selection import cross_val_score\n",
    "import xgboost as xgb\n",
    "from xgboost import XGBClassifier"
   ]
  },
  {
   "cell_type": "code",
   "execution_count": 2,
   "id": "ac43d453",
   "metadata": {},
   "outputs": [],
   "source": [
    "f = open(\"node_feat.txt\", \"r\")\n",
    "lines = f.readlines()\n",
    "f.close()\n",
    "N = len(lines)\n",
    "emb = np.zeros((N, 32))\n",
    "for k in range(N):\n",
    "    emb[k] = [float(i) for i in lines[k][:-1].split()]\n",
    "f = open(\"train_edges.txt\", \"r\")\n",
    "lines = f.readlines()\n",
    "f.close()\n",
    "M = len(lines)\n",
    "train = np.zeros((M, 2), dtype='int16')\n",
    "for k in range(M):\n",
    "    train[k] = [int(i) for i in lines[k][:-1].split()]\n",
    "f = open(\"unlabeled_edges.txt\", \"r\")\n",
    "lines = f.readlines()\n",
    "f.close()\n",
    "L = len(lines)\n",
    "to_predict = np.zeros((L, 2), dtype='int16')\n",
    "for k in range(L):\n",
    "    to_predict[k] = [int(i) for i in lines[k][:-1].split()]"
   ]
  },
  {
   "cell_type": "code",
   "execution_count": 3,
   "id": "32be9183",
   "metadata": {},
   "outputs": [
    {
     "data": {
      "text/plain": [
       "((12588, 32), (14322, 2), (44014, 2))"
      ]
     },
     "execution_count": 3,
     "metadata": {},
     "output_type": "execute_result"
    }
   ],
   "source": [
    "emb.shape, train.shape, to_predict.shape"
   ]
  },
  {
   "cell_type": "markdown",
   "id": "e2d0518e",
   "metadata": {},
   "source": [
    "### Part 1. Secrets of the dataset\n",
    "\n",
    "Do you like video games where you need to explore the location, look for secrets, hints?\n",
    "\n",
    "Let's go back to childhood and find HESOYAM of this data."
   ]
  },
  {
   "cell_type": "markdown",
   "id": "46f817bf",
   "metadata": {},
   "source": [
    "#### 1.1. Ordinal numbers make sense"
   ]
  },
  {
   "cell_type": "markdown",
   "id": "150ce915",
   "metadata": {},
   "source": [
    "Let's look at the difference in the ordinal numbers of the edges."
   ]
  },
  {
   "cell_type": "code",
   "execution_count": 4,
   "id": "e82afbce",
   "metadata": {},
   "outputs": [],
   "source": [
    "diff = train[:,1] - train[:,0]"
   ]
  },
  {
   "cell_type": "code",
   "execution_count": 5,
   "id": "901cbb7d",
   "metadata": {},
   "outputs": [
    {
     "data": {
      "image/png": "[encoded data removed]",
      "text/plain": [
       "<Figure size 432x288 with 1 Axes>"
      ]
     },
     "metadata": {
      "needs_background": "light"
     },
     "output_type": "display_data"
    }
   ],
   "source": [
    "plt.hist(diff, bins=100)\n",
    "plt.title(\"diff\")\n",
    "plt.show()"
   ]
  },
  {
   "cell_type": "code",
   "execution_count": 6,
   "id": "328d5b00",
   "metadata": {},
   "outputs": [
    {
     "data": {
      "image/png": "[encoded data removed]",
      "text/plain": [
       "<Figure size 432x288 with 1 Axes>"
      ]
     },
     "metadata": {
      "needs_background": "light"
     },
     "output_type": "display_data"
    }
   ],
   "source": [
    "plt.hist(diff[diff>0], bins=100)\n",
    "plt.title(\"diff\")\n",
    "plt.show()"
   ]
  },
  {
   "cell_type": "code",
   "execution_count": 8,
   "id": "88d4fb4d",
   "metadata": {},
   "outputs": [
    {
     "data": {
      "image/png": "[encoded data removed]",
      "text/plain": [
       "<Figure size 432x288 with 1 Axes>"
      ]
     },
     "metadata": {
      "needs_background": "light"
     },
     "output_type": "display_data"
    }
   ],
   "source": [
    "plt.hist(diff[diff<0], bins=100)\n",
    "plt.title(\"diff\")\n",
    "plt.show()"
   ]
  },
  {
   "cell_type": "markdown",
   "id": "e67d708b",
   "metadata": {},
   "source": [
    "Conclusions:\n",
    "1. A lot of links have close ordinal numbers of the beginning and end.\n",
    "2. For all links diff > 1600. This is a very powerful knowledge.\n",
    "Let's use the decisive rule: diff > 1600 leads to a prediction of 0."
   ]
  },
  {
   "cell_type": "markdown",
   "id": "48e7fdf3",
   "metadata": {},
   "source": [
    "#### 1.2. Negative sampling as a killer feature"
   ]
  },
  {
   "cell_type": "markdown",
   "id": "08326f01",
   "metadata": {},
   "source": [
    "Two facts:\n",
    "1. If you pour into the system an answer consisting of all 1, the score will be 0.5. Not 0.500345! Exactly 0.5!\n",
    "2. Fix the starting node i. For ANY i it turns out that the file unlabeled_edges.txt contains an EVEN number of edges."
   ]
  },
  {
   "cell_type": "code",
   "execution_count": 10,
   "id": "872380b5",
   "metadata": {},
   "outputs": [],
   "source": [
    "for i in range(N):\n",
    "    if (to_predict[:,0] == i).sum() % 2 == 1:\n",
    "        print(i)"
   ]
  },
  {
   "cell_type": "markdown",
   "id": "0af306e4",
   "metadata": {},
   "source": [
    "And now let's read how the baselines were built.\n",
    "\n",
    "Grade 4: Concatenate node features and train Gradient Boosting with **negative sampling**.\n",
    "\n",
    "Grade 6: Train GNN with **negative sampling**. GNN consists of encoder and decoder. Encoder is two-layer GCN that takes node features and returns node emebeddings. Decoder is two-layer MLP that takes hadamart product of node embeddings and predicts links.\n",
    "\n",
    "This means that the compilers of the competition are very fond of **negative sampling**."
   ]
  },
  {
   "cell_type": "markdown",
   "id": "66085d79",
   "metadata": {},
   "source": [
    "This is very similar to the fact that the data was compiled by a method similar to negative sampling.\n",
    "\n",
    "This means that for any i, the number of edges (i, j) that are link and the number of edges (i, k) that are not link must be equal!"
   ]
  },
  {
   "cell_type": "markdown",
   "id": "8fa44cec",
   "metadata": {},
   "source": [
    "### Part 2. Features and model"
   ]
  },
  {
   "cell_type": "markdown",
   "id": "1bbd1b70",
   "metadata": {},
   "source": [
    "Let's briefly describe the action plan:\n",
    "\n",
    "1. We use as a fact that diff > 1600 automatically leads to a prediction of 0.\n",
    "2. We will predict the remaining edges using the model.\n",
    "3. We use negative sampling to train the model. In this case, negative examples will be generated taking into account the condition diff < 1600.\n",
    "4. The model should return the PROBABILITY that the edge is a reference.\n",
    "5. We will solve the ranking problem separately for each starting node. There are 2k edges in total for each starting node. The first k edges are assigned the value 1 by the probability of being a link, otherwise 0. So we solve the problem of ranking and we will use ROC AUC instead of accuracy measure."
   ]
  },
  {
   "cell_type": "code",
   "execution_count": 12,
   "id": "13cb18ee",
   "metadata": {},
   "outputs": [],
   "source": [
    "# negative sampling\n",
    "\n",
    "set_train = set()\n",
    "for i in range(M):\n",
    "    set_train.add(tuple(train[i]))\n",
    "set_predict = set()\n",
    "for i in range(L):\n",
    "    set_predict.add(tuple(to_predict[i]))\n",
    "y = np.zeros(2*M)\n",
    "for i in range(M):\n",
    "    y[i] = 1.0\n",
    "np.random.seed(42)\n",
    "neg_train = train.copy()\n",
    "for i in range(M):\n",
    "    while tuple(neg_train[i]) in set_train or tuple(neg_train[i]) in set_predict or neg_train[i][0] == neg_train[i][1] or neg_train[i][0] + 1600 < neg_train[i][1]:\n",
    "        neg_train[i][1] = np.random.randint(N)"
   ]
  },
  {
   "cell_type": "markdown",
   "id": "6623d9db",
   "metadata": {},
   "source": [
    "To reduce the dimension of embeddings, we will use PCA.\n",
    "\n",
    "Features:\n",
    "1. The difference of embeddings\n",
    "2. The product of embeddings\n",
    "3. Cosine distance between embedding\n",
    "4. Our favorite diff metric\n",
    "5. Frequency of occurrence of the end of the link. The idea is that there are popular works that are often referenced.\n",
    "\n",
    "6. Let G be a graph where nodes are nodes))) And the edges are known real links\n",
    "\n",
    "7. The length of the shortest path from the beginning of the edge to the end of the edge. Return 0 if the vertices belong to different connectivity components. When we consider this measure for real links, we must remove the edge corresponding to this link. Otherwise it will always get 1.\n",
    "The process of removing an edge is very long, so I use the pre-calculated values for this file."
   ]
  },
  {
   "cell_type": "code",
   "execution_count": 14,
   "id": "86162245",
   "metadata": {},
   "outputs": [],
   "source": [
    "num_link = np.zeros(N)\n",
    "for i in range(M):\n",
    "    num_link[train[i][1]] += 1\n",
    "for i in range(M):\n",
    "    num_link[neg_train[i][1]] += 1\n",
    "for i in range(L):\n",
    "    num_link[to_predict[i][1]] += 1\n",
    "\n",
    "G = nx.Graph()\n",
    "G.add_nodes_from(np.arange(N))\n",
    "G.add_edges_from(train)\n",
    "\n",
    "f = open(\"sh_path.txt\", \"r\")\n",
    "lines = f.readlines()\n",
    "f.close()\n",
    "sh_path = np.zeros(2 * M)\n",
    "for k in range(2*M):\n",
    "    sh_path[k] = int(lines[k][:-1])"
   ]
  },
  {
   "cell_type": "code",
   "execution_count": 16,
   "id": "b8d92cf2",
   "metadata": {},
   "outputs": [],
   "source": [
    "K = 20 # just empirical intuition\n",
    "pca = PCA(K)\n",
    "emb_pca = pca.fit_transform(emb)\n",
    "X = np.zeros((2*M, 2*K+4))\n",
    "for i in range(M):\n",
    "    X[i][:K] = emb_pca[train[i][1]] - emb_pca[train[i][0]]\n",
    "    X[i][K:2*K] = emb_pca[train[i][1]] * emb_pca[train[i][0]]\n",
    "    X[i][2*K] = cosine(emb[train[i][1]], emb[train[i][0]])\n",
    "    X[i][2*K+1] = train[i][1] - train[i][0]\n",
    "    X[i][2*K+2] = num_link[train[i][1]]\n",
    "    X[i][2*K+3] = sh_path[i]\n",
    "for i in range(M):\n",
    "    X[i + M][:K] = emb_pca[neg_train[i][1]] - emb_pca[neg_train[i][0]]\n",
    "    X[i + M][K:2*K] = emb_pca[neg_train[i][1]] * emb_pca[neg_train[i][0]]\n",
    "    X[i + M][2*K] = cosine(emb[neg_train[i][1]], emb[neg_train[i][0]])\n",
    "    X[i + M][2*K+1] = neg_train[i][1] - neg_train[i][0]\n",
    "    X[i + M][2*K+2] = num_link[neg_train[i][1]]\n",
    "    X[i + M][2*K+3] = sh_path[i + M]"
   ]
  },
  {
   "cell_type": "code",
   "execution_count": 17,
   "id": "6dab9a21",
   "metadata": {},
   "outputs": [
    {
     "data": {
      "text/plain": [
       "0.9075085190857664"
      ]
     },
     "execution_count": 17,
     "metadata": {},
     "output_type": "execute_result"
    }
   ],
   "source": [
    "model = XGBClassifier(objective='binary:logistic', eval_metric='auc', use_label_encoder = False)\n",
    "cross_val_score(model, X, y, cv=10, scoring='roc_auc').mean()"
   ]
  },
  {
   "cell_type": "markdown",
   "id": "b978ca9b",
   "metadata": {},
   "source": [
    "Wow, a great result!\n",
    "\n",
    "As you can see, I use XGBoost. This result can be improved by adjusting hyperparameters. This is a boring process, it is described here. https://russianblogs.com/article/2308221344/ I will only show my answer."
   ]
  },
  {
   "cell_type": "code",
   "execution_count": 18,
   "id": "da08e561",
   "metadata": {},
   "outputs": [
    {
     "data": {
      "text/plain": [
       "0.9013990101327017"
      ]
     },
     "execution_count": 18,
     "metadata": {},
     "output_type": "execute_result"
    }
   ],
   "source": [
    "model = XGBClassifier(\n",
    " learning_rate = 0.01,\n",
    " max_depth=5,\n",
    " min_child_weight=1,\n",
    " gamma=0.3,\n",
    " subsample=0.8,\n",
    " colsample_bytree=0.8,\n",
    " objective= 'binary:logistic', eval_metric='auc', use_label_encoder = False,\n",
    " nthread=4,\n",
    " scale_pos_weight=1, reg_alpha=7,\n",
    " seed=42)\n",
    "cross_val_score(model, X, y, cv=10, scoring='roc_auc').mean()"
   ]
  },
  {
   "cell_type": "markdown",
   "id": "ff52aa03",
   "metadata": {},
   "source": [
    "Now we write down the answer."
   ]
  },
  {
   "cell_type": "code",
   "execution_count": 19,
   "id": "fa084eee",
   "metadata": {},
   "outputs": [
    {
     "data": {
      "text/plain": [
       "XGBClassifier(base_score=0.5, booster='gbtree', colsample_bylevel=1,\n",
       "              colsample_bynode=1, colsample_bytree=0.8, eval_metric='auc',\n",
       "              gamma=0.3, gpu_id=-1, importance_type='gain',\n",
       "              interaction_constraints='', learning_rate=0.1, max_delta_step=0,\n",
       "              max_depth=5, min_child_weight=1, missing=nan,\n",
       "              monotone_constraints='()', n_estimators=100, n_jobs=4, nthread=4,\n",
       "              num_parallel_tree=1, random_state=42, reg_alpha=7, reg_lambda=1,\n",
       "              scale_pos_weight=1, seed=42, subsample=0.8, tree_method='exact',\n",
       "              use_label_encoder=False, validate_parameters=1, verbosity=None)"
      ]
     },
     "execution_count": 19,
     "metadata": {},
     "output_type": "execute_result"
    }
   ],
   "source": [
    "model = XGBClassifier(\n",
    " learning_rate = 0.1,\n",
    " max_depth=5,\n",
    " min_child_weight=1,\n",
    " gamma=0.3,\n",
    " subsample=0.8,\n",
    " colsample_bytree=0.8,\n",
    " objective= 'binary:logistic', eval_metric='auc', use_label_encoder = False,\n",
    " nthread=4,\n",
    " scale_pos_weight=1, reg_alpha=7,\n",
    " seed=42)\n",
    "model.fit(X, y)"
   ]
  },
  {
   "cell_type": "code",
   "execution_count": 20,
   "id": "1caacde3",
   "metadata": {},
   "outputs": [],
   "source": [
    "X_test = np.zeros((L, 2*K+4))\n",
    "for i in range(L):\n",
    "    X_test[i][:K] = emb_pca[to_predict[i][1]] - emb_pca[to_predict[i][0]]\n",
    "    X_test[i][K:2*K] = emb_pca[to_predict[i][1]] * emb_pca[to_predict[i][0]]\n",
    "    X_test[i][2*K] = cosine(emb[to_predict[i][1]], emb[to_predict[i][0]])\n",
    "    X_test[i][2*K+1] = to_predict[i][1] - to_predict[i][0]\n",
    "    X_test[i][2*K+2] = num_link[to_predict[i][1]]\n",
    "    if to_predict[i][1] in nx.node_connected_component(G, to_predict[i][0]):\n",
    "        X_test[i][2*K+3] = nx.shortest_path_length(G, to_predict[i][0], to_predict[i][1])"
   ]
  },
  {
   "cell_type": "code",
   "execution_count": 22,
   "id": "5414d97f",
   "metadata": {},
   "outputs": [],
   "source": [
    "start_nodes = to_predict[:,0]\n",
    "prob_zero = model.predict_proba(X_test)[:,0]\n",
    "answer = [1 for i in range(L)]\n",
    "for i in range(L):\n",
    "    if to_predict[i][1] - to_predict[i][0] > 1600:\n",
    "        answer[i] = 0\n",
    "for i in range(N):\n",
    "    where = np.where(start_nodes == i)[0]\n",
    "    S = 0\n",
    "    for k in where:\n",
    "        S += answer[k]\n",
    "    for _ in range(S - len(where) // 2):\n",
    "        Mx = 0.0\n",
    "        best_k = None\n",
    "        for k in where:\n",
    "            if answer[k] == 1 and prob_zero[k] > Mx:\n",
    "                Mx = prob_zero[k]\n",
    "                best_k = k\n",
    "        answer[best_k] = 0"
   ]
  },
  {
   "cell_type": "code",
   "execution_count": 24,
   "id": "0525d542",
   "metadata": {},
   "outputs": [
    {
     "data": {
      "text/plain": [
       "array([0, 0, 0, ..., 0, 0, 1])"
      ]
     },
     "execution_count": 24,
     "metadata": {},
     "output_type": "execute_result"
    }
   ],
   "source": [
    "np.array(answer)"
   ]
  },
  {
   "cell_type": "markdown",
   "id": "715f0346",
   "metadata": {},
   "source": [
    "Accuracy 0.926. Good result!)"
   ]
  },
  {
   "cell_type": "markdown",
   "id": "a62c8cd7",
   "metadata": {},
   "source": [
    "Thank you for your attention!"
   ]
  }
 ],
 "metadata": {
  "kernelspec": {
   "display_name": "Python 3 (ipykernel)",
   "language": "python",
   "name": "python3"
  },
  "language_info": {
   "codemirror_mode": {
    "name": "ipython",
    "version": 3
   },
   "file_extension": ".py",
   "mimetype": "text/x-python",
   "name": "python",
   "nbconvert_exporter": "python",
   "pygments_lexer": "ipython3",
   "version": "3.9.7"
  }
 },
 "nbformat": 4,
 "nbformat_minor": 5
}
