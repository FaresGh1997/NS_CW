{
  "cells": [
    {
      "cell_type": "markdown",
      "metadata": {
        "id": "rdT5X78peJXu"
      },
      "source": [
        "# Assignment — Knowledge graphs"
      ]
    },
    {
      "cell_type": "code",
      "execution_count": 192,
      "metadata": {
        "id": "6tNRVCujeJXx"
      },
      "outputs": [],
      "source": [
        "import pandas as pd\n",
        "from tqdm.notebook import tqdm, trange\n",
        "import numpy as np\n",
        "import requests\n",
        "pd.options.display.max_colwidth = 100\n",
        "from zlib import adler32"
      ]
    },
    {
      "cell_type": "markdown",
      "metadata": {
        "id": "lY0GE2bdeJXy"
      },
      "source": [
        "### Task 1. Freebase dataset (0.0 points)"
      ]
    },
    {
      "cell_type": "markdown",
      "metadata": {
        "id": "f6478877"
      },
      "source": [
        "In this assignment we will see how to use the [TorchKGE](https://github.com/torchkge-team/torchkge) library for building knowledge graphs and its embeddings. To begin with we are going to need a knowledge graph, so let us load a standard knowledge graph dataset called _Freebase-15k-237_."
      ]
    },
    {
      "cell_type": "code",
      "execution_count": 193,
      "metadata": {
        "id": "facb26f6"
      },
      "outputs": [],
      "source": [
        "df = pd.read_csv(\n",
        "    \"https://raw.githubusercontent.com/netspractice/network-science/main/datasets/freebase-237-merged-and-remapped.csv.gz\", \n",
        "    names=['h', 'r', 't'])"
      ]
    },
    {
      "cell_type": "code",
      "execution_count": 194,
      "metadata": {
        "id": "1d9db44d",
        "colab": {
          "base_uri": "https://localhost:8080/",
          "height": 363
        },
        "outputId": "df2aefda-0527-45ba-92fb-03b4a932496b"
      },
      "outputs": [
        {
          "output_type": "execute_result",
          "data": {
            "text/plain": [
              "                                                h  \\\n",
              "0     queens college, city university of new york   \n",
              "1103                                 sharon stone   \n",
              "2210                                        japan   \n",
              "3329                                     syphilis   \n",
              "4447                        michael carlisle hall   \n",
              "5555                          alice in wonderland   \n",
              "6653                                        nauru   \n",
              "7743                                   ben harper   \n",
              "8840              the perks of being a wallflower   \n",
              "9960                               vice president   \n",
              "\n",
              "                                                                                       r  \\\n",
              "0     /education/educational_institution/students_graduates./education/education/student   \n",
              "1103        /award/award_nominee/award_nominations./award/award_nomination/award_nominee   \n",
              "2210                                                           /location/country/capital   \n",
              "3329                                                      /medicine/disease/risk_factors   \n",
              "4447        /award/award_nominee/award_nominations./award/award_nomination/award_nominee   \n",
              "5555                                                                 /film/film/language   \n",
              "6653                                                 /location/country/official_language   \n",
              "7743                              /people/person/spouse_s./people/marriage/type_of_union   \n",
              "8840                                                                  /film/film/country   \n",
              "9960      /business/job_title/people_with_this_title./business/employment_tenure/company   \n",
              "\n",
              "                                t  \n",
              "0                    carol leifer  \n",
              "1103                 jacob vargas  \n",
              "2210                        tokyo  \n",
              "3329                         male  \n",
              "4447                  mena suvari  \n",
              "5555             english language  \n",
              "6653             english language  \n",
              "7743                     marriage  \n",
              "8840     united states of america  \n",
              "9960  scripps howard broadcasting  "
            ],
            "text/html": [
              "\n",
              "  <div id=\"df-f2dcced3-7dc2-4ccb-b3fe-dbd4da72b939\">\n",
              "    <div class=\"colab-df-container\">\n",
              "      <div>\n",
              "<style scoped>\n",
              "    .dataframe tbody tr th:only-of-type {\n",
              "        vertical-align: middle;\n",
              "    }\n",
              "\n",
              "    .dataframe tbody tr th {\n",
              "        vertical-align: top;\n",
              "    }\n",
              "\n",
              "    .dataframe thead th {\n",
              "        text-align: right;\n",
              "    }\n",
              "</style>\n",
              "<table border=\"1\" class=\"dataframe\">\n",
              "  <thead>\n",
              "    <tr style=\"text-align: right;\">\n",
              "      <th></th>\n",
              "      <th>h</th>\n",
              "      <th>r</th>\n",
              "      <th>t</th>\n",
              "    </tr>\n",
              "  </thead>\n",
              "  <tbody>\n",
              "    <tr>\n",
              "      <th>0</th>\n",
              "      <td>queens college, city university of new york</td>\n",
              "      <td>/education/educational_institution/students_graduates./education/education/student</td>\n",
              "      <td>carol leifer</td>\n",
              "    </tr>\n",
              "    <tr>\n",
              "      <th>1103</th>\n",
              "      <td>sharon stone</td>\n",
              "      <td>/award/award_nominee/award_nominations./award/award_nomination/award_nominee</td>\n",
              "      <td>jacob vargas</td>\n",
              "    </tr>\n",
              "    <tr>\n",
              "      <th>2210</th>\n",
              "      <td>japan</td>\n",
              "      <td>/location/country/capital</td>\n",
              "      <td>tokyo</td>\n",
              "    </tr>\n",
              "    <tr>\n",
              "      <th>3329</th>\n",
              "      <td>syphilis</td>\n",
              "      <td>/medicine/disease/risk_factors</td>\n",
              "      <td>male</td>\n",
              "    </tr>\n",
              "    <tr>\n",
              "      <th>4447</th>\n",
              "      <td>michael carlisle hall</td>\n",
              "      <td>/award/award_nominee/award_nominations./award/award_nomination/award_nominee</td>\n",
              "      <td>mena suvari</td>\n",
              "    </tr>\n",
              "    <tr>\n",
              "      <th>5555</th>\n",
              "      <td>alice in wonderland</td>\n",
              "      <td>/film/film/language</td>\n",
              "      <td>english language</td>\n",
              "    </tr>\n",
              "    <tr>\n",
              "      <th>6653</th>\n",
              "      <td>nauru</td>\n",
              "      <td>/location/country/official_language</td>\n",
              "      <td>english language</td>\n",
              "    </tr>\n",
              "    <tr>\n",
              "      <th>7743</th>\n",
              "      <td>ben harper</td>\n",
              "      <td>/people/person/spouse_s./people/marriage/type_of_union</td>\n",
              "      <td>marriage</td>\n",
              "    </tr>\n",
              "    <tr>\n",
              "      <th>8840</th>\n",
              "      <td>the perks of being a wallflower</td>\n",
              "      <td>/film/film/country</td>\n",
              "      <td>united states of america</td>\n",
              "    </tr>\n",
              "    <tr>\n",
              "      <th>9960</th>\n",
              "      <td>vice president</td>\n",
              "      <td>/business/job_title/people_with_this_title./business/employment_tenure/company</td>\n",
              "      <td>scripps howard broadcasting</td>\n",
              "    </tr>\n",
              "  </tbody>\n",
              "</table>\n",
              "</div>\n",
              "      <button class=\"colab-df-convert\" onclick=\"convertToInteractive('df-f2dcced3-7dc2-4ccb-b3fe-dbd4da72b939')\"\n",
              "              title=\"Convert this dataframe to an interactive table.\"\n",
              "              style=\"display:none;\">\n",
              "        \n",
              "  <svg xmlns=\"http://www.w3.org/2000/svg\" height=\"24px\"viewBox=\"0 0 24 24\"\n",
              "       width=\"24px\">\n",
              "    <path d=\"M0 0h24v24H0V0z\" fill=\"none\"/>\n",
              "    <path d=\"M18.56 5.44l.94 2.06.94-2.06 2.06-.94-2.06-.94-.94-2.06-.94 2.06-2.06.94zm-11 1L8.5 8.5l.94-2.06 2.06-.94-2.06-.94L8.5 2.5l-.94 2.06-2.06.94zm10 10l.94 2.06.94-2.06 2.06-.94-2.06-.94-.94-2.06-.94 2.06-2.06.94z\"/><path d=\"M17.41 7.96l-1.37-1.37c-.4-.4-.92-.59-1.43-.59-.52 0-1.04.2-1.43.59L10.3 9.45l-7.72 7.72c-.78.78-.78 2.05 0 2.83L4 21.41c.39.39.9.59 1.41.59.51 0 1.02-.2 1.41-.59l7.78-7.78 2.81-2.81c.8-.78.8-2.07 0-2.86zM5.41 20L4 18.59l7.72-7.72 1.47 1.35L5.41 20z\"/>\n",
              "  </svg>\n",
              "      </button>\n",
              "      \n",
              "  <style>\n",
              "    .colab-df-container {\n",
              "      display:flex;\n",
              "      flex-wrap:wrap;\n",
              "      gap: 12px;\n",
              "    }\n",
              "\n",
              "    .colab-df-convert {\n",
              "      background-color: #E8F0FE;\n",
              "      border: none;\n",
              "      border-radius: 50%;\n",
              "      cursor: pointer;\n",
              "      display: none;\n",
              "      fill: #1967D2;\n",
              "      height: 32px;\n",
              "      padding: 0 0 0 0;\n",
              "      width: 32px;\n",
              "    }\n",
              "\n",
              "    .colab-df-convert:hover {\n",
              "      background-color: #E2EBFA;\n",
              "      box-shadow: 0px 1px 2px rgba(60, 64, 67, 0.3), 0px 1px 3px 1px rgba(60, 64, 67, 0.15);\n",
              "      fill: #174EA6;\n",
              "    }\n",
              "\n",
              "    [theme=dark] .colab-df-convert {\n",
              "      background-color: #3B4455;\n",
              "      fill: #D2E3FC;\n",
              "    }\n",
              "\n",
              "    [theme=dark] .colab-df-convert:hover {\n",
              "      background-color: #434B5C;\n",
              "      box-shadow: 0px 1px 3px 1px rgba(0, 0, 0, 0.15);\n",
              "      filter: drop-shadow(0px 1px 2px rgba(0, 0, 0, 0.3));\n",
              "      fill: #FFFFFF;\n",
              "    }\n",
              "  </style>\n",
              "\n",
              "      <script>\n",
              "        const buttonEl =\n",
              "          document.querySelector('#df-f2dcced3-7dc2-4ccb-b3fe-dbd4da72b939 button.colab-df-convert');\n",
              "        buttonEl.style.display =\n",
              "          google.colab.kernel.accessAllowed ? 'block' : 'none';\n",
              "\n",
              "        async function convertToInteractive(key) {\n",
              "          const element = document.querySelector('#df-f2dcced3-7dc2-4ccb-b3fe-dbd4da72b939');\n",
              "          const dataTable =\n",
              "            await google.colab.kernel.invokeFunction('convertToInteractive',\n",
              "                                                     [key], {});\n",
              "          if (!dataTable) return;\n",
              "\n",
              "          const docLinkHtml = 'Like what you see? Visit the ' +\n",
              "            '<a target=\"_blank\" href=https://colab.research.google.com/notebooks/data_table.ipynb>data table notebook</a>'\n",
              "            + ' to learn more about interactive tables.';\n",
              "          element.innerHTML = '';\n",
              "          dataTable['output_type'] = 'display_data';\n",
              "          await google.colab.output.renderOutput(dataTable, element);\n",
              "          const docLink = document.createElement('div');\n",
              "          docLink.innerHTML = docLinkHtml;\n",
              "          element.appendChild(docLink);\n",
              "        }\n",
              "      </script>\n",
              "    </div>\n",
              "  </div>\n",
              "  "
            ]
          },
          "metadata": {},
          "execution_count": 194
        }
      ],
      "source": [
        "df = df[~df.h.str.startswith('/') & ~df.t.str.startswith('/')]\n",
        "df[::1000].head(10)"
      ]
    },
    {
      "cell_type": "markdown",
      "metadata": {
        "id": "1c6aaa64"
      },
      "source": [
        "There is h — head (also subject), r — relation (also predicat, label), t — tail (also object). The shape of the dataset is"
      ]
    },
    {
      "cell_type": "code",
      "execution_count": 195,
      "metadata": {
        "id": "a6f31676",
        "colab": {
          "base_uri": "https://localhost:8080/"
        },
        "outputId": "fba5c518-f5a3-4a52-9e32-fd6429d2e801"
      },
      "outputs": [
        {
          "output_type": "execute_result",
          "data": {
            "text/plain": [
              "(282560, 3)"
            ]
          },
          "metadata": {},
          "execution_count": 195
        }
      ],
      "source": [
        "df.shape"
      ]
    },
    {
      "cell_type": "markdown",
      "metadata": {
        "id": "b3f19608"
      },
      "source": [
        "Let us check the number of unique entities and unique relations.\n",
        "\n",
        "Write a funtion `n_ent_rel` that takes a dataset and returns a number of unique entities and unique relations.\n"
      ]
    },
    {
      "cell_type": "code",
      "execution_count": 196,
      "metadata": {
        "deletable": false,
        "nbgrader": {
          "cell_type": "code",
          "checksum": "e835a990ce88589b1e4baa4e213e5aed",
          "grade": false,
          "grade_id": "cell-a1c37b647b2bd8d4",
          "locked": false,
          "schema_version": 3,
          "solution": true,
          "task": false
        },
        "id": "4d3ccfb7"
      },
      "outputs": [],
      "source": [
        "def n_ent_rel(df):\n",
        "    heads_and_tails = set(df.h) | set(df.t)\n",
        "    tails = set(df.r)\n",
        "    return len(heads_and_tails), len(tails)"
      ]
    },
    {
      "cell_type": "code",
      "execution_count": 197,
      "metadata": {
        "deletable": false,
        "editable": false,
        "nbgrader": {
          "cell_type": "code",
          "checksum": "4c38a2775794c5a0dabc449667e27643",
          "grade": true,
          "grade_id": "cell-e297130eb1b840de",
          "locked": true,
          "points": 0,
          "schema_version": 3,
          "solution": false,
          "task": false
        },
        "id": "e185c183",
        "colab": {
          "base_uri": "https://localhost:8080/"
        },
        "outputId": "d00acd51-5c2a-4dba-8e63-2ab43c4b3395"
      },
      "outputs": [
        {
          "output_type": "execute_result",
          "data": {
            "text/plain": [
              "(13506, 228)"
            ]
          },
          "metadata": {},
          "execution_count": 197
        }
      ],
      "source": [
        "n_ent, n_rel = n_ent_rel(df)\n",
        "assert adler32(str(n_ent + n_ent).encode()) == 50266365\n",
        "n_ent, n_rel"
      ]
    },
    {
      "cell_type": "markdown",
      "metadata": {
        "id": "cae14cdb"
      },
      "source": [
        "We can look at all facts about any entity via pandas API"
      ]
    },
    {
      "cell_type": "code",
      "execution_count": 198,
      "metadata": {
        "id": "71697bdd",
        "colab": {
          "base_uri": "https://localhost:8080/",
          "height": 206
        },
        "outputId": "741a3ea9-8d8a-43ac-84ba-253d70506ff4"
      },
      "outputs": [
        {
          "output_type": "execute_result",
          "data": {
            "text/plain": [
              "                       h                                        r  \\\n",
              "4107   aleksandr pushkin                /people/person/profession   \n",
              "14992  aleksandr pushkin  /influence/influence_node/influenced_by   \n",
              "19525  aleksandr pushkin               /people/person/nationality   \n",
              "40237  aleksandr pushkin            /people/person/place_of_birth   \n",
              "47411  aleksandr pushkin  /influence/influence_node/influenced_by   \n",
              "\n",
              "                                t  \n",
              "4107                         poet  \n",
              "14992  johann wolfgang von goethe  \n",
              "19525              russian empire  \n",
              "40237                      moscow  \n",
              "47411         william shakespeare  "
            ],
            "text/html": [
              "\n",
              "  <div id=\"df-6965e68d-e664-4103-9bf4-66584028d035\">\n",
              "    <div class=\"colab-df-container\">\n",
              "      <div>\n",
              "<style scoped>\n",
              "    .dataframe tbody tr th:only-of-type {\n",
              "        vertical-align: middle;\n",
              "    }\n",
              "\n",
              "    .dataframe tbody tr th {\n",
              "        vertical-align: top;\n",
              "    }\n",
              "\n",
              "    .dataframe thead th {\n",
              "        text-align: right;\n",
              "    }\n",
              "</style>\n",
              "<table border=\"1\" class=\"dataframe\">\n",
              "  <thead>\n",
              "    <tr style=\"text-align: right;\">\n",
              "      <th></th>\n",
              "      <th>h</th>\n",
              "      <th>r</th>\n",
              "      <th>t</th>\n",
              "    </tr>\n",
              "  </thead>\n",
              "  <tbody>\n",
              "    <tr>\n",
              "      <th>4107</th>\n",
              "      <td>aleksandr pushkin</td>\n",
              "      <td>/people/person/profession</td>\n",
              "      <td>poet</td>\n",
              "    </tr>\n",
              "    <tr>\n",
              "      <th>14992</th>\n",
              "      <td>aleksandr pushkin</td>\n",
              "      <td>/influence/influence_node/influenced_by</td>\n",
              "      <td>johann wolfgang von goethe</td>\n",
              "    </tr>\n",
              "    <tr>\n",
              "      <th>19525</th>\n",
              "      <td>aleksandr pushkin</td>\n",
              "      <td>/people/person/nationality</td>\n",
              "      <td>russian empire</td>\n",
              "    </tr>\n",
              "    <tr>\n",
              "      <th>40237</th>\n",
              "      <td>aleksandr pushkin</td>\n",
              "      <td>/people/person/place_of_birth</td>\n",
              "      <td>moscow</td>\n",
              "    </tr>\n",
              "    <tr>\n",
              "      <th>47411</th>\n",
              "      <td>aleksandr pushkin</td>\n",
              "      <td>/influence/influence_node/influenced_by</td>\n",
              "      <td>william shakespeare</td>\n",
              "    </tr>\n",
              "  </tbody>\n",
              "</table>\n",
              "</div>\n",
              "      <button class=\"colab-df-convert\" onclick=\"convertToInteractive('df-6965e68d-e664-4103-9bf4-66584028d035')\"\n",
              "              title=\"Convert this dataframe to an interactive table.\"\n",
              "              style=\"display:none;\">\n",
              "        \n",
              "  <svg xmlns=\"http://www.w3.org/2000/svg\" height=\"24px\"viewBox=\"0 0 24 24\"\n",
              "       width=\"24px\">\n",
              "    <path d=\"M0 0h24v24H0V0z\" fill=\"none\"/>\n",
              "    <path d=\"M18.56 5.44l.94 2.06.94-2.06 2.06-.94-2.06-.94-.94-2.06-.94 2.06-2.06.94zm-11 1L8.5 8.5l.94-2.06 2.06-.94-2.06-.94L8.5 2.5l-.94 2.06-2.06.94zm10 10l.94 2.06.94-2.06 2.06-.94-2.06-.94-.94-2.06-.94 2.06-2.06.94z\"/><path d=\"M17.41 7.96l-1.37-1.37c-.4-.4-.92-.59-1.43-.59-.52 0-1.04.2-1.43.59L10.3 9.45l-7.72 7.72c-.78.78-.78 2.05 0 2.83L4 21.41c.39.39.9.59 1.41.59.51 0 1.02-.2 1.41-.59l7.78-7.78 2.81-2.81c.8-.78.8-2.07 0-2.86zM5.41 20L4 18.59l7.72-7.72 1.47 1.35L5.41 20z\"/>\n",
              "  </svg>\n",
              "      </button>\n",
              "      \n",
              "  <style>\n",
              "    .colab-df-container {\n",
              "      display:flex;\n",
              "      flex-wrap:wrap;\n",
              "      gap: 12px;\n",
              "    }\n",
              "\n",
              "    .colab-df-convert {\n",
              "      background-color: #E8F0FE;\n",
              "      border: none;\n",
              "      border-radius: 50%;\n",
              "      cursor: pointer;\n",
              "      display: none;\n",
              "      fill: #1967D2;\n",
              "      height: 32px;\n",
              "      padding: 0 0 0 0;\n",
              "      width: 32px;\n",
              "    }\n",
              "\n",
              "    .colab-df-convert:hover {\n",
              "      background-color: #E2EBFA;\n",
              "      box-shadow: 0px 1px 2px rgba(60, 64, 67, 0.3), 0px 1px 3px 1px rgba(60, 64, 67, 0.15);\n",
              "      fill: #174EA6;\n",
              "    }\n",
              "\n",
              "    [theme=dark] .colab-df-convert {\n",
              "      background-color: #3B4455;\n",
              "      fill: #D2E3FC;\n",
              "    }\n",
              "\n",
              "    [theme=dark] .colab-df-convert:hover {\n",
              "      background-color: #434B5C;\n",
              "      box-shadow: 0px 1px 3px 1px rgba(0, 0, 0, 0.15);\n",
              "      filter: drop-shadow(0px 1px 2px rgba(0, 0, 0, 0.3));\n",
              "      fill: #FFFFFF;\n",
              "    }\n",
              "  </style>\n",
              "\n",
              "      <script>\n",
              "        const buttonEl =\n",
              "          document.querySelector('#df-6965e68d-e664-4103-9bf4-66584028d035 button.colab-df-convert');\n",
              "        buttonEl.style.display =\n",
              "          google.colab.kernel.accessAllowed ? 'block' : 'none';\n",
              "\n",
              "        async function convertToInteractive(key) {\n",
              "          const element = document.querySelector('#df-6965e68d-e664-4103-9bf4-66584028d035');\n",
              "          const dataTable =\n",
              "            await google.colab.kernel.invokeFunction('convertToInteractive',\n",
              "                                                     [key], {});\n",
              "          if (!dataTable) return;\n",
              "\n",
              "          const docLinkHtml = 'Like what you see? Visit the ' +\n",
              "            '<a target=\"_blank\" href=https://colab.research.google.com/notebooks/data_table.ipynb>data table notebook</a>'\n",
              "            + ' to learn more about interactive tables.';\n",
              "          element.innerHTML = '';\n",
              "          dataTable['output_type'] = 'display_data';\n",
              "          await google.colab.output.renderOutput(dataTable, element);\n",
              "          const docLink = document.createElement('div');\n",
              "          docLink.innerHTML = docLinkHtml;\n",
              "          element.appendChild(docLink);\n",
              "        }\n",
              "      </script>\n",
              "    </div>\n",
              "  </div>\n",
              "  "
            ]
          },
          "metadata": {},
          "execution_count": 198
        }
      ],
      "source": [
        "df[df.h ==  'aleksandr pushkin'].head()"
      ]
    },
    {
      "cell_type": "code",
      "execution_count": 199,
      "metadata": {
        "id": "a9d4f918",
        "colab": {
          "base_uri": "https://localhost:8080/",
          "height": 81
        },
        "outputId": "e1f05ff1-0694-4323-e7d3-195e8e8aaf22"
      },
      "outputs": [
        {
          "output_type": "execute_result",
          "data": {
            "text/plain": [
              "                        h  \\\n",
              "145219  aleksandr pushkin   \n",
              "\n",
              "                                                                         r  \\\n",
              "145219  /influence/influence_node/peers./influence/peer_relationship/peers   \n",
              "\n",
              "                    t  \n",
              "145219  nikolai gogol  "
            ],
            "text/html": [
              "\n",
              "  <div id=\"df-f554fe45-387e-403e-a08f-57e71ea3d8d4\">\n",
              "    <div class=\"colab-df-container\">\n",
              "      <div>\n",
              "<style scoped>\n",
              "    .dataframe tbody tr th:only-of-type {\n",
              "        vertical-align: middle;\n",
              "    }\n",
              "\n",
              "    .dataframe tbody tr th {\n",
              "        vertical-align: top;\n",
              "    }\n",
              "\n",
              "    .dataframe thead th {\n",
              "        text-align: right;\n",
              "    }\n",
              "</style>\n",
              "<table border=\"1\" class=\"dataframe\">\n",
              "  <thead>\n",
              "    <tr style=\"text-align: right;\">\n",
              "      <th></th>\n",
              "      <th>h</th>\n",
              "      <th>r</th>\n",
              "      <th>t</th>\n",
              "    </tr>\n",
              "  </thead>\n",
              "  <tbody>\n",
              "    <tr>\n",
              "      <th>145219</th>\n",
              "      <td>aleksandr pushkin</td>\n",
              "      <td>/influence/influence_node/peers./influence/peer_relationship/peers</td>\n",
              "      <td>nikolai gogol</td>\n",
              "    </tr>\n",
              "  </tbody>\n",
              "</table>\n",
              "</div>\n",
              "      <button class=\"colab-df-convert\" onclick=\"convertToInteractive('df-f554fe45-387e-403e-a08f-57e71ea3d8d4')\"\n",
              "              title=\"Convert this dataframe to an interactive table.\"\n",
              "              style=\"display:none;\">\n",
              "        \n",
              "  <svg xmlns=\"http://www.w3.org/2000/svg\" height=\"24px\"viewBox=\"0 0 24 24\"\n",
              "       width=\"24px\">\n",
              "    <path d=\"M0 0h24v24H0V0z\" fill=\"none\"/>\n",
              "    <path d=\"M18.56 5.44l.94 2.06.94-2.06 2.06-.94-2.06-.94-.94-2.06-.94 2.06-2.06.94zm-11 1L8.5 8.5l.94-2.06 2.06-.94-2.06-.94L8.5 2.5l-.94 2.06-2.06.94zm10 10l.94 2.06.94-2.06 2.06-.94-2.06-.94-.94-2.06-.94 2.06-2.06.94z\"/><path d=\"M17.41 7.96l-1.37-1.37c-.4-.4-.92-.59-1.43-.59-.52 0-1.04.2-1.43.59L10.3 9.45l-7.72 7.72c-.78.78-.78 2.05 0 2.83L4 21.41c.39.39.9.59 1.41.59.51 0 1.02-.2 1.41-.59l7.78-7.78 2.81-2.81c.8-.78.8-2.07 0-2.86zM5.41 20L4 18.59l7.72-7.72 1.47 1.35L5.41 20z\"/>\n",
              "  </svg>\n",
              "      </button>\n",
              "      \n",
              "  <style>\n",
              "    .colab-df-container {\n",
              "      display:flex;\n",
              "      flex-wrap:wrap;\n",
              "      gap: 12px;\n",
              "    }\n",
              "\n",
              "    .colab-df-convert {\n",
              "      background-color: #E8F0FE;\n",
              "      border: none;\n",
              "      border-radius: 50%;\n",
              "      cursor: pointer;\n",
              "      display: none;\n",
              "      fill: #1967D2;\n",
              "      height: 32px;\n",
              "      padding: 0 0 0 0;\n",
              "      width: 32px;\n",
              "    }\n",
              "\n",
              "    .colab-df-convert:hover {\n",
              "      background-color: #E2EBFA;\n",
              "      box-shadow: 0px 1px 2px rgba(60, 64, 67, 0.3), 0px 1px 3px 1px rgba(60, 64, 67, 0.15);\n",
              "      fill: #174EA6;\n",
              "    }\n",
              "\n",
              "    [theme=dark] .colab-df-convert {\n",
              "      background-color: #3B4455;\n",
              "      fill: #D2E3FC;\n",
              "    }\n",
              "\n",
              "    [theme=dark] .colab-df-convert:hover {\n",
              "      background-color: #434B5C;\n",
              "      box-shadow: 0px 1px 3px 1px rgba(0, 0, 0, 0.15);\n",
              "      filter: drop-shadow(0px 1px 2px rgba(0, 0, 0, 0.3));\n",
              "      fill: #FFFFFF;\n",
              "    }\n",
              "  </style>\n",
              "\n",
              "      <script>\n",
              "        const buttonEl =\n",
              "          document.querySelector('#df-f554fe45-387e-403e-a08f-57e71ea3d8d4 button.colab-df-convert');\n",
              "        buttonEl.style.display =\n",
              "          google.colab.kernel.accessAllowed ? 'block' : 'none';\n",
              "\n",
              "        async function convertToInteractive(key) {\n",
              "          const element = document.querySelector('#df-f554fe45-387e-403e-a08f-57e71ea3d8d4');\n",
              "          const dataTable =\n",
              "            await google.colab.kernel.invokeFunction('convertToInteractive',\n",
              "                                                     [key], {});\n",
              "          if (!dataTable) return;\n",
              "\n",
              "          const docLinkHtml = 'Like what you see? Visit the ' +\n",
              "            '<a target=\"_blank\" href=https://colab.research.google.com/notebooks/data_table.ipynb>data table notebook</a>'\n",
              "            + ' to learn more about interactive tables.';\n",
              "          element.innerHTML = '';\n",
              "          dataTable['output_type'] = 'display_data';\n",
              "          await google.colab.output.renderOutput(dataTable, element);\n",
              "          const docLink = document.createElement('div');\n",
              "          docLink.innerHTML = docLinkHtml;\n",
              "          element.appendChild(docLink);\n",
              "        }\n",
              "      </script>\n",
              "    </div>\n",
              "  </div>\n",
              "  "
            ]
          },
          "metadata": {},
          "execution_count": 199
        }
      ],
      "source": [
        "df[(df.h ==  'aleksandr pushkin') & (df.t == 'nikolai gogol')]"
      ]
    },
    {
      "cell_type": "code",
      "execution_count": 200,
      "metadata": {
        "id": "7fb63604",
        "colab": {
          "base_uri": "https://localhost:8080/",
          "height": 112
        },
        "outputId": "3bd1e7fb-f654-461d-c45d-61185e0e8fbe"
      },
      "outputs": [
        {
          "output_type": "execute_result",
          "data": {
            "text/plain": [
              "                    h  \\\n",
              "86362   nikolai gogol   \n",
              "269512  nikolai gogol   \n",
              "\n",
              "                                                                         r  \\\n",
              "86362   /influence/influence_node/peers./influence/peer_relationship/peers   \n",
              "269512                             /influence/influence_node/influenced_by   \n",
              "\n",
              "                        t  \n",
              "86362   aleksandr pushkin  \n",
              "269512  aleksandr pushkin  "
            ],
            "text/html": [
              "\n",
              "  <div id=\"df-b855d91b-ed87-400f-8b67-e6bb84d9ae94\">\n",
              "    <div class=\"colab-df-container\">\n",
              "      <div>\n",
              "<style scoped>\n",
              "    .dataframe tbody tr th:only-of-type {\n",
              "        vertical-align: middle;\n",
              "    }\n",
              "\n",
              "    .dataframe tbody tr th {\n",
              "        vertical-align: top;\n",
              "    }\n",
              "\n",
              "    .dataframe thead th {\n",
              "        text-align: right;\n",
              "    }\n",
              "</style>\n",
              "<table border=\"1\" class=\"dataframe\">\n",
              "  <thead>\n",
              "    <tr style=\"text-align: right;\">\n",
              "      <th></th>\n",
              "      <th>h</th>\n",
              "      <th>r</th>\n",
              "      <th>t</th>\n",
              "    </tr>\n",
              "  </thead>\n",
              "  <tbody>\n",
              "    <tr>\n",
              "      <th>86362</th>\n",
              "      <td>nikolai gogol</td>\n",
              "      <td>/influence/influence_node/peers./influence/peer_relationship/peers</td>\n",
              "      <td>aleksandr pushkin</td>\n",
              "    </tr>\n",
              "    <tr>\n",
              "      <th>269512</th>\n",
              "      <td>nikolai gogol</td>\n",
              "      <td>/influence/influence_node/influenced_by</td>\n",
              "      <td>aleksandr pushkin</td>\n",
              "    </tr>\n",
              "  </tbody>\n",
              "</table>\n",
              "</div>\n",
              "      <button class=\"colab-df-convert\" onclick=\"convertToInteractive('df-b855d91b-ed87-400f-8b67-e6bb84d9ae94')\"\n",
              "              title=\"Convert this dataframe to an interactive table.\"\n",
              "              style=\"display:none;\">\n",
              "        \n",
              "  <svg xmlns=\"http://www.w3.org/2000/svg\" height=\"24px\"viewBox=\"0 0 24 24\"\n",
              "       width=\"24px\">\n",
              "    <path d=\"M0 0h24v24H0V0z\" fill=\"none\"/>\n",
              "    <path d=\"M18.56 5.44l.94 2.06.94-2.06 2.06-.94-2.06-.94-.94-2.06-.94 2.06-2.06.94zm-11 1L8.5 8.5l.94-2.06 2.06-.94-2.06-.94L8.5 2.5l-.94 2.06-2.06.94zm10 10l.94 2.06.94-2.06 2.06-.94-2.06-.94-.94-2.06-.94 2.06-2.06.94z\"/><path d=\"M17.41 7.96l-1.37-1.37c-.4-.4-.92-.59-1.43-.59-.52 0-1.04.2-1.43.59L10.3 9.45l-7.72 7.72c-.78.78-.78 2.05 0 2.83L4 21.41c.39.39.9.59 1.41.59.51 0 1.02-.2 1.41-.59l7.78-7.78 2.81-2.81c.8-.78.8-2.07 0-2.86zM5.41 20L4 18.59l7.72-7.72 1.47 1.35L5.41 20z\"/>\n",
              "  </svg>\n",
              "      </button>\n",
              "      \n",
              "  <style>\n",
              "    .colab-df-container {\n",
              "      display:flex;\n",
              "      flex-wrap:wrap;\n",
              "      gap: 12px;\n",
              "    }\n",
              "\n",
              "    .colab-df-convert {\n",
              "      background-color: #E8F0FE;\n",
              "      border: none;\n",
              "      border-radius: 50%;\n",
              "      cursor: pointer;\n",
              "      display: none;\n",
              "      fill: #1967D2;\n",
              "      height: 32px;\n",
              "      padding: 0 0 0 0;\n",
              "      width: 32px;\n",
              "    }\n",
              "\n",
              "    .colab-df-convert:hover {\n",
              "      background-color: #E2EBFA;\n",
              "      box-shadow: 0px 1px 2px rgba(60, 64, 67, 0.3), 0px 1px 3px 1px rgba(60, 64, 67, 0.15);\n",
              "      fill: #174EA6;\n",
              "    }\n",
              "\n",
              "    [theme=dark] .colab-df-convert {\n",
              "      background-color: #3B4455;\n",
              "      fill: #D2E3FC;\n",
              "    }\n",
              "\n",
              "    [theme=dark] .colab-df-convert:hover {\n",
              "      background-color: #434B5C;\n",
              "      box-shadow: 0px 1px 3px 1px rgba(0, 0, 0, 0.15);\n",
              "      filter: drop-shadow(0px 1px 2px rgba(0, 0, 0, 0.3));\n",
              "      fill: #FFFFFF;\n",
              "    }\n",
              "  </style>\n",
              "\n",
              "      <script>\n",
              "        const buttonEl =\n",
              "          document.querySelector('#df-b855d91b-ed87-400f-8b67-e6bb84d9ae94 button.colab-df-convert');\n",
              "        buttonEl.style.display =\n",
              "          google.colab.kernel.accessAllowed ? 'block' : 'none';\n",
              "\n",
              "        async function convertToInteractive(key) {\n",
              "          const element = document.querySelector('#df-b855d91b-ed87-400f-8b67-e6bb84d9ae94');\n",
              "          const dataTable =\n",
              "            await google.colab.kernel.invokeFunction('convertToInteractive',\n",
              "                                                     [key], {});\n",
              "          if (!dataTable) return;\n",
              "\n",
              "          const docLinkHtml = 'Like what you see? Visit the ' +\n",
              "            '<a target=\"_blank\" href=https://colab.research.google.com/notebooks/data_table.ipynb>data table notebook</a>'\n",
              "            + ' to learn more about interactive tables.';\n",
              "          element.innerHTML = '';\n",
              "          dataTable['output_type'] = 'display_data';\n",
              "          await google.colab.output.renderOutput(dataTable, element);\n",
              "          const docLink = document.createElement('div');\n",
              "          docLink.innerHTML = docLinkHtml;\n",
              "          element.appendChild(docLink);\n",
              "        }\n",
              "      </script>\n",
              "    </div>\n",
              "  </div>\n",
              "  "
            ]
          },
          "metadata": {},
          "execution_count": 200
        }
      ],
      "source": [
        "df[(df.h ==  'nikolai gogol') & (df.t == 'aleksandr pushkin')]"
      ]
    },
    {
      "cell_type": "markdown",
      "metadata": {
        "id": "dc9bdf03"
      },
      "source": [
        "Let us try to find some facts in this dataset. For example, what is Harrison Ford's nationality? (\"harrison ford\" in the dataset)\n",
        "\n",
        "Write a function `harrison_ford_nationality` that takes a dataset and returns the nationality.\n",
        "\n",
        "_Hint: use `pandas.Series.str.contains` method_"
      ]
    },
    {
      "cell_type": "code",
      "execution_count": 201,
      "metadata": {
        "deletable": false,
        "nbgrader": {
          "cell_type": "code",
          "checksum": "4f23d23c2036f17a865ee09c5de46253",
          "grade": false,
          "grade_id": "cell-bf2eb40c10e9971d",
          "locked": false,
          "schema_version": 3,
          "solution": true,
          "task": false
        },
        "id": "4e6bb702"
      },
      "outputs": [],
      "source": [
        "def harrison_ford_nationality(df):\n",
        "    f = (df.h == \"harrison ford\") & (df.r.str.contains(\"nationality\"))\n",
        "    tmp = df[f]\n",
        "    return tmp.iloc[0].t"
      ]
    },
    {
      "cell_type": "code",
      "execution_count": 202,
      "metadata": {
        "deletable": false,
        "editable": false,
        "nbgrader": {
          "cell_type": "code",
          "checksum": "33ecca395ecdf947984d8d303239d6e8",
          "grade": true,
          "grade_id": "cell-e20681a97039cdf6",
          "locked": true,
          "points": 0,
          "schema_version": 3,
          "solution": false,
          "task": false
        },
        "id": "4320c1f6",
        "colab": {
          "base_uri": "https://localhost:8080/",
          "height": 35
        },
        "outputId": "7373d8c5-f4f5-40b9-e265-9beb0cb15c80"
      },
      "outputs": [
        {
          "output_type": "execute_result",
          "data": {
            "text/plain": [
              "'united states of america'"
            ],
            "application/vnd.google.colaboratory.intrinsic+json": {
              "type": "string"
            }
          },
          "metadata": {},
          "execution_count": 202
        }
      ],
      "source": [
        "assert adler32(harrison_ford_nationality(df).encode()) == 1948191013\n",
        "harrison_ford_nationality(df)"
      ]
    },
    {
      "cell_type": "markdown",
      "metadata": {
        "id": "473842ae"
      },
      "source": [
        "More tricky question: who are film directors of movies where Harrison Ford was?\n",
        "\n",
        "Write a function `made_films_with_harrison_ford` that returns a set of directors' names."
      ]
    },
    {
      "cell_type": "code",
      "execution_count": 203,
      "metadata": {
        "deletable": false,
        "nbgrader": {
          "cell_type": "code",
          "checksum": "ac4a71f632063e89560fc4127de263b1",
          "grade": false,
          "grade_id": "cell-7ea1e48135c759d5",
          "locked": false,
          "schema_version": 3,
          "solution": true,
          "task": false
        },
        "id": "2f0f48bf"
      },
      "outputs": [],
      "source": [
        "def made_films_with_harrison_ford(df):\n",
        "    f = (df.h == \"harrison ford\") & df.r.str.contains(\"actor\")\n",
        "    set_of_films_with_ford = set(df[f].t)\n",
        "    f = df.t.isin(set_of_films_with_ford) & df.r.str.contains(\"director\")\n",
        "    return set(df[f].h)\n"
      ]
    },
    {
      "cell_type": "code",
      "execution_count": 204,
      "metadata": {
        "deletable": false,
        "editable": false,
        "nbgrader": {
          "cell_type": "code",
          "checksum": "2eb7754948b26f5dd5ea253755fa788b",
          "grade": true,
          "grade_id": "cell-f3dbc03094dcbb5b",
          "locked": true,
          "points": 0,
          "schema_version": 3,
          "solution": false,
          "task": false
        },
        "id": "57e619bd",
        "colab": {
          "base_uri": "https://localhost:8080/"
        },
        "outputId": "659f48b9-c689-4a16-8635-0aec52ec9c4b"
      },
      "outputs": [
        {
          "output_type": "execute_result",
          "data": {
            "text/plain": [
              "{'francis ford coppola',\n",
              " 'george lucas',\n",
              " 'jon favreau filmography',\n",
              " 'kathryn bigelow',\n",
              " 'mike nichols',\n",
              " 'ridley scott',\n",
              " 'robert zemeckis',\n",
              " 'steven spielberg'}"
            ]
          },
          "metadata": {},
          "execution_count": 204
        }
      ],
      "source": [
        "directors = made_films_with_harrison_ford(df)\n",
        "assert adler32(str(sorted(directors)).encode()) == 3798415057\n",
        "directors"
      ]
    },
    {
      "cell_type": "markdown",
      "metadata": {
        "id": "mUsxUpjoeJX6"
      },
      "source": [
        "### Task 2. Translation models (0.0 points)"
      ]
    },
    {
      "cell_type": "markdown",
      "metadata": {
        "id": "4b1fe0e9"
      },
      "source": [
        "TransE (translations in the embedding space) is a method which models relationships by interpreting them as translations operating on the low-dimensional embeddings of the entities.\n",
        "\n",
        "Let us implement the model using TorchKGE — a Python module for knowledge graph embedding relying solely on Pytorch."
      ]
    },
    {
      "cell_type": "code",
      "execution_count": 205,
      "metadata": {
        "id": "d59878ae",
        "colab": {
          "base_uri": "https://localhost:8080/"
        },
        "outputId": "33d96b3d-1b8c-4b3d-f1d8-a8a43420626f"
      },
      "outputs": [
        {
          "output_type": "stream",
          "name": "stdout",
          "text": [
            "Looking in indexes: https://pypi.org/simple, https://us-python.pkg.dev/colab-wheels/public/simple/\n",
            "Requirement already satisfied: torchkge==0.16.25 in /usr/local/lib/python3.7/dist-packages (0.16.25)\n",
            "Requirement already satisfied: pandas in /usr/local/lib/python3.7/dist-packages (from torchkge==0.16.25) (1.3.5)\n",
            "Requirement already satisfied: torch>=1.2.0 in /usr/local/lib/python3.7/dist-packages (from torchkge==0.16.25) (1.11.0+cu113)\n",
            "Requirement already satisfied: tqdm in /usr/local/lib/python3.7/dist-packages (from torchkge==0.16.25) (4.64.0)\n",
            "Requirement already satisfied: typing-extensions in /usr/local/lib/python3.7/dist-packages (from torch>=1.2.0->torchkge==0.16.25) (4.2.0)\n",
            "Requirement already satisfied: numpy>=1.17.3 in /usr/local/lib/python3.7/dist-packages (from pandas->torchkge==0.16.25) (1.21.6)\n",
            "Requirement already satisfied: pytz>=2017.3 in /usr/local/lib/python3.7/dist-packages (from pandas->torchkge==0.16.25) (2022.1)\n",
            "Requirement already satisfied: python-dateutil>=2.7.3 in /usr/local/lib/python3.7/dist-packages (from pandas->torchkge==0.16.25) (2.8.2)\n",
            "Requirement already satisfied: six>=1.5 in /usr/local/lib/python3.7/dist-packages (from python-dateutil>=2.7.3->pandas->torchkge==0.16.25) (1.15.0)\n"
          ]
        }
      ],
      "source": [
        "!pip install torchkge==0.16.25 "
      ]
    },
    {
      "cell_type": "code",
      "execution_count": 206,
      "metadata": {
        "id": "ca8a243b"
      },
      "outputs": [],
      "source": [
        "import torch\n",
        "from torch import nn\n",
        "import torch.nn.functional as F\n",
        "from torchkge import KnowledgeGraph\n",
        "from torchkge.utils import Trainer\n",
        "from torchkge.evaluation import LinkPredictionEvaluator\n",
        "from torchkge.models.interfaces import TranslationModel\n",
        "from torch.nn.init import xavier_uniform_"
      ]
    },
    {
      "cell_type": "markdown",
      "metadata": {
        "id": "913de2fd"
      },
      "source": [
        "<img src='https://github.com/netspractice/ml-on-graphs/raw/main/assignment_knowledge_graph_embedding/kge.png' width=300>"
      ]
    },
    {
      "cell_type": "markdown",
      "metadata": {
        "id": "d24c0ca2"
      },
      "source": [
        "The basic idea behind the model is that the functional relation induced by the $r$-labeled edges corresponds to a translation of the embeddings, i.e. we want that $h + r \\approx t$ when ($h$, $r$, $t$) holds ($t$ should be a nearest neighbor of $h + r$), while $h + r$ should be far away from $t$ otherwise. Thereby, TransE scoring function is negative distance between $h+r$ and $t$\n",
        "\n",
        "$$f(h, r, t) = -||h + r - t||$$\n",
        "\n",
        "where $||\\cdot||$ is L1 or L2 norm. The goal of the optimization procedure is learning optimal embeddings, such that the scoring function is able to assign high scores to positive statements and low scores to statements unlikely to be true. The most common loss function is Margin Loss that can be represented as\n",
        "\n",
        "$$L = \\text{ReLU}\\left(\\gamma - f(h, r, t) + f(h', r, t')\\right)$$\n",
        "\n",
        "where $\\gamma > 0$ is a \"margin\" hyperparameter, the triplet $(h, r, t)$ is in a training set (positive) and the $(h', r, t')$ is in a set of *corrupted* (negative) triplets, that are composed of training triplets with either the head or tail replaced by a random entity (but not both at the same time)."
      ]
    },
    {
      "cell_type": "markdown",
      "metadata": {
        "id": "87808531"
      },
      "source": [
        "We will use TorchKGE TranslationModel as a base for TransE class, here are some auxiliary methods: \n",
        "\n",
        "* `normalize_parameters` applies `L2` normalization for training stability\n",
        "* `get_embeddings` returns the tensors representing entities and relations\n",
        "* `lp_prep_cands` gets entities and relations embeddings for link prediction training process\n",
        "* `forward` returns scores for positive triplets (`h`, `r`, `t`) and negative triplets (`nh`, `r`, `nt`)"
      ]
    },
    {
      "cell_type": "code",
      "execution_count": 207,
      "metadata": {
        "id": "7280f803"
      },
      "outputs": [],
      "source": [
        "class BaseTransE(TranslationModel):\n",
        "    def __init__(self, num_entities, num_relations, dim=100):\n",
        "        super(BaseTransE, self).__init__(num_entities, num_relations, dissimilarity_type='L2')\n",
        "        self.num_entities = num_entities\n",
        "        self.num_relations = num_relations\n",
        "        self.dim = dim\n",
        "        self.ent_embeddings = nn.Embedding(num_entities, self.dim)\n",
        "        self.rel_embeddings = nn.Embedding(num_relations, self.dim)\n",
        "        \n",
        "    def normalize_parameters(self):\n",
        "        self.ent_embeddings.weight.data = F.normalize(self.ent_embeddings.weight.data, p=2, dim=1)\n",
        "\n",
        "    def get_embeddings(self):\n",
        "        self.normalize_parameters()\n",
        "        return self.ent_embeddings.weight.data, self.rel_embeddings.weight.data\n",
        "        \n",
        "    def lp_prep_cands(self, h_idx, t_idx, r_idx):\n",
        "        b_size = h_idx.shape[0]\n",
        "\n",
        "        h_emb = self.ent_embeddings(h_idx)\n",
        "        t_emb = self.ent_embeddings(t_idx)\n",
        "        r_emb = self.rel_embeddings(r_idx)\n",
        "\n",
        "        candidates = self.ent_embeddings.weight.data.view(1, self.num_entities, self.dim)\n",
        "        candidates = candidates.expand(b_size, self.num_entities, self.dim)\n",
        "\n",
        "        return h_emb, t_emb, candidates, r_emb\n",
        "    \n",
        "    def forward(self, h, t, nh, nt, r):\n",
        "        return self.scoring_function(h, t, r), self.scoring_function(nh, nt, r)"
      ]
    },
    {
      "cell_type": "markdown",
      "metadata": {
        "id": "ca3ee02b"
      },
      "source": [
        "Write a function `scoring_function` that takes a tensor `h`, `t`, `r` with triplets of the shape (number of triplets) and returns its L2 scores. For training stability, apply L2 normalization (`F.normalize`  with `p=2`) on entities embeddings before computing the scores. Note that `h`, `t`, `r` are tensors with integer IDs of entities and relations."
      ]
    },
    {
      "cell_type": "code",
      "execution_count": 208,
      "metadata": {
        "deletable": false,
        "nbgrader": {
          "cell_type": "code",
          "checksum": "b28acb89a574281b6b491dc2a892fa97",
          "grade": false,
          "grade_id": "cell-10c450a856899a4f",
          "locked": false,
          "schema_version": 3,
          "solution": true,
          "task": false
        },
        "id": "d0011822"
      },
      "outputs": [],
      "source": [
        "class TransE(BaseTransE):\n",
        "    def scoring_function(self, h, t, r):\n",
        "        h_emb = self.ent_embeddings(h)\n",
        "        t_emb = self.ent_embeddings(t)\n",
        "        r_emb = self.rel_embeddings(r)\n",
        "\n",
        "        h_emb = F.normalize(h_emb, p=2, dim=1)\n",
        "        t_emb = F.normalize(t_emb, p=2, dim=1)\n",
        "        score = (h_emb + r_emb) - t_emb\n",
        "        return -torch.norm(score, p=2, dim=1)"
      ]
    },
    {
      "cell_type": "code",
      "execution_count": 209,
      "metadata": {
        "deletable": false,
        "editable": false,
        "nbgrader": {
          "cell_type": "code",
          "checksum": "cbdaf22fe01f7bfe4d19358cfa593ddf",
          "grade": true,
          "grade_id": "cell-89f5ccbf84380079",
          "locked": true,
          "points": 0,
          "schema_version": 3,
          "solution": false,
          "task": false
        },
        "id": "fdd6e41d"
      },
      "outputs": [],
      "source": [
        "model = TransE(num_entities=5, num_relations=2, dim=2)\n",
        "\n",
        "h = torch.LongTensor([1, 1, 1])\n",
        "r = torch.LongTensor([0, 1, 1])\n",
        "t = torch.LongTensor([2, 2, 3])\n",
        "\n",
        "with torch.no_grad():\n",
        "    scores = model.scoring_function(h, t, r).numpy()\n",
        "assert scores.shape == (3, ) # 3 triplets"
      ]
    },
    {
      "cell_type": "markdown",
      "metadata": {
        "id": "1460dae6"
      },
      "source": [
        "Complete the class `MarginLoss` so that computes the losses among scores and returns an average loss. Positive and negative scores are tensors of the shape (number of triplets)."
      ]
    },
    {
      "cell_type": "code",
      "execution_count": 210,
      "metadata": {
        "deletable": false,
        "nbgrader": {
          "cell_type": "code",
          "checksum": "e152703e15d1c0adb58fa5f20649adcc",
          "grade": false,
          "grade_id": "cell-3fb7cb717cb420cb",
          "locked": false,
          "schema_version": 3,
          "solution": true,
          "task": false
        },
        "id": "6996f6b3"
      },
      "outputs": [],
      "source": [
        "class MarginLoss(nn.Module):\n",
        "    def __init__(self, margin):\n",
        "        super().__init__()\n",
        "        self.margin = margin\n",
        "    def forward(self, positive_scores, negative_scores):\n",
        "        return F.relu(self.margin - positive_scores + negative_scores).mean()"
      ]
    },
    {
      "cell_type": "code",
      "execution_count": 211,
      "metadata": {
        "deletable": false,
        "editable": false,
        "nbgrader": {
          "cell_type": "code",
          "checksum": "ddad8c020d3e0fe7112475c8f7a059fd",
          "grade": true,
          "grade_id": "cell-b28b48d0354bf7be",
          "locked": true,
          "points": 0,
          "schema_version": 3,
          "solution": false,
          "task": false
        },
        "id": "1c789666"
      },
      "outputs": [],
      "source": [
        "loss_fn = MarginLoss(margin=0.5)\n",
        "torch.manual_seed(0)\n",
        "positive_scores = torch.randn(8)\n",
        "negative_scores = torch.randn(8)\n",
        "loss = loss_fn(positive_scores, negative_scores)\n",
        "assert loss.shape == torch.Size([])\n",
        "assert round(loss.item(), 2) == 0.79"
      ]
    },
    {
      "cell_type": "markdown",
      "metadata": {
        "id": "40e66c15"
      },
      "source": [
        "Let us look at the WikiDataSet that presents country-specific subgraphs of Wikidata."
      ]
    },
    {
      "cell_type": "code",
      "execution_count": 212,
      "metadata": {
        "id": "39f768ae"
      },
      "outputs": [],
      "source": [
        "url = 'https://raw.githubusercontent.com/netspractice/network-science/main/datasets/countries_edges.tsv'\n",
        "open('countries_edges.tsv', 'wb').write(requests.get(url).content)\n",
        "url = 'https://raw.githubusercontent.com/netspractice/network-science/main/datasets/countries_entities.tsv'\n",
        "open('countries_entities.tsv', 'wb').write(requests.get(url).content)\n",
        "url = 'https://raw.githubusercontent.com/netspractice/network-science/main/datasets/countries_relations.tsv'\n",
        "open('countries_relations.tsv', 'wb').write(requests.get(url).content);"
      ]
    },
    {
      "cell_type": "code",
      "execution_count": 213,
      "metadata": {
        "id": "6430aa5b"
      },
      "outputs": [],
      "source": [
        "edges = pd.read_csv('countries_edges.tsv', sep='\t').values\n",
        "entity_labels = pd.read_csv('countries_entities.tsv', sep='\t', index_col=0).label.values\n",
        "relation_labels = pd.read_csv('countries_relations.tsv', sep='\t', index_col=0).label.values"
      ]
    },
    {
      "cell_type": "code",
      "execution_count": 214,
      "metadata": {
        "id": "cac5db83",
        "colab": {
          "base_uri": "https://localhost:8080/",
          "height": 206
        },
        "outputId": "0f7b7cb3-4aa4-48f9-d13f-1ffc9d2f11f3"
      },
      "outputs": [
        {
          "output_type": "execute_result",
          "data": {
            "text/plain": [
              "         h                    r              t\n",
              "0  Belgium              country        Belgium\n",
              "1  Belgium  diplomatic relation     Luxembourg\n",
              "2  Belgium  diplomatic relation          Italy\n",
              "3  Belgium  diplomatic relation        Germany\n",
              "4  Belgium  diplomatic relation  Liechtenstein"
            ],
            "text/html": [
              "\n",
              "  <div id=\"df-24ce8208-516d-42d1-9c51-40b021335267\">\n",
              "    <div class=\"colab-df-container\">\n",
              "      <div>\n",
              "<style scoped>\n",
              "    .dataframe tbody tr th:only-of-type {\n",
              "        vertical-align: middle;\n",
              "    }\n",
              "\n",
              "    .dataframe tbody tr th {\n",
              "        vertical-align: top;\n",
              "    }\n",
              "\n",
              "    .dataframe thead th {\n",
              "        text-align: right;\n",
              "    }\n",
              "</style>\n",
              "<table border=\"1\" class=\"dataframe\">\n",
              "  <thead>\n",
              "    <tr style=\"text-align: right;\">\n",
              "      <th></th>\n",
              "      <th>h</th>\n",
              "      <th>r</th>\n",
              "      <th>t</th>\n",
              "    </tr>\n",
              "  </thead>\n",
              "  <tbody>\n",
              "    <tr>\n",
              "      <th>0</th>\n",
              "      <td>Belgium</td>\n",
              "      <td>country</td>\n",
              "      <td>Belgium</td>\n",
              "    </tr>\n",
              "    <tr>\n",
              "      <th>1</th>\n",
              "      <td>Belgium</td>\n",
              "      <td>diplomatic relation</td>\n",
              "      <td>Luxembourg</td>\n",
              "    </tr>\n",
              "    <tr>\n",
              "      <th>2</th>\n",
              "      <td>Belgium</td>\n",
              "      <td>diplomatic relation</td>\n",
              "      <td>Italy</td>\n",
              "    </tr>\n",
              "    <tr>\n",
              "      <th>3</th>\n",
              "      <td>Belgium</td>\n",
              "      <td>diplomatic relation</td>\n",
              "      <td>Germany</td>\n",
              "    </tr>\n",
              "    <tr>\n",
              "      <th>4</th>\n",
              "      <td>Belgium</td>\n",
              "      <td>diplomatic relation</td>\n",
              "      <td>Liechtenstein</td>\n",
              "    </tr>\n",
              "  </tbody>\n",
              "</table>\n",
              "</div>\n",
              "      <button class=\"colab-df-convert\" onclick=\"convertToInteractive('df-24ce8208-516d-42d1-9c51-40b021335267')\"\n",
              "              title=\"Convert this dataframe to an interactive table.\"\n",
              "              style=\"display:none;\">\n",
              "        \n",
              "  <svg xmlns=\"http://www.w3.org/2000/svg\" height=\"24px\"viewBox=\"0 0 24 24\"\n",
              "       width=\"24px\">\n",
              "    <path d=\"M0 0h24v24H0V0z\" fill=\"none\"/>\n",
              "    <path d=\"M18.56 5.44l.94 2.06.94-2.06 2.06-.94-2.06-.94-.94-2.06-.94 2.06-2.06.94zm-11 1L8.5 8.5l.94-2.06 2.06-.94-2.06-.94L8.5 2.5l-.94 2.06-2.06.94zm10 10l.94 2.06.94-2.06 2.06-.94-2.06-.94-.94-2.06-.94 2.06-2.06.94z\"/><path d=\"M17.41 7.96l-1.37-1.37c-.4-.4-.92-.59-1.43-.59-.52 0-1.04.2-1.43.59L10.3 9.45l-7.72 7.72c-.78.78-.78 2.05 0 2.83L4 21.41c.39.39.9.59 1.41.59.51 0 1.02-.2 1.41-.59l7.78-7.78 2.81-2.81c.8-.78.8-2.07 0-2.86zM5.41 20L4 18.59l7.72-7.72 1.47 1.35L5.41 20z\"/>\n",
              "  </svg>\n",
              "      </button>\n",
              "      \n",
              "  <style>\n",
              "    .colab-df-container {\n",
              "      display:flex;\n",
              "      flex-wrap:wrap;\n",
              "      gap: 12px;\n",
              "    }\n",
              "\n",
              "    .colab-df-convert {\n",
              "      background-color: #E8F0FE;\n",
              "      border: none;\n",
              "      border-radius: 50%;\n",
              "      cursor: pointer;\n",
              "      display: none;\n",
              "      fill: #1967D2;\n",
              "      height: 32px;\n",
              "      padding: 0 0 0 0;\n",
              "      width: 32px;\n",
              "    }\n",
              "\n",
              "    .colab-df-convert:hover {\n",
              "      background-color: #E2EBFA;\n",
              "      box-shadow: 0px 1px 2px rgba(60, 64, 67, 0.3), 0px 1px 3px 1px rgba(60, 64, 67, 0.15);\n",
              "      fill: #174EA6;\n",
              "    }\n",
              "\n",
              "    [theme=dark] .colab-df-convert {\n",
              "      background-color: #3B4455;\n",
              "      fill: #D2E3FC;\n",
              "    }\n",
              "\n",
              "    [theme=dark] .colab-df-convert:hover {\n",
              "      background-color: #434B5C;\n",
              "      box-shadow: 0px 1px 3px 1px rgba(0, 0, 0, 0.15);\n",
              "      filter: drop-shadow(0px 1px 2px rgba(0, 0, 0, 0.3));\n",
              "      fill: #FFFFFF;\n",
              "    }\n",
              "  </style>\n",
              "\n",
              "      <script>\n",
              "        const buttonEl =\n",
              "          document.querySelector('#df-24ce8208-516d-42d1-9c51-40b021335267 button.colab-df-convert');\n",
              "        buttonEl.style.display =\n",
              "          google.colab.kernel.accessAllowed ? 'block' : 'none';\n",
              "\n",
              "        async function convertToInteractive(key) {\n",
              "          const element = document.querySelector('#df-24ce8208-516d-42d1-9c51-40b021335267');\n",
              "          const dataTable =\n",
              "            await google.colab.kernel.invokeFunction('convertToInteractive',\n",
              "                                                     [key], {});\n",
              "          if (!dataTable) return;\n",
              "\n",
              "          const docLinkHtml = 'Like what you see? Visit the ' +\n",
              "            '<a target=\"_blank\" href=https://colab.research.google.com/notebooks/data_table.ipynb>data table notebook</a>'\n",
              "            + ' to learn more about interactive tables.';\n",
              "          element.innerHTML = '';\n",
              "          dataTable['output_type'] = 'display_data';\n",
              "          await google.colab.output.renderOutput(dataTable, element);\n",
              "          const docLink = document.createElement('div');\n",
              "          docLink.innerHTML = docLinkHtml;\n",
              "          element.appendChild(docLink);\n",
              "        }\n",
              "      </script>\n",
              "    </div>\n",
              "  </div>\n",
              "  "
            ]
          },
          "metadata": {},
          "execution_count": 214
        }
      ],
      "source": [
        "edges_labeled = np.stack([entity_labels[edges[:, 0]], \n",
        "                          entity_labels[edges[:, 1]], \n",
        "                          relation_labels[edges[:, 2]]], axis=1)\n",
        "\n",
        "df = pd.DataFrame(edges_labeled, columns=['h', 't', 'r'])[['h', 'r', 't']]\n",
        "df.head()"
      ]
    },
    {
      "cell_type": "markdown",
      "metadata": {
        "id": "96e03f08"
      },
      "source": [
        "Here are unique relations with the number of triplets"
      ]
    },
    {
      "cell_type": "code",
      "execution_count": 215,
      "metadata": {
        "id": "1d4ef2bd",
        "colab": {
          "base_uri": "https://localhost:8080/"
        },
        "outputId": "05dbfe74-cd3e-4311-9872-a175c930d56e"
      },
      "outputs": [
        {
          "output_type": "execute_result",
          "data": {
            "text/plain": [
              "r\n",
              "applies to jurisdiction                                        1\n",
              "basic form of government                                       3\n",
              "biological process                                             1\n",
              "capital                                                       34\n",
              "capital of                                                    25\n",
              "contains administrative territorial entity                    94\n",
              "country                                                     1339\n",
              "country of citizenship                                         5\n",
              "country of origin                                              1\n",
              "culture                                                        3\n",
              "designated as terrorist by                                     9\n",
              "different from                                               113\n",
              "diplomatic relation                                         6145\n",
              "enclave within                                                 3\n",
              "facet of                                                      13\n",
              "family                                                         1\n",
              "followed by                                                  332\n",
              "follows                                                      316\n",
              "founded by                                                    11\n",
              "has contributing factor                                        1\n",
              "has part                                                     121\n",
              "headquarters location                                          8\n",
              "history of topic                                               2\n",
              "instance of                                                   18\n",
              "located in present-day administrative territorial entity       7\n",
              "located in the administrative territorial entity             212\n",
              "located on terrain feature                                    13\n",
              "location                                                       5\n",
              "location of formation                                          1\n",
              "member of                                                     36\n",
              "merged into                                                    3\n",
              "named after                                                   14\n",
              "opposite of                                                    2\n",
              "owned by                                                       2\n",
              "part of                                                      121\n",
              "partially coincident with                                      4\n",
              "permanent duplicated item                                      2\n",
              "replaced by                                                  462\n",
              "replaces                                                     414\n",
              "said to be the same as                                         8\n",
              "separated from                                                15\n",
              "shares border with                                          1395\n",
              "significant event                                              6\n",
              "subclass of                                                    6\n",
              "territory claimed by                                          18\n",
              "territory overlaps                                             4\n",
              "time period                                                    8\n",
              "topic's main category                                          2\n",
              "twinned administrative body                                    2\n",
              "Name: r, dtype: int64"
            ]
          },
          "metadata": {},
          "execution_count": 215
        }
      ],
      "source": [
        "df.r.groupby(df.r).count()"
      ]
    },
    {
      "cell_type": "markdown",
      "metadata": {
        "id": "767c8128"
      },
      "source": [
        "Convert our dataset into a TorchKGE knowledge graph"
      ]
    },
    {
      "cell_type": "code",
      "execution_count": 216,
      "metadata": {
        "id": "e315fd6c"
      },
      "outputs": [],
      "source": [
        "kg = KnowledgeGraph(\n",
        "    pd.DataFrame(edges_labeled, columns=['from', 'to', 'rel']))"
      ]
    },
    {
      "cell_type": "markdown",
      "metadata": {
        "id": "7cd9ac15"
      },
      "source": [
        "Split the dataset into train and test set. What differs from the standard method of randomly sampling N points to make up our test set, is that our data points are two entities linked by some relationship, and we need to take care to ensure that all entities are represented in train and test sets by at least one triple.\n",
        "\n"
      ]
    },
    {
      "cell_type": "code",
      "execution_count": 217,
      "metadata": {
        "id": "86485e1b"
      },
      "outputs": [],
      "source": [
        "kg_train, kg_test = kg.split_kg()"
      ]
    },
    {
      "cell_type": "markdown",
      "metadata": {
        "id": "45027cae"
      },
      "source": [
        "Create required objects: model, loss, optimizer and trainer."
      ]
    },
    {
      "cell_type": "code",
      "execution_count": 218,
      "metadata": {
        "id": "949a0024"
      },
      "outputs": [],
      "source": [
        "model = TransE(kg_train.n_ent, kg_train.n_rel, dim=64)\n",
        "criterion = MarginLoss(margin=0.5)\n",
        "optimizer = torch.optim.Adam(model.parameters(), lr=0.005)\n",
        "\n",
        "trainer = Trainer(\n",
        "    model, criterion, kg_train, n_epochs=500, \n",
        "    batch_size=2048, optimizer=optimizer)"
      ]
    },
    {
      "cell_type": "markdown",
      "metadata": {
        "id": "ddd51ca4"
      },
      "source": [
        "During training, positive triplets are selected, negative triplets are generated, margin loss is calculated and then the gradient step is performed."
      ]
    },
    {
      "cell_type": "code",
      "execution_count": 219,
      "metadata": {
        "id": "26513e9f",
        "colab": {
          "base_uri": "https://localhost:8080/",
          "height": 49,
          "referenced_widgets": [
            "4d2349b3b0c741af900d20cb1dff6886",
            "59c53ed4c7d34c70ab6cfdd2bdb04c38",
            "31c9fbe8688f43dc984c898c583b4d32",
            "ac5f547c595f4d479c8ecc813c418345",
            "73aa4aa539cf4355ac5c25d3be0a06e2",
            "2a46b511189a445f8de6583721766601",
            "aa8c4e0600724b1db24a847e4fda9830",
            "b98f975d1dbb48d1bcdfda4278fc1881",
            "69c470d9836b4173bf027b59f7d9747f",
            "85ed2a1f151c41a184d138c2f042e324",
            "774ae9563b9f47ae8286149f4ac7d41c"
          ]
        },
        "outputId": "64f403dd-1abf-42c9-d66b-afe4558a5407"
      },
      "outputs": [
        {
          "output_type": "display_data",
          "data": {
            "text/plain": [
              "  0%|          | 0/500 [00:00<?, ?epoch/s]"
            ],
            "application/vnd.jupyter.widget-view+json": {
              "version_major": 2,
              "version_minor": 0,
              "model_id": "4d2349b3b0c741af900d20cb1dff6886"
            }
          },
          "metadata": {}
        }
      ],
      "source": [
        "trainer.run()"
      ]
    },
    {
      "cell_type": "markdown",
      "metadata": {
        "id": "b27a7911"
      },
      "source": [
        "Let us evaluate our model on the link prediction task"
      ]
    },
    {
      "cell_type": "code",
      "execution_count": 220,
      "metadata": {
        "deletable": false,
        "editable": false,
        "nbgrader": {
          "cell_type": "code",
          "checksum": "a299a76160d560f54404e83da29d3379",
          "grade": true,
          "grade_id": "cell-e6b0a4e916e8c503",
          "locked": true,
          "points": 0,
          "schema_version": 3,
          "solution": false,
          "task": false
        },
        "id": "ba2026aa",
        "colab": {
          "base_uri": "https://localhost:8080/",
          "height": 49,
          "referenced_widgets": [
            "b67936bdf11c4a588c6d09e0bd179186",
            "ee47ca771c784ea5abf701005b2cb948",
            "a6410fdfc632403ab5528b6f48b17601",
            "be22475b882346ddbdc685c6b12a17d8",
            "8a0ce9e6615f4811a6eb3d6a9ad8ad7c",
            "cf208f3d6ec0487b9659e5512b197ca2",
            "a4371f95ae2d47a1b1df1a8b141921fa",
            "bdcf5d1ae2f140a6bab5415cb58e3be1",
            "9c6d2efa64bf4a8f978c18ddd259b3a6",
            "137a6f9b26ba4b15aabd98e4e5138105",
            "f0ff88c0f84c41a68e10d946a579f542"
          ]
        },
        "outputId": "2da2ee8a-918e-43d2-f1c2-2f68bcb35048"
      },
      "outputs": [
        {
          "output_type": "display_data",
          "data": {
            "text/plain": [
              "Link prediction evaluation:   0%|          | 0/17 [00:00<?, ?batch/s]"
            ],
            "application/vnd.jupyter.widget-view+json": {
              "version_major": 2,
              "version_minor": 0,
              "model_id": "b67936bdf11c4a588c6d09e0bd179186"
            }
          },
          "metadata": {}
        }
      ],
      "source": [
        "evaluator = LinkPredictionEvaluator(model, kg_test)\n",
        "evaluator.evaluate(b_size=128)\n",
        "\n",
        "assert evaluator.hit_at_k(k=10)[0] > 0.3\n",
        "assert evaluator.mean_rank()[0] < 70\n",
        "assert evaluator.mrr()[0] > 0.1"
      ]
    },
    {
      "cell_type": "code",
      "execution_count": 221,
      "metadata": {
        "id": "ba1f7516",
        "colab": {
          "base_uri": "https://localhost:8080/"
        },
        "outputId": "fad3d137-f6ea-464a-e9e0-6ca78fd63644"
      },
      "outputs": [
        {
          "output_type": "stream",
          "name": "stdout",
          "text": [
            "Hit@10: 0.3337\n",
            "Mean Rank: 66.4624\n",
            "MRR: 0.1389\n"
          ]
        }
      ],
      "source": [
        "print('Hit@10: {:.4f}'.format(evaluator.hit_at_k(k=10)[0]))\n",
        "print('Mean Rank: {:.4f}'.format(evaluator.mean_rank()[0]))\n",
        "print('MRR: {:.4f}'.format(evaluator.mrr()[0]))"
      ]
    },
    {
      "cell_type": "markdown",
      "metadata": {
        "id": "4c2ce4e5"
      },
      "source": [
        "`Hit@k` indicates how many times in average a true triple was ranked in the top-k.\n",
        "\n",
        "`Mean Rank` is a mean rank of the true entity when replacing alternatively head and tail in any fact of the dataset.\n",
        "\n",
        "`MRR` is an average of mean recovery rank for head and tail replacement."
      ]
    },
    {
      "cell_type": "markdown",
      "metadata": {
        "id": "cvv2UBLCeJYE"
      },
      "source": [
        "### Task 3. Entity embeddings (2.5 points)"
      ]
    },
    {
      "cell_type": "code",
      "execution_count": 222,
      "metadata": {
        "id": "a0fc34f6"
      },
      "outputs": [],
      "source": [
        "from sklearn.decomposition import TruncatedSVD\n",
        "from sklearn.cluster import k_means\n",
        "import matplotlib.pyplot as plt\n"
      ]
    },
    {
      "cell_type": "markdown",
      "metadata": {
        "id": "5433cf80"
      },
      "source": [
        "Similarly to node embedding visualization, we can plot 2D embeddings of entities of knowledge graph.\n",
        "\n",
        "Write a function `ent_embeddgins` that takes the model, transforms entity embeddings into 2-dimenstional space via SVD, then finds 2 clusters via k-means and finally returns a tuple: np.array with embeddings and 0/1 labels of clusters."
      ]
    },
    {
      "cell_type": "code",
      "execution_count": 223,
      "metadata": {
        "deletable": false,
        "nbgrader": {
          "cell_type": "code",
          "checksum": "17f1706f3d95cf3e2c3d9107ca211a69",
          "grade": false,
          "grade_id": "cell-c79123779965d790",
          "locked": false,
          "schema_version": 3,
          "solution": true,
          "task": false
        },
        "id": "dbc9b605"
      },
      "outputs": [],
      "source": [
        "def ent_embeddgins(model):\n",
        "    svd = TruncatedSVD()\n",
        "    output = svd.fit_transform(np.array(model.ent_embeddings.weight.data))\n",
        "    centroids , labels , interia  = k_means(output,2)\n",
        "    return output , labels\n",
        "    # YOUR CODE HERE\n",
        "    #raise NotImplementedError()"
      ]
    },
    {
      "cell_type": "code",
      "execution_count": 224,
      "metadata": {
        "deletable": false,
        "editable": false,
        "nbgrader": {
          "cell_type": "code",
          "checksum": "9b9bd3f420bac9892056ac2c1f37c0b2",
          "grade": true,
          "grade_id": "cell-c4d5a66741d71c62",
          "locked": true,
          "points": 2.5,
          "schema_version": 3,
          "solution": false,
          "task": false
        },
        "id": "6cbae81a"
      },
      "outputs": [],
      "source": [
        "ent_emb, labels = ent_embeddgins(model)\n",
        "assert ent_emb.shape == (1810, 2)\n",
        "assert labels.shape == (1810,)\n",
        "n_label1 = (labels == 1).sum()\n",
        "n_label0 = (labels == 0).sum()\n",
        "assert 0.14 < min(n_label1, n_label0) / max(n_label1, n_label0) < 0.18"
      ]
    },
    {
      "cell_type": "code",
      "execution_count": 225,
      "metadata": {
        "id": "7fe88cd5",
        "colab": {
          "base_uri": "https://localhost:8080/",
          "height": 336
        },
        "outputId": "f34f142c-66a4-49e6-eb7f-085b01d45577"
      },
      "outputs": [
        {
          "output_type": "display_data",
          "data": {
            "text/plain": [
              "<Figure size 576x360 with 1 Axes>"
            ],
            "image/png": "[encoded data removed]"
          },
          "metadata": {
            "needs_background": "light"
          }
        }
      ],
      "source": [
        "plt.figure(figsize=(8, 5))\n",
        "colors = np.array(plt.cm.tab10.colors)\n",
        "plt.scatter(ent_emb[:, 0], ent_emb[:, 1], s=10, c=colors[labels])\n",
        "plt.title('Entity embeddings')\n",
        "plt.show()"
      ]
    },
    {
      "cell_type": "markdown",
      "metadata": {
        "id": "595b2ba3"
      },
      "source": [
        "Let us look at some randomly chosen entities from each cluster. Here we use `kg.ent2ix` dictionary to get labels of entities."
      ]
    },
    {
      "cell_type": "code",
      "execution_count": 226,
      "metadata": {
        "id": "6b09c78c",
        "colab": {
          "base_uri": "https://localhost:8080/"
        },
        "outputId": "505ce79c-bd67-4dd2-f84f-baa4a51c5b10"
      },
      "outputs": [
        {
          "output_type": "stream",
          "name": "stdout",
          "text": [
            "First cluster:  Commonwealth realm of Kenya, Kaluga Soviet Republic, Goa, Daman and Diu, French Second Republic, Republic of Venice, Amarasi, regne de Zion, Kingdom of Gumma, Republica de la Comrat, Repubblica dell'Alto Monferrato\n",
            "\n",
            "Second cluster:  Tajikistan, Libya, Kingdom of the Netherlands, Nepal, Kingdom of Bulgaria, Villes libres de Menton et Roquebrune, Republic of Cyprus, Maldives, Artsakh, Sahrawi Arab Democratic Republic\n"
          ]
        }
      ],
      "source": [
        "ent_labels = np.array(list(kg.ent2ix.keys()))\n",
        "print('First cluster: ', ', '.join(\n",
        "    np.random.permutation(ent_labels[labels == 0])[:10]))\n",
        "print()\n",
        "print('Second cluster: ', ', '.join(\n",
        "    np.random.permutation(ent_labels[labels == 1])[:10]))"
      ]
    },
    {
      "cell_type": "markdown",
      "metadata": {
        "id": "eG4A-qY5eJYF"
      },
      "source": [
        "### Task 4. Nearest neighbors of entities (2.5 points)"
      ]
    },
    {
      "cell_type": "code",
      "execution_count": 227,
      "metadata": {
        "id": "669adc04"
      },
      "outputs": [],
      "source": [
        "from sklearn.neighbors import NearestNeighbors"
      ]
    },
    {
      "cell_type": "markdown",
      "metadata": {
        "id": "e07bdbf6"
      },
      "source": [
        "Let us find a nearest neighbors of Belgium using embedding space.\n",
        "\n",
        "Write a function `similar_countries` that takes a name of country, graph and model and returns a list with names of nearest countries. Use `model.get_embeddings()`."
      ]
    },
    {
      "cell_type": "code",
      "execution_count": 240,
      "metadata": {
        "deletable": false,
        "nbgrader": {
          "cell_type": "code",
          "checksum": "2914a4ae39cc291785e97e21b00d67ae",
          "grade": false,
          "grade_id": "cell-fe878bfa8dc0c817",
          "locked": false,
          "schema_version": 3,
          "solution": true,
          "task": false
        },
        "id": "91d490c5"
      },
      "outputs": [],
      "source": [
        "def similar_countries(name, kg, model):\n",
        "    n_emmbedings , rel_emmbedings = model.get_embeddings()\n",
        "    neigh = NearestNeighbors()\n",
        "    neigh.fit(n_emmbedings)\n",
        "    arr_distance , arr_labels = neigh.kneighbors(n_emmbedings[kg.ent2ix[name]].reshape(1, -1))\n",
        "    list_labels= list(arr_labels[0])\n",
        "    ent_val = {v: k for k, v in kg.ent2ix.items()}\n",
        "    output = []\n",
        "    for o in list_labels:\n",
        "      output.append(ent_val[o])\n",
        "    return output  \n",
        "    # YOUR CODE HERE\n",
        "    #raise NotImplementedError()"
      ]
    },
    {
      "cell_type": "code",
      "execution_count": 241,
      "metadata": {
        "deletable": false,
        "editable": false,
        "nbgrader": {
          "cell_type": "code",
          "checksum": "e38fd671f48cd1c4614f6adda30bd36e",
          "grade": true,
          "grade_id": "cell-0b8b02590a965cc3",
          "locked": true,
          "points": 2.5,
          "schema_version": 3,
          "solution": false,
          "task": false
        },
        "id": "dee374e6",
        "colab": {
          "base_uri": "https://localhost:8080/"
        },
        "outputId": "6e3bc7be-582f-4a2f-f654-2bd3c36561d4"
      },
      "outputs": [
        {
          "output_type": "execute_result",
          "data": {
            "text/plain": [
              "['Belgium',\n",
              " 'Netherlands',\n",
              " 'Luxembourg',\n",
              " 'France',\n",
              " 'Kingdom of the Netherlands']"
            ]
          },
          "metadata": {},
          "execution_count": 241
        }
      ],
      "source": [
        "similar = similar_countries('Belgium', kg, model)\n",
        "assert 'Netherlands' in similar\n",
        "similar"
      ]
    },
    {
      "cell_type": "markdown",
      "metadata": {
        "id": "KOUdxRBUeJYG"
      },
      "source": [
        "### Task 5. Relation prediction (2.5 points)"
      ]
    },
    {
      "cell_type": "markdown",
      "metadata": {
        "id": "8bcd2c29"
      },
      "source": [
        "Let us consider these facts:\n",
        "1. Belgium shares border with France\n",
        "2. Belgium shares border with Switzerland\n",
        "3. Belgium shares border with Nigeria\n",
        "\n",
        "Only the fact 1 is truth, but it seems that the fact 2 is more likely than 3."
      ]
    },
    {
      "cell_type": "code",
      "execution_count": 230,
      "metadata": {
        "id": "5ed79917",
        "colab": {
          "base_uri": "https://localhost:8080/",
          "height": 112
        },
        "outputId": "c82ebc05-2032-4944-abf2-266e9c9e83fe"
      },
      "outputs": [
        {
          "output_type": "execute_result",
          "data": {
            "text/plain": [
              "          h                    r       t\n",
              "8   Belgium  diplomatic relation  France\n",
              "32  Belgium   shares border with  France"
            ],
            "text/html": [
              "\n",
              "  <div id=\"df-b30febdb-a612-434b-a2a6-73556c9f4aa9\">\n",
              "    <div class=\"colab-df-container\">\n",
              "      <div>\n",
              "<style scoped>\n",
              "    .dataframe tbody tr th:only-of-type {\n",
              "        vertical-align: middle;\n",
              "    }\n",
              "\n",
              "    .dataframe tbody tr th {\n",
              "        vertical-align: top;\n",
              "    }\n",
              "\n",
              "    .dataframe thead th {\n",
              "        text-align: right;\n",
              "    }\n",
              "</style>\n",
              "<table border=\"1\" class=\"dataframe\">\n",
              "  <thead>\n",
              "    <tr style=\"text-align: right;\">\n",
              "      <th></th>\n",
              "      <th>h</th>\n",
              "      <th>r</th>\n",
              "      <th>t</th>\n",
              "    </tr>\n",
              "  </thead>\n",
              "  <tbody>\n",
              "    <tr>\n",
              "      <th>8</th>\n",
              "      <td>Belgium</td>\n",
              "      <td>diplomatic relation</td>\n",
              "      <td>France</td>\n",
              "    </tr>\n",
              "    <tr>\n",
              "      <th>32</th>\n",
              "      <td>Belgium</td>\n",
              "      <td>shares border with</td>\n",
              "      <td>France</td>\n",
              "    </tr>\n",
              "  </tbody>\n",
              "</table>\n",
              "</div>\n",
              "      <button class=\"colab-df-convert\" onclick=\"convertToInteractive('df-b30febdb-a612-434b-a2a6-73556c9f4aa9')\"\n",
              "              title=\"Convert this dataframe to an interactive table.\"\n",
              "              style=\"display:none;\">\n",
              "        \n",
              "  <svg xmlns=\"http://www.w3.org/2000/svg\" height=\"24px\"viewBox=\"0 0 24 24\"\n",
              "       width=\"24px\">\n",
              "    <path d=\"M0 0h24v24H0V0z\" fill=\"none\"/>\n",
              "    <path d=\"M18.56 5.44l.94 2.06.94-2.06 2.06-.94-2.06-.94-.94-2.06-.94 2.06-2.06.94zm-11 1L8.5 8.5l.94-2.06 2.06-.94-2.06-.94L8.5 2.5l-.94 2.06-2.06.94zm10 10l.94 2.06.94-2.06 2.06-.94-2.06-.94-.94-2.06-.94 2.06-2.06.94z\"/><path d=\"M17.41 7.96l-1.37-1.37c-.4-.4-.92-.59-1.43-.59-.52 0-1.04.2-1.43.59L10.3 9.45l-7.72 7.72c-.78.78-.78 2.05 0 2.83L4 21.41c.39.39.9.59 1.41.59.51 0 1.02-.2 1.41-.59l7.78-7.78 2.81-2.81c.8-.78.8-2.07 0-2.86zM5.41 20L4 18.59l7.72-7.72 1.47 1.35L5.41 20z\"/>\n",
              "  </svg>\n",
              "      </button>\n",
              "      \n",
              "  <style>\n",
              "    .colab-df-container {\n",
              "      display:flex;\n",
              "      flex-wrap:wrap;\n",
              "      gap: 12px;\n",
              "    }\n",
              "\n",
              "    .colab-df-convert {\n",
              "      background-color: #E8F0FE;\n",
              "      border: none;\n",
              "      border-radius: 50%;\n",
              "      cursor: pointer;\n",
              "      display: none;\n",
              "      fill: #1967D2;\n",
              "      height: 32px;\n",
              "      padding: 0 0 0 0;\n",
              "      width: 32px;\n",
              "    }\n",
              "\n",
              "    .colab-df-convert:hover {\n",
              "      background-color: #E2EBFA;\n",
              "      box-shadow: 0px 1px 2px rgba(60, 64, 67, 0.3), 0px 1px 3px 1px rgba(60, 64, 67, 0.15);\n",
              "      fill: #174EA6;\n",
              "    }\n",
              "\n",
              "    [theme=dark] .colab-df-convert {\n",
              "      background-color: #3B4455;\n",
              "      fill: #D2E3FC;\n",
              "    }\n",
              "\n",
              "    [theme=dark] .colab-df-convert:hover {\n",
              "      background-color: #434B5C;\n",
              "      box-shadow: 0px 1px 3px 1px rgba(0, 0, 0, 0.15);\n",
              "      filter: drop-shadow(0px 1px 2px rgba(0, 0, 0, 0.3));\n",
              "      fill: #FFFFFF;\n",
              "    }\n",
              "  </style>\n",
              "\n",
              "      <script>\n",
              "        const buttonEl =\n",
              "          document.querySelector('#df-b30febdb-a612-434b-a2a6-73556c9f4aa9 button.colab-df-convert');\n",
              "        buttonEl.style.display =\n",
              "          google.colab.kernel.accessAllowed ? 'block' : 'none';\n",
              "\n",
              "        async function convertToInteractive(key) {\n",
              "          const element = document.querySelector('#df-b30febdb-a612-434b-a2a6-73556c9f4aa9');\n",
              "          const dataTable =\n",
              "            await google.colab.kernel.invokeFunction('convertToInteractive',\n",
              "                                                     [key], {});\n",
              "          if (!dataTable) return;\n",
              "\n",
              "          const docLinkHtml = 'Like what you see? Visit the ' +\n",
              "            '<a target=\"_blank\" href=https://colab.research.google.com/notebooks/data_table.ipynb>data table notebook</a>'\n",
              "            + ' to learn more about interactive tables.';\n",
              "          element.innerHTML = '';\n",
              "          dataTable['output_type'] = 'display_data';\n",
              "          await google.colab.output.renderOutput(dataTable, element);\n",
              "          const docLink = document.createElement('div');\n",
              "          docLink.innerHTML = docLinkHtml;\n",
              "          element.appendChild(docLink);\n",
              "        }\n",
              "      </script>\n",
              "    </div>\n",
              "  </div>\n",
              "  "
            ]
          },
          "metadata": {},
          "execution_count": 230
        }
      ],
      "source": [
        "df[(df.h == 'Belgium') & (df.t == 'France')]"
      ]
    },
    {
      "cell_type": "code",
      "execution_count": 231,
      "metadata": {
        "id": "52a2002d",
        "colab": {
          "base_uri": "https://localhost:8080/",
          "height": 49
        },
        "outputId": "020772e7-6296-492a-e150-ac5406933117"
      },
      "outputs": [
        {
          "output_type": "execute_result",
          "data": {
            "text/plain": [
              "Empty DataFrame\n",
              "Columns: [h, r, t]\n",
              "Index: []"
            ],
            "text/html": [
              "\n",
              "  <div id=\"df-94b90743-0d68-457d-a460-01c3bad69aa3\">\n",
              "    <div class=\"colab-df-container\">\n",
              "      <div>\n",
              "<style scoped>\n",
              "    .dataframe tbody tr th:only-of-type {\n",
              "        vertical-align: middle;\n",
              "    }\n",
              "\n",
              "    .dataframe tbody tr th {\n",
              "        vertical-align: top;\n",
              "    }\n",
              "\n",
              "    .dataframe thead th {\n",
              "        text-align: right;\n",
              "    }\n",
              "</style>\n",
              "<table border=\"1\" class=\"dataframe\">\n",
              "  <thead>\n",
              "    <tr style=\"text-align: right;\">\n",
              "      <th></th>\n",
              "      <th>h</th>\n",
              "      <th>r</th>\n",
              "      <th>t</th>\n",
              "    </tr>\n",
              "  </thead>\n",
              "  <tbody>\n",
              "  </tbody>\n",
              "</table>\n",
              "</div>\n",
              "      <button class=\"colab-df-convert\" onclick=\"convertToInteractive('df-94b90743-0d68-457d-a460-01c3bad69aa3')\"\n",
              "              title=\"Convert this dataframe to an interactive table.\"\n",
              "              style=\"display:none;\">\n",
              "        \n",
              "  <svg xmlns=\"http://www.w3.org/2000/svg\" height=\"24px\"viewBox=\"0 0 24 24\"\n",
              "       width=\"24px\">\n",
              "    <path d=\"M0 0h24v24H0V0z\" fill=\"none\"/>\n",
              "    <path d=\"M18.56 5.44l.94 2.06.94-2.06 2.06-.94-2.06-.94-.94-2.06-.94 2.06-2.06.94zm-11 1L8.5 8.5l.94-2.06 2.06-.94-2.06-.94L8.5 2.5l-.94 2.06-2.06.94zm10 10l.94 2.06.94-2.06 2.06-.94-2.06-.94-.94-2.06-.94 2.06-2.06.94z\"/><path d=\"M17.41 7.96l-1.37-1.37c-.4-.4-.92-.59-1.43-.59-.52 0-1.04.2-1.43.59L10.3 9.45l-7.72 7.72c-.78.78-.78 2.05 0 2.83L4 21.41c.39.39.9.59 1.41.59.51 0 1.02-.2 1.41-.59l7.78-7.78 2.81-2.81c.8-.78.8-2.07 0-2.86zM5.41 20L4 18.59l7.72-7.72 1.47 1.35L5.41 20z\"/>\n",
              "  </svg>\n",
              "      </button>\n",
              "      \n",
              "  <style>\n",
              "    .colab-df-container {\n",
              "      display:flex;\n",
              "      flex-wrap:wrap;\n",
              "      gap: 12px;\n",
              "    }\n",
              "\n",
              "    .colab-df-convert {\n",
              "      background-color: #E8F0FE;\n",
              "      border: none;\n",
              "      border-radius: 50%;\n",
              "      cursor: pointer;\n",
              "      display: none;\n",
              "      fill: #1967D2;\n",
              "      height: 32px;\n",
              "      padding: 0 0 0 0;\n",
              "      width: 32px;\n",
              "    }\n",
              "\n",
              "    .colab-df-convert:hover {\n",
              "      background-color: #E2EBFA;\n",
              "      box-shadow: 0px 1px 2px rgba(60, 64, 67, 0.3), 0px 1px 3px 1px rgba(60, 64, 67, 0.15);\n",
              "      fill: #174EA6;\n",
              "    }\n",
              "\n",
              "    [theme=dark] .colab-df-convert {\n",
              "      background-color: #3B4455;\n",
              "      fill: #D2E3FC;\n",
              "    }\n",
              "\n",
              "    [theme=dark] .colab-df-convert:hover {\n",
              "      background-color: #434B5C;\n",
              "      box-shadow: 0px 1px 3px 1px rgba(0, 0, 0, 0.15);\n",
              "      filter: drop-shadow(0px 1px 2px rgba(0, 0, 0, 0.3));\n",
              "      fill: #FFFFFF;\n",
              "    }\n",
              "  </style>\n",
              "\n",
              "      <script>\n",
              "        const buttonEl =\n",
              "          document.querySelector('#df-94b90743-0d68-457d-a460-01c3bad69aa3 button.colab-df-convert');\n",
              "        buttonEl.style.display =\n",
              "          google.colab.kernel.accessAllowed ? 'block' : 'none';\n",
              "\n",
              "        async function convertToInteractive(key) {\n",
              "          const element = document.querySelector('#df-94b90743-0d68-457d-a460-01c3bad69aa3');\n",
              "          const dataTable =\n",
              "            await google.colab.kernel.invokeFunction('convertToInteractive',\n",
              "                                                     [key], {});\n",
              "          if (!dataTable) return;\n",
              "\n",
              "          const docLinkHtml = 'Like what you see? Visit the ' +\n",
              "            '<a target=\"_blank\" href=https://colab.research.google.com/notebooks/data_table.ipynb>data table notebook</a>'\n",
              "            + ' to learn more about interactive tables.';\n",
              "          element.innerHTML = '';\n",
              "          dataTable['output_type'] = 'display_data';\n",
              "          await google.colab.output.renderOutput(dataTable, element);\n",
              "          const docLink = document.createElement('div');\n",
              "          docLink.innerHTML = docLinkHtml;\n",
              "          element.appendChild(docLink);\n",
              "        }\n",
              "      </script>\n",
              "    </div>\n",
              "  </div>\n",
              "  "
            ]
          },
          "metadata": {},
          "execution_count": 231
        }
      ],
      "source": [
        "df[(df.h == 'Belgium') & (df.t == 'Switzerland')]"
      ]
    },
    {
      "cell_type": "code",
      "execution_count": 232,
      "metadata": {
        "id": "5c5a6e01",
        "colab": {
          "base_uri": "https://localhost:8080/",
          "height": 49
        },
        "outputId": "95a36b2b-e829-4885-da50-b5fcc1d68c49"
      },
      "outputs": [
        {
          "output_type": "execute_result",
          "data": {
            "text/plain": [
              "Empty DataFrame\n",
              "Columns: [h, r, t]\n",
              "Index: []"
            ],
            "text/html": [
              "\n",
              "  <div id=\"df-b9cf28d9-1868-4929-a169-51cbba9c87c6\">\n",
              "    <div class=\"colab-df-container\">\n",
              "      <div>\n",
              "<style scoped>\n",
              "    .dataframe tbody tr th:only-of-type {\n",
              "        vertical-align: middle;\n",
              "    }\n",
              "\n",
              "    .dataframe tbody tr th {\n",
              "        vertical-align: top;\n",
              "    }\n",
              "\n",
              "    .dataframe thead th {\n",
              "        text-align: right;\n",
              "    }\n",
              "</style>\n",
              "<table border=\"1\" class=\"dataframe\">\n",
              "  <thead>\n",
              "    <tr style=\"text-align: right;\">\n",
              "      <th></th>\n",
              "      <th>h</th>\n",
              "      <th>r</th>\n",
              "      <th>t</th>\n",
              "    </tr>\n",
              "  </thead>\n",
              "  <tbody>\n",
              "  </tbody>\n",
              "</table>\n",
              "</div>\n",
              "      <button class=\"colab-df-convert\" onclick=\"convertToInteractive('df-b9cf28d9-1868-4929-a169-51cbba9c87c6')\"\n",
              "              title=\"Convert this dataframe to an interactive table.\"\n",
              "              style=\"display:none;\">\n",
              "        \n",
              "  <svg xmlns=\"http://www.w3.org/2000/svg\" height=\"24px\"viewBox=\"0 0 24 24\"\n",
              "       width=\"24px\">\n",
              "    <path d=\"M0 0h24v24H0V0z\" fill=\"none\"/>\n",
              "    <path d=\"M18.56 5.44l.94 2.06.94-2.06 2.06-.94-2.06-.94-.94-2.06-.94 2.06-2.06.94zm-11 1L8.5 8.5l.94-2.06 2.06-.94-2.06-.94L8.5 2.5l-.94 2.06-2.06.94zm10 10l.94 2.06.94-2.06 2.06-.94-2.06-.94-.94-2.06-.94 2.06-2.06.94z\"/><path d=\"M17.41 7.96l-1.37-1.37c-.4-.4-.92-.59-1.43-.59-.52 0-1.04.2-1.43.59L10.3 9.45l-7.72 7.72c-.78.78-.78 2.05 0 2.83L4 21.41c.39.39.9.59 1.41.59.51 0 1.02-.2 1.41-.59l7.78-7.78 2.81-2.81c.8-.78.8-2.07 0-2.86zM5.41 20L4 18.59l7.72-7.72 1.47 1.35L5.41 20z\"/>\n",
              "  </svg>\n",
              "      </button>\n",
              "      \n",
              "  <style>\n",
              "    .colab-df-container {\n",
              "      display:flex;\n",
              "      flex-wrap:wrap;\n",
              "      gap: 12px;\n",
              "    }\n",
              "\n",
              "    .colab-df-convert {\n",
              "      background-color: #E8F0FE;\n",
              "      border: none;\n",
              "      border-radius: 50%;\n",
              "      cursor: pointer;\n",
              "      display: none;\n",
              "      fill: #1967D2;\n",
              "      height: 32px;\n",
              "      padding: 0 0 0 0;\n",
              "      width: 32px;\n",
              "    }\n",
              "\n",
              "    .colab-df-convert:hover {\n",
              "      background-color: #E2EBFA;\n",
              "      box-shadow: 0px 1px 2px rgba(60, 64, 67, 0.3), 0px 1px 3px 1px rgba(60, 64, 67, 0.15);\n",
              "      fill: #174EA6;\n",
              "    }\n",
              "\n",
              "    [theme=dark] .colab-df-convert {\n",
              "      background-color: #3B4455;\n",
              "      fill: #D2E3FC;\n",
              "    }\n",
              "\n",
              "    [theme=dark] .colab-df-convert:hover {\n",
              "      background-color: #434B5C;\n",
              "      box-shadow: 0px 1px 3px 1px rgba(0, 0, 0, 0.15);\n",
              "      filter: drop-shadow(0px 1px 2px rgba(0, 0, 0, 0.3));\n",
              "      fill: #FFFFFF;\n",
              "    }\n",
              "  </style>\n",
              "\n",
              "      <script>\n",
              "        const buttonEl =\n",
              "          document.querySelector('#df-b9cf28d9-1868-4929-a169-51cbba9c87c6 button.colab-df-convert');\n",
              "        buttonEl.style.display =\n",
              "          google.colab.kernel.accessAllowed ? 'block' : 'none';\n",
              "\n",
              "        async function convertToInteractive(key) {\n",
              "          const element = document.querySelector('#df-b9cf28d9-1868-4929-a169-51cbba9c87c6');\n",
              "          const dataTable =\n",
              "            await google.colab.kernel.invokeFunction('convertToInteractive',\n",
              "                                                     [key], {});\n",
              "          if (!dataTable) return;\n",
              "\n",
              "          const docLinkHtml = 'Like what you see? Visit the ' +\n",
              "            '<a target=\"_blank\" href=https://colab.research.google.com/notebooks/data_table.ipynb>data table notebook</a>'\n",
              "            + ' to learn more about interactive tables.';\n",
              "          element.innerHTML = '';\n",
              "          dataTable['output_type'] = 'display_data';\n",
              "          await google.colab.output.renderOutput(dataTable, element);\n",
              "          const docLink = document.createElement('div');\n",
              "          docLink.innerHTML = docLinkHtml;\n",
              "          element.appendChild(docLink);\n",
              "        }\n",
              "      </script>\n",
              "    </div>\n",
              "  </div>\n",
              "  "
            ]
          },
          "metadata": {},
          "execution_count": 232
        }
      ],
      "source": [
        "df[(df.h == 'Belgium') & (df.t == 'Nigeria')]"
      ]
    },
    {
      "cell_type": "markdown",
      "metadata": {
        "id": "e2e80719"
      },
      "source": [
        "Now we can compare these facts using scoring function of TransE model to check our prior knowledge.\n",
        "\n",
        "Write a function `belgium_facts` that takes a model, a graph and returns 3 values of scoring function for each fact. Use `model.scoring_function` with `torch.no_grad()`."
      ]
    },
    {
      "cell_type": "code",
      "execution_count": 233,
      "metadata": {
        "deletable": false,
        "nbgrader": {
          "cell_type": "code",
          "checksum": "d6b24f412af3938aadfd82f350222dcb",
          "grade": false,
          "grade_id": "cell-5feee5e866b961d0",
          "locked": false,
          "schema_version": 3,
          "solution": true,
          "task": false
        },
        "id": "6e484ea3"
      },
      "outputs": [],
      "source": [
        "def belgium_facts(model, kg):\n",
        "    bel_ind = kg.ent2ix['Belgium']\n",
        "    fra_ind = kg.ent2ix['France']\n",
        "    swi_ind = kg.ent2ix['Switzerland']\n",
        "    nig_ind = kg.ent2ix['Nigeria']\n",
        "    border_ind = kg.rel2ix['shares border with']\n",
        "    h = torch.LongTensor([bel_ind, bel_ind, bel_ind])\n",
        "    r = torch.LongTensor([border_ind, border_ind, border_ind])\n",
        "    t = torch.LongTensor([fra_ind, swi_ind, nig_ind])\n",
        "    with torch.no_grad():\n",
        "        scores = model.scoring_function(h,t,r).numpy()\n",
        "    return scores\n",
        "    # YOUR CODE HERE\n",
        "    #raise NotImplementedError()"
      ]
    },
    {
      "cell_type": "code",
      "execution_count": 234,
      "metadata": {
        "deletable": false,
        "editable": false,
        "nbgrader": {
          "cell_type": "code",
          "checksum": "2f00080d176375341ae1f4e7095a6b19",
          "grade": true,
          "grade_id": "cell-a6b6e4e88ba6569f",
          "locked": true,
          "points": 2.5,
          "schema_version": 3,
          "solution": false,
          "task": false
        },
        "id": "0c73a43b",
        "colab": {
          "base_uri": "https://localhost:8080/"
        },
        "outputId": "a48aa1e8-6b62-4134-ac29-34d83ba00fae"
      },
      "outputs": [
        {
          "output_type": "execute_result",
          "data": {
            "text/plain": [
              "array([-0.5740867 , -0.6991047 , -0.98608255], dtype=float32)"
            ]
          },
          "metadata": {},
          "execution_count": 234
        }
      ],
      "source": [
        "scores = belgium_facts(model, kg)\n",
        "assert scores[0] > scores[1] > scores[2]\n",
        "scores"
      ]
    },
    {
      "cell_type": "markdown",
      "metadata": {
        "id": "kz72QKg7eJYI"
      },
      "source": [
        "### Task 6. Tail prediction (2.5 points)"
      ]
    },
    {
      "cell_type": "code",
      "execution_count": 235,
      "metadata": {
        "id": "1feb4bc5"
      },
      "outputs": [],
      "source": [
        "from sklearn.neighbors import NearestNeighbors"
      ]
    },
    {
      "cell_type": "markdown",
      "metadata": {
        "id": "eb36ce98"
      },
      "source": [
        "Recall that the main idea of TransE is to learn $h + r \\approx t$, so let us find the closest tails for the head + relation pair.\n",
        "\n",
        "Write a function `soviet_tail` that takes a model, graph and finds 5 nearest neighbors for the pair $h$ is \"Soviet Union\" and $r$ is \"founded by\"."
      ]
    },
    {
      "cell_type": "code",
      "execution_count": 236,
      "metadata": {
        "deletable": false,
        "nbgrader": {
          "cell_type": "code",
          "checksum": "803dd88ce8a03a13810ab252b70a682e",
          "grade": false,
          "grade_id": "cell-dbc103d80a938c68",
          "locked": false,
          "schema_version": 3,
          "solution": true,
          "task": false
        },
        "id": "c6f4633a"
      },
      "outputs": [],
      "source": [
        "def soviet_tail(model, kg):\n",
        "  n_emmbedings , rel_emmbedings = model.get_embeddings()\n",
        "  neigh = NearestNeighbors()\n",
        "  neigh.fit(n_emmbedings)\n",
        "  arr_distance , arr_labels = neigh.kneighbors( n_emmbedings[kg.ent2ix['Soviet Union']] + rel_emmbedings[kg.rel2ix['founded by']].reshape(1, -1))\n",
        "  list_labels= list(arr_labels[0])\n",
        "  ent_val = {v: k for k, v in kg.ent2ix.items()}\n",
        "  output = []\n",
        "  for v in list_labels:\n",
        "    output.append(ent_val[v])\n",
        "  return output\n",
        "    # YOUR CODE HERE\n",
        "    #raise NotImplementedError()"
      ]
    },
    {
      "cell_type": "code",
      "execution_count": 237,
      "metadata": {
        "deletable": false,
        "editable": false,
        "nbgrader": {
          "cell_type": "code",
          "checksum": "1249fc19b4c2a82f809dd83121103d3c",
          "grade": true,
          "grade_id": "cell-ba34f9e5a695e8ca",
          "locked": true,
          "points": 2.5,
          "schema_version": 3,
          "solution": false,
          "task": false
        },
        "id": "d8d5ab86",
        "colab": {
          "base_uri": "https://localhost:8080/"
        },
        "outputId": "3f13dd2e-609e-42ba-a265-a7e1f9f68d86"
      },
      "outputs": [
        {
          "output_type": "execute_result",
          "data": {
            "text/plain": [
              "['Soviet Union',\n",
              " 'Russian Empire',\n",
              " 'Russian Soviet Federative Socialist Republic',\n",
              " 'Transcaucasian Socialist Federative Soviet Republic',\n",
              " 'Russian Republic']"
            ]
          },
          "metadata": {},
          "execution_count": 237
        }
      ],
      "source": [
        "tails = soviet_tail(model, kg)\n",
        "assert 'Russian Soviet Federative Socialist Republic' in tails\n",
        "tails"
      ]
    },
    {
      "cell_type": "code",
      "execution_count": 237,
      "metadata": {
        "id": "lIdMqRXjeJYJ"
      },
      "outputs": [],
      "source": [
        ""
      ]
    }
  ],
  "metadata": {
    "kernelspec": {
      "display_name": "Python 3",
      "language": "python",
      "name": "python3"
    },
    "language_info": {
      "codemirror_mode": {
        "name": "ipython",
        "version": 3
      },
      "file_extension": ".py",
      "mimetype": "text/x-python",
      "name": "python",
      "nbconvert_exporter": "python",
      "pygments_lexer": "ipython3",
      "version": "3.7.4"
    },
    "colab": {
      "name": "kg_assignment.ipynb",
      "provenance": [],
      "collapsed_sections": []
    },
    "widgets": {
      "application/vnd.jupyter.widget-state+json": {
        "4d2349b3b0c741af900d20cb1dff6886": {
          "model_module": "@jupyter-widgets/controls",
          "model_name": "HBoxModel",
          "model_module_version": "1.5.0",
          "state": {
            "_dom_classes": [],
            "_model_module": "@jupyter-widgets/controls",
            "_model_module_version": "1.5.0",
            "_model_name": "HBoxModel",
            "_view_count": null,
            "_view_module": "@jupyter-widgets/controls",
            "_view_module_version": "1.5.0",
            "_view_name": "HBoxView",
            "box_style": "",
            "children": [
              "IPY_MODEL_59c53ed4c7d34c70ab6cfdd2bdb04c38",
              "IPY_MODEL_31c9fbe8688f43dc984c898c583b4d32",
              "IPY_MODEL_ac5f547c595f4d479c8ecc813c418345"
            ],
            "layout": "IPY_MODEL_73aa4aa539cf4355ac5c25d3be0a06e2"
          }
        },
        "59c53ed4c7d34c70ab6cfdd2bdb04c38": {
          "model_module": "@jupyter-widgets/controls",
          "model_name": "HTMLModel",
          "model_module_version": "1.5.0",
          "state": {
            "_dom_classes": [],
            "_model_module": "@jupyter-widgets/controls",
            "_model_module_version": "1.5.0",
            "_model_name": "HTMLModel",
            "_view_count": null,
            "_view_module": "@jupyter-widgets/controls",
            "_view_module_version": "1.5.0",
            "_view_name": "HTMLView",
            "description": "",
            "description_tooltip": null,
            "layout": "IPY_MODEL_2a46b511189a445f8de6583721766601",
            "placeholder": "​",
            "style": "IPY_MODEL_aa8c4e0600724b1db24a847e4fda9830",
            "value": "Epoch 500 | mean loss: 0.02680: 100%"
          }
        },
        "31c9fbe8688f43dc984c898c583b4d32": {
          "model_module": "@jupyter-widgets/controls",
          "model_name": "FloatProgressModel",
          "model_module_version": "1.5.0",
          "state": {
            "_dom_classes": [],
            "_model_module": "@jupyter-widgets/controls",
            "_model_module_version": "1.5.0",
            "_model_name": "FloatProgressModel",
            "_view_count": null,
            "_view_module": "@jupyter-widgets/controls",
            "_view_module_version": "1.5.0",
            "_view_name": "ProgressView",
            "bar_style": "success",
            "description": "",
            "description_tooltip": null,
            "layout": "IPY_MODEL_b98f975d1dbb48d1bcdfda4278fc1881",
            "max": 500,
            "min": 0,
            "orientation": "horizontal",
            "style": "IPY_MODEL_69c470d9836b4173bf027b59f7d9747f",
            "value": 500
          }
        },
        "ac5f547c595f4d479c8ecc813c418345": {
          "model_module": "@jupyter-widgets/controls",
          "model_name": "HTMLModel",
          "model_module_version": "1.5.0",
          "state": {
            "_dom_classes": [],
            "_model_module": "@jupyter-widgets/controls",
            "_model_module_version": "1.5.0",
            "_model_name": "HTMLModel",
            "_view_count": null,
            "_view_module": "@jupyter-widgets/controls",
            "_view_module_version": "1.5.0",
            "_view_name": "HTMLView",
            "description": "",
            "description_tooltip": null,
            "layout": "IPY_MODEL_85ed2a1f151c41a184d138c2f042e324",
            "placeholder": "​",
            "style": "IPY_MODEL_774ae9563b9f47ae8286149f4ac7d41c",
            "value": " 500/500 [00:39&lt;00:00, 13.91epoch/s]"
          }
        },
        "73aa4aa539cf4355ac5c25d3be0a06e2": {
          "model_module": "@jupyter-widgets/base",
          "model_name": "LayoutModel",
          "model_module_version": "1.2.0",
          "state": {
            "_model_module": "@jupyter-widgets/base",
            "_model_module_version": "1.2.0",
            "_model_name": "LayoutModel",
            "_view_count": null,
            "_view_module": "@jupyter-widgets/base",
            "_view_module_version": "1.2.0",
            "_view_name": "LayoutView",
            "align_content": null,
            "align_items": null,
            "align_self": null,
            "border": null,
            "bottom": null,
            "display": null,
            "flex": null,
            "flex_flow": null,
            "grid_area": null,
            "grid_auto_columns": null,
            "grid_auto_flow": null,
            "grid_auto_rows": null,
            "grid_column": null,
            "grid_gap": null,
            "grid_row": null,
            "grid_template_areas": null,
            "grid_template_columns": null,
            "grid_template_rows": null,
            "height": null,
            "justify_content": null,
            "justify_items": null,
            "left": null,
            "margin": null,
            "max_height": null,
            "max_width": null,
            "min_height": null,
            "min_width": null,
            "object_fit": null,
            "object_position": null,
            "order": null,
            "overflow": null,
            "overflow_x": null,
            "overflow_y": null,
            "padding": null,
            "right": null,
            "top": null,
            "visibility": null,
            "width": null
          }
        },
        "2a46b511189a445f8de6583721766601": {
          "model_module": "@jupyter-widgets/base",
          "model_name": "LayoutModel",
          "model_module_version": "1.2.0",
          "state": {
            "_model_module": "@jupyter-widgets/base",
            "_model_module_version": "1.2.0",
            "_model_name": "LayoutModel",
            "_view_count": null,
            "_view_module": "@jupyter-widgets/base",
            "_view_module_version": "1.2.0",
            "_view_name": "LayoutView",
            "align_content": null,
            "align_items": null,
            "align_self": null,
            "border": null,
            "bottom": null,
            "display": null,
            "flex": null,
            "flex_flow": null,
            "grid_area": null,
            "grid_auto_columns": null,
            "grid_auto_flow": null,
            "grid_auto_rows": null,
            "grid_column": null,
            "grid_gap": null,
            "grid_row": null,
            "grid_template_areas": null,
            "grid_template_columns": null,
            "grid_template_rows": null,
            "height": null,
            "justify_content": null,
            "justify_items": null,
            "left": null,
            "margin": null,
            "max_height": null,
            "max_width": null,
            "min_height": null,
            "min_width": null,
            "object_fit": null,
            "object_position": null,
            "order": null,
            "overflow": null,
            "overflow_x": null,
            "overflow_y": null,
            "padding": null,
            "right": null,
            "top": null,
            "visibility": null,
            "width": null
          }
        },
        "aa8c4e0600724b1db24a847e4fda9830": {
          "model_module": "@jupyter-widgets/controls",
          "model_name": "DescriptionStyleModel",
          "model_module_version": "1.5.0",
          "state": {
            "_model_module": "@jupyter-widgets/controls",
            "_model_module_version": "1.5.0",
            "_model_name": "DescriptionStyleModel",
            "_view_count": null,
            "_view_module": "@jupyter-widgets/base",
            "_view_module_version": "1.2.0",
            "_view_name": "StyleView",
            "description_width": ""
          }
        },
        "b98f975d1dbb48d1bcdfda4278fc1881": {
          "model_module": "@jupyter-widgets/base",
          "model_name": "LayoutModel",
          "model_module_version": "1.2.0",
          "state": {
            "_model_module": "@jupyter-widgets/base",
            "_model_module_version": "1.2.0",
            "_model_name": "LayoutModel",
            "_view_count": null,
            "_view_module": "@jupyter-widgets/base",
            "_view_module_version": "1.2.0",
            "_view_name": "LayoutView",
            "align_content": null,
            "align_items": null,
            "align_self": null,
            "border": null,
            "bottom": null,
            "display": null,
            "flex": null,
            "flex_flow": null,
            "grid_area": null,
            "grid_auto_columns": null,
            "grid_auto_flow": null,
            "grid_auto_rows": null,
            "grid_column": null,
            "grid_gap": null,
            "grid_row": null,
            "grid_template_areas": null,
            "grid_template_columns": null,
            "grid_template_rows": null,
            "height": null,
            "justify_content": null,
            "justify_items": null,
            "left": null,
            "margin": null,
            "max_height": null,
            "max_width": null,
            "min_height": null,
            "min_width": null,
            "object_fit": null,
            "object_position": null,
            "order": null,
            "overflow": null,
            "overflow_x": null,
            "overflow_y": null,
            "padding": null,
            "right": null,
            "top": null,
            "visibility": null,
            "width": null
          }
        },
        "69c470d9836b4173bf027b59f7d9747f": {
          "model_module": "@jupyter-widgets/controls",
          "model_name": "ProgressStyleModel",
          "model_module_version": "1.5.0",
          "state": {
            "_model_module": "@jupyter-widgets/controls",
            "_model_module_version": "1.5.0",
            "_model_name": "ProgressStyleModel",
            "_view_count": null,
            "_view_module": "@jupyter-widgets/base",
            "_view_module_version": "1.2.0",
            "_view_name": "StyleView",
            "bar_color": null,
            "description_width": ""
          }
        },
        "85ed2a1f151c41a184d138c2f042e324": {
          "model_module": "@jupyter-widgets/base",
          "model_name": "LayoutModel",
          "model_module_version": "1.2.0",
          "state": {
            "_model_module": "@jupyter-widgets/base",
            "_model_module_version": "1.2.0",
            "_model_name": "LayoutModel",
            "_view_count": null,
            "_view_module": "@jupyter-widgets/base",
            "_view_module_version": "1.2.0",
            "_view_name": "LayoutView",
            "align_content": null,
            "align_items": null,
            "align_self": null,
            "border": null,
            "bottom": null,
            "display": null,
            "flex": null,
            "flex_flow": null,
            "grid_area": null,
            "grid_auto_columns": null,
            "grid_auto_flow": null,
            "grid_auto_rows": null,
            "grid_column": null,
            "grid_gap": null,
            "grid_row": null,
            "grid_template_areas": null,
            "grid_template_columns": null,
            "grid_template_rows": null,
            "height": null,
            "justify_content": null,
            "justify_items": null,
            "left": null,
            "margin": null,
            "max_height": null,
            "max_width": null,
            "min_height": null,
            "min_width": null,
            "object_fit": null,
            "object_position": null,
            "order": null,
            "overflow": null,
            "overflow_x": null,
            "overflow_y": null,
            "padding": null,
            "right": null,
            "top": null,
            "visibility": null,
            "width": null
          }
        },
        "774ae9563b9f47ae8286149f4ac7d41c": {
          "model_module": "@jupyter-widgets/controls",
          "model_name": "DescriptionStyleModel",
          "model_module_version": "1.5.0",
          "state": {
            "_model_module": "@jupyter-widgets/controls",
            "_model_module_version": "1.5.0",
            "_model_name": "DescriptionStyleModel",
            "_view_count": null,
            "_view_module": "@jupyter-widgets/base",
            "_view_module_version": "1.2.0",
            "_view_name": "StyleView",
            "description_width": ""
          }
        },
        "b67936bdf11c4a588c6d09e0bd179186": {
          "model_module": "@jupyter-widgets/controls",
          "model_name": "HBoxModel",
          "model_module_version": "1.5.0",
          "state": {
            "_dom_classes": [],
            "_model_module": "@jupyter-widgets/controls",
            "_model_module_version": "1.5.0",
            "_model_name": "HBoxModel",
            "_view_count": null,
            "_view_module": "@jupyter-widgets/controls",
            "_view_module_version": "1.5.0",
            "_view_name": "HBoxView",
            "box_style": "",
            "children": [
              "IPY_MODEL_ee47ca771c784ea5abf701005b2cb948",
              "IPY_MODEL_a6410fdfc632403ab5528b6f48b17601",
              "IPY_MODEL_be22475b882346ddbdc685c6b12a17d8"
            ],
            "layout": "IPY_MODEL_8a0ce9e6615f4811a6eb3d6a9ad8ad7c"
          }
        },
        "ee47ca771c784ea5abf701005b2cb948": {
          "model_module": "@jupyter-widgets/controls",
          "model_name": "HTMLModel",
          "model_module_version": "1.5.0",
          "state": {
            "_dom_classes": [],
            "_model_module": "@jupyter-widgets/controls",
            "_model_module_version": "1.5.0",
            "_model_name": "HTMLModel",
            "_view_count": null,
            "_view_module": "@jupyter-widgets/controls",
            "_view_module_version": "1.5.0",
            "_view_name": "HTMLView",
            "description": "",
            "description_tooltip": null,
            "layout": "IPY_MODEL_cf208f3d6ec0487b9659e5512b197ca2",
            "placeholder": "​",
            "style": "IPY_MODEL_a4371f95ae2d47a1b1df1a8b141921fa",
            "value": "Link prediction evaluation: 100%"
          }
        },
        "a6410fdfc632403ab5528b6f48b17601": {
          "model_module": "@jupyter-widgets/controls",
          "model_name": "FloatProgressModel",
          "model_module_version": "1.5.0",
          "state": {
            "_dom_classes": [],
            "_model_module": "@jupyter-widgets/controls",
            "_model_module_version": "1.5.0",
            "_model_name": "FloatProgressModel",
            "_view_count": null,
            "_view_module": "@jupyter-widgets/controls",
            "_view_module_version": "1.5.0",
            "_view_name": "ProgressView",
            "bar_style": "success",
            "description": "",
            "description_tooltip": null,
            "layout": "IPY_MODEL_bdcf5d1ae2f140a6bab5415cb58e3be1",
            "max": 17,
            "min": 0,
            "orientation": "horizontal",
            "style": "IPY_MODEL_9c6d2efa64bf4a8f978c18ddd259b3a6",
            "value": 17
          }
        },
        "be22475b882346ddbdc685c6b12a17d8": {
          "model_module": "@jupyter-widgets/controls",
          "model_name": "HTMLModel",
          "model_module_version": "1.5.0",
          "state": {
            "_dom_classes": [],
            "_model_module": "@jupyter-widgets/controls",
            "_model_module_version": "1.5.0",
            "_model_name": "HTMLModel",
            "_view_count": null,
            "_view_module": "@jupyter-widgets/controls",
            "_view_module_version": "1.5.0",
            "_view_name": "HTMLView",
            "description": "",
            "description_tooltip": null,
            "layout": "IPY_MODEL_137a6f9b26ba4b15aabd98e4e5138105",
            "placeholder": "​",
            "style": "IPY_MODEL_f0ff88c0f84c41a68e10d946a579f542",
            "value": " 17/17 [00:03&lt;00:00,  5.76batch/s]"
          }
        },
        "8a0ce9e6615f4811a6eb3d6a9ad8ad7c": {
          "model_module": "@jupyter-widgets/base",
          "model_name": "LayoutModel",
          "model_module_version": "1.2.0",
          "state": {
            "_model_module": "@jupyter-widgets/base",
            "_model_module_version": "1.2.0",
            "_model_name": "LayoutModel",
            "_view_count": null,
            "_view_module": "@jupyter-widgets/base",
            "_view_module_version": "1.2.0",
            "_view_name": "LayoutView",
            "align_content": null,
            "align_items": null,
            "align_self": null,
            "border": null,
            "bottom": null,
            "display": null,
            "flex": null,
            "flex_flow": null,
            "grid_area": null,
            "grid_auto_columns": null,
            "grid_auto_flow": null,
            "grid_auto_rows": null,
            "grid_column": null,
            "grid_gap": null,
            "grid_row": null,
            "grid_template_areas": null,
            "grid_template_columns": null,
            "grid_template_rows": null,
            "height": null,
            "justify_content": null,
            "justify_items": null,
            "left": null,
            "margin": null,
            "max_height": null,
            "max_width": null,
            "min_height": null,
            "min_width": null,
            "object_fit": null,
            "object_position": null,
            "order": null,
            "overflow": null,
            "overflow_x": null,
            "overflow_y": null,
            "padding": null,
            "right": null,
            "top": null,
            "visibility": null,
            "width": null
          }
        },
        "cf208f3d6ec0487b9659e5512b197ca2": {
          "model_module": "@jupyter-widgets/base",
          "model_name": "LayoutModel",
          "model_module_version": "1.2.0",
          "state": {
            "_model_module": "@jupyter-widgets/base",
            "_model_module_version": "1.2.0",
            "_model_name": "LayoutModel",
            "_view_count": null,
            "_view_module": "@jupyter-widgets/base",
            "_view_module_version": "1.2.0",
            "_view_name": "LayoutView",
            "align_content": null,
            "align_items": null,
            "align_self": null,
            "border": null,
            "bottom": null,
            "display": null,
            "flex": null,
            "flex_flow": null,
            "grid_area": null,
            "grid_auto_columns": null,
            "grid_auto_flow": null,
            "grid_auto_rows": null,
            "grid_column": null,
            "grid_gap": null,
            "grid_row": null,
            "grid_template_areas": null,
            "grid_template_columns": null,
            "grid_template_rows": null,
            "height": null,
            "justify_content": null,
            "justify_items": null,
            "left": null,
            "margin": null,
            "max_height": null,
            "max_width": null,
            "min_height": null,
            "min_width": null,
            "object_fit": null,
            "object_position": null,
            "order": null,
            "overflow": null,
            "overflow_x": null,
            "overflow_y": null,
            "padding": null,
            "right": null,
            "top": null,
            "visibility": null,
            "width": null
          }
        },
        "a4371f95ae2d47a1b1df1a8b141921fa": {
          "model_module": "@jupyter-widgets/controls",
          "model_name": "DescriptionStyleModel",
          "model_module_version": "1.5.0",
          "state": {
            "_model_module": "@jupyter-widgets/controls",
            "_model_module_version": "1.5.0",
            "_model_name": "DescriptionStyleModel",
            "_view_count": null,
            "_view_module": "@jupyter-widgets/base",
            "_view_module_version": "1.2.0",
            "_view_name": "StyleView",
            "description_width": ""
          }
        },
        "bdcf5d1ae2f140a6bab5415cb58e3be1": {
          "model_module": "@jupyter-widgets/base",
          "model_name": "LayoutModel",
          "model_module_version": "1.2.0",
          "state": {
            "_model_module": "@jupyter-widgets/base",
            "_model_module_version": "1.2.0",
            "_model_name": "LayoutModel",
            "_view_count": null,
            "_view_module": "@jupyter-widgets/base",
            "_view_module_version": "1.2.0",
            "_view_name": "LayoutView",
            "align_content": null,
            "align_items": null,
            "align_self": null,
            "border": null,
            "bottom": null,
            "display": null,
            "flex": null,
            "flex_flow": null,
            "grid_area": null,
            "grid_auto_columns": null,
            "grid_auto_flow": null,
            "grid_auto_rows": null,
            "grid_column": null,
            "grid_gap": null,
            "grid_row": null,
            "grid_template_areas": null,
            "grid_template_columns": null,
            "grid_template_rows": null,
            "height": null,
            "justify_content": null,
            "justify_items": null,
            "left": null,
            "margin": null,
            "max_height": null,
            "max_width": null,
            "min_height": null,
            "min_width": null,
            "object_fit": null,
            "object_position": null,
            "order": null,
            "overflow": null,
            "overflow_x": null,
            "overflow_y": null,
            "padding": null,
            "right": null,
            "top": null,
            "visibility": null,
            "width": null
          }
        },
        "9c6d2efa64bf4a8f978c18ddd259b3a6": {
          "model_module": "@jupyter-widgets/controls",
          "model_name": "ProgressStyleModel",
          "model_module_version": "1.5.0",
          "state": {
            "_model_module": "@jupyter-widgets/controls",
            "_model_module_version": "1.5.0",
            "_model_name": "ProgressStyleModel",
            "_view_count": null,
            "_view_module": "@jupyter-widgets/base",
            "_view_module_version": "1.2.0",
            "_view_name": "StyleView",
            "bar_color": null,
            "description_width": ""
          }
        },
        "137a6f9b26ba4b15aabd98e4e5138105": {
          "model_module": "@jupyter-widgets/base",
          "model_name": "LayoutModel",
          "model_module_version": "1.2.0",
          "state": {
            "_model_module": "@jupyter-widgets/base",
            "_model_module_version": "1.2.0",
            "_model_name": "LayoutModel",
            "_view_count": null,
            "_view_module": "@jupyter-widgets/base",
            "_view_module_version": "1.2.0",
            "_view_name": "LayoutView",
            "align_content": null,
            "align_items": null,
            "align_self": null,
            "border": null,
            "bottom": null,
            "display": null,
            "flex": null,
            "flex_flow": null,
            "grid_area": null,
            "grid_auto_columns": null,
            "grid_auto_flow": null,
            "grid_auto_rows": null,
            "grid_column": null,
            "grid_gap": null,
            "grid_row": null,
            "grid_template_areas": null,
            "grid_template_columns": null,
            "grid_template_rows": null,
            "height": null,
            "justify_content": null,
            "justify_items": null,
            "left": null,
            "margin": null,
            "max_height": null,
            "max_width": null,
            "min_height": null,
            "min_width": null,
            "object_fit": null,
            "object_position": null,
            "order": null,
            "overflow": null,
            "overflow_x": null,
            "overflow_y": null,
            "padding": null,
            "right": null,
            "top": null,
            "visibility": null,
            "width": null
          }
        },
        "f0ff88c0f84c41a68e10d946a579f542": {
          "model_module": "@jupyter-widgets/controls",
          "model_name": "DescriptionStyleModel",
          "model_module_version": "1.5.0",
          "state": {
            "_model_module": "@jupyter-widgets/controls",
            "_model_module_version": "1.5.0",
            "_model_name": "DescriptionStyleModel",
            "_view_count": null,
            "_view_module": "@jupyter-widgets/base",
            "_view_module_version": "1.2.0",
            "_view_name": "StyleView",
            "description_width": ""
          }
        }
      }
    }
  },
  "nbformat": 4,
  "nbformat_minor": 0
}