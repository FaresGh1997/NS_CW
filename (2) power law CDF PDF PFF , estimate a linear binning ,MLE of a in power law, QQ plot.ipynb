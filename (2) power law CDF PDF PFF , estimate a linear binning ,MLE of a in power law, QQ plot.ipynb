{
  "cells": [
    {
      "cell_type": "markdown",
      "id": "2e223f89",
      "metadata": {
        "id": "2e223f89"
      },
      "source": [
        "# Assignment — Power Law"
      ]
    },
    {
      "cell_type": "code",
      "execution_count": 63,
      "id": "55bb28cf",
      "metadata": {
        "id": "55bb28cf"
      },
      "outputs": [],
      "source": [
        "from typing import List\n",
        "from zlib import adler32\n",
        "import networkx as nx\n",
        "import requests\n",
        "import matplotlib.pyplot as plt\n",
        "import pandas as pd\n",
        "import numpy as np\n",
        "import math\n",
        "from scipy.stats import kstest \n",
        "from scipy.stats.mstats import ks_twosamp\n",
        "from sklearn.linear_model import LinearRegression"
      ]
    },
    {
      "cell_type": "markdown",
      "id": "d1ed2952",
      "metadata": {
        "id": "d1ed2952"
      },
      "source": [
        "### Task 1. Power law CDF (1 points)"
      ]
    },
    {
      "cell_type": "markdown",
      "id": "e81bd77f",
      "metadata": {
        "id": "e81bd77f"
      },
      "source": [
        "Scale-free network has a Power law degree distribution. Let us take a closer look at this distribution. The PDF of the Power law is \n",
        "\n",
        "$$ p(x) = Cx^{-\\alpha},$$ \n",
        "\n",
        "where $C$ is a normalization constant \n",
        "\n",
        "$$C = \\frac{\\alpha - 1}{x_{\\text{min}}^{-\\alpha + 1}}$$ \n",
        "\n",
        "and $\\alpha>1$ is called an exponent of the distribution. "
      ]
    },
    {
      "cell_type": "code",
      "execution_count": 2,
      "id": "ac290039",
      "metadata": {
        "id": "ac290039"
      },
      "outputs": [],
      "source": [
        "def power_law_pdf(x, alpha=3.5, x_min=1):\n",
        "    C = (alpha - 1) / x_min ** (1 - alpha)\n",
        "    return C * x ** (-alpha)"
      ]
    },
    {
      "cell_type": "code",
      "execution_count": 3,
      "id": "d2b3300c",
      "metadata": {
        "id": "d2b3300c",
        "outputId": "0eceef20-0fee-498b-e624-7bc40a6967a1",
        "colab": {
          "base_uri": "https://localhost:8080/",
          "height": 54
        }
      },
      "outputs": [
        {
          "output_type": "display_data",
          "data": {
            "image/png": "[encoded data removed]",
            "text/plain": [
              "<Figure size 432x288 with 1 Axes>"
            ]
          },
          "metadata": {
            "needs_background": "light"
          }
        }
      ],
      "source": [
        "x_space = np.linspace(1, 10, 100)\n",
        "plt.plot(x_space, power_law_pdf(x_space))\n",
        "plt.title('Power Law PDF');"
      ]
    },
    {
      "cell_type": "markdown",
      "id": "397028f6",
      "metadata": {
        "id": "397028f6"
      },
      "source": [
        "Let us generate observations from a Power Law RV. The first step is to derive CDF of Powel law: $F(x) = P(X \\leq x)$\n",
        "\n",
        "$$F(x) = 1 - \\int_{x}^\\infty p(t) dt.$$\n",
        "\n",
        "Take the integral, derive CDF analytically and then write a function `power_law_cdf` with parameters `x`, `alpha` and `x_min`."
      ]
    },
    {
      "cell_type": "code",
      "execution_count": 4,
      "id": "c05be41c",
      "metadata": {
        "deletable": false,
        "nbgrader": {
          "cell_type": "code",
          "checksum": "dfa3158ba5ebe1454116372e3a44aec9",
          "grade": false,
          "grade_id": "cell-f682e125051975d6",
          "locked": false,
          "schema_version": 3,
          "solution": true,
          "task": false
        },
        "id": "c05be41c"
      },
      "outputs": [],
      "source": [
        "def power_law_cdf(x, alpha=3.5, x_min=1):\n",
        "    # YOUR CODE HERE\n",
        "    C = (alpha - 1) / x_min ** (1 - alpha) \n",
        "    #raise NotImplementedError()\n",
        "    return 1 + (C*x**(1-alpha)/(1-alpha))"
      ]
    },
    {
      "cell_type": "code",
      "execution_count": 5,
      "id": "2877156d",
      "metadata": {
        "deletable": false,
        "editable": false,
        "nbgrader": {
          "cell_type": "code",
          "checksum": "100d7a9557527135f54f17f67b3f82fa",
          "grade": true,
          "grade_id": "cell-87d0428f480773c4",
          "locked": true,
          "points": 1,
          "schema_version": 3,
          "solution": false,
          "task": false
        },
        "id": "2877156d"
      },
      "outputs": [],
      "source": [
        "assert power_law_cdf(2, 2, 1) == 0.5\n",
        "assert power_law_cdf(10, 2, 1) == 0.9\n",
        "assert adler32(str(power_law_cdf(2, 3, 1)).encode()) == 32571595"
      ]
    },
    {
      "cell_type": "code",
      "execution_count": 6,
      "id": "f6047e49",
      "metadata": {
        "id": "f6047e49",
        "outputId": "76a7cf23-c422-4cfe-b9b7-1e098dce62fd",
        "colab": {
          "base_uri": "https://localhost:8080/",
          "height": 54
        }
      },
      "outputs": [
        {
          "output_type": "display_data",
          "data": {
            "image/png": "[encoded data removed]",
            "text/plain": [
              "<Figure size 432x288 with 1 Axes>"
            ]
          },
          "metadata": {
            "needs_background": "light"
          }
        }
      ],
      "source": [
        "x_space = np.linspace(1, 10, 100)\n",
        "plt.plot(x_space, power_law_cdf(x_space))\n",
        "plt.title('Power Law CDF');"
      ]
    },
    {
      "cell_type": "markdown",
      "id": "d1705532",
      "metadata": {
        "id": "d1705532"
      },
      "source": [
        "### Task 2. Power law PPF (1 points)"
      ]
    },
    {
      "cell_type": "markdown",
      "id": "de9e3713",
      "metadata": {
        "id": "de9e3713"
      },
      "source": [
        "Let $X \\sim \\text{Power law}$. Next, define a random variable $R$, s.t. $R = F(X)$, so $R$ will be uniformly distributed on interval [0, 1] ([proof](https://en.wikipedia.org/wiki/Probability_integral_transform#Proof)). Good thing here is that we easily can generate uniformly distributed pseudorandom numbers and then transform them into Power Law. Let us find an expression for $x = F^{-1}(r)$, where $r$ is an observation from uniform distrubution on interval [0, 1]. \n",
        "\n",
        "Find an analytical form of $F^{-1}(r)$ and write a function `power_law_ppf` (percent point function, also known as a quantile) with parameters `r`, `alpha` and `x_min`. "
      ]
    },
    {
      "cell_type": "code",
      "execution_count": 7,
      "id": "8e93abab",
      "metadata": {
        "deletable": false,
        "nbgrader": {
          "cell_type": "code",
          "checksum": "be67ee873cb3bf60c2e62921b187b228",
          "grade": false,
          "grade_id": "cell-63a819b2bc8441f1",
          "locked": false,
          "schema_version": 3,
          "solution": true,
          "task": false
        },
        "id": "8e93abab"
      },
      "outputs": [],
      "source": [
        "def power_law_ppf(r, alpha=3.5, x_min=1):\n",
        "    # YOUR CODE HERE\n",
        "    C = (alpha - 1) / x_min ** (1 - alpha)\n",
        "    #raise NotImplementedError()\n",
        "    return (C/((r-1)*(1-alpha)))**(1/(alpha-1))"
      ]
    },
    {
      "cell_type": "code",
      "execution_count": 8,
      "id": "d5f5fc58",
      "metadata": {
        "deletable": false,
        "editable": false,
        "nbgrader": {
          "cell_type": "code",
          "checksum": "b32d610b69907fe3c30a3f098fe01b2c",
          "grade": true,
          "grade_id": "cell-0b447767612a3798",
          "locked": true,
          "points": 1,
          "schema_version": 3,
          "solution": false,
          "task": false
        },
        "id": "d5f5fc58"
      },
      "outputs": [],
      "source": [
        "assert round(power_law_ppf(0.5, 2, 1), 2) == 2\n",
        "assert round(power_law_ppf(0.9, 2, 1), 2) == 10\n",
        "assert adler32(str(round(power_law_ppf(0.96, 3, 1), 2)).encode()) == 19792020"
      ]
    },
    {
      "cell_type": "code",
      "execution_count": 9,
      "id": "de28f351",
      "metadata": {
        "id": "de28f351",
        "outputId": "aa11b207-70d2-41fd-982e-f2183d7686c4",
        "colab": {
          "base_uri": "https://localhost:8080/",
          "height": 54
        }
      },
      "outputs": [
        {
          "output_type": "display_data",
          "data": {
            "image/png": "[encoded data removed]",
            "text/plain": [
              "<Figure size 432x288 with 1 Axes>"
            ]
          },
          "metadata": {
            "needs_background": "light"
          }
        }
      ],
      "source": [
        "x_space = np.linspace(0, 0.999, 100)\n",
        "plt.plot(x_space, power_law_ppf(x_space))\n",
        "plt.title('Power Law PPF');"
      ]
    },
    {
      "cell_type": "markdown",
      "id": "4f0ff961",
      "metadata": {
        "id": "4f0ff961"
      },
      "source": [
        "Finally, we can generate observation from Power law distribution as follows:\n",
        "1. Generate observation from uniform distribution on interval [0, 1]\n",
        "2. Calculate PPF value of given observation"
      ]
    },
    {
      "cell_type": "code",
      "execution_count": 10,
      "id": "13f54551",
      "metadata": {
        "id": "13f54551"
      },
      "outputs": [],
      "source": [
        "def power_law_generate(n, alpha=3.5, x_min=1, random_seed=1):\n",
        "    np.random.seed(random_seed)\n",
        "    uni_sample = np.random.uniform(0, 0.999, n)\n",
        "    return power_law_ppf(uni_sample, alpha, x_min)"
      ]
    },
    {
      "cell_type": "markdown",
      "id": "f8a6ee03",
      "metadata": {
        "id": "f8a6ee03"
      },
      "source": [
        "Look at the histogram of the generated sample"
      ]
    },
    {
      "cell_type": "code",
      "execution_count": 11,
      "id": "428cbab7",
      "metadata": {
        "id": "428cbab7"
      },
      "outputs": [],
      "source": [
        "alpha = 3.5\n",
        "x_min = 1\n",
        "x_train = power_law_generate(1000, alpha, x_min)\n",
        "x_space = np.linspace(1, 15, 100)"
      ]
    },
    {
      "cell_type": "code",
      "execution_count": 12,
      "id": "9ebe8680",
      "metadata": {
        "id": "9ebe8680",
        "outputId": "016d62c0-0cd2-4b96-9eec-8f6e6fcb56d3",
        "colab": {
          "base_uri": "https://localhost:8080/",
          "height": 54
        }
      },
      "outputs": [
        {
          "output_type": "display_data",
          "data": {
            "image/png": "[encoded data removed]",
            "text/plain": [
              "<Figure size 432x288 with 1 Axes>"
            ]
          },
          "metadata": {
            "needs_background": "light"
          }
        }
      ],
      "source": [
        "hist, bin_edges = np.histogram(x_train, bins=200, density=True)\n",
        "bin_centers = (bin_edges[1:] + bin_edges[:-1]) / 2\n",
        "plt.scatter(bin_centers[hist > 0], hist[hist > 0], s=10)\n",
        "plt.plot(x_space, power_law_pdf(x_space, alpha, x_min), \n",
        "         label='Theoretical PDF', c='tab:orange')\n",
        "plt.legend()\n",
        "plt.xlim(1, 10)\n",
        "plt.show()"
      ]
    },
    {
      "cell_type": "markdown",
      "id": "cc48e216",
      "metadata": {
        "id": "cc48e216"
      },
      "source": [
        "And here is the same histogram in log-log scale"
      ]
    },
    {
      "cell_type": "code",
      "execution_count": 13,
      "id": "baa771e0",
      "metadata": {
        "id": "baa771e0",
        "outputId": "dc105fb7-7765-4366-9d86-fc969a0c23f9",
        "colab": {
          "base_uri": "https://localhost:8080/",
          "height": 54
        }
      },
      "outputs": [
        {
          "output_type": "display_data",
          "data": {
            "image/png": "[encoded data removed]",
            "text/plain": [
              "<Figure size 432x288 with 1 Axes>"
            ]
          },
          "metadata": {
            "needs_background": "light"
          }
        }
      ],
      "source": [
        "hist, bin_edges = np.histogram(x_train, bins=200, density=True)\n",
        "bin_centers = (bin_edges[1:] + bin_edges[:-1]) / 2\n",
        "plt.scatter(bin_centers, hist, s=10)\n",
        "plt.plot(x_space, power_law_pdf(x_space, alpha, x_min), \n",
        "         label='Theoretical PDF', c='tab:orange')\n",
        "plt.legend()\n",
        "plt.xscale('log')\n",
        "plt.yscale('log')\n",
        "plt.xlim(1, 10)\n",
        "plt.show()"
      ]
    },
    {
      "cell_type": "markdown",
      "id": "393e13dd",
      "metadata": {
        "id": "393e13dd"
      },
      "source": [
        "### Task 3. Estimation of alpha with linear binning (2 points)"
      ]
    },
    {
      "cell_type": "markdown",
      "id": "d11826f5",
      "metadata": {
        "id": "d11826f5"
      },
      "source": [
        "Given observations from the Power Law distribution, try to estimate $\\alpha$. The easiest way is to draw an empirical PDF with linear binning in log-log scale and apply linear regression. By _linear binning_ we mean to keep a bin width is fixed.\n",
        "\n",
        "Write a function `alpha_lin_bins` that takes a train set, number of linear bins and returns an estimated $\\alpha$.\n",
        "\n",
        "_Hints:_\n",
        "* _Take log in both side of $p(x) = Cx^{-\\alpha}$_\n",
        "* _To calculate an empirical PDF, use `np.histogram(x_train, bins=bins, density=True)`_\n",
        "* _To calculate pseudoinverse matrix, use `np.linalg.pinv`_\n",
        "* _Also you can use fit-predict in `sklearn.linear.LinearRegression`_"
      ]
    },
    {
      "cell_type": "code",
      "execution_count": 144,
      "id": "a71c706c",
      "metadata": {
        "deletable": false,
        "nbgrader": {
          "cell_type": "code",
          "checksum": "98c4c6ef2ed0c2d94c440d3e8e932b7e",
          "grade": false,
          "grade_id": "cell-c57a5c7c5834b80e",
          "locked": false,
          "schema_version": 3,
          "solution": true,
          "task": false
        },
        "id": "a71c706c"
      },
      "outputs": [],
      "source": [
        "def alpha_lin_bins(x_train, bins):\n",
        "    # YOUR CODE HERE\n",
        "    hist, bin_edges  = np.histogram(x_train, bins=bins, density=True)\n",
        "    bin_centers = np.log((bin_edges[1:]+bin_edges[:-1])/2).reshape(-1,1)\n",
        "    X = np.c_[bin_centers,np.ones(len(bin_centers))]\n",
        "    X = X[hist>0]\n",
        "    y = np.log(hist[hist>0])\n",
        "    return -(np.linalg.pinv(X)@y)[0]\n",
        "    #raise NotImplementedError()"
      ]
    },
    {
      "cell_type": "code",
      "execution_count": 145,
      "id": "0ce10fac",
      "metadata": {
        "deletable": false,
        "editable": false,
        "nbgrader": {
          "cell_type": "code",
          "checksum": "a19a9fcb480e083446fbee519d1dd98b",
          "grade": true,
          "grade_id": "cell-b9cf21aabb190bd7",
          "locked": true,
          "points": 2,
          "schema_version": 3,
          "solution": false,
          "task": false
        },
        "id": "0ce10fac"
      },
      "outputs": [],
      "source": [
        "bins = 100\n",
        "x_train = power_law_generate(1000, x_min=1, alpha=2)\n",
        "assert np.abs(alpha_lin_bins(x_train, bins) - 2) < 0.7\n",
        "x_train = power_law_generate(1000, x_min=1, alpha=3.5)\n",
        "assert np.abs(alpha_lin_bins(x_train, bins) - 3.5) < 0.9\n",
        "x_train = power_law_generate(1000, x_min=1, alpha=10)\n",
        "assert np.abs(alpha_lin_bins(x_train, bins) - 10) < 2"
      ]
    },
    {
      "cell_type": "code",
      "execution_count": 146,
      "id": "b6287095",
      "metadata": {
        "id": "b6287095",
        "colab": {
          "base_uri": "https://localhost:8080/",
          "height": 285
        },
        "outputId": "64c6a649-3767-4c84-f288-9c38d3a511aa"
      },
      "outputs": [
        {
          "output_type": "display_data",
          "data": {
            "image/png": "[encoded data removed]",
            "text/plain": [
              "<Figure size 432x288 with 1 Axes>"
            ]
          },
          "metadata": {
            "needs_background": "light"
          }
        }
      ],
      "source": [
        "x_min = 1\n",
        "alpha = 3.5\n",
        "bins = 100\n",
        "\n",
        "x_train = power_law_generate(1000, alpha, x_min)\n",
        "hist, bin_edges = np.histogram(x_train, bins=bins, density=True)\n",
        "bin_centers = (bin_edges[1:] + bin_edges[:-1]) / 2\n",
        "plt.scatter(bin_centers, hist, s=10)\n",
        "\n",
        "hat_alpha = alpha_lin_bins(x_train, bins)\n",
        "x_space = np.linspace(x_min, x_train.max(), 100)\n",
        "plt.plot(x_space, power_law_pdf(x_space, hat_alpha, x_min), \n",
        "         label='Estimated PDF', c='tab:orange')\n",
        "plt.legend()\n",
        "plt.title('Truth alpha = {:.2f}, estimated alpha = {:.2f}'.format(alpha, hat_alpha))\n",
        "plt.xscale('log')\n",
        "plt.yscale('log')\n",
        "plt.show()"
      ]
    },
    {
      "cell_type": "markdown",
      "id": "f7186825",
      "metadata": {
        "id": "f7186825"
      },
      "source": [
        "### Task 4. Generation graphs with a given degree distribution (2 points)"
      ]
    },
    {
      "cell_type": "markdown",
      "id": "b442e632",
      "metadata": {
        "id": "b442e632"
      },
      "source": [
        "In this task, we will try to guess a graph by its degree distribution.\n",
        "\n",
        "__Graph A__ is described by the histogram `[0, 2, 10]` — 0 nodes with degree 0, 2 nodes with degree 1, 10 nodes with degree 2."
      ]
    },
    {
      "cell_type": "code",
      "execution_count": 16,
      "id": "67fdb84f",
      "metadata": {
        "id": "67fdb84f",
        "colab": {
          "base_uri": "https://localhost:8080/",
          "height": 265
        },
        "outputId": "20237264-e934-46bb-87c4-059f0d4a69b7"
      },
      "outputs": [
        {
          "output_type": "display_data",
          "data": {
            "image/png": "[encoded data removed]",
            "text/plain": [
              "<Figure size 432x288 with 1 Axes>"
            ]
          },
          "metadata": {
            "needs_background": "light"
          }
        }
      ],
      "source": [
        "dens_a = [0, 2, 10]\n",
        "plt.bar(range(len(dens_a)), dens_a);"
      ]
    },
    {
      "cell_type": "code",
      "execution_count": 17,
      "id": "cfc43463",
      "metadata": {
        "deletable": false,
        "nbgrader": {
          "cell_type": "code",
          "checksum": "7726ebdf8814362b9595c84fe0221e09",
          "grade": false,
          "grade_id": "cell-4308485bfb1bf30e",
          "locked": false,
          "schema_version": 3,
          "solution": true,
          "task": false
        },
        "id": "cfc43463"
      },
      "outputs": [],
      "source": [
        "def generate_graph_a() -> nx.Graph:\n",
        "    # YOUR CODE HERE\n",
        "    G = nx.path_graph(12)\n",
        "    #raise NotImplementedError()\n",
        "    return G"
      ]
    },
    {
      "cell_type": "code",
      "execution_count": 18,
      "id": "97e1cb1e",
      "metadata": {
        "deletable": false,
        "editable": false,
        "nbgrader": {
          "cell_type": "code",
          "checksum": "1f824c1a20c44b478ac30ce41ad43f35",
          "grade": true,
          "grade_id": "cell-226da2d721eaace4",
          "locked": true,
          "points": 0.5,
          "schema_version": 3,
          "solution": false,
          "task": false
        },
        "id": "97e1cb1e",
        "colab": {
          "base_uri": "https://localhost:8080/",
          "height": 248
        },
        "outputId": "628e7246-1513-435a-911e-3dd6f5d72d84"
      },
      "outputs": [
        {
          "output_type": "display_data",
          "data": {
            "image/png": "[encoded data removed]",
            "text/plain": [
              "<Figure size 432x288 with 1 Axes>"
            ]
          },
          "metadata": {}
        }
      ],
      "source": [
        "G = generate_graph_a()\n",
        "assert nx.degree_histogram(G) == dens_a\n",
        "assert nx.is_connected(G)\n",
        "nx.draw_networkx(G)"
      ]
    },
    {
      "cell_type": "markdown",
      "id": "d8e012b6",
      "metadata": {
        "id": "d8e012b6"
      },
      "source": [
        "__Graph B__"
      ]
    },
    {
      "cell_type": "code",
      "execution_count": 19,
      "id": "0547ce55",
      "metadata": {
        "id": "0547ce55",
        "colab": {
          "base_uri": "https://localhost:8080/",
          "height": 265
        },
        "outputId": "e7379f5f-8585-428f-8235-c8c494dd4d6c"
      },
      "outputs": [
        {
          "output_type": "display_data",
          "data": {
            "image/png": "[encoded data removed]",
            "text/plain": [
              "<Figure size 432x288 with 1 Axes>"
            ]
          },
          "metadata": {
            "needs_background": "light"
          }
        }
      ],
      "source": [
        "dens_b = [0, 0, 10]\n",
        "plt.bar(range(len(dens_b)), dens_b);"
      ]
    },
    {
      "cell_type": "code",
      "execution_count": 20,
      "id": "8c096c21",
      "metadata": {
        "deletable": false,
        "nbgrader": {
          "cell_type": "code",
          "checksum": "41e7af615198bd34567381ea1b34f56c",
          "grade": false,
          "grade_id": "cell-55d7cfacd5c8d553",
          "locked": false,
          "schema_version": 3,
          "solution": true,
          "task": false
        },
        "id": "8c096c21"
      },
      "outputs": [],
      "source": [
        "def generate_graph_b() -> nx.Graph:\n",
        "    # YOUR CODE HERE\n",
        "    #raise NotImplementedError()\n",
        "    G = nx.path_graph(10)\n",
        "    G.add_edge(0,9)\n",
        "    return G"
      ]
    },
    {
      "cell_type": "code",
      "execution_count": 21,
      "id": "d0e7e12f",
      "metadata": {
        "deletable": false,
        "editable": false,
        "nbgrader": {
          "cell_type": "code",
          "checksum": "04074a13ca0dda242e4a7df044440fd7",
          "grade": true,
          "grade_id": "cell-11bb8205ad27326a",
          "locked": true,
          "points": 0.5,
          "schema_version": 3,
          "solution": false,
          "task": false
        },
        "id": "d0e7e12f",
        "colab": {
          "base_uri": "https://localhost:8080/",
          "height": 248
        },
        "outputId": "0e5d41bc-f079-42d0-f586-7dc2b59d98d9"
      },
      "outputs": [
        {
          "output_type": "display_data",
          "data": {
            "image/png": "[encoded data removed]",
            "text/plain": [
              "<Figure size 432x288 with 1 Axes>"
            ]
          },
          "metadata": {}
        }
      ],
      "source": [
        "G = generate_graph_b()\n",
        "assert nx.degree_histogram(G) == dens_b\n",
        "assert nx.is_connected(G)\n",
        "nx.draw_networkx(G)"
      ]
    },
    {
      "cell_type": "markdown",
      "id": "01b95eeb",
      "metadata": {
        "id": "01b95eeb"
      },
      "source": [
        "__Graph C__"
      ]
    },
    {
      "cell_type": "code",
      "execution_count": 22,
      "id": "d39fbc7f",
      "metadata": {
        "id": "d39fbc7f",
        "colab": {
          "base_uri": "https://localhost:8080/",
          "height": 265
        },
        "outputId": "4b9343c7-0070-44cc-c53a-7ec67a1f1c70"
      },
      "outputs": [
        {
          "output_type": "display_data",
          "data": {
            "image/png": "[encoded data removed]",
            "text/plain": [
              "<Figure size 432x288 with 1 Axes>"
            ]
          },
          "metadata": {
            "needs_background": "light"
          }
        }
      ],
      "source": [
        "dens_c = [0, 0, 0, 0, 5]\n",
        "plt.bar(range(len(dens_c)), dens_c);"
      ]
    },
    {
      "cell_type": "code",
      "execution_count": 23,
      "id": "4e708647",
      "metadata": {
        "deletable": false,
        "nbgrader": {
          "cell_type": "code",
          "checksum": "dac931bc16a78ae011fdaab8f99a54ca",
          "grade": false,
          "grade_id": "cell-6ad0ea3f81976162",
          "locked": false,
          "schema_version": 3,
          "solution": true,
          "task": false
        },
        "id": "4e708647"
      },
      "outputs": [],
      "source": [
        "def generate_graph_c() -> nx.Graph:\n",
        "    # YOUR CODE HERE\n",
        "    #raise NotImplementedError()\n",
        "    G= nx.complete_graph(5)\n",
        "    return G"
      ]
    },
    {
      "cell_type": "code",
      "execution_count": 24,
      "id": "3643c6fe",
      "metadata": {
        "deletable": false,
        "editable": false,
        "nbgrader": {
          "cell_type": "code",
          "checksum": "ae570e373a3db27d589d3d863da0f81e",
          "grade": true,
          "grade_id": "cell-508d2e23c067c4d2",
          "locked": true,
          "points": 0.5,
          "schema_version": 3,
          "solution": false,
          "task": false
        },
        "id": "3643c6fe",
        "colab": {
          "base_uri": "https://localhost:8080/",
          "height": 248
        },
        "outputId": "5a381438-876c-472c-95aa-de79087e746b"
      },
      "outputs": [
        {
          "output_type": "display_data",
          "data": {
            "image/png": "[encoded data removed]",
            "text/plain": [
              "<Figure size 432x288 with 1 Axes>"
            ]
          },
          "metadata": {}
        }
      ],
      "source": [
        "G = generate_graph_c()\n",
        "assert nx.degree_histogram(G) == dens_c\n",
        "assert nx.is_connected(G)\n",
        "nx.draw_networkx(G)"
      ]
    },
    {
      "cell_type": "markdown",
      "id": "fcf0490c",
      "metadata": {
        "id": "fcf0490c"
      },
      "source": [
        "__Graph D__"
      ]
    },
    {
      "cell_type": "code",
      "execution_count": 25,
      "id": "ba7e938a",
      "metadata": {
        "id": "ba7e938a",
        "colab": {
          "base_uri": "https://localhost:8080/",
          "height": 265
        },
        "outputId": "5a5baf86-8f70-4b04-e5e7-bc73c0b9ad51"
      },
      "outputs": [
        {
          "output_type": "display_data",
          "data": {
            "image/png": "[encoded data removed]",
            "text/plain": [
              "<Figure size 432x288 with 1 Axes>"
            ]
          },
          "metadata": {
            "needs_background": "light"
          }
        }
      ],
      "source": [
        "dens_d = [0, 5, 0, 0, 0, 1]\n",
        "plt.bar(range(len(dens_d)), dens_d);"
      ]
    },
    {
      "cell_type": "code",
      "execution_count": 26,
      "id": "c0e7f51a",
      "metadata": {
        "deletable": false,
        "nbgrader": {
          "cell_type": "code",
          "checksum": "f1ab3b74f2b7a677c3844675c785ef5a",
          "grade": false,
          "grade_id": "cell-2a6c0c0fe4dda491",
          "locked": false,
          "schema_version": 3,
          "solution": true,
          "task": false
        },
        "id": "c0e7f51a"
      },
      "outputs": [],
      "source": [
        "def generate_graph_d() -> nx.Graph:\n",
        "    # YOUR CODE HERE\n",
        "    #raise NotImplementedError()\n",
        "    G = nx.Graph()\n",
        "    G.add_nodes_from(range(5))\n",
        "    edges_list = list()\n",
        "    for node in range (1,6):\n",
        "      edges_list.append((0,node))\n",
        "    G.add_edges_from(edges_list)\n",
        "    return G"
      ]
    },
    {
      "cell_type": "code",
      "execution_count": 27,
      "id": "fc67ff35",
      "metadata": {
        "deletable": false,
        "editable": false,
        "nbgrader": {
          "cell_type": "code",
          "checksum": "c464ac5cf72aa9486f49d10f0029e4eb",
          "grade": true,
          "grade_id": "cell-c9c34144467f9031",
          "locked": true,
          "points": 0.5,
          "schema_version": 3,
          "solution": false,
          "task": false
        },
        "id": "fc67ff35",
        "colab": {
          "base_uri": "https://localhost:8080/",
          "height": 248
        },
        "outputId": "d4a1d96e-3730-429f-d605-1a8df2aff483"
      },
      "outputs": [
        {
          "output_type": "display_data",
          "data": {
            "image/png": "[encoded data removed]",
            "text/plain": [
              "<Figure size 432x288 with 1 Axes>"
            ]
          },
          "metadata": {}
        }
      ],
      "source": [
        "G = generate_graph_d()\n",
        "assert nx.degree_histogram(G) == dens_d\n",
        "assert nx.is_connected(G)\n",
        "nx.draw_networkx(G)"
      ]
    },
    {
      "cell_type": "markdown",
      "id": "8b875e52",
      "metadata": {
        "id": "8b875e52"
      },
      "source": [
        "### Task 5. MLE of alpha in Power Law (2 points)"
      ]
    },
    {
      "cell_type": "markdown",
      "id": "e064e2f3",
      "metadata": {
        "id": "e064e2f3"
      },
      "source": [
        "Let us estimate $\\alpha$ and $x_\\min$ of a real social network using maximum likelihood. Here is a real degree distribution of the network of emails between members of the research institution with 1005 nodes."
      ]
    },
    {
      "cell_type": "code",
      "execution_count": 115,
      "id": "3430afee",
      "metadata": {
        "id": "3430afee"
      },
      "outputs": [],
      "source": [
        "url = 'https://raw.githubusercontent.com/network-science-course/network-science-course/main/datasets/email_degree_sequence.txt'\n",
        "open('email_degree_sequence.txt', 'wb').write(requests.get(url).content);\n"
      ]
    },
    {
      "cell_type": "code",
      "execution_count": 90,
      "id": "a9cc7d84",
      "metadata": {
        "id": "a9cc7d84",
        "colab": {
          "base_uri": "https://localhost:8080/",
          "height": 285
        },
        "outputId": "41231e75-22be-48db-db6d-3ed9cc5d4ffd"
      },
      "outputs": [
        {
          "output_type": "display_data",
          "data": {
            "image/png": "[encoded data removed]",
            "text/plain": [
              "<Figure size 432x288 with 1 Axes>"
            ]
          },
          "metadata": {
            "needs_background": "light"
          }
        }
      ],
      "source": [
        "degree_sequence = np.loadtxt('email_degree_sequence.txt')\n",
        "hist, bin_edges = np.histogram(degree_sequence, bins=1000, density=True)\n",
        "bin_centers = (bin_edges[1:] + bin_edges[:-1]) / 2\n",
        "plt.scatter(bin_centers[hist > 0], hist[hist > 0], s=5)\n",
        "plt.title('Email network degree distribution')\n",
        "plt.xscale('log')\n",
        "plt.yscale('log')"
      ]
    },
    {
      "cell_type": "markdown",
      "id": "1672308b",
      "metadata": {
        "id": "1672308b"
      },
      "source": [
        "The MLE consists of:\n",
        "1. Fix $x_\\min$ as a minimal node degree (drop node degrees that less than $x_\\min$)\n",
        "2. Calculate $\\alpha$ via maximum likelihood estimation using fixed $x_\\min$\n",
        "$$\\alpha = 1 + n \\left[\\sum_i \\log \\frac{x_i}{x_\\min} \\right]^{-1}$$\n",
        "3. Calculate Kolmogorov-Smirnov test\n",
        "4. Fix $x_\\min$ as the next node degree\n",
        "5. Repeat 2-4 by scanning all possible $x_\\min$ and find the best $\\alpha$ and $x_\\min$ with respect to Kolmogorov-Smirnov test\n",
        "\n",
        "Write a function `ml_power_law_params` that takes a node degree sequence `degree_sequence` and returns a tuple of two values: the best $\\alpha$ and $x_\\min$.\n",
        "\n",
        "_Hints:_\n",
        "* _To calculate Kolmogorov-Smirnov distance use `scipy.stats.kstest` with a parameter `cdf=power_law_cdf`_"
      ]
    },
    {
      "cell_type": "code",
      "execution_count": 142,
      "id": "970c6d13",
      "metadata": {
        "deletable": false,
        "nbgrader": {
          "cell_type": "code",
          "checksum": "8bc64f253c03d807aade17cb9dee113b",
          "grade": false,
          "grade_id": "cell-c0da4153dae3178a",
          "locked": false,
          "schema_version": 3,
          "solution": true,
          "task": false
        },
        "id": "970c6d13"
      },
      "outputs": [],
      "source": [
        "def mle_power_law_params(degree_sequence):\n",
        "  sum_of_log = 0 \n",
        "  min_D = 1000\n",
        "  x_min_hat= 0\n",
        "  alpha_hat = 0 \n",
        "  np.sort(degree_sequence)\n",
        "  #degree_sequence =degree_sequence[20 : -20]\n",
        "    #n = degree_sequence.size\n",
        "  for x_min in degree_sequence:\n",
        "    tmp_degree_sequence = degree_sequence[degree_sequence>x_min]\n",
        "    if (tmp_degree_sequence.size >0):\n",
        "      n = tmp_degree_sequence.size\n",
        "      for x in tmp_degree_sequence:\n",
        "        sum_of_log = sum_of_log + math.log(x/x_min)\n",
        "      if (sum_of_log != 0):  \n",
        "        alpha = 1+ (n/sum_of_log)\n",
        "        statistics , pvalue = kstest(tmp_degree_sequence, cdf=power_law_cdf)\n",
        "        if (min_D> np.abs(statistics)):\n",
        "          min_D= statistics\n",
        "          x_min_hat = x_min\n",
        "          alpha_hat= alpha\n",
        "    sum_of_log = 0\n",
        "  return alpha_hat,x_min_hat"
      ]
    },
    {
      "cell_type": "code",
      "execution_count": 143,
      "id": "950ee47d",
      "metadata": {
        "deletable": false,
        "editable": false,
        "nbgrader": {
          "cell_type": "code",
          "checksum": "0429967c2ea55efbadc6b45066f153ae",
          "grade": true,
          "grade_id": "cell-213992ed205e9591",
          "locked": true,
          "points": 2,
          "schema_version": 3,
          "solution": false,
          "task": false
        },
        "id": "950ee47d",
        "colab": {
          "base_uri": "https://localhost:8080/",
          "height": 241
        },
        "outputId": "b1c16f3d-e57d-4dfc-d378-48bb59d76334"
      },
      "outputs": [
        {
          "output_type": "error",
          "ename": "AssertionError",
          "evalue": "ignored",
          "traceback": [
            "\u001b[0;31m---------------------------------------------------------------------------\u001b[0m",
            "\u001b[0;31mAssertionError\u001b[0m                            Traceback (most recent call last)",
            "\u001b[0;32m<ipython-input-143-1e833c0e3efc>\u001b[0m in \u001b[0;36m<module>\u001b[0;34m()\u001b[0m\n\u001b[1;32m      6\u001b[0m \u001b[0malpha\u001b[0m\u001b[0;34m,\u001b[0m \u001b[0mx_min\u001b[0m \u001b[0;34m=\u001b[0m \u001b[0;36m7\u001b[0m\u001b[0;34m,\u001b[0m \u001b[0;36m1\u001b[0m\u001b[0;34m\u001b[0m\u001b[0;34m\u001b[0m\u001b[0m\n\u001b[1;32m      7\u001b[0m \u001b[0mhat_alpha\u001b[0m\u001b[0;34m,\u001b[0m \u001b[0mhat_x_min\u001b[0m \u001b[0;34m=\u001b[0m \u001b[0mmle_power_law_params\u001b[0m\u001b[0;34m(\u001b[0m\u001b[0mpower_law_generate\u001b[0m\u001b[0;34m(\u001b[0m\u001b[0;36m1000\u001b[0m\u001b[0;34m,\u001b[0m \u001b[0malpha\u001b[0m\u001b[0;34m,\u001b[0m \u001b[0mx_min\u001b[0m\u001b[0;34m)\u001b[0m\u001b[0;34m)\u001b[0m\u001b[0;34m\u001b[0m\u001b[0;34m\u001b[0m\u001b[0m\n\u001b[0;32m----> 8\u001b[0;31m \u001b[0;32massert\u001b[0m \u001b[0mnp\u001b[0m\u001b[0;34m.\u001b[0m\u001b[0mabs\u001b[0m\u001b[0;34m(\u001b[0m\u001b[0mhat_alpha\u001b[0m \u001b[0;34m-\u001b[0m \u001b[0malpha\u001b[0m\u001b[0;34m)\u001b[0m \u001b[0;34m<\u001b[0m \u001b[0;36m0.1\u001b[0m\u001b[0;34m\u001b[0m\u001b[0;34m\u001b[0m\u001b[0m\n\u001b[0m\u001b[1;32m      9\u001b[0m \u001b[0;32massert\u001b[0m \u001b[0mnp\u001b[0m\u001b[0;34m.\u001b[0m\u001b[0mabs\u001b[0m\u001b[0;34m(\u001b[0m\u001b[0mhat_x_min\u001b[0m \u001b[0;34m-\u001b[0m \u001b[0mx_min\u001b[0m\u001b[0;34m)\u001b[0m \u001b[0;34m<\u001b[0m \u001b[0;36m0.0001\u001b[0m\u001b[0;34m\u001b[0m\u001b[0;34m\u001b[0m\u001b[0m\n\u001b[1;32m     10\u001b[0m \u001b[0;34m\u001b[0m\u001b[0m\n",
            "\u001b[0;31mAssertionError\u001b[0m: "
          ]
        }
      ],
      "source": [
        "alpha, x_min = 3.5, 3\n",
        "hat_alpha, hat_x_min = mle_power_law_params(power_law_generate(1000, alpha, x_min))\n",
        "assert np.abs(hat_alpha - alpha) < 0.05\n",
        "assert np.abs(hat_x_min - x_min) < 0.001\n",
        "\n",
        "alpha, x_min = 7, 1\n",
        "hat_alpha, hat_x_min = mle_power_law_params(power_law_generate(1000, alpha, x_min))\n",
        "assert np.abs(hat_alpha - alpha) < 0.1\n",
        "assert np.abs(hat_x_min - x_min) < 0.0001\n",
        "\n",
        "hat_alpha, hat_x_min = mle_power_law_params(degree_sequence)\n",
        "assert np.abs(hat_alpha - 2.9) < 0.1\n",
        "assert np.abs(hat_x_min - 42) < 1"
      ]
    },
    {
      "cell_type": "code",
      "execution_count": 112,
      "id": "a00a42a1",
      "metadata": {
        "id": "a00a42a1",
        "colab": {
          "base_uri": "https://localhost:8080/",
          "height": 285
        },
        "outputId": "161621b0-e596-40f1-a850-e8f7825306d5"
      },
      "outputs": [
        {
          "output_type": "display_data",
          "data": {
            "image/png": "[encoded data removed]",
            "text/plain": [
              "<Figure size 432x288 with 1 Axes>"
            ]
          },
          "metadata": {
            "needs_background": "light"
          }
        }
      ],
      "source": [
        "hist, bin_edges = np.histogram(degree_sequence, bins=1000, density=True)\n",
        "bin_centers = (bin_edges[1:] + bin_edges[:-1]) / 2\n",
        "plt.scatter(bin_centers[hist > 0], hist[hist > 0], s=5)\n",
        "plt.title('Email network degree distribution')\n",
        "\n",
        "hat_alpha, hat_x_min = mle_power_law_params(degree_sequence)\n",
        "x_space = np.linspace(hat_x_min, degree_sequence.max(), 100)\n",
        "plt.plot(x_space, power_law_pdf(x_space, hat_alpha, hat_x_min), \n",
        "         label='Estimated PDF', c='tab:orange')\n",
        "plt.xscale('log')\n",
        "plt.yscale('log')\n",
        "plt.ylim(0.001, 0.5);"
      ]
    },
    {
      "cell_type": "markdown",
      "id": "5a525068",
      "metadata": {
        "id": "5a525068"
      },
      "source": [
        "### Task 6. QQ Plot (2 points)"
      ]
    },
    {
      "cell_type": "markdown",
      "id": "f9199f6e",
      "metadata": {
        "id": "f9199f6e"
      },
      "source": [
        "It might be useful to draw a quantile-quantile plot (QQ plot) to compare empirical and theoretical distributions by the eye. Your task here is to generate Power Law observations by given parameters and compare theoretical and empirical quantiles.\n",
        "\n",
        "Write a function `qqplot_data` that takes $\\alpha$, $x_\\min$, number of observations $n$ that will be generated and returns a tuple with two np.arrays: theoretical quantiles and empirical quantiles. Let quantiles be calculated for probabilities 0, 0.01, 0.02, ..., 0.99.\n",
        "\n",
        "_Hint: to calculate an empirical quantile, use `np.quantile`_"
      ]
    },
    {
      "cell_type": "code",
      "execution_count": 124,
      "id": "58b46d1f",
      "metadata": {
        "deletable": false,
        "nbgrader": {
          "cell_type": "code",
          "checksum": "8eec986886f46027e0d0884381921de0",
          "grade": false,
          "grade_id": "cell-7536b41d94152420",
          "locked": false,
          "schema_version": 3,
          "solution": true,
          "task": false
        },
        "id": "58b46d1f"
      },
      "outputs": [],
      "source": [
        "def qqplot_data(alpha, x_min, n):\n",
        "    # YOUR CODE HERE\n",
        "    degree_sequence = power_law_generate(n, alpha, x_min)\n",
        "    theroretical_quantiles= np.zeros(100)\n",
        "    empirical_quantiles=np.zeros(100)\n",
        "    iter= 0.0\n",
        "    i=0\n",
        "    while (iter<=0.99):\n",
        "      \n",
        "      theoritical =power_law_ppf(iter,alpha,x_min)\n",
        "      emperical = np.quantile(degree_sequence,iter)\n",
        "      theroretical_quantiles[i] = theoritical\n",
        "      empirical_quantiles[i]=emperical\n",
        "      iter = iter +0.1\n",
        "      i=i+1\n",
        "    #raise NotImplementedError()\n",
        "    return (theroretical_quantiles,empirical_quantiles)"
      ]
    },
    {
      "cell_type": "code",
      "execution_count": 125,
      "id": "78f86b3d",
      "metadata": {
        "deletable": false,
        "editable": false,
        "nbgrader": {
          "cell_type": "code",
          "checksum": "4be6b71ef9a8571adaea471ab20aad2e",
          "grade": true,
          "grade_id": "cell-cee74bedb007dbfa",
          "locked": true,
          "points": 2,
          "schema_version": 3,
          "solution": false,
          "task": false
        },
        "id": "78f86b3d"
      },
      "outputs": [],
      "source": [
        "x_min = 1\n",
        "alpha = 3.5\n",
        "\n",
        "theor100, empir100 = qqplot_data(alpha, x_min, 100)\n",
        "theor200, empir200 = qqplot_data(alpha, x_min, 200)\n",
        "theor1000, empir1000 = qqplot_data(alpha, x_min, 1000)\n",
        "assert np.linalg.norm(theor1000 - empir1000) < np.linalg.norm(theor200 - empir200)\n",
        "assert np.linalg.norm(theor200 - empir200) < np.linalg.norm(theor100 - empir100)"
      ]
    },
    {
      "cell_type": "code",
      "execution_count": 126,
      "id": "fa7adda8",
      "metadata": {
        "id": "fa7adda8",
        "colab": {
          "base_uri": "https://localhost:8080/",
          "height": 241
        },
        "outputId": "4e205bba-568e-430e-e1f3-3235feb2a92c"
      },
      "outputs": [
        {
          "output_type": "display_data",
          "data": {
            "image/png": "[encoded data removed]",
            "text/plain": [
              "<Figure size 864x216 with 3 Axes>"
            ]
          },
          "metadata": {
            "needs_background": "light"
          }
        }
      ],
      "source": [
        "plt.figure(figsize=(12, 3))\n",
        "\n",
        "plt.subplots_adjust(wspace=0.3)\n",
        "\n",
        "plt.subplot(1, 3, 1)\n",
        "plt.scatter(theor100, empir100, s=10)\n",
        "plt.plot([1, 7], [1, 7], '--', c='tab:orange')\n",
        "plt.title('QQ plot, N = 100')\n",
        "plt.xlabel('Theoretical distribution')\n",
        "plt.ylabel('Empirical distribution')\n",
        "plt.axis('square')\n",
        "\n",
        "plt.subplot(1, 3, 2)\n",
        "plt.scatter(theor200, empir200, s=10)\n",
        "plt.plot([1, 7], [1, 7], '--', c='tab:orange')\n",
        "plt.title('QQ plot, N = 200')\n",
        "plt.xlabel('Theoretical distribution')\n",
        "plt.ylabel('Empirical distribution')\n",
        "plt.axis('square')\n",
        "\n",
        "plt.subplot(1, 3, 3)\n",
        "plt.scatter(theor1000, empir1000, s=10)\n",
        "plt.plot([1, 7], [1, 7], '--', c='tab:orange')\n",
        "plt.title('QQ plot, N = 1000')\n",
        "plt.xlabel('Theoretical distribution')\n",
        "plt.ylabel('Empirical distribution')\n",
        "plt.axis('square');"
      ]
    },
    {
      "cell_type": "code",
      "execution_count": null,
      "id": "92bcd983",
      "metadata": {
        "id": "92bcd983"
      },
      "outputs": [],
      "source": [
        ""
      ]
    }
  ],
  "metadata": {
    "kernelspec": {
      "display_name": "Python 3 (ipykernel)",
      "language": "python",
      "name": "python3"
    },
    "language_info": {
      "codemirror_mode": {
        "name": "ipython",
        "version": 3
      },
      "file_extension": ".py",
      "mimetype": "text/x-python",
      "name": "python",
      "nbconvert_exporter": "python",
      "pygments_lexer": "ipython3",
      "version": "3.9.7"
    },
    "colab": {
      "name": "Copy_of_assignment.ipynb",
      "provenance": [],
      "collapsed_sections": [
        "d1ed2952",
        "d1705532"
      ]
    }
  },
  "nbformat": 4,
  "nbformat_minor": 5
}