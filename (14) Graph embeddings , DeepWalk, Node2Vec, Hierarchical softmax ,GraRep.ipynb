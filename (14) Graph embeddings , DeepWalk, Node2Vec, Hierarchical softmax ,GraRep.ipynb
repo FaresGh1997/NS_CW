{
 "cells": [
  {
   "cell_type": "markdown",
   "metadata": {
    "id": "omVMB32vJNgB"
   },
   "source": [
    "# Assignment — Graph embeddings"
   ]
  },
  {
   "cell_type": "code",
   "execution_count": 2,
   "metadata": {
    "id": "0jw1Bh-fJNgF"
   },
   "outputs": [],
   "source": [
    "import numpy as np\n",
    "from sklearn.manifold import TSNE\n",
    "from torch.optim import Adam\n",
    "from scipy.sparse import csr_matrix\n",
    "from torch.utils.data import DataLoader\n",
    "from sklearn.cluster import k_means\n",
    "from scipy.sparse.linalg import svds\n",
    "import matplotlib.pyplot as plt\n",
    "from tqdm.notebook import tqdm, trange\n",
    "from sklearn.decomposition import PCA\n",
    "import networkx as nx\n",
    "from sklearn.metrics import mutual_info_score\n",
    "import requests\n",
    "from torch.utils.data import Dataset\n",
    "import torch.nn as nn\n",
    "import torch\n",
    "from sklearn.model_selection import GridSearchCV\n",
    "from scipy import sparse"
   ]
  },
  {
   "cell_type": "markdown",
   "metadata": {
    "id": "FZvmCa1k_nK-"
   },
   "source": [
    "In this assignment, we will evaluate node embedding methods on the facebook graph where nodes are pages and edges are links. Each node has a category: government, tv-show, company, politician."
   ]
  },
  {
   "cell_type": "code",
   "execution_count": 3,
   "metadata": {
    "colab": {
     "base_uri": "https://localhost:8080/"
    },
    "id": "-I2DhszTyVg3",
    "outputId": "96776a6b-afab-433c-926b-841c635283da"
   },
   "outputs": [
    {
     "data": {
      "text/plain": [
       "(3873, array([0, 0, 0, ..., 3, 3, 3]))"
      ]
     },
     "execution_count": 3,
     "metadata": {},
     "output_type": "execute_result"
    }
   ],
   "source": [
    "url = 'https://raw.githubusercontent.com/netspractice/network-science/main/datasets/musae_facebook_ego_802.gml'\n",
    "open('musae_facebook_ego_802.gml', 'wb').write(requests.get(url).content)\n",
    "G = nx.read_gml('musae_facebook_ego_802.gml')\n",
    "G = nx.convert_node_labels_to_integers(G)\n",
    "_labels = np.array(list(nx.get_node_attributes(G, 'value').values()))\n",
    "unique = list(set(_labels))\n",
    "labels = np.array([unique.index(l) for l in _labels])\n",
    "len(G), labels"
   ]
  },
  {
   "cell_type": "markdown",
   "metadata": {
    "id": "Ssx8XznhJNgQ"
   },
   "source": [
    "### Task 1. DeepWalk (0 points)"
   ]
  },
  {
   "cell_type": "code",
   "execution_count": 4,
   "metadata": {
    "id": "CT9EHbHPJNgR"
   },
   "outputs": [],
   "source": [
    "import warnings\n",
    "warnings.simplefilter(action='ignore', category=FutureWarning)"
   ]
  },
  {
   "cell_type": "markdown",
   "metadata": {
    "id": "VFEVAy9NmX1_"
   },
   "source": [
    "Deepwalk is an approach for learning latent representations of nodes in a network. The motivation of DeepWalk is based on an observation that the frequency of nodes occurrence in the short random walks in social networks is similar to the frequency of words occurrence in sentences in natural languages.\n",
    "\n",
    "<img src=\"https://raw.githubusercontent.com/netspractice/network-science/main/images/node_word_powerlaw.png\" width=600>\n",
    "\n",
    "The both follow a power-law distribution, therefore NLP word embedding models can help to represent nodes in networks. DeepWalk is based on SkipGram model that is trained to predict the context for a given word.\n",
    "\n",
    "<img src='https://lena-voita.github.io/resources/lectures/word_emb/w2v/window_prob1-min.png' width=600>\n",
    "\n",
    "(an image is taken from [NLP Course For You](https://lena-voita.github.io/nlp_course.html))\n",
    "\n",
    "DeepWalk uses nodes instead of words and random walks on a network instead of sentences. Let a central word be a start node of a random walk, context words be nodes in a tail of a random walk."
   ]
  },
  {
   "cell_type": "markdown",
   "metadata": {
    "id": "GNEIjHkD2Ess"
   },
   "source": [
    "Write a function `sample_random_walks` that takes a graph, number of walks per node and the length of walks, returns np.array of the shape (total number of walks) x (length)."
   ]
  },
  {
   "cell_type": "code",
   "execution_count": 5,
   "metadata": {
    "deletable": false,
    "id": "9Ow1aAoq0N1V",
    "nbgrader": {
     "cell_type": "code",
     "checksum": "d3ce58f440fdc8e196671a9575dd819b",
     "grade": false,
     "grade_id": "cell-6dae7ab8bdd8bca1",
     "locked": false,
     "schema_version": 3,
     "solution": true,
     "task": false
    }
   },
   "outputs": [],
   "source": [
    "def sample_random_walks(G, walks_per_node, length):\n",
    "    walks = []\n",
    "    for node in G.nodes():\n",
    "      for _ in range(walks_per_node):\n",
    "        walk = [node]\n",
    "        for i in range(length -1):\n",
    "          walk.append(np.random.choice(list(G.neighbors(walk[-1]))))\n",
    "        walks.append(walk)\n",
    "    return np.array(walks)\n",
    "    # YOUR CODE HERE\n",
    "    #raise NotImplementedError()"
   ]
  },
  {
   "cell_type": "code",
   "execution_count": 6,
   "metadata": {
    "deletable": false,
    "editable": false,
    "id": "ium8TB601-Ea",
    "nbgrader": {
     "cell_type": "code",
     "checksum": "bf580c164d7ab96868a44d09bf855390",
     "grade": true,
     "grade_id": "cell-6804ce30d354612f",
     "locked": true,
     "points": 0,
     "schema_version": 3,
     "solution": false,
     "task": false
    }
   },
   "outputs": [],
   "source": [
    "walks_per_node = 5\n",
    "length = 5\n",
    "rwalks = sample_random_walks(G, walks_per_node, length)\n",
    "assert rwalks.shape == (len(G) * walks_per_node, length)\n",
    "assert np.all(rwalks[:, 0][::5] == np.arange(len(G)))\n",
    "A = nx.to_numpy_array(G)\n",
    "assert np.all(A[rwalks[0, :-1], rwalks[0, 1:]] == 1)"
   ]
  },
  {
   "cell_type": "code",
   "execution_count": 7,
   "metadata": {
    "colab": {
     "base_uri": "https://localhost:8080/"
    },
    "id": "ECHOTLkSbmaO",
    "outputId": "787c2311-9e0c-4760-cb36-5b868380949f"
   },
   "outputs": [
    {
     "data": {
      "text/plain": [
       "array([[   0,   33,   53,   47,   26],\n",
       "       [   0,   18,   62,  343,  279],\n",
       "       [   0,   39,   17,  291,  303],\n",
       "       ...,\n",
       "       [3872, 1495,  117,  292,  309],\n",
       "       [3872, 1495, 2121, 3179, 2121],\n",
       "       [3872, 1980, 1861,  169,   78]])"
      ]
     },
     "execution_count": 7,
     "metadata": {},
     "output_type": "execute_result"
    }
   ],
   "source": [
    "rwalks"
   ]
  },
  {
   "cell_type": "markdown",
   "metadata": {
    "id": "FZH3kd2Tvvfh"
   },
   "source": [
    "Consider a graph $G=(V,E)$. Let the first node in each random walk be _start node_ and others be _context nodes_. DeepWalk uses two embedding layers:\n",
    "* $v_i: \\{0, 1\\}^{|V|} \\to \\mathbb R^{d}$ embeds the one-hot encoded vector of the start node $i$ to latent space\n",
    "* $u_j: \\{0, 1\\}^{|V|} \\to \\mathbb R^{d}$ embeds the one-hot encoded vector of the context node $j$ to latent space\n",
    "\n",
    "The objective is to maximize the probability that $i$ and $j$ co-occur on a random walk over the network. Maximizing of the probability is equivalent to minimizing negative log-likelihood:\n",
    "\n",
    "$$\\mathcal L = - \\frac{1}{|V|\\times N} \\sum_{i=1}^{|V|\\times N} \\sum_{j=1}^L \\log P(j|i)$$\n",
    "\n",
    "where $N$ is the number of walks per node, $L$ is the length of a random walk excluding start node. $P(j|i)$ can be modelled by softmax with dot product similarity score $\\text{sim}(i, j) = u_i^\\top v_j$ as follows:\n",
    "\n",
    "$$\\mathcal L = - \\frac{1}{|V|\\times N} \\sum_{i=1}^{|V|\\times N} \\sum_{j=1}^L \\log \\frac{\\exp(v_i^\\top u_j)}{\\sum_{k=1}^{|V|}\\exp(u_k^\\top v_i)}$$\n",
    "\n",
    "However, calculating $\\sum_{k=1}^{|V|}\\exp(v_i^\\top u_j)$ is computationally expensive in a large network. To overcome such an obstacle, we can approximate softmax by binary cross-entropy with _negative sampling_. Instead of calculating softmax, we draw some random (negative) context and minimize binary cross-entropy using sigmoid function:\n",
    "\n",
    "$$\\mathcal L^{\\text{pos}}_{ij} = -\\log P(j|i) = - \\log \\sigma(v_i^\\top u_j) \\\\\n",
    "\\mathcal L^\\text{neg}_{ij} = -\\sum_{k=1}^K \\log P(k|i) = -\\sum_{k=1}^K \\log (1 - \\sigma(v_i^\\top u_k)) \\\\ \n",
    "\\mathcal L = \\frac{1}{|V|\\times N} \\sum_{i=1}^{|V|\\times N} \\sum_{j=1}^L \\left(\\mathcal L^{\\text{pos}}_{ij} + \\mathcal L^\\text{neg}_{ij}\\right)$$\n",
    "\n",
    "where $K$ is the number of negative nodes for each context node."
   ]
  },
  {
   "cell_type": "markdown",
   "metadata": {
    "id": "WWO3FS8f2BXA"
   },
   "source": [
    "Let us create a dataset for computing a such loss function. Write a class `NodeContextDataset`. \n",
    "\n",
    "Function `__init__` takes random walks, the number of nodes in a graph and the number of negative nodes per each context node.\n",
    "\n",
    "Function `__len__` returns the number of random walks.\n",
    "\n",
    "Function `__getitem__` takes an index of random walk, sample a negative context and returns a tuple:\n",
    "\n",
    "* start node, torch.int64\n",
    "* positive context nodes, torch.tensor of the shape (number of context nodes)\n",
    "* negative context nodes, torch.tensor of the shape (number of context nodes, number of negative nodes)"
   ]
  },
  {
   "cell_type": "code",
   "execution_count": 8,
   "metadata": {
    "deletable": false,
    "id": "65SsWhyu2SZd",
    "nbgrader": {
     "cell_type": "code",
     "checksum": "f37ac528f7f9c27b886cd738c11ed47f",
     "grade": false,
     "grade_id": "cell-92d80df6a92f6fc2",
     "locked": false,
     "schema_version": 3,
     "solution": true,
     "task": false
    }
   },
   "outputs": [],
   "source": [
    "class NodeContextDataset(Dataset):\n",
    "    def __init__(self, rwalks, n_nodes, n_neg):\n",
    "        self.starting_node = torch.LongTensor(rwalks[:,0])\n",
    "        self.node_context = torch.LongTensor(rwalks[:,1:])\n",
    "        self.context_length = self.node_context.shape[1]\n",
    "        self.n_nodes = n_nodes\n",
    "        self.n_neg = n_neg\n",
    "        # YOUR CODE HERE\n",
    "        #raise NotImplementedError()\n",
    "\n",
    "    def __len__(self):\n",
    "        return self.starting_node.shape[0]\n",
    "        # YOUR CODE HERE\n",
    "        #raise NotImplementedError()\n",
    "\n",
    "    def __getitem__(self, idx):\n",
    "        neg_samples = torch.randint(\n",
    "            low = 0,\n",
    "            high = self.n_nodes,\n",
    "            size = (self.context_length,self.n_neg)\n",
    "        )\n",
    "        return self.starting_node[idx],self.node_context[idx] , neg_samples\n",
    "        # YOUR CODE HERE\n",
    "        #raise NotImplementedError()"
   ]
  },
  {
   "cell_type": "code",
   "execution_count": 9,
   "metadata": {
    "deletable": false,
    "editable": false,
    "id": "me3MM4yK4NSb",
    "nbgrader": {
     "cell_type": "code",
     "checksum": "33e459957a271d9fbd1451657741be76",
     "grade": true,
     "grade_id": "cell-a745361ad8b8827a",
     "locked": true,
     "points": 0,
     "schema_version": 3,
     "solution": false,
     "task": false
    }
   },
   "outputs": [],
   "source": [
    "dataset = NodeContextDataset(rwalks, len(G), n_neg=5)\n",
    "assert len(dataset) == rwalks.shape[0]\n",
    "start_node, pos_context, neg_context0 = dataset[0]\n",
    "start_node, pos_context, neg_context1 = dataset[0]\n",
    "assert start_node == 0\n",
    "assert start_node.dtype == torch.int64\n",
    "assert start_node.shape == ()\n",
    "assert pos_context.shape == (4, )\n",
    "assert neg_context0.shape == neg_context1.shape ==(4, 5)\n",
    "assert not torch.all(neg_context0 == neg_context1)\n",
    "dloader = DataLoader(dataset, batch_size=2)\n",
    "for start_nodes, pos_context, neg_context in dloader:\n",
    "    break\n",
    "assert start_nodes.shape == (2,)\n",
    "assert pos_context.shape == (2, 4)\n",
    "assert neg_context.shape == (2, 4, 5)"
   ]
  },
  {
   "cell_type": "markdown",
   "metadata": {
    "id": "XPaJWYeEOyH9"
   },
   "source": [
    "Write a function `cross_entropy` that takes vectors $v$, positive $u$, negative $u$ and returns the binary cross-entropy loss before reduction $\\frac{1}{|V|\\times N} \\sum_{i=1}^{|V|\\times N} \\sum_{j=1}^L$.\n",
    "\n",
    "_Remark: to prevent $-\\infty$ in log, add $\\varepsilon=1^{-6}$ as follows `torch.log(x + 1e-6)`_"
   ]
  },
  {
   "cell_type": "code",
   "execution_count": 10,
   "metadata": {
    "deletable": false,
    "id": "Gc4yYrdtTysM",
    "nbgrader": {
     "cell_type": "code",
     "checksum": "8c52f1255915a57c9e9e136063d7a1bb",
     "grade": false,
     "grade_id": "cell-e2f4ba57342fd5e8",
     "locked": false,
     "schema_version": 3,
     "solution": true,
     "task": false
    }
   },
   "outputs": [],
   "source": [
    "def cross_entropy(v, u_pos, u_neg):\n",
    "    pos_prob = -torch.log(torch.sigmoid((v.unsqueeze(dim=1)*u_pos).sum(dim = 2))+1e-6)\n",
    "    neg_prob = -torch.log(1- torch.sigmoid((v.unsqueeze(dim=1).unsqueeze(dim=1)*u_neg).sum(dim = 3))+1e-6).sum(dim=2)\n",
    "    return pos_prob +neg_prob\n",
    "    # YOUR CODE HERE\n",
    "    #raise NotImplementedError()"
   ]
  },
  {
   "cell_type": "code",
   "execution_count": 11,
   "metadata": {
    "deletable": false,
    "editable": false,
    "id": "5cJcyDIqaUTL",
    "nbgrader": {
     "cell_type": "code",
     "checksum": "6560bbf935e37888e3e3b1bf47bd0881",
     "grade": true,
     "grade_id": "cell-588d17c4193a2d02",
     "locked": true,
     "points": 0,
     "schema_version": 3,
     "solution": false,
     "task": false
    }
   },
   "outputs": [],
   "source": [
    "np.random.seed(0)\n",
    "start_node_emb = torch.randn(len(G), 16)\n",
    "context_emb = torch.randn(len(G), 16)\n",
    "v = start_node_emb[start_nodes]\n",
    "u_pos = context_emb[pos_context]\n",
    "u_neg = context_emb[neg_context]\n",
    "loss = cross_entropy(v, u_pos, u_neg)\n",
    "assert loss.shape == (2, 4)\n",
    "lpos = -torch.log(torch.sigmoid(v[0] @ u_pos[0, 0]) + 1e-6)\n",
    "lneg = -torch.log(1 - torch.sigmoid(torch.tensor([v[0] @ u_neg[0, 0, i] for i in range(5)])) + 1e-6).sum()\n",
    "assert round((lpos + lneg).item(), 2) == round(loss[0, 0].item(), 2)"
   ]
  },
  {
   "cell_type": "markdown",
   "metadata": {
    "id": "gH1kaJd4Sccq"
   },
   "source": [
    "Here is SkipGram model with negative sampling. It takes start nodes and positive, negative context nodes, returns cross-entropy loss."
   ]
  },
  {
   "cell_type": "code",
   "execution_count": 12,
   "metadata": {
    "deletable": false,
    "editable": false,
    "id": "_nAOYIwr8_ZQ",
    "nbgrader": {
     "cell_type": "code",
     "checksum": "fc264bd4d5ca49b71b8ebd673adcb1d7",
     "grade": false,
     "grade_id": "cell-79e82ef853f9c439",
     "locked": true,
     "schema_version": 3,
     "solution": false,
     "task": false
    }
   },
   "outputs": [],
   "source": [
    "class SkipGramNegativeSampling(nn.Module):\n",
    "    def __init__(self, n_nodes, dim):\n",
    "        super().__init__()\n",
    "        self.start_node_emb = nn.Embedding(n_nodes, dim)\n",
    "        self.context_emb = nn.Embedding(n_nodes, dim)\n",
    "    def forward(self, start_nodes, pos_context, neg_context):\n",
    "        v = self.start_node_emb(start_nodes)\n",
    "        u_pos = self.context_emb(pos_context)\n",
    "        u_neg = self.context_emb(neg_context)\n",
    "        return cross_entropy(v, u_pos, u_neg)"
   ]
  },
  {
   "cell_type": "markdown",
   "metadata": {
    "id": "3YDBr9IfdMc_"
   },
   "source": [
    "Let us train the model using Adam optimizer."
   ]
  },
  {
   "cell_type": "code",
   "execution_count": 13,
   "metadata": {
    "colab": {
     "base_uri": "https://localhost:8080/",
     "height": 297,
     "referenced_widgets": [
      "ac2f589466aa4adc8410c3a33e4e8b12",
      "8cd3b25c74b14cef95da4ae10778c67c",
      "1142b2d3ecd1418ea80eb1bb3d1dcbf4",
      "700b1b90991c4d44839f64b1d10025ff",
      "43595dbc885742558dd80b1469442550",
      "4074a73f78534eb2a09caf3f35463e27",
      "6375042745a24584a55575854e37b65a",
      "eceaf917f28948a19eff59e769ca7c57",
      "5a80e1647f254196b24a2c80ee5adfc8",
      "410edff388c9415aa57058379782035e",
      "f23d5a29aa064f4a8123be43f70095d9"
     ]
    },
    "id": "0CnMaY-iBNot",
    "outputId": "988d4129-cd81-42f2-eee9-cb6de47ebb62"
   },
   "outputs": [
    {
     "data": {
      "application/vnd.jupyter.widget-view+json": {
       "model_id": "ac2f589466aa4adc8410c3a33e4e8b12",
       "version_major": 2,
       "version_minor": 0
      },
      "text/plain": [
       "  0%|          | 0/50 [00:00<?, ?it/s]"
      ]
     },
     "metadata": {},
     "output_type": "display_data"
    },
    {
     "data": {
      "image/png": "[encoded data removed]",
      "text/plain": [
       "<Figure size 432x288 with 1 Axes>"
      ]
     },
     "metadata": {
      "needs_background": "light"
     },
     "output_type": "display_data"
    }
   ],
   "source": [
    "sgmodel = SkipGramNegativeSampling(n_nodes=len(G), dim=16)\n",
    "epoch_loss = []\n",
    "opt = Adam(sgmodel.parameters(), lr=0.1)\n",
    "dloader = DataLoader(dataset, batch_size=len(G))\n",
    "for epoch in trange(50):\n",
    "    for start_nodes, pos_context, neg_context in dloader:\n",
    "        loss = sgmodel(start_nodes, pos_context, neg_context).sum(dim=1).mean()\n",
    "        opt.zero_grad()\n",
    "        loss.backward()\n",
    "        opt.step()\n",
    "    epoch_loss.append(loss.item())\n",
    "plt.plot(epoch_loss);"
   ]
  },
  {
   "cell_type": "markdown",
   "metadata": {
    "id": "fOEAkiCUUfsu"
   },
   "source": [
    "We evaluate the model by mutual information between ground truth labels and cluster indices."
   ]
  },
  {
   "cell_type": "code",
   "execution_count": 14,
   "metadata": {
    "deletable": false,
    "editable": false,
    "id": "1mdPsAiWFZ0Y",
    "nbgrader": {
     "cell_type": "code",
     "checksum": "95d47fc2fc4c52f43987f446abb71cb2",
     "grade": true,
     "grade_id": "cell-1685a473a18d47f8",
     "locked": true,
     "points": 0,
     "schema_version": 3,
     "solution": false,
     "task": false
    }
   },
   "outputs": [],
   "source": [
    "with torch.no_grad():\n",
    "    emb = sgmodel.start_node_emb(torch.arange(len(G)))\n",
    "_, pred_labels, _ = k_means(emb, n_clusters=8)\n",
    "mi = mutual_info_score(labels, pred_labels)\n",
    "assert mi > 0.15"
   ]
  },
  {
   "cell_type": "markdown",
   "metadata": {
    "id": "As_bLu2mVGae"
   },
   "source": [
    "Let us plot the t-SNE visualization of node embeddings."
   ]
  },
  {
   "cell_type": "code",
   "execution_count": 15,
   "metadata": {
    "colab": {
     "base_uri": "https://localhost:8080/",
     "height": 499
    },
    "id": "BrZKP5i3UzFs",
    "outputId": "1ef5ddf4-5a25-49c5-9494-473ccb7873dc"
   },
   "outputs": [
    {
     "data": {
      "image/png": "[encoded data removed]",
      "text/plain": [
       "<Figure size 576x576 with 1 Axes>"
      ]
     },
     "metadata": {
      "needs_background": "light"
     },
     "output_type": "display_data"
    }
   ],
   "source": [
    "decomposition = TSNE(n_components=2)\n",
    "xy_emb = decomposition.fit_transform(emb)\n",
    "\n",
    "plt.figure(figsize=(8, 8))\n",
    "scatter = plt.scatter(xy_emb[:, 0], xy_emb[:, 1], c=labels, s=10, cmap=plt.cm.Set2)\n",
    "\n",
    "plt.legend(handles=scatter.legend_elements()[0], labels=unique)\n",
    "plt.title(f'MI: {mi:.4f}');"
   ]
  },
  {
   "cell_type": "markdown",
   "metadata": {
    "id": "NbvuXKkgJNgr"
   },
   "source": [
    "### Task 2. Node2Vec (3 points)"
   ]
  },
  {
   "cell_type": "markdown",
   "metadata": {
    "id": "5q-lgag_YnQ3"
   },
   "source": [
    "In this task, we will consider Node2Vec embedding algorithm. In Node2Vec, we learn a mapping of nodes to a low-dimensional space of features that maximizes the likelihood of preserving network neighborhoods of nodes. It is similar to DeepWalk, but uses *biased random walk procedure* which efficiently explores diverse neighborhoods. There are two parameters:\n",
    "\n",
    "* Return parameter $p$ controls the likelihood of immediately revisiting a node in the walk. Setting it to a high value ensures that we are less likely to sample an already-visited node in the following two steps.\n",
    "\n",
    "* In-out parameter $q$ allows the search to differentiate between “inward” and “outward” nodes. If $q > 1$, the random walk is biased towards nodes close to previous node. In contrast, if $q < 1$, the walk is more inclined to visit nodes which are further away from the previous node.\n",
    "\n",
    "<img src='https://raw.githubusercontent.com/netspractice/network-science/main/images/biased_random_walk.png' width=300>\n",
    "\n",
    "Consider that we just moved from the node $t$ to $v$ and now we want to decide on the next step so it evaluates the transition probabilities on edges ($v$, $x$) leading from $v$. Then the *unnormalized* probability is\n",
    "\n",
    "$$\\alpha = \\begin{cases}\n",
    "\\frac{1}{p} &  \\text{ if } d_{tx} = 0\\\\\n",
    "1 & \\text{ if } d_{tx} = 1\\\\\n",
    "\\frac{1}{q} & \\text{ if } d_{tx} = 2\\\\\n",
    "\\end{cases}$$\n",
    "\n",
    "where $d_{tx}$ is the shortest path distance between nodes $t$ and $x$. To compute the true probability, we need to normalize values so that the sum is 1."
   ]
  },
  {
   "cell_type": "markdown",
   "metadata": {
    "id": "9LFfr6fy18Gb"
   },
   "source": [
    "Write a function `biased_random_walk` that takes a graph, node for which we start random walk, length of walk, parameters `p` and `q` and returns a list with random walks.\n",
    "\n",
    "*Hint: do not use `nx.shortest_path` to calcule shortest paths, it is too expensive. Look at the image above — we can explicitly calculate probabilities for all neighbors of $v$ using neighborhood of $t$*."
   ]
  },
  {
   "cell_type": "code",
   "execution_count": 16,
   "metadata": {
    "deletable": false,
    "id": "HGXAsOHw-aUV",
    "nbgrader": {
     "cell_type": "code",
     "checksum": "248810a536b6d7a59e0b93a8937cf7a8",
     "grade": false,
     "grade_id": "cell-982226ce9aa30f91",
     "locked": false,
     "schema_version": 3,
     "solution": true,
     "task": false
    }
   },
   "outputs": [],
   "source": [
    "def biased_random_walk(G, node, length, p, q):\n",
    "    walk = [node]\n",
    "    nn = list (G.neighbors(node))\n",
    "    prop = np.zeros (len(nn)) \n",
    "    for i in range(len(nn)):\n",
    "      prop[i] = 1/p\n",
    "    norm_prop = [float(i)/sum(prop) for i in prop]\n",
    "    for i in range(length-1 ):\n",
    "      new_node = np.random.choice(nn, p=norm_prop)\n",
    "      last_node =  walk[-1]\n",
    "      nn = list (G.neighbors(new_node))\n",
    "      prop = np.zeros (len(nn))\n",
    "\n",
    "      for index, value in enumerate(nn):\n",
    "        if value == last_node:\n",
    "          prop[index] = 1/p\n",
    "        elif value in list (G.neighbors(last_node)):\n",
    "          prop[index] = 1\n",
    "        else:\n",
    "          prop[index] = 1/q\n",
    "      norm_prop = [float(i)/sum(prop) for i in prop]\n",
    "      walk.append (new_node)\n",
    "    return walk\n"
   ]
  },
  {
   "cell_type": "code",
   "execution_count": 17,
   "metadata": {
    "deletable": false,
    "editable": false,
    "id": "uzi9dGUUcYMh",
    "nbgrader": {
     "cell_type": "code",
     "checksum": "2435b88e56db99f5401d6df7bd8aac19",
     "grade": true,
     "grade_id": "cell-0404594e2e4226e7",
     "locked": true,
     "points": 1,
     "schema_version": 3,
     "solution": false,
     "task": false
    }
   },
   "outputs": [],
   "source": [
    "rwalks = biased_random_walk(G, 0, 10, 0.1, 0.5)\n",
    "assert len(rwalks) == 10\n",
    "rwalks = biased_random_walk(G, node=0, length=4, p=0.001, q=1000)\n",
    "assert rwalks[0] == rwalks[2]\n",
    "assert rwalks[1] == rwalks[3]\n",
    "rwalks = biased_random_walk(G, node=0, length=4, p=1000, q=0.001)\n",
    "assert len(set(rwalks)) >= 3"
   ]
  },
  {
   "cell_type": "markdown",
   "metadata": {
    "id": "LGqNp_axcyFk"
   },
   "source": [
    "Let us generate biased random walks."
   ]
  },
  {
   "cell_type": "code",
   "execution_count": 18,
   "metadata": {
    "id": "cmys-WiMGIAz"
   },
   "outputs": [],
   "source": [
    "def sample_biased_random_walks(G, walks_per_node, length, p, q):\n",
    "    walks = []\n",
    "    for node in tqdm(G.nodes, leave=False, desc='Sampling biased random walks'):\n",
    "        for _ in range(walks_per_node):\n",
    "            walk_from_node = biased_random_walk(G, node, length, p, q)\n",
    "            walks.append(walk_from_node)\n",
    "    return np.array(walks)"
   ]
  },
  {
   "cell_type": "code",
   "execution_count": 19,
   "metadata": {
    "colab": {
     "base_uri": "https://localhost:8080/",
     "height": 139,
     "referenced_widgets": [
      "8a39372c0d7944d4bbd7781e7fdb2eb1",
      "ac6f5904475b4c2c9f1454682acbaf45",
      "6e763d19798f410795a810b339b1371c",
      "7ce3b52703a040d38ab4030c80324aef",
      "e0c970d3b6154d78a1c08800151b34a0",
      "5f1120e664cc4305b78cefafa63c9b93",
      "e5fc97fd76ca425a973d96ede1d08678",
      "f0e5c7ec07e94626b2c7e1a4f7cfe2e2",
      "6e7e497548184b90b4f8a3f6dc871b5d",
      "41dd7d4d614a495d8140efc13ae3144b",
      "f4714f36d2b6441f8de4e9cd0256c4ff"
     ]
    },
    "id": "z5GQKyl3GXEy",
    "outputId": "c8ce9aee-e078-425a-ae70-babd22270408"
   },
   "outputs": [
    {
     "data": {
      "application/vnd.jupyter.widget-view+json": {
       "model_id": "8a39372c0d7944d4bbd7781e7fdb2eb1",
       "version_major": 2,
       "version_minor": 0
      },
      "text/plain": [
       "Sampling biased random walks:   0%|          | 0/3873 [00:00<?, ?it/s]"
      ]
     },
     "metadata": {},
     "output_type": "display_data"
    },
    {
     "data": {
      "text/plain": [
       "array([[   0,   12,  160,  301,  337],\n",
       "       [   0,   38,  399,  452,  679],\n",
       "       [   0,    4,  134,   32,  361],\n",
       "       ...,\n",
       "       [3872, 1495,  294, 1831,  145],\n",
       "       [3872, 1980,  169, 1980, 3177],\n",
       "       [3872, 1980, 1861, 3181, 1861]])"
      ]
     },
     "execution_count": 19,
     "metadata": {},
     "output_type": "execute_result"
    }
   ],
   "source": [
    "walks_per_node = 5\n",
    "length = 5\n",
    "rwalks = sample_biased_random_walks(G, walks_per_node, length, p=0.25, q=0.25)\n",
    "rwalks"
   ]
  },
  {
   "cell_type": "markdown",
   "metadata": {
    "id": "MhZic6vYQbs3"
   },
   "source": [
    "Train the model."
   ]
  },
  {
   "cell_type": "code",
   "execution_count": 20,
   "metadata": {
    "colab": {
     "base_uri": "https://localhost:8080/",
     "height": 297,
     "referenced_widgets": [
      "c6e64987178b42dd8553e72c3ab92137",
      "a8981e199f414d4686fef5df98403ffb",
      "5767cde28d524f3682b470b585417f11",
      "c704472dadda4263896ec31feed1b2c0",
      "f29f288d77054f4f96bbe7ec4a052cd2",
      "cb5baf8c7891461f893e827b040223d7",
      "660c47186f5f469c9fa56b3bc12dbafb",
      "773ceaa7ee8c4101892473f7d33170d5",
      "8c11267bc29c47929f659e1003a1dfcf",
      "e5a9bb19066d47caa04cc8b0ea9ccc5c",
      "4ebcffe97f234827b88f8c4d94762262"
     ]
    },
    "id": "EQnnsFnwGlGz",
    "outputId": "6dc42514-6c0f-4920-9866-ed35b0078c43"
   },
   "outputs": [
    {
     "data": {
      "application/vnd.jupyter.widget-view+json": {
       "model_id": "c6e64987178b42dd8553e72c3ab92137",
       "version_major": 2,
       "version_minor": 0
      },
      "text/plain": [
       "  0%|          | 0/50 [00:00<?, ?it/s]"
      ]
     },
     "metadata": {},
     "output_type": "display_data"
    },
    {
     "data": {
      "image/png": "[encoded data removed]",
      "text/plain": [
       "<Figure size 432x288 with 1 Axes>"
      ]
     },
     "metadata": {
      "needs_background": "light"
     },
     "output_type": "display_data"
    }
   ],
   "source": [
    "e_loss = []\n",
    "dataset = NodeContextDataset(rwalks, len(G), n_neg=5)\n",
    "dloader = DataLoader(dataset, batch_size=len(G))\n",
    "sgmodel = SkipGramNegativeSampling(n_nodes=len(G), dim=16)\n",
    "opt = Adam(sgmodel.parameters(), lr=0.1)\n",
    "for e in trange(50):\n",
    "    for start_nodes, pos_context, neg_context in dloader:\n",
    "        loss = sgmodel(start_nodes, pos_context, neg_context).sum(dim=1).mean()\n",
    "        opt.zero_grad()\n",
    "        loss.backward()\n",
    "        opt.step()\n",
    "    e_loss.append(loss.item())\n",
    "plt.plot(e_loss);"
   ]
  },
  {
   "cell_type": "code",
   "execution_count": 21,
   "metadata": {
    "deletable": false,
    "editable": false,
    "id": "MUkb4k-mdsj2",
    "nbgrader": {
     "cell_type": "code",
     "checksum": "7005fe5ef24ada019070d2e796d90abd",
     "grade": true,
     "grade_id": "cell-d1d23ef4a88759f7",
     "locked": true,
     "points": 1,
     "schema_version": 3,
     "solution": false,
     "task": false
    }
   },
   "outputs": [],
   "source": [
    "with torch.no_grad():\n",
    "    emb = sgmodel.start_node_emb(torch.arange(len(G)))\n",
    "_, pred_labels, _ = k_means(emb, n_clusters=8)\n",
    "mi = mutual_info_score(labels, pred_labels)\n",
    "assert mi > 0.15"
   ]
  },
  {
   "cell_type": "markdown",
   "metadata": {
    "id": "3J8GA322eAtB"
   },
   "source": [
    "Find the best $p$ and $q$. Write a function `grid_search_pq` that takes a graph, node labels and returns the best $p$ and $q$ by grid search in $\\{0.01, 0.2, 1, 2, 8\\}$. Sample biased random walks with 5 walks per node and the length 5. Evaluate the model by mutual information score between ground truth labels and k-means with 8 clusters. To pass time limits, calculate the best `p` and `q` and then rewrite the function as\n",
    "\n",
    "```python\n",
    "def grid_search_pq(graph):\n",
    "    return best_p, best_q\n",
    "    # your grid search implementation ...\n",
    "```"
   ]
  },
  {
   "cell_type": "code",
   "execution_count": 26,
   "metadata": {
    "deletable": false,
    "id": "drn8aJkje0D1",
    "nbgrader": {
     "cell_type": "code",
     "checksum": "2381e148a50dffea83ac5792805d7c31",
     "grade": false,
     "grade_id": "cell-63bf0f1902240663",
     "locked": false,
     "schema_version": 3,
     "solution": true,
     "task": false
    }
   },
   "outputs": [],
   "source": [
    "def grid_search_pq(G, labels):\n",
    "    return (2, 0.01)\n",
    "    #output = {}\n",
    "    #for p in [0.01,0.2,1,2,8]:\n",
    "    #  for q in [0.01,0.2,1,2,8]:\n",
    "    #    rwalks = sample_biased_random_walks(G, 5, 5, p, q)\n",
    "    #    e_loss = []\n",
    "    #    dataset = NodeContextDataset(rwalks, len(G), n_neg=5)\n",
    "    #    dloader = DataLoader(dataset, batch_size=len(G))\n",
    "    #    sgmodel = SkipGramNegativeSampling(n_nodes=len(G), dim=16)\n",
    "    #    opt = Adam(sgmodel.parameters(), lr=0.1)\n",
    "    #    for e in trange(50):\n",
    "    #      for start_nodes, pos_context, neg_context in dloader:\n",
    "    #        loss = sgmodel(start_nodes, pos_context, neg_context).sum(dim=1).mean()\n",
    "    #        opt.zero_grad()\n",
    "    #        loss.backward()\n",
    "    #        opt.step()\n",
    "    #      e_loss.append(loss.item())\n",
    "    ##    #plt.plot(e_loss);\n",
    "     #   with torch.no_grad():\n",
    "     #     emb = sgmodel.start_node_emb(torch.arange(len(G)))\n",
    "     #     _, pred_labels, _ = k_means(emb, n_clusters=8)\n",
    "     #     mi = mutual_info_score(labels, pred_labels)\n",
    "     #   output [(p,q)] = mi\n",
    "    #return output\n",
    "\n",
    "        #assert mi > 0.15\n",
    "    \n",
    "    #parameters = {\n",
    "    #    'G':G,\n",
    "    #    'walks_per_node':5,\n",
    "    #    'length': 5,\n",
    "    #    'p': [0.01,0.2,1,2,8],\n",
    "    #    'q': [0.01,0.2,1,2,8]\n",
    "    #}\n",
    "    #grid_obj = GridSearchCV(estimator=sample_biased_random_walks, param_grid = parameters, cv = 2, n_jobs=-1)\n",
    "    #return grid_obj.best_params_\n",
    "\n",
    "    # YOUR CODE HERE\n",
    "    #raise NotImplementedError()"
   ]
  },
  {
   "cell_type": "code",
   "execution_count": 27,
   "metadata": {
    "colab": {
     "base_uri": "https://localhost:8080/",
     "height": 49,
     "referenced_widgets": [
      "8915d8e524e9456e89d00a4b4dffd2c5",
      "8a5553788326463a96a766cf42681954",
      "d1bc6631c4324aa09fc01e7a492726b9",
      "cc6d3ae8b7434d639e9e7a3c2ffe7316",
      "d207ec10a648446699f88344b8727589",
      "5baae0dec59047cf9814f8290614a5b2",
      "b20c8e72d7cc4a8db0a7aadba2f68dfe",
      "3a87a74057794059b1bda580834dbb2f",
      "dbe76ecf5c1248f091b376d980629f83",
      "e7586c08cee34cf699ba2248c01abdf6",
      "1564b81b7ecc450fbdf15b1323a4d565",
      "f02a455e777f4f4997477f341565ab37",
      "c5cdcc04ae8f4b6f8955aa51f2c5fb84",
      "9d4cca973d4f497991327c530dbf42ba",
      "eff6e8c5a87e4339adce3342553e1060",
      "0f4371fe938141b9a9131af8c2173ab0",
      "ae61cb27fa874099a6fea9321cc89cf3",
      "80244e511a504c929f1d29bd5d148a57",
      "3ada169d117048dd828c2b0eb7d7e5d0",
      "fd62483c077847869732558fd48cc692",
      "dbcf92c1a11d428ea730de23cd19f209",
      "2d597356e6c940afba19c5166d5660b3"
     ]
    },
    "deletable": false,
    "editable": false,
    "id": "igTGn7GALOJN",
    "nbgrader": {
     "cell_type": "code",
     "checksum": "8e792a5d6956322dfacef58e8503a355",
     "grade": true,
     "grade_id": "cell-6102dd78a7156238",
     "locked": true,
     "points": 1,
     "schema_version": 3,
     "solution": false,
     "task": false
    },
    "outputId": "0a1a0212-8115-4873-f3b5-dd56400413e2"
   },
   "outputs": [
    {
     "data": {
      "application/vnd.jupyter.widget-view+json": {
       "model_id": "8915d8e524e9456e89d00a4b4dffd2c5",
       "version_major": 2,
       "version_minor": 0
      },
      "text/plain": [
       "Sampling biased random walks:   0%|          | 0/3873 [00:00<?, ?it/s]"
      ]
     },
     "metadata": {},
     "output_type": "display_data"
    },
    {
     "data": {
      "application/vnd.jupyter.widget-view+json": {
       "model_id": "f02a455e777f4f4997477f341565ab37",
       "version_major": 2,
       "version_minor": 0
      },
      "text/plain": [
       "  0%|          | 0/50 [00:00<?, ?it/s]"
      ]
     },
     "metadata": {},
     "output_type": "display_data"
    }
   ],
   "source": [
    "best_p, best_q = grid_search_pq(G, labels)\n",
    "rwalks = sample_biased_random_walks(G, 5, 5, best_p, best_q)\n",
    "dataset = NodeContextDataset(rwalks, len(G), n_neg=5)\n",
    "dloader = DataLoader(dataset, batch_size=len(G))\n",
    "sgmodel = SkipGramNegativeSampling(n_nodes=len(G), dim=16)\n",
    "opt = Adam(sgmodel.parameters(), lr=0.1)\n",
    "dloader = DataLoader(dataset, batch_size=len(G))\n",
    "for epoch in trange(50):\n",
    "    for start_nodes, pos_context, neg_context in dloader:\n",
    "        loss = sgmodel(start_nodes, pos_context, neg_context).sum(dim=1).mean()\n",
    "        opt.zero_grad()\n",
    "        loss.backward()\n",
    "        opt.step()\n",
    "with torch.no_grad():\n",
    "    emb = sgmodel.start_node_emb(torch.arange(len(G)))\n",
    "_, pred_labels, _ = k_means(emb, n_clusters=8)\n",
    "mi = mutual_info_score(labels, pred_labels)\n",
    "assert mi > 0.21"
   ]
  },
  {
   "cell_type": "markdown",
   "metadata": {
    "id": "4diPYQKCMdoT"
   },
   "source": [
    "Plot t-SNE visualization of node embeddings."
   ]
  },
  {
   "cell_type": "code",
   "execution_count": 28,
   "metadata": {
    "colab": {
     "base_uri": "https://localhost:8080/",
     "height": 499
    },
    "id": "qkzOkF3NGzbR",
    "outputId": "859c912b-2472-4f66-b4b6-7519e745e95c"
   },
   "outputs": [
    {
     "data": {
      "image/png": "[encoded data removed]",
      "text/plain": [
       "<Figure size 576x576 with 1 Axes>"
      ]
     },
     "metadata": {
      "needs_background": "light"
     },
     "output_type": "display_data"
    }
   ],
   "source": [
    "decomposition = TSNE(n_components=2)\n",
    "xy_emb = decomposition.fit_transform(emb)\n",
    "\n",
    "plt.figure(figsize=(8, 8))\n",
    "scatter = plt.scatter(xy_emb[:, 0], xy_emb[:, 1], c=labels, s=10, cmap=plt.cm.Set2)\n",
    "\n",
    "plt.legend(handles=scatter.legend_elements()[0], labels=unique)\n",
    "plt.title(f'MI: {mi:.4f}');"
   ]
  },
  {
   "cell_type": "markdown",
   "metadata": {
    "id": "MsgOj9TWJNg2"
   },
   "source": [
    "### Task 3. Hierarchical softmax (4 points)"
   ]
  },
  {
   "cell_type": "markdown",
   "metadata": {
    "id": "I_93vIz0nsfT"
   },
   "source": [
    "Hierarchical softmax is an alternative way to approximate softmax in DeepWalk and similar models such as Walklets, Node2Vec. Remind the regular loss function with softmax:\n",
    "\n",
    "$$\\mathcal L = - \\frac{1}{|V|\\times N} \\sum_{i=1}^{|V|\\times N} \\sum_{j=1}^L \\log P(j|i) = - \\frac{1}{|V|\\times N} \\sum_{i=1}^{|V|\\times N} \\sum_{j=1}^L \\log \\frac{\\exp(v_i^\\top u_j)}{\\sum_{k=1}^{|V|}\\exp(v_i^\\top u_k)}$$\n",
    "\n",
    "We have observed that computing $\\sum_{k=1}^{|V|}\\exp(v_i^\\top u_k)$ is expensive in a large network. Indeed, it takes $O(|V|)$ since we need to compute $v_i^\\top u_k$ for each $k$. \n",
    "\n",
    "Hierarchical softmax allows to approximate softmax by propagation probabilities in a binary tree where leaves are nodes in the original network. Consider a simple network on 6 nodes and the corresponding binary tree.\n",
    "\n",
    "<img src=\"https://raw.githubusercontent.com/netspractice/network-science/main/images/hs_btree.png\" width=600>\n",
    "\n",
    "We observe that leaves correspond to nodes in the network: the leaf 5 corresponds to the node 0, the leaf 6 corresponds to the node 1 and so on. Let us call all other white nodes in the binary tree units.\n",
    "\n",
    "Write a function `get_binary_tree` that takes number of leaves and returns a binary tree.\n",
    "\n",
    "_Hint: create a binary tree by `nx.balanced_tree(2, depth, nx.DiGraph)` and drop extra leaves. The depth of the tree can be calculated as $\\lceil \\log_2 |V| \\rceil$._"
   ]
  },
  {
   "cell_type": "code",
   "execution_count": 29,
   "metadata": {
    "deletable": false,
    "id": "TTpjUbSMjORQ",
    "nbgrader": {
     "cell_type": "code",
     "checksum": "01c8b6fa4bd256a22b699e36c1556bbd",
     "grade": false,
     "grade_id": "cell-fa6e506ce6741f45",
     "locked": false,
     "schema_version": 3,
     "solution": true,
     "task": false
    }
   },
   "outputs": [],
   "source": [
    "import math\n",
    "def get_binary_tree(n_leaves):\n",
    "    depth = math.log(n_leaves,2)\n",
    "    print (depth)\n",
    "    G = nx.balanced_tree(2,round(depth),create_using=nx.DiGraph())\n",
    "    leaves = [n for n in G.nodes if G.degree[n] == 1]\n",
    "    while len(leaves) != n_leaves:\n",
    "      for node in leaves[n_leaves-1 :]:\n",
    "        G.remove_node(node)\n",
    "      leaves = [n for n in G.nodes if G.degree[n] == 1]\n",
    "    return G \n",
    "    # YOUR CODE HERE\n",
    "    #raise NotImplementedError()"
   ]
  },
  {
   "cell_type": "code",
   "execution_count": 30,
   "metadata": {
    "colab": {
     "base_uri": "https://localhost:8080/"
    },
    "deletable": false,
    "editable": false,
    "id": "VinKbEWplrvy",
    "nbgrader": {
     "cell_type": "code",
     "checksum": "8fcd40389d09de393cba575495e2513d",
     "grade": true,
     "grade_id": "cell-12931d335d97bb1c",
     "locked": true,
     "points": 1,
     "schema_version": 3,
     "solution": false,
     "task": false
    },
    "outputId": "4ad5990e-ad89-4121-ada4-f87b5ee713e8"
   },
   "outputs": [
    {
     "name": "stdout",
     "output_type": "stream",
     "text": [
      "11.919235786028347\n"
     ]
    }
   ],
   "source": [
    "btree = get_binary_tree(n_leaves=len(G))\n",
    "leaves = [n for n in btree.nodes if btree.degree[n] == 1]\n",
    "assert len(leaves) == len(G)\n",
    "assert list(btree.nodes)[0] == 0\n",
    "assert nx.is_weakly_connected(btree)\n",
    "assert btree.in_degree[0] == 0\n",
    "assert np.all([btree.in_degree[n] == 1 for n in range(1, len(btree))])\n",
    "assert np.all([btree.out_degree[n] == 2 for n in range(len(btree) - len(leaves))])\n",
    "assert np.all([btree.out_degree[n] == 0 for n in range(len(btree) - len(leaves), len(btree))])"
   ]
  },
  {
   "cell_type": "markdown",
   "metadata": {
    "id": "8KVUtUtm8OIy"
   },
   "source": [
    "If we assign a probability conditioned by the start node for each unit, we can calculate a probability of each context node as the product of probabilities of all units in the path from the root unit to a corresponding leaf taking $p_i$ if we go to the left and $1 - p_i$ if we go to the right from the unit $i$. For example, consider a path from the root unit to the context node 5 (leaf 10):\n",
    "\n",
    "<img src=\"https://raw.githubusercontent.com/netspractice/network-science/main/images/hs_btree_proba.png\" width=600>\n",
    "\n",
    "$$P(5|i) = p_0\\cdot (1-p_1) \\cdot (1-p_4)$$\n",
    "\n",
    "We can observe following thigs:\n",
    "* Each unit divides probability space into two subspace, so that probabilities on leaves are summed up to 1.\n",
    "* We make only 3 multiplucations instead of 6 summations in regular softmax. Indeed, the number of multiplications is equal to the depth of the binary tree $O(\\log_2|V|)$. The number of summations in regular softmax is $O(|V|)$. That is, the cost of calculating probabilities for all context nodes is reduced from $O(|V|^2)$ to $O(|V|\\log_2|V|)$.\n",
    "\n",
    "We condition probabilities by the start node as follows:\n",
    "\n",
    "$$p_j(i) = \\sigma(v_i^\\top u_j)$$\n",
    "\n",
    "where $v_i$ is embedding of the start node $i$ and $u_j$ is embedding of the unit $j$. Thus, we have no embeddings for context nodes in this model. Note that $1-\\sigma(v_i^\\top u_j)$ can be substituted to $\\sigma(-v_i^\\top u_j)$. Let us call a sign under the sigmoid a turn $t_k$: $-1$ if we go to the left and $1$ if we go to the right. Thus the probability of co-occurance of the context node 5 and the start node, say, 1 is\n",
    "\n",
    "$$P(5|1) = \\sigma(t_0 v_1^\\top u_0) \\cdot \\sigma(t_1 v_1^\\top u_1) \\cdot \\sigma(t_2 v_1^\\top u_4)$$\n",
    "\n",
    "where $t_0=1$, $t_1=-1$, $t_2=-1$. Our objective is to maximize the probability of co-occurance of start nodes and context nodes by minimizing the negative log-likelihood, thus the loss function is turned out to\n",
    "\n",
    "$$\\mathcal L = - \\frac{1}{|V|\\times N} \\sum_{i=1}^{|V|\\times N} \\sum_{j=1}^L \\sum_{k=1}^K\\log \\sigma(t_{[jk]} v_i^\\top u_{[jk]})$$\n",
    "\n",
    "where $K$ is the path length from the root to the leaf excluding the leaf. Subscript $[jk]$ means the index corresponded to k-th step of the path to j-th context node. Note that the path length depends on a leaf, it makes calculating loss in mini-batch training inconvenient, so let us set $K$ as the depth of the tree and multiply the loss by _training mask_ $z_{jk}$: $0$ for all $k$ that greater than path length and $1$ otherwise. The final loss function is\n",
    "\n",
    "$$\\mathcal L = - \\frac{1}{|V|\\times N} \\sum_{i=1}^{|V|\\times N} \\sum_{j=1}^L \\sum_{k=1}^K\\log \\sigma(t_{[jk]} v_i^\\top u_{[jk]}) z_{[jk]}$$"
   ]
  },
  {
   "cell_type": "markdown",
   "metadata": {
    "id": "lk8UBAd214CG"
   },
   "source": [
    "Let us create a dataset for computing a such loss function. Write a class `NodePathDataset`. \n",
    "\n",
    "Function `__init__` takes random walks, binary tree, depth of the binary tree and finds paths for each leaf.\n",
    "\n",
    "Function `__len__` returns the number of random walks.\n",
    "\n",
    "Function `__getitem__` takes an index of random walk and returns a tuple:\n",
    "\n",
    "* start node, torch.int64\n",
    "* context nodes, torch.tensor of the shape (number of context nodes)\n",
    "* paths to the context nodes excluding a leaf: torch.tensor of the shape (number of context nodes, depth). Padded with zeros if the depth is greater than the path length.\n",
    "* turns on the paths: torch.tensor of the shape (number of context nodes, depth). Padded with zeros if the depth is greater than the path length. Define the left turn as a link to the even unit.\n",
    "* training mask on the paths: torch.tensor of the shape (number of context nodes, depth)\n",
    "\n",
    "_Hint: use `nx.shortest_path(btree, 0, n)` to find a path from the root unit to the leaf `n` in the tree._"
   ]
  },
  {
   "cell_type": "code",
   "execution_count": 31,
   "metadata": {
    "deletable": false,
    "id": "gNmgoZW1l9Wg",
    "nbgrader": {
     "cell_type": "code",
     "checksum": "292835343292a61ef9503e0f113a2a32",
     "grade": false,
     "grade_id": "cell-48de35ab799a5afd",
     "locked": false,
     "schema_version": 3,
     "solution": true,
     "task": false
    }
   },
   "outputs": [],
   "source": [
    "class NodePathDataset(Dataset):\n",
    "    def __init__(self, rwalks, btree, depth):\n",
    "        self.start_nodes = torch.tensor(rwalks[:, 0]).long()\n",
    "        self.context = torch.tensor(rwalks[:, 1:]).long()\n",
    "        \n",
    "        self.paths = []\n",
    "        self.turns = []\n",
    "        self.masks = []\n",
    "        leaves = [n for n in btree.nodes if btree.degree[n] == 1]\n",
    "        for node in leaves:\n",
    "          tmp_path = nx.shortest_path (btree,0,node)[:-1]\n",
    "          tmp_mask = [1] * len(tmp_path)\n",
    "          tmp_turn = []\n",
    "          for n in tmp_path:\n",
    "            if (n % 2 == 0 ):\n",
    "              tmp_turn.append(1)\n",
    "            else:\n",
    "              tmp_turn.append(-1)\n",
    "          if len(tmp_path) < depth:\n",
    "            n_extra_units = depth - len(tmp_path)\n",
    "            tmp_path = tmp_path + [0] * n_extra_units\n",
    "            tmp_mask = tmp_mask + [0] * n_extra_units\n",
    "            tmp_turn = tmp_turn + [0] * n_extra_units\n",
    "          self.paths.append(tmp_path)\n",
    "          self.masks.append(tmp_mask)\n",
    "          self.turns.append(tmp_turn)\n",
    "\n",
    "        self.paths = torch.tensor(self.paths)\n",
    "        self.turns = torch.tensor(self.turns)\n",
    "        self.masks = torch.tensor(self.masks)\n",
    "\n",
    "    def __len__(self):\n",
    "        return len(self.start_nodes)\n",
    "\n",
    "    def __getitem__(self, idx):\n",
    "        return (\n",
    "            self.start_nodes[idx], \n",
    "            self.context[idx], \n",
    "            self.paths[self.context[idx]], \n",
    "            self.turns[self.context[idx]], \n",
    "            self.masks[self.context[idx]]\n",
    "        )\n"
   ]
  },
  {
   "cell_type": "code",
   "execution_count": 32,
   "metadata": {
    "colab": {
     "base_uri": "https://localhost:8080/",
     "height": 17,
     "referenced_widgets": [
      "402a8d91fe6547b19f632e7aadf299f7",
      "609cc7ef350f4b8499c385f1db465ca2",
      "252e9d40ef774c9d9148f8e58747b5b2",
      "8574c57a8e50471fa75d796638a3b19b",
      "0f43bdee0f87447c8d0d401f39101139",
      "2cd5657d6b3243a0b5d7ddc2ec1125f8",
      "27c72c8216fe40f2a9f0abb71d00e52f",
      "fdec3af90eab4faea793d307453d9f69",
      "16f4a6b2e6044c63a73c9419223c5eca",
      "3e88b235dd8b4461bf056ae966cca361",
      "9888aaf95c70421895d3c26c3282043d"
     ]
    },
    "deletable": false,
    "editable": false,
    "id": "mColU52_WOJi",
    "nbgrader": {
     "cell_type": "code",
     "checksum": "d8ce7f617444f4b2c156cc851907e46d",
     "grade": true,
     "grade_id": "cell-41adebff43c8f34d",
     "locked": true,
     "points": 1,
     "schema_version": 3,
     "solution": false,
     "task": false
    },
    "outputId": "1c3918d1-261e-4566-ce19-268f0fc1ba01"
   },
   "outputs": [
    {
     "data": {
      "application/vnd.jupyter.widget-view+json": {
       "model_id": "402a8d91fe6547b19f632e7aadf299f7",
       "version_major": 2,
       "version_minor": 0
      },
      "text/plain": [
       "Sampling biased random walks:   0%|          | 0/3873 [00:00<?, ?it/s]"
      ]
     },
     "metadata": {},
     "output_type": "display_data"
    }
   ],
   "source": [
    "depth = 12\n",
    "rwalks = sample_biased_random_walks(G, 5, 5, best_p, best_q)\n",
    "dataset = NodePathDataset(rwalks, btree, depth)\n",
    "start_node, context, paths, turns, masks = dataset[0]\n",
    "assert start_node.shape == ()\n",
    "assert context.shape == (4,)\n",
    "assert paths.shape == turns.shape == masks.shape == (4, 12)\n",
    "assert start_node == 0\n",
    "leaves = [n for n in btree.nodes if btree.degree[n] == 1]\n",
    "shortest_path = nx.shortest_path(btree, 0, leaves[context[1]])[:-1]\n",
    "mask = [1] * len(shortest_path)\n",
    "if len(shortest_path) < depth:\n",
    "    n_extra_units = depth - len(shortest_path)\n",
    "    shortest_path = shortest_path + [0] * n_extra_units\n",
    "    mask = mask + [0] * n_extra_units\n",
    "assert np.all(shortest_path == paths[1].numpy())\n",
    "assert np.all(mask == masks[1].numpy())"
   ]
  },
  {
   "cell_type": "code",
   "execution_count": 33,
   "metadata": {
    "colab": {
     "base_uri": "https://localhost:8080/"
    },
    "id": "A66EbScvpz6z",
    "outputId": "ff8cf3a9-abed-4a19-f82a-4e1001bcf666"
   },
   "outputs": [
    {
     "data": {
      "text/plain": [
       "(torch.Size([2]),\n",
       " torch.Size([2, 4]),\n",
       " torch.Size([2, 4, 12]),\n",
       " torch.Size([2, 4, 12]),\n",
       " torch.Size([2, 4, 12]))"
      ]
     },
     "execution_count": 33,
     "metadata": {},
     "output_type": "execute_result"
    }
   ],
   "source": [
    "dloader = DataLoader(dataset, batch_size=2)\n",
    "for start_nodes, context, paths, turns, masks in dloader:\n",
    "    break\n",
    "start_nodes.shape, context.shape, paths.shape, turns.shape, masks.shape"
   ]
  },
  {
   "cell_type": "markdown",
   "metadata": {
    "id": "eoXn4BU1oEBd"
   },
   "source": [
    "Write a function `hierarchical_softmax_loss` that takes vectors $v$, $u$ and returns the hierarchical softmax loss before reduction $\\frac{1}{|V|\\times N} \\sum_{i=1}^{|V|\\times N} \\sum_{j=1}^L$.\n",
    "\n",
    "_Remark: to prevent $-\\infty$ in log, add $\\varepsilon=1^{-6}$ as follows `torch.log(x + 1e-6)`_"
   ]
  },
  {
   "cell_type": "code",
   "execution_count": 34,
   "metadata": {
    "deletable": false,
    "id": "0haP3i7hni4c",
    "nbgrader": {
     "cell_type": "code",
     "checksum": "2d24227f9a5b502d535b0beff12e17f1",
     "grade": false,
     "grade_id": "cell-5580ea00c3649ace",
     "locked": false,
     "schema_version": 3,
     "solution": true,
     "task": false
    }
   },
   "outputs": [],
   "source": [
    "def hierarchical_softmax_loss(v, u, turns, masks):\n",
    "    l = -torch.log(torch.sigmoid((v.unsqueeze(dim=1).unsqueeze(dim=1)*u).sum(dim=3) * turns )+ 1e-6) * masks                              \n",
    "    return l.sum(dim=2)\n",
    "    # YOUR CODE HERE\n",
    "    #raise NotImplementedError()"
   ]
  },
  {
   "cell_type": "code",
   "execution_count": 35,
   "metadata": {
    "deletable": false,
    "editable": false,
    "id": "vf0XAmFQpVhP",
    "nbgrader": {
     "cell_type": "code",
     "checksum": "77571345c5f803b3d52b802c082392e0",
     "grade": true,
     "grade_id": "cell-8c8320b2c7c030eb",
     "locked": true,
     "points": 1,
     "schema_version": 3,
     "solution": false,
     "task": false
    }
   },
   "outputs": [],
   "source": [
    "np.random.seed(0)\n",
    "start_node_emb = torch.randn(len(G), 16)\n",
    "path_emb = torch.randn(len(G) - 1, 16)\n",
    "v = start_node_emb[start_nodes]\n",
    "u = path_emb[paths]\n",
    "loss = hierarchical_softmax_loss(v, u, turns, masks)\n",
    "assert loss.shape == (2, 4)\n",
    "l = -torch.log(torch.sigmoid(torch.tensor([v[0] @ u[0, 0, i] * turns[0, 0, i] for i in range(12)])) + 1e-6) * masks[0, 0]\n",
    "assert round(l.sum().item(), 2) == round(loss[0, 0].item(), 2)\n"
   ]
  },
  {
   "cell_type": "markdown",
   "metadata": {
    "id": "KrmcWlWDxyjm"
   },
   "source": [
    "Here is SkipGram model with hierarchical softmax. The number of vectors in `path_emb` is `n_nodes - 1`, since it can be shown that the number of units is equal to $|V|-1$."
   ]
  },
  {
   "cell_type": "code",
   "execution_count": 36,
   "metadata": {
    "deletable": false,
    "editable": false,
    "id": "gfQ3aA-Bvxer",
    "nbgrader": {
     "cell_type": "code",
     "checksum": "8535c3166b0b7c5bc2e57ab2960ddc75",
     "grade": false,
     "grade_id": "cell-39c948726656b5ba",
     "locked": true,
     "schema_version": 3,
     "solution": false,
     "task": false
    }
   },
   "outputs": [],
   "source": [
    "class SkipGramHierarchicalSoftmax(nn.Module):\n",
    "    def __init__(self, n_nodes, dim):\n",
    "        super().__init__()\n",
    "        self.start_node_emb = nn.Embedding(n_nodes, dim)\n",
    "        self.path_emb = nn.Embedding(n_nodes - 1, dim)\n",
    "    def forward(self, start_nodes, paths, turns, masks):\n",
    "        v = self.start_node_emb(start_nodes)\n",
    "        u = self.path_emb(paths)\n",
    "        loss = hierarchical_softmax_loss(v, u, turns, masks)\n",
    "        return loss"
   ]
  },
  {
   "cell_type": "markdown",
   "metadata": {
    "id": "uJgoNM6qz3ra"
   },
   "source": [
    "Train the model using Adam optimizer."
   ]
  },
  {
   "cell_type": "code",
   "execution_count": 37,
   "metadata": {
    "colab": {
     "base_uri": "https://localhost:8080/",
     "height": 297,
     "referenced_widgets": [
      "60d5de0bd3e84072840e647fea80cfe4",
      "26f87406367e4050852787044e6e56ef",
      "31a7b4f5fc424ea4a69582db3ba3f345",
      "7e9b54c6689d40f2a2cfe9d886a96f8d",
      "234c9f52c20b455faffd6d2dd18fdcd1",
      "67fa78a581814c5fb4350ad9dc363e28",
      "0927d030aa19439a913de34318beca65",
      "7b292585bbe846ea84343de2dbb3596a",
      "2e018158da9c4362817489ff0fef11e3",
      "9b0cdbf346114368bdad72acf84bfb99",
      "c0124b803b5e4e61ae20245eb9777113"
     ]
    },
    "id": "qyUFLJnx1npz",
    "outputId": "7f33e4a7-0502-43b6-a6c0-9f11874a31b7"
   },
   "outputs": [
    {
     "data": {
      "application/vnd.jupyter.widget-view+json": {
       "model_id": "60d5de0bd3e84072840e647fea80cfe4",
       "version_major": 2,
       "version_minor": 0
      },
      "text/plain": [
       "  0%|          | 0/50 [00:00<?, ?it/s]"
      ]
     },
     "metadata": {},
     "output_type": "display_data"
    },
    {
     "data": {
      "image/png": "[encoded data removed]",
      "text/plain": [
       "<Figure size 432x288 with 1 Axes>"
      ]
     },
     "metadata": {
      "needs_background": "light"
     },
     "output_type": "display_data"
    }
   ],
   "source": [
    "sgmodel = SkipGramHierarchicalSoftmax(n_nodes=len(G), dim=16)\n",
    "epoch_loss = []\n",
    "opt = Adam(sgmodel.parameters(), lr=0.1)\n",
    "dloader = DataLoader(dataset, batch_size=len(G))\n",
    "for epoch in trange(50):\n",
    "    for start_nodes, context, paths, turns, masks in dloader:\n",
    "        loss = sgmodel(start_nodes, paths, turns, masks).sum(dim=1).mean()\n",
    "        opt.zero_grad()\n",
    "        loss.backward()\n",
    "        opt.step()\n",
    "    epoch_loss.append(loss.item())\n",
    "plt.plot(epoch_loss);"
   ]
  },
  {
   "cell_type": "markdown",
   "metadata": {
    "id": "jFwKNMO3z8X2"
   },
   "source": [
    "Evaluate the model by mutual information between ground truth labels and cluster indices."
   ]
  },
  {
   "cell_type": "code",
   "execution_count": 38,
   "metadata": {
    "colab": {
     "base_uri": "https://localhost:8080/",
     "height": 201
    },
    "deletable": false,
    "editable": false,
    "id": "Y0ugT6Ep173h",
    "nbgrader": {
     "cell_type": "code",
     "checksum": "163de70b349c978e9503141a12c90a5e",
     "grade": true,
     "grade_id": "cell-736c8f9bf1ffccd8",
     "locked": true,
     "points": 1,
     "schema_version": 3,
     "solution": false,
     "task": false
    },
    "outputId": "46c287b3-5c38-48f4-d1d9-ec3fbbfd2f4e"
   },
   "outputs": [
    {
     "ename": "AssertionError",
     "evalue": "ignored",
     "output_type": "error",
     "traceback": [
      "\u001b[0;31m---------------------------------------------------------------------------\u001b[0m",
      "\u001b[0;31mAssertionError\u001b[0m                            Traceback (most recent call last)",
      "\u001b[0;32m<ipython-input-38-87e0f9d46b21>\u001b[0m in \u001b[0;36m<module>\u001b[0;34m()\u001b[0m\n\u001b[1;32m      3\u001b[0m \u001b[0m_\u001b[0m\u001b[0;34m,\u001b[0m \u001b[0mpred_labels\u001b[0m\u001b[0;34m,\u001b[0m \u001b[0m_\u001b[0m \u001b[0;34m=\u001b[0m \u001b[0mk_means\u001b[0m\u001b[0;34m(\u001b[0m\u001b[0memb\u001b[0m\u001b[0;34m,\u001b[0m \u001b[0mn_clusters\u001b[0m\u001b[0;34m=\u001b[0m\u001b[0;36m8\u001b[0m\u001b[0;34m)\u001b[0m\u001b[0;34m\u001b[0m\u001b[0;34m\u001b[0m\u001b[0m\n\u001b[1;32m      4\u001b[0m \u001b[0mmi\u001b[0m \u001b[0;34m=\u001b[0m \u001b[0mmutual_info_score\u001b[0m\u001b[0;34m(\u001b[0m\u001b[0mlabels\u001b[0m\u001b[0;34m,\u001b[0m \u001b[0mpred_labels\u001b[0m\u001b[0;34m)\u001b[0m\u001b[0;34m\u001b[0m\u001b[0;34m\u001b[0m\u001b[0m\n\u001b[0;32m----> 5\u001b[0;31m \u001b[0;32massert\u001b[0m \u001b[0mmi\u001b[0m \u001b[0;34m>\u001b[0m \u001b[0;36m0.15\u001b[0m\u001b[0;34m\u001b[0m\u001b[0;34m\u001b[0m\u001b[0m\n\u001b[0m",
      "\u001b[0;31mAssertionError\u001b[0m: "
     ]
    }
   ],
   "source": [
    "with torch.no_grad():\n",
    "    emb = sgmodel.start_node_emb(torch.arange(len(G)))\n",
    "_, pred_labels, _ = k_means(emb, n_clusters=8)\n",
    "mi = mutual_info_score(labels, pred_labels)\n",
    "assert mi > 0.15"
   ]
  },
  {
   "cell_type": "markdown",
   "metadata": {
    "id": "cPql7hMu0HF8"
   },
   "source": [
    "Plot t-SNE visualization of node embeddings."
   ]
  },
  {
   "cell_type": "code",
   "execution_count": null,
   "metadata": {
    "id": "dZnRfklrzFsx"
   },
   "outputs": [],
   "source": [
    "decomposition = TSNE(n_components=2)\n",
    "xy_emb = decomposition.fit_transform(emb)\n",
    "\n",
    "plt.figure(figsize=(8, 8))\n",
    "scatter = plt.scatter(xy_emb[:, 0], xy_emb[:, 1], c=labels, s=10, cmap=plt.cm.Set2)\n",
    "plt.legend(handles=scatter.legend_elements()[0], labels=unique)\n",
    "plt.title(f'MI: {mi:.4f}');"
   ]
  },
  {
   "cell_type": "markdown",
   "metadata": {
    "id": "lCmzKtCAJ-zD"
   },
   "source": [
    "The hierarchical softmax can be improved by building a binary tree where hubs are closer to the root unit. In this task we have used the randomly builded binary tree and we can see that it works pretty well with respect to negative sampling."
   ]
  },
  {
   "cell_type": "markdown",
   "metadata": {
    "id": "aa-SAa-XJNhI"
   },
   "source": [
    "### Task 4. GraRep (3 points)"
   ]
  },
  {
   "cell_type": "markdown",
   "metadata": {
    "id": "aviJdvivWW6D"
   },
   "source": [
    "The idea behind GraRep is to account for multiscale relationships between nodes. For example,a student can have 1-hop neighborhood of friends, 2-hop neighborhood of classmates, 3-hop neighborhood of society and so on.\n",
    "\n",
    "<img src=\"https://raw.githubusercontent.com/netspractice/network-science/main/images/multiscale_relationships.png\" width=350>\n",
    "\n",
    "Unlike DeepWalk, GraRep defines different objective functions for capturing the different $k$-step local relational information by manipulating transition matrices in the $k$-th powers defined over the graph. Recall that the transition matrix is $P = D^{-1}A$ where $D$ is a degree matrix. $P_{ij}$ refers to a probability to move from the node $i$ to the node $j$ in one step of a random walk. Therefore, $P^k_{ij}$ is a probability to move from the node $i$ to the node $j$ in $k$ steps of a random walk. "
   ]
  },
  {
   "cell_type": "markdown",
   "metadata": {
    "id": "vdylqNJVreik"
   },
   "source": [
    "Write a function `csr_transition_matrix` that takes a graph and returns a transition matrix. To save memory and speed up the following calculation of powers, convert transition matrix to sparse format by `scipy.sparse.csr_matrix`."
   ]
  },
  {
   "cell_type": "code",
   "execution_count": null,
   "metadata": {
    "deletable": false,
    "id": "ijUKHWFDLKUc",
    "nbgrader": {
     "cell_type": "code",
     "checksum": "bec7a132a8e91292a33f9ce803d9e648",
     "grade": false,
     "grade_id": "cell-f0ec11b1c4da2c21",
     "locked": false,
     "schema_version": 3,
     "solution": true,
     "task": false
    }
   },
   "outputs": [],
   "source": [
    "def csr_transition_matrix(G):\n",
    "    A = nx.to_numpy_array(G)\n",
    "    D = np.zeros(A.shape)\n",
    "    r,c = A.shape\n",
    "    for i in range(0,r):\n",
    "      for j in range (0,c):\n",
    "        if i == j:\n",
    "          D[i,i] = np.sum(A[i])\n",
    "    P = np.dot(np.linalg.inv(D),A)\n",
    "    return sparse.csr_matrix(P)\n",
    "    # YOUR CODE HERE\n",
    "    #raise NotImplementedError()"
   ]
  },
  {
   "cell_type": "code",
   "execution_count": null,
   "metadata": {
    "deletable": false,
    "editable": false,
    "id": "LKqHuKwhLvI6",
    "nbgrader": {
     "cell_type": "code",
     "checksum": "89c5d34c88f598b589ecaf7c68858755",
     "grade": true,
     "grade_id": "cell-2d2f99d8bac11893",
     "locked": true,
     "points": 0.75,
     "schema_version": 3,
     "solution": false,
     "task": false
    }
   },
   "outputs": [],
   "source": [
    "P = csr_transition_matrix(G)\n",
    "assert type(P) == csr_matrix\n",
    "assert P.shape == (len(G), len(G))\n",
    "assert round(P[3, 9], 4) == 0.0417"
   ]
  },
  {
   "cell_type": "markdown",
   "metadata": {
    "id": "NAQLGKBAH8tf"
   },
   "source": [
    "Similar to DeepWalk, there are two types of embeddings:\n",
    "* $v_i$ is a vector that represents the start node $i$\n",
    "* $u_j$ is a vector that represents the context node $j$\n",
    "\n",
    "Our objective aims to maximize: 1) the probability that these pairs come from the graph, and 2) the probability that all other pairs do not come from the graph (negative samples). The objective function for nodes $i, j$ in the transition matrix of the power $k$ is\n",
    "\n",
    "$$\\mathcal L^k_{ij} = P^k_{ij}\\log \\sigma(v_i^\\top u_j) + \\frac{\\lambda}{|V|}\\sum_{t=1}^{|V|}P^k_{tj}\\log \\sigma(-v_t^\\top u_j)$$\n",
    "\n",
    "where $\\lambda$ is the hyperparameter indicating the number of negative samples. Optimizing this objective makes observed pairs $(i, j)$ have similar embeddings, while scattering unobserved pairs $(t, j)$. Substitution $v_i^\\top u_j = X_{ij}$ and setting $\\frac{\\partial \\mathcal L_{ij}}{ \\partial X_{ij}} = 0$ yields\n",
    "\n",
    "$$v_i^\\top u_j = X_{ij}^k = \\log \\frac{P^k_{ij}}{\\sum_{t=1}^{|V|}P^k_{tj}} - \\log\\frac{\\lambda}{|V|}$$"
   ]
  },
  {
   "cell_type": "markdown",
   "metadata": {
    "id": "X7bwqmWGs-QC"
   },
   "source": [
    "Let us call $X^k$ log probabilistic matrix. Write a function `log_probabilistic_matrix` that takes a transition matrix, hyperparameter $\\lambda$ and returns a log probabilistic matrix.\n",
    "\n",
    "_Remark: to prevent $-\\infty$ in log, add $\\varepsilon=1^{-6}$ as follows `np.log(x + 1e-6)`_"
   ]
  },
  {
   "cell_type": "code",
   "execution_count": null,
   "metadata": {
    "deletable": false,
    "id": "XjVAyoUiMq_8",
    "nbgrader": {
     "cell_type": "code",
     "checksum": "63684003d32189034bf77a52da99cd2b",
     "grade": false,
     "grade_id": "cell-c949fe784127c31a",
     "locked": false,
     "schema_version": 3,
     "solution": true,
     "task": false
    }
   },
   "outputs": [],
   "source": [
    "def log_probabilistic_matrix(P, lambd):\n",
    "  n = P.shape[0]\n",
    "  X = np.log(P/P.sum(axis=0) + 1e-6) - np.log(lambd/n + 1e-6)\n",
    "  return X\n"
   ]
  },
  {
   "cell_type": "code",
   "execution_count": null,
   "metadata": {
    "deletable": false,
    "editable": false,
    "id": "KTl_DISFt8mA",
    "nbgrader": {
     "cell_type": "code",
     "checksum": "f81afad0435cd21fc8814f7974fd775b",
     "grade": true,
     "grade_id": "cell-624f6d1384718d6f",
     "locked": true,
     "points": 0.75,
     "schema_version": 3,
     "solution": false,
     "task": false
    }
   },
   "outputs": [],
   "source": [
    "X = log_probabilistic_matrix(P, lambd=5)\n",
    "assert type(X) == np.matrix\n",
    "assert X.shape == (len(G), len(G))\n",
    "assert round(X[3, 9], 3) == 3.182"
   ]
  },
  {
   "cell_type": "markdown",
   "metadata": {
    "id": "y56r1-evIBAJ"
   },
   "source": [
    "The log probabilistic matrix $X^k$ can be approximated by truncated SVD so that\n",
    "\n",
    "$$X^k \\approx X_d^k = U_d^k \\Sigma_d^k (V_d^k)^\\top$$\n",
    "\n",
    "where $d$ is the number of singular values of truncated SVD. Thus, embeddings of start nodes can be obtained by \n",
    "\n",
    "$$v_i = \\left[U_d^k \\sqrt{\\Sigma_d^k}\\right]_i$$ \n",
    "\n",
    "and embeddings of context nodes by \n",
    "\n",
    "$$u_j = \\left[\\sqrt{\\Sigma_d^k} (V_d^k)^\\top\\right]_j$$ \n",
    "\n",
    "_Remark: the power 1/2 makes SVD symmetric. It is empirically shown that the symmetric SVD is better for social graphs and makes embeddings more \"similar\" to corresponding embeddings of SkipGram with negative sampling in a sence of some matrix properties._"
   ]
  },
  {
   "cell_type": "markdown",
   "metadata": {
    "id": "M5gDGuACuy-5"
   },
   "source": [
    "Write a function `svd_emb` that takes a log probabilistic matrix, number of dimensions (number of largest singular values) in truncated SVD and returns embeddings of start nodes.\n",
    "\n",
    "_Hint: use `scipy.sparse.linalg.svds` to calculate truncated SVD for a given number of singular values._"
   ]
  },
  {
   "cell_type": "code",
   "execution_count": null,
   "metadata": {
    "deletable": false,
    "id": "S9yoD3FxOXbw",
    "nbgrader": {
     "cell_type": "code",
     "checksum": "64aa1dc62ca5b5035ec1eedfc7372ab7",
     "grade": false,
     "grade_id": "cell-683cb8f26df5fd3a",
     "locked": false,
     "schema_version": 3,
     "solution": true,
     "task": false
    }
   },
   "outputs": [],
   "source": [
    "def svd_emb(X, dim):\n",
    "    u, s, vT = svds(X, k=dim)\n",
    "    #print (u.shape)\n",
    "    #print (s.shape)\n",
    "    #print (vT.shape)\n",
    "    return u @ np.sqrt(np.diag(s)) \n",
    "\n",
    "    # YOUR CODE HERE\n",
    "    #raise NotImplementedError()"
   ]
  },
  {
   "cell_type": "code",
   "execution_count": null,
   "metadata": {
    "deletable": false,
    "editable": false,
    "id": "fVF6rZ9dJNhS",
    "nbgrader": {
     "cell_type": "code",
     "checksum": "b79ac0db377db5bae1f2923b7877e2dc",
     "grade": true,
     "grade_id": "cell-426bb9037fe96aba",
     "locked": true,
     "points": 0.75,
     "schema_version": 3,
     "solution": false,
     "task": false
    }
   },
   "outputs": [],
   "source": [
    "_emb = svd_emb(X, dim=4)\n",
    "assert type(_emb) == np.ndarray\n",
    "assert _emb.shape == (3873, 4)"
   ]
  },
  {
   "cell_type": "markdown",
   "metadata": {
    "id": "DMgCQ_9GxjKg"
   },
   "source": [
    "\n",
    "The resulting node embeddings are concatenated from the log probabilistic matrices $X, X^2, ..., X^k$.\n",
    "\n",
    "In `grarep_emb`, we calculate powers of transition matrix $P, P^2, \\dots, P^k$, calculate and concatenate embeddings of start nodes, then we compress them to the original number of dimensions by PCA."
   ]
  },
  {
   "cell_type": "code",
   "execution_count": null,
   "metadata": {
    "deletable": false,
    "editable": false,
    "id": "V76RS5EmJNhT",
    "nbgrader": {
     "cell_type": "code",
     "checksum": "08744ba53988cb545f953cce607f67c6",
     "grade": false,
     "grade_id": "cell-fe1d6156e8d730ad",
     "locked": true,
     "schema_version": 3,
     "solution": false,
     "task": false
    }
   },
   "outputs": [],
   "source": [
    "def grarep_emb(G, dim, k, lambd):\n",
    "    emb = []\n",
    "    P_1 = csr_transition_matrix(G)\n",
    "    P = P_1.copy()\n",
    "    for i in trange(k):\n",
    "        X = log_probabilistic_matrix(P, lambd=lambd)\n",
    "        _emb = svd_emb(X, dim=dim)\n",
    "        emb.append(_emb)\n",
    "        if i == (k - 1):\n",
    "            continue\n",
    "        P = P @ P_1\n",
    "    emb = PCA(n_components=dim).fit_transform(np.concatenate(emb, axis=1))\n",
    "    return emb"
   ]
  },
  {
   "cell_type": "markdown",
   "metadata": {
    "id": "SitFJ7ZcJNhU"
   },
   "source": [
    "Finally, we evaluate the model by mutual information between ground truth labels and cluster indices."
   ]
  },
  {
   "cell_type": "code",
   "execution_count": null,
   "metadata": {
    "deletable": false,
    "editable": false,
    "id": "0NvbTouIFSm7",
    "nbgrader": {
     "cell_type": "code",
     "checksum": "a8be8f00f7fc401b45409cd399e91d28",
     "grade": true,
     "grade_id": "cell-a016b73d556e34c9",
     "locked": true,
     "points": 0.75,
     "schema_version": 3,
     "solution": false,
     "task": false
    }
   },
   "outputs": [],
   "source": [
    "emb = grarep_emb(G, dim=16, k=4, lambd=5)\n",
    "assert emb.shape == (len(G), 16)\n",
    "_, pred_labels, _ = k_means(emb, n_clusters=8)\n",
    "mi = mutual_info_score(labels, pred_labels)\n",
    "assert mi > 0.22"
   ]
  },
  {
   "cell_type": "markdown",
   "metadata": {
    "id": "VkLVoqDV0L93"
   },
   "source": [
    "Plot t-SNE visualization of node embeddings."
   ]
  },
  {
   "cell_type": "code",
   "execution_count": null,
   "metadata": {
    "id": "ur-bWmtED-DE"
   },
   "outputs": [],
   "source": [
    "decomposition = TSNE(n_components=2)\n",
    "xy_emb = decomposition.fit_transform(emb)\n",
    "\n",
    "plt.figure(figsize=(8, 8))\n",
    "scatter = plt.scatter(xy_emb[:, 0], xy_emb[:, 1], c=labels, s=10, cmap=plt.cm.Set2)\n",
    "plt.legend(handles=scatter.legend_elements()[0], labels=unique)\n",
    "plt.title(f'MI: {mi:.4f}');"
   ]
  },
  {
   "cell_type": "code",
   "execution_count": null,
   "metadata": {
    "id": "GG8kwRNRJNhY"
   },
   "outputs": [],
   "source": []
  }
 ],
 "metadata": {
  "colab": {
   "collapsed_sections": [],
   "name": "final try.ipynb",
   "provenance": []
  },
  "kernelspec": {
   "display_name": "Python 3 (ipykernel)",
   "language": "python",
   "name": "python3"
  },
  "language_info": {
   "codemirror_mode": {
    "name": "ipython",
    "version": 3
   },
   "file_extension": ".py",
   "mimetype": "text/x-python",
   "name": "python",
   "nbconvert_exporter": "python",
   "pygments_lexer": "ipython3",
   "version": "3.9.7"
  },
  "widgets": {
   "application/vnd.jupyter.widget-state+json": {
    "0927d030aa19439a913de34318beca65": {
     "model_module": "@jupyter-widgets/controls",
     "model_module_version": "1.5.0",
     "model_name": "DescriptionStyleModel",
     "state": {
      "_model_module": "@jupyter-widgets/controls",
      "_model_module_version": "1.5.0",
      "_model_name": "DescriptionStyleModel",
      "_view_count": null,
      "_view_module": "@jupyter-widgets/base",
      "_view_module_version": "1.2.0",
      "_view_name": "StyleView",
      "description_width": ""
     }
    },
    "0f4371fe938141b9a9131af8c2173ab0": {
     "model_module": "@jupyter-widgets/base",
     "model_module_version": "1.2.0",
     "model_name": "LayoutModel",
     "state": {
      "_model_module": "@jupyter-widgets/base",
      "_model_module_version": "1.2.0",
      "_model_name": "LayoutModel",
      "_view_count": null,
      "_view_module": "@jupyter-widgets/base",
      "_view_module_version": "1.2.0",
      "_view_name": "LayoutView",
      "align_content": null,
      "align_items": null,
      "align_self": null,
      "border": null,
      "bottom": null,
      "display": null,
      "flex": null,
      "flex_flow": null,
      "grid_area": null,
      "grid_auto_columns": null,
      "grid_auto_flow": null,
      "grid_auto_rows": null,
      "grid_column": null,
      "grid_gap": null,
      "grid_row": null,
      "grid_template_areas": null,
      "grid_template_columns": null,
      "grid_template_rows": null,
      "height": null,
      "justify_content": null,
      "justify_items": null,
      "left": null,
      "margin": null,
      "max_height": null,
      "max_width": null,
      "min_height": null,
      "min_width": null,
      "object_fit": null,
      "object_position": null,
      "order": null,
      "overflow": null,
      "overflow_x": null,
      "overflow_y": null,
      "padding": null,
      "right": null,
      "top": null,
      "visibility": null,
      "width": null
     }
    },
    "0f43bdee0f87447c8d0d401f39101139": {
     "model_module": "@jupyter-widgets/base",
     "model_module_version": "1.2.0",
     "model_name": "LayoutModel",
     "state": {
      "_model_module": "@jupyter-widgets/base",
      "_model_module_version": "1.2.0",
      "_model_name": "LayoutModel",
      "_view_count": null,
      "_view_module": "@jupyter-widgets/base",
      "_view_module_version": "1.2.0",
      "_view_name": "LayoutView",
      "align_content": null,
      "align_items": null,
      "align_self": null,
      "border": null,
      "bottom": null,
      "display": null,
      "flex": null,
      "flex_flow": null,
      "grid_area": null,
      "grid_auto_columns": null,
      "grid_auto_flow": null,
      "grid_auto_rows": null,
      "grid_column": null,
      "grid_gap": null,
      "grid_row": null,
      "grid_template_areas": null,
      "grid_template_columns": null,
      "grid_template_rows": null,
      "height": null,
      "justify_content": null,
      "justify_items": null,
      "left": null,
      "margin": null,
      "max_height": null,
      "max_width": null,
      "min_height": null,
      "min_width": null,
      "object_fit": null,
      "object_position": null,
      "order": null,
      "overflow": null,
      "overflow_x": null,
      "overflow_y": null,
      "padding": null,
      "right": null,
      "top": null,
      "visibility": null,
      "width": null
     }
    },
    "1142b2d3ecd1418ea80eb1bb3d1dcbf4": {
     "model_module": "@jupyter-widgets/controls",
     "model_module_version": "1.5.0",
     "model_name": "FloatProgressModel",
     "state": {
      "_dom_classes": [],
      "_model_module": "@jupyter-widgets/controls",
      "_model_module_version": "1.5.0",
      "_model_name": "FloatProgressModel",
      "_view_count": null,
      "_view_module": "@jupyter-widgets/controls",
      "_view_module_version": "1.5.0",
      "_view_name": "ProgressView",
      "bar_style": "success",
      "description": "",
      "description_tooltip": null,
      "layout": "IPY_MODEL_eceaf917f28948a19eff59e769ca7c57",
      "max": 50,
      "min": 0,
      "orientation": "horizontal",
      "style": "IPY_MODEL_5a80e1647f254196b24a2c80ee5adfc8",
      "value": 50
     }
    },
    "1564b81b7ecc450fbdf15b1323a4d565": {
     "model_module": "@jupyter-widgets/controls",
     "model_module_version": "1.5.0",
     "model_name": "DescriptionStyleModel",
     "state": {
      "_model_module": "@jupyter-widgets/controls",
      "_model_module_version": "1.5.0",
      "_model_name": "DescriptionStyleModel",
      "_view_count": null,
      "_view_module": "@jupyter-widgets/base",
      "_view_module_version": "1.2.0",
      "_view_name": "StyleView",
      "description_width": ""
     }
    },
    "16f4a6b2e6044c63a73c9419223c5eca": {
     "model_module": "@jupyter-widgets/controls",
     "model_module_version": "1.5.0",
     "model_name": "ProgressStyleModel",
     "state": {
      "_model_module": "@jupyter-widgets/controls",
      "_model_module_version": "1.5.0",
      "_model_name": "ProgressStyleModel",
      "_view_count": null,
      "_view_module": "@jupyter-widgets/base",
      "_view_module_version": "1.2.0",
      "_view_name": "StyleView",
      "bar_color": null,
      "description_width": ""
     }
    },
    "234c9f52c20b455faffd6d2dd18fdcd1": {
     "model_module": "@jupyter-widgets/base",
     "model_module_version": "1.2.0",
     "model_name": "LayoutModel",
     "state": {
      "_model_module": "@jupyter-widgets/base",
      "_model_module_version": "1.2.0",
      "_model_name": "LayoutModel",
      "_view_count": null,
      "_view_module": "@jupyter-widgets/base",
      "_view_module_version": "1.2.0",
      "_view_name": "LayoutView",
      "align_content": null,
      "align_items": null,
      "align_self": null,
      "border": null,
      "bottom": null,
      "display": null,
      "flex": null,
      "flex_flow": null,
      "grid_area": null,
      "grid_auto_columns": null,
      "grid_auto_flow": null,
      "grid_auto_rows": null,
      "grid_column": null,
      "grid_gap": null,
      "grid_row": null,
      "grid_template_areas": null,
      "grid_template_columns": null,
      "grid_template_rows": null,
      "height": null,
      "justify_content": null,
      "justify_items": null,
      "left": null,
      "margin": null,
      "max_height": null,
      "max_width": null,
      "min_height": null,
      "min_width": null,
      "object_fit": null,
      "object_position": null,
      "order": null,
      "overflow": null,
      "overflow_x": null,
      "overflow_y": null,
      "padding": null,
      "right": null,
      "top": null,
      "visibility": null,
      "width": null
     }
    },
    "252e9d40ef774c9d9148f8e58747b5b2": {
     "model_module": "@jupyter-widgets/controls",
     "model_module_version": "1.5.0",
     "model_name": "FloatProgressModel",
     "state": {
      "_dom_classes": [],
      "_model_module": "@jupyter-widgets/controls",
      "_model_module_version": "1.5.0",
      "_model_name": "FloatProgressModel",
      "_view_count": null,
      "_view_module": "@jupyter-widgets/controls",
      "_view_module_version": "1.5.0",
      "_view_name": "ProgressView",
      "bar_style": "",
      "description": "",
      "description_tooltip": null,
      "layout": "IPY_MODEL_fdec3af90eab4faea793d307453d9f69",
      "max": 3873,
      "min": 0,
      "orientation": "horizontal",
      "style": "IPY_MODEL_16f4a6b2e6044c63a73c9419223c5eca",
      "value": 3873
     }
    },
    "26f87406367e4050852787044e6e56ef": {
     "model_module": "@jupyter-widgets/controls",
     "model_module_version": "1.5.0",
     "model_name": "HTMLModel",
     "state": {
      "_dom_classes": [],
      "_model_module": "@jupyter-widgets/controls",
      "_model_module_version": "1.5.0",
      "_model_name": "HTMLModel",
      "_view_count": null,
      "_view_module": "@jupyter-widgets/controls",
      "_view_module_version": "1.5.0",
      "_view_name": "HTMLView",
      "description": "",
      "description_tooltip": null,
      "layout": "IPY_MODEL_67fa78a581814c5fb4350ad9dc363e28",
      "placeholder": "​",
      "style": "IPY_MODEL_0927d030aa19439a913de34318beca65",
      "value": "100%"
     }
    },
    "27c72c8216fe40f2a9f0abb71d00e52f": {
     "model_module": "@jupyter-widgets/controls",
     "model_module_version": "1.5.0",
     "model_name": "DescriptionStyleModel",
     "state": {
      "_model_module": "@jupyter-widgets/controls",
      "_model_module_version": "1.5.0",
      "_model_name": "DescriptionStyleModel",
      "_view_count": null,
      "_view_module": "@jupyter-widgets/base",
      "_view_module_version": "1.2.0",
      "_view_name": "StyleView",
      "description_width": ""
     }
    },
    "2cd5657d6b3243a0b5d7ddc2ec1125f8": {
     "model_module": "@jupyter-widgets/base",
     "model_module_version": "1.2.0",
     "model_name": "LayoutModel",
     "state": {
      "_model_module": "@jupyter-widgets/base",
      "_model_module_version": "1.2.0",
      "_model_name": "LayoutModel",
      "_view_count": null,
      "_view_module": "@jupyter-widgets/base",
      "_view_module_version": "1.2.0",
      "_view_name": "LayoutView",
      "align_content": null,
      "align_items": null,
      "align_self": null,
      "border": null,
      "bottom": null,
      "display": null,
      "flex": null,
      "flex_flow": null,
      "grid_area": null,
      "grid_auto_columns": null,
      "grid_auto_flow": null,
      "grid_auto_rows": null,
      "grid_column": null,
      "grid_gap": null,
      "grid_row": null,
      "grid_template_areas": null,
      "grid_template_columns": null,
      "grid_template_rows": null,
      "height": null,
      "justify_content": null,
      "justify_items": null,
      "left": null,
      "margin": null,
      "max_height": null,
      "max_width": null,
      "min_height": null,
      "min_width": null,
      "object_fit": null,
      "object_position": null,
      "order": null,
      "overflow": null,
      "overflow_x": null,
      "overflow_y": null,
      "padding": null,
      "right": null,
      "top": null,
      "visibility": null,
      "width": null
     }
    },
    "2d597356e6c940afba19c5166d5660b3": {
     "model_module": "@jupyter-widgets/controls",
     "model_module_version": "1.5.0",
     "model_name": "DescriptionStyleModel",
     "state": {
      "_model_module": "@jupyter-widgets/controls",
      "_model_module_version": "1.5.0",
      "_model_name": "DescriptionStyleModel",
      "_view_count": null,
      "_view_module": "@jupyter-widgets/base",
      "_view_module_version": "1.2.0",
      "_view_name": "StyleView",
      "description_width": ""
     }
    },
    "2e018158da9c4362817489ff0fef11e3": {
     "model_module": "@jupyter-widgets/controls",
     "model_module_version": "1.5.0",
     "model_name": "ProgressStyleModel",
     "state": {
      "_model_module": "@jupyter-widgets/controls",
      "_model_module_version": "1.5.0",
      "_model_name": "ProgressStyleModel",
      "_view_count": null,
      "_view_module": "@jupyter-widgets/base",
      "_view_module_version": "1.2.0",
      "_view_name": "StyleView",
      "bar_color": null,
      "description_width": ""
     }
    },
    "31a7b4f5fc424ea4a69582db3ba3f345": {
     "model_module": "@jupyter-widgets/controls",
     "model_module_version": "1.5.0",
     "model_name": "FloatProgressModel",
     "state": {
      "_dom_classes": [],
      "_model_module": "@jupyter-widgets/controls",
      "_model_module_version": "1.5.0",
      "_model_name": "FloatProgressModel",
      "_view_count": null,
      "_view_module": "@jupyter-widgets/controls",
      "_view_module_version": "1.5.0",
      "_view_name": "ProgressView",
      "bar_style": "success",
      "description": "",
      "description_tooltip": null,
      "layout": "IPY_MODEL_7b292585bbe846ea84343de2dbb3596a",
      "max": 50,
      "min": 0,
      "orientation": "horizontal",
      "style": "IPY_MODEL_2e018158da9c4362817489ff0fef11e3",
      "value": 50
     }
    },
    "3a87a74057794059b1bda580834dbb2f": {
     "model_module": "@jupyter-widgets/base",
     "model_module_version": "1.2.0",
     "model_name": "LayoutModel",
     "state": {
      "_model_module": "@jupyter-widgets/base",
      "_model_module_version": "1.2.0",
      "_model_name": "LayoutModel",
      "_view_count": null,
      "_view_module": "@jupyter-widgets/base",
      "_view_module_version": "1.2.0",
      "_view_name": "LayoutView",
      "align_content": null,
      "align_items": null,
      "align_self": null,
      "border": null,
      "bottom": null,
      "display": null,
      "flex": null,
      "flex_flow": null,
      "grid_area": null,
      "grid_auto_columns": null,
      "grid_auto_flow": null,
      "grid_auto_rows": null,
      "grid_column": null,
      "grid_gap": null,
      "grid_row": null,
      "grid_template_areas": null,
      "grid_template_columns": null,
      "grid_template_rows": null,
      "height": null,
      "justify_content": null,
      "justify_items": null,
      "left": null,
      "margin": null,
      "max_height": null,
      "max_width": null,
      "min_height": null,
      "min_width": null,
      "object_fit": null,
      "object_position": null,
      "order": null,
      "overflow": null,
      "overflow_x": null,
      "overflow_y": null,
      "padding": null,
      "right": null,
      "top": null,
      "visibility": null,
      "width": null
     }
    },
    "3ada169d117048dd828c2b0eb7d7e5d0": {
     "model_module": "@jupyter-widgets/base",
     "model_module_version": "1.2.0",
     "model_name": "LayoutModel",
     "state": {
      "_model_module": "@jupyter-widgets/base",
      "_model_module_version": "1.2.0",
      "_model_name": "LayoutModel",
      "_view_count": null,
      "_view_module": "@jupyter-widgets/base",
      "_view_module_version": "1.2.0",
      "_view_name": "LayoutView",
      "align_content": null,
      "align_items": null,
      "align_self": null,
      "border": null,
      "bottom": null,
      "display": null,
      "flex": null,
      "flex_flow": null,
      "grid_area": null,
      "grid_auto_columns": null,
      "grid_auto_flow": null,
      "grid_auto_rows": null,
      "grid_column": null,
      "grid_gap": null,
      "grid_row": null,
      "grid_template_areas": null,
      "grid_template_columns": null,
      "grid_template_rows": null,
      "height": null,
      "justify_content": null,
      "justify_items": null,
      "left": null,
      "margin": null,
      "max_height": null,
      "max_width": null,
      "min_height": null,
      "min_width": null,
      "object_fit": null,
      "object_position": null,
      "order": null,
      "overflow": null,
      "overflow_x": null,
      "overflow_y": null,
      "padding": null,
      "right": null,
      "top": null,
      "visibility": null,
      "width": null
     }
    },
    "3e88b235dd8b4461bf056ae966cca361": {
     "model_module": "@jupyter-widgets/base",
     "model_module_version": "1.2.0",
     "model_name": "LayoutModel",
     "state": {
      "_model_module": "@jupyter-widgets/base",
      "_model_module_version": "1.2.0",
      "_model_name": "LayoutModel",
      "_view_count": null,
      "_view_module": "@jupyter-widgets/base",
      "_view_module_version": "1.2.0",
      "_view_name": "LayoutView",
      "align_content": null,
      "align_items": null,
      "align_self": null,
      "border": null,
      "bottom": null,
      "display": null,
      "flex": null,
      "flex_flow": null,
      "grid_area": null,
      "grid_auto_columns": null,
      "grid_auto_flow": null,
      "grid_auto_rows": null,
      "grid_column": null,
      "grid_gap": null,
      "grid_row": null,
      "grid_template_areas": null,
      "grid_template_columns": null,
      "grid_template_rows": null,
      "height": null,
      "justify_content": null,
      "justify_items": null,
      "left": null,
      "margin": null,
      "max_height": null,
      "max_width": null,
      "min_height": null,
      "min_width": null,
      "object_fit": null,
      "object_position": null,
      "order": null,
      "overflow": null,
      "overflow_x": null,
      "overflow_y": null,
      "padding": null,
      "right": null,
      "top": null,
      "visibility": null,
      "width": null
     }
    },
    "402a8d91fe6547b19f632e7aadf299f7": {
     "model_module": "@jupyter-widgets/controls",
     "model_module_version": "1.5.0",
     "model_name": "HBoxModel",
     "state": {
      "_dom_classes": [],
      "_model_module": "@jupyter-widgets/controls",
      "_model_module_version": "1.5.0",
      "_model_name": "HBoxModel",
      "_view_count": null,
      "_view_module": "@jupyter-widgets/controls",
      "_view_module_version": "1.5.0",
      "_view_name": "HBoxView",
      "box_style": "",
      "children": [
       "IPY_MODEL_609cc7ef350f4b8499c385f1db465ca2",
       "IPY_MODEL_252e9d40ef774c9d9148f8e58747b5b2",
       "IPY_MODEL_8574c57a8e50471fa75d796638a3b19b"
      ],
      "layout": "IPY_MODEL_0f43bdee0f87447c8d0d401f39101139"
     }
    },
    "4074a73f78534eb2a09caf3f35463e27": {
     "model_module": "@jupyter-widgets/base",
     "model_module_version": "1.2.0",
     "model_name": "LayoutModel",
     "state": {
      "_model_module": "@jupyter-widgets/base",
      "_model_module_version": "1.2.0",
      "_model_name": "LayoutModel",
      "_view_count": null,
      "_view_module": "@jupyter-widgets/base",
      "_view_module_version": "1.2.0",
      "_view_name": "LayoutView",
      "align_content": null,
      "align_items": null,
      "align_self": null,
      "border": null,
      "bottom": null,
      "display": null,
      "flex": null,
      "flex_flow": null,
      "grid_area": null,
      "grid_auto_columns": null,
      "grid_auto_flow": null,
      "grid_auto_rows": null,
      "grid_column": null,
      "grid_gap": null,
      "grid_row": null,
      "grid_template_areas": null,
      "grid_template_columns": null,
      "grid_template_rows": null,
      "height": null,
      "justify_content": null,
      "justify_items": null,
      "left": null,
      "margin": null,
      "max_height": null,
      "max_width": null,
      "min_height": null,
      "min_width": null,
      "object_fit": null,
      "object_position": null,
      "order": null,
      "overflow": null,
      "overflow_x": null,
      "overflow_y": null,
      "padding": null,
      "right": null,
      "top": null,
      "visibility": null,
      "width": null
     }
    },
    "410edff388c9415aa57058379782035e": {
     "model_module": "@jupyter-widgets/base",
     "model_module_version": "1.2.0",
     "model_name": "LayoutModel",
     "state": {
      "_model_module": "@jupyter-widgets/base",
      "_model_module_version": "1.2.0",
      "_model_name": "LayoutModel",
      "_view_count": null,
      "_view_module": "@jupyter-widgets/base",
      "_view_module_version": "1.2.0",
      "_view_name": "LayoutView",
      "align_content": null,
      "align_items": null,
      "align_self": null,
      "border": null,
      "bottom": null,
      "display": null,
      "flex": null,
      "flex_flow": null,
      "grid_area": null,
      "grid_auto_columns": null,
      "grid_auto_flow": null,
      "grid_auto_rows": null,
      "grid_column": null,
      "grid_gap": null,
      "grid_row": null,
      "grid_template_areas": null,
      "grid_template_columns": null,
      "grid_template_rows": null,
      "height": null,
      "justify_content": null,
      "justify_items": null,
      "left": null,
      "margin": null,
      "max_height": null,
      "max_width": null,
      "min_height": null,
      "min_width": null,
      "object_fit": null,
      "object_position": null,
      "order": null,
      "overflow": null,
      "overflow_x": null,
      "overflow_y": null,
      "padding": null,
      "right": null,
      "top": null,
      "visibility": null,
      "width": null
     }
    },
    "41dd7d4d614a495d8140efc13ae3144b": {
     "model_module": "@jupyter-widgets/base",
     "model_module_version": "1.2.0",
     "model_name": "LayoutModel",
     "state": {
      "_model_module": "@jupyter-widgets/base",
      "_model_module_version": "1.2.0",
      "_model_name": "LayoutModel",
      "_view_count": null,
      "_view_module": "@jupyter-widgets/base",
      "_view_module_version": "1.2.0",
      "_view_name": "LayoutView",
      "align_content": null,
      "align_items": null,
      "align_self": null,
      "border": null,
      "bottom": null,
      "display": null,
      "flex": null,
      "flex_flow": null,
      "grid_area": null,
      "grid_auto_columns": null,
      "grid_auto_flow": null,
      "grid_auto_rows": null,
      "grid_column": null,
      "grid_gap": null,
      "grid_row": null,
      "grid_template_areas": null,
      "grid_template_columns": null,
      "grid_template_rows": null,
      "height": null,
      "justify_content": null,
      "justify_items": null,
      "left": null,
      "margin": null,
      "max_height": null,
      "max_width": null,
      "min_height": null,
      "min_width": null,
      "object_fit": null,
      "object_position": null,
      "order": null,
      "overflow": null,
      "overflow_x": null,
      "overflow_y": null,
      "padding": null,
      "right": null,
      "top": null,
      "visibility": null,
      "width": null
     }
    },
    "43595dbc885742558dd80b1469442550": {
     "model_module": "@jupyter-widgets/base",
     "model_module_version": "1.2.0",
     "model_name": "LayoutModel",
     "state": {
      "_model_module": "@jupyter-widgets/base",
      "_model_module_version": "1.2.0",
      "_model_name": "LayoutModel",
      "_view_count": null,
      "_view_module": "@jupyter-widgets/base",
      "_view_module_version": "1.2.0",
      "_view_name": "LayoutView",
      "align_content": null,
      "align_items": null,
      "align_self": null,
      "border": null,
      "bottom": null,
      "display": null,
      "flex": null,
      "flex_flow": null,
      "grid_area": null,
      "grid_auto_columns": null,
      "grid_auto_flow": null,
      "grid_auto_rows": null,
      "grid_column": null,
      "grid_gap": null,
      "grid_row": null,
      "grid_template_areas": null,
      "grid_template_columns": null,
      "grid_template_rows": null,
      "height": null,
      "justify_content": null,
      "justify_items": null,
      "left": null,
      "margin": null,
      "max_height": null,
      "max_width": null,
      "min_height": null,
      "min_width": null,
      "object_fit": null,
      "object_position": null,
      "order": null,
      "overflow": null,
      "overflow_x": null,
      "overflow_y": null,
      "padding": null,
      "right": null,
      "top": null,
      "visibility": null,
      "width": null
     }
    },
    "4ebcffe97f234827b88f8c4d94762262": {
     "model_module": "@jupyter-widgets/controls",
     "model_module_version": "1.5.0",
     "model_name": "DescriptionStyleModel",
     "state": {
      "_model_module": "@jupyter-widgets/controls",
      "_model_module_version": "1.5.0",
      "_model_name": "DescriptionStyleModel",
      "_view_count": null,
      "_view_module": "@jupyter-widgets/base",
      "_view_module_version": "1.2.0",
      "_view_name": "StyleView",
      "description_width": ""
     }
    },
    "5767cde28d524f3682b470b585417f11": {
     "model_module": "@jupyter-widgets/controls",
     "model_module_version": "1.5.0",
     "model_name": "FloatProgressModel",
     "state": {
      "_dom_classes": [],
      "_model_module": "@jupyter-widgets/controls",
      "_model_module_version": "1.5.0",
      "_model_name": "FloatProgressModel",
      "_view_count": null,
      "_view_module": "@jupyter-widgets/controls",
      "_view_module_version": "1.5.0",
      "_view_name": "ProgressView",
      "bar_style": "success",
      "description": "",
      "description_tooltip": null,
      "layout": "IPY_MODEL_773ceaa7ee8c4101892473f7d33170d5",
      "max": 50,
      "min": 0,
      "orientation": "horizontal",
      "style": "IPY_MODEL_8c11267bc29c47929f659e1003a1dfcf",
      "value": 50
     }
    },
    "5a80e1647f254196b24a2c80ee5adfc8": {
     "model_module": "@jupyter-widgets/controls",
     "model_module_version": "1.5.0",
     "model_name": "ProgressStyleModel",
     "state": {
      "_model_module": "@jupyter-widgets/controls",
      "_model_module_version": "1.5.0",
      "_model_name": "ProgressStyleModel",
      "_view_count": null,
      "_view_module": "@jupyter-widgets/base",
      "_view_module_version": "1.2.0",
      "_view_name": "StyleView",
      "bar_color": null,
      "description_width": ""
     }
    },
    "5baae0dec59047cf9814f8290614a5b2": {
     "model_module": "@jupyter-widgets/base",
     "model_module_version": "1.2.0",
     "model_name": "LayoutModel",
     "state": {
      "_model_module": "@jupyter-widgets/base",
      "_model_module_version": "1.2.0",
      "_model_name": "LayoutModel",
      "_view_count": null,
      "_view_module": "@jupyter-widgets/base",
      "_view_module_version": "1.2.0",
      "_view_name": "LayoutView",
      "align_content": null,
      "align_items": null,
      "align_self": null,
      "border": null,
      "bottom": null,
      "display": null,
      "flex": null,
      "flex_flow": null,
      "grid_area": null,
      "grid_auto_columns": null,
      "grid_auto_flow": null,
      "grid_auto_rows": null,
      "grid_column": null,
      "grid_gap": null,
      "grid_row": null,
      "grid_template_areas": null,
      "grid_template_columns": null,
      "grid_template_rows": null,
      "height": null,
      "justify_content": null,
      "justify_items": null,
      "left": null,
      "margin": null,
      "max_height": null,
      "max_width": null,
      "min_height": null,
      "min_width": null,
      "object_fit": null,
      "object_position": null,
      "order": null,
      "overflow": null,
      "overflow_x": null,
      "overflow_y": null,
      "padding": null,
      "right": null,
      "top": null,
      "visibility": null,
      "width": null
     }
    },
    "5f1120e664cc4305b78cefafa63c9b93": {
     "model_module": "@jupyter-widgets/base",
     "model_module_version": "1.2.0",
     "model_name": "LayoutModel",
     "state": {
      "_model_module": "@jupyter-widgets/base",
      "_model_module_version": "1.2.0",
      "_model_name": "LayoutModel",
      "_view_count": null,
      "_view_module": "@jupyter-widgets/base",
      "_view_module_version": "1.2.0",
      "_view_name": "LayoutView",
      "align_content": null,
      "align_items": null,
      "align_self": null,
      "border": null,
      "bottom": null,
      "display": null,
      "flex": null,
      "flex_flow": null,
      "grid_area": null,
      "grid_auto_columns": null,
      "grid_auto_flow": null,
      "grid_auto_rows": null,
      "grid_column": null,
      "grid_gap": null,
      "grid_row": null,
      "grid_template_areas": null,
      "grid_template_columns": null,
      "grid_template_rows": null,
      "height": null,
      "justify_content": null,
      "justify_items": null,
      "left": null,
      "margin": null,
      "max_height": null,
      "max_width": null,
      "min_height": null,
      "min_width": null,
      "object_fit": null,
      "object_position": null,
      "order": null,
      "overflow": null,
      "overflow_x": null,
      "overflow_y": null,
      "padding": null,
      "right": null,
      "top": null,
      "visibility": null,
      "width": null
     }
    },
    "609cc7ef350f4b8499c385f1db465ca2": {
     "model_module": "@jupyter-widgets/controls",
     "model_module_version": "1.5.0",
     "model_name": "HTMLModel",
     "state": {
      "_dom_classes": [],
      "_model_module": "@jupyter-widgets/controls",
      "_model_module_version": "1.5.0",
      "_model_name": "HTMLModel",
      "_view_count": null,
      "_view_module": "@jupyter-widgets/controls",
      "_view_module_version": "1.5.0",
      "_view_name": "HTMLView",
      "description": "",
      "description_tooltip": null,
      "layout": "IPY_MODEL_2cd5657d6b3243a0b5d7ddc2ec1125f8",
      "placeholder": "​",
      "style": "IPY_MODEL_27c72c8216fe40f2a9f0abb71d00e52f",
      "value": "Sampling biased random walks: 100%"
     }
    },
    "60d5de0bd3e84072840e647fea80cfe4": {
     "model_module": "@jupyter-widgets/controls",
     "model_module_version": "1.5.0",
     "model_name": "HBoxModel",
     "state": {
      "_dom_classes": [],
      "_model_module": "@jupyter-widgets/controls",
      "_model_module_version": "1.5.0",
      "_model_name": "HBoxModel",
      "_view_count": null,
      "_view_module": "@jupyter-widgets/controls",
      "_view_module_version": "1.5.0",
      "_view_name": "HBoxView",
      "box_style": "",
      "children": [
       "IPY_MODEL_26f87406367e4050852787044e6e56ef",
       "IPY_MODEL_31a7b4f5fc424ea4a69582db3ba3f345",
       "IPY_MODEL_7e9b54c6689d40f2a2cfe9d886a96f8d"
      ],
      "layout": "IPY_MODEL_234c9f52c20b455faffd6d2dd18fdcd1"
     }
    },
    "6375042745a24584a55575854e37b65a": {
     "model_module": "@jupyter-widgets/controls",
     "model_module_version": "1.5.0",
     "model_name": "DescriptionStyleModel",
     "state": {
      "_model_module": "@jupyter-widgets/controls",
      "_model_module_version": "1.5.0",
      "_model_name": "DescriptionStyleModel",
      "_view_count": null,
      "_view_module": "@jupyter-widgets/base",
      "_view_module_version": "1.2.0",
      "_view_name": "StyleView",
      "description_width": ""
     }
    },
    "660c47186f5f469c9fa56b3bc12dbafb": {
     "model_module": "@jupyter-widgets/controls",
     "model_module_version": "1.5.0",
     "model_name": "DescriptionStyleModel",
     "state": {
      "_model_module": "@jupyter-widgets/controls",
      "_model_module_version": "1.5.0",
      "_model_name": "DescriptionStyleModel",
      "_view_count": null,
      "_view_module": "@jupyter-widgets/base",
      "_view_module_version": "1.2.0",
      "_view_name": "StyleView",
      "description_width": ""
     }
    },
    "67fa78a581814c5fb4350ad9dc363e28": {
     "model_module": "@jupyter-widgets/base",
     "model_module_version": "1.2.0",
     "model_name": "LayoutModel",
     "state": {
      "_model_module": "@jupyter-widgets/base",
      "_model_module_version": "1.2.0",
      "_model_name": "LayoutModel",
      "_view_count": null,
      "_view_module": "@jupyter-widgets/base",
      "_view_module_version": "1.2.0",
      "_view_name": "LayoutView",
      "align_content": null,
      "align_items": null,
      "align_self": null,
      "border": null,
      "bottom": null,
      "display": null,
      "flex": null,
      "flex_flow": null,
      "grid_area": null,
      "grid_auto_columns": null,
      "grid_auto_flow": null,
      "grid_auto_rows": null,
      "grid_column": null,
      "grid_gap": null,
      "grid_row": null,
      "grid_template_areas": null,
      "grid_template_columns": null,
      "grid_template_rows": null,
      "height": null,
      "justify_content": null,
      "justify_items": null,
      "left": null,
      "margin": null,
      "max_height": null,
      "max_width": null,
      "min_height": null,
      "min_width": null,
      "object_fit": null,
      "object_position": null,
      "order": null,
      "overflow": null,
      "overflow_x": null,
      "overflow_y": null,
      "padding": null,
      "right": null,
      "top": null,
      "visibility": null,
      "width": null
     }
    },
    "6e763d19798f410795a810b339b1371c": {
     "model_module": "@jupyter-widgets/controls",
     "model_module_version": "1.5.0",
     "model_name": "FloatProgressModel",
     "state": {
      "_dom_classes": [],
      "_model_module": "@jupyter-widgets/controls",
      "_model_module_version": "1.5.0",
      "_model_name": "FloatProgressModel",
      "_view_count": null,
      "_view_module": "@jupyter-widgets/controls",
      "_view_module_version": "1.5.0",
      "_view_name": "ProgressView",
      "bar_style": "",
      "description": "",
      "description_tooltip": null,
      "layout": "IPY_MODEL_f0e5c7ec07e94626b2c7e1a4f7cfe2e2",
      "max": 3873,
      "min": 0,
      "orientation": "horizontal",
      "style": "IPY_MODEL_6e7e497548184b90b4f8a3f6dc871b5d",
      "value": 3873
     }
    },
    "6e7e497548184b90b4f8a3f6dc871b5d": {
     "model_module": "@jupyter-widgets/controls",
     "model_module_version": "1.5.0",
     "model_name": "ProgressStyleModel",
     "state": {
      "_model_module": "@jupyter-widgets/controls",
      "_model_module_version": "1.5.0",
      "_model_name": "ProgressStyleModel",
      "_view_count": null,
      "_view_module": "@jupyter-widgets/base",
      "_view_module_version": "1.2.0",
      "_view_name": "StyleView",
      "bar_color": null,
      "description_width": ""
     }
    },
    "700b1b90991c4d44839f64b1d10025ff": {
     "model_module": "@jupyter-widgets/controls",
     "model_module_version": "1.5.0",
     "model_name": "HTMLModel",
     "state": {
      "_dom_classes": [],
      "_model_module": "@jupyter-widgets/controls",
      "_model_module_version": "1.5.0",
      "_model_name": "HTMLModel",
      "_view_count": null,
      "_view_module": "@jupyter-widgets/controls",
      "_view_module_version": "1.5.0",
      "_view_name": "HTMLView",
      "description": "",
      "description_tooltip": null,
      "layout": "IPY_MODEL_410edff388c9415aa57058379782035e",
      "placeholder": "​",
      "style": "IPY_MODEL_f23d5a29aa064f4a8123be43f70095d9",
      "value": " 50/50 [00:35&lt;00:00,  1.18it/s]"
     }
    },
    "773ceaa7ee8c4101892473f7d33170d5": {
     "model_module": "@jupyter-widgets/base",
     "model_module_version": "1.2.0",
     "model_name": "LayoutModel",
     "state": {
      "_model_module": "@jupyter-widgets/base",
      "_model_module_version": "1.2.0",
      "_model_name": "LayoutModel",
      "_view_count": null,
      "_view_module": "@jupyter-widgets/base",
      "_view_module_version": "1.2.0",
      "_view_name": "LayoutView",
      "align_content": null,
      "align_items": null,
      "align_self": null,
      "border": null,
      "bottom": null,
      "display": null,
      "flex": null,
      "flex_flow": null,
      "grid_area": null,
      "grid_auto_columns": null,
      "grid_auto_flow": null,
      "grid_auto_rows": null,
      "grid_column": null,
      "grid_gap": null,
      "grid_row": null,
      "grid_template_areas": null,
      "grid_template_columns": null,
      "grid_template_rows": null,
      "height": null,
      "justify_content": null,
      "justify_items": null,
      "left": null,
      "margin": null,
      "max_height": null,
      "max_width": null,
      "min_height": null,
      "min_width": null,
      "object_fit": null,
      "object_position": null,
      "order": null,
      "overflow": null,
      "overflow_x": null,
      "overflow_y": null,
      "padding": null,
      "right": null,
      "top": null,
      "visibility": null,
      "width": null
     }
    },
    "7b292585bbe846ea84343de2dbb3596a": {
     "model_module": "@jupyter-widgets/base",
     "model_module_version": "1.2.0",
     "model_name": "LayoutModel",
     "state": {
      "_model_module": "@jupyter-widgets/base",
      "_model_module_version": "1.2.0",
      "_model_name": "LayoutModel",
      "_view_count": null,
      "_view_module": "@jupyter-widgets/base",
      "_view_module_version": "1.2.0",
      "_view_name": "LayoutView",
      "align_content": null,
      "align_items": null,
      "align_self": null,
      "border": null,
      "bottom": null,
      "display": null,
      "flex": null,
      "flex_flow": null,
      "grid_area": null,
      "grid_auto_columns": null,
      "grid_auto_flow": null,
      "grid_auto_rows": null,
      "grid_column": null,
      "grid_gap": null,
      "grid_row": null,
      "grid_template_areas": null,
      "grid_template_columns": null,
      "grid_template_rows": null,
      "height": null,
      "justify_content": null,
      "justify_items": null,
      "left": null,
      "margin": null,
      "max_height": null,
      "max_width": null,
      "min_height": null,
      "min_width": null,
      "object_fit": null,
      "object_position": null,
      "order": null,
      "overflow": null,
      "overflow_x": null,
      "overflow_y": null,
      "padding": null,
      "right": null,
      "top": null,
      "visibility": null,
      "width": null
     }
    },
    "7ce3b52703a040d38ab4030c80324aef": {
     "model_module": "@jupyter-widgets/controls",
     "model_module_version": "1.5.0",
     "model_name": "HTMLModel",
     "state": {
      "_dom_classes": [],
      "_model_module": "@jupyter-widgets/controls",
      "_model_module_version": "1.5.0",
      "_model_name": "HTMLModel",
      "_view_count": null,
      "_view_module": "@jupyter-widgets/controls",
      "_view_module_version": "1.5.0",
      "_view_name": "HTMLView",
      "description": "",
      "description_tooltip": null,
      "layout": "IPY_MODEL_41dd7d4d614a495d8140efc13ae3144b",
      "placeholder": "​",
      "style": "IPY_MODEL_f4714f36d2b6441f8de4e9cd0256c4ff",
      "value": " 3866/3873 [01:27&lt;00:00, 94.87it/s]"
     }
    },
    "7e9b54c6689d40f2a2cfe9d886a96f8d": {
     "model_module": "@jupyter-widgets/controls",
     "model_module_version": "1.5.0",
     "model_name": "HTMLModel",
     "state": {
      "_dom_classes": [],
      "_model_module": "@jupyter-widgets/controls",
      "_model_module_version": "1.5.0",
      "_model_name": "HTMLModel",
      "_view_count": null,
      "_view_module": "@jupyter-widgets/controls",
      "_view_module_version": "1.5.0",
      "_view_name": "HTMLView",
      "description": "",
      "description_tooltip": null,
      "layout": "IPY_MODEL_9b0cdbf346114368bdad72acf84bfb99",
      "placeholder": "​",
      "style": "IPY_MODEL_c0124b803b5e4e61ae20245eb9777113",
      "value": " 50/50 [00:45&lt;00:00,  1.08it/s]"
     }
    },
    "80244e511a504c929f1d29bd5d148a57": {
     "model_module": "@jupyter-widgets/controls",
     "model_module_version": "1.5.0",
     "model_name": "DescriptionStyleModel",
     "state": {
      "_model_module": "@jupyter-widgets/controls",
      "_model_module_version": "1.5.0",
      "_model_name": "DescriptionStyleModel",
      "_view_count": null,
      "_view_module": "@jupyter-widgets/base",
      "_view_module_version": "1.2.0",
      "_view_name": "StyleView",
      "description_width": ""
     }
    },
    "8574c57a8e50471fa75d796638a3b19b": {
     "model_module": "@jupyter-widgets/controls",
     "model_module_version": "1.5.0",
     "model_name": "HTMLModel",
     "state": {
      "_dom_classes": [],
      "_model_module": "@jupyter-widgets/controls",
      "_model_module_version": "1.5.0",
      "_model_name": "HTMLModel",
      "_view_count": null,
      "_view_module": "@jupyter-widgets/controls",
      "_view_module_version": "1.5.0",
      "_view_name": "HTMLView",
      "description": "",
      "description_tooltip": null,
      "layout": "IPY_MODEL_3e88b235dd8b4461bf056ae966cca361",
      "placeholder": "​",
      "style": "IPY_MODEL_9888aaf95c70421895d3c26c3282043d",
      "value": " 3866/3873 [01:22&lt;00:00, 87.39it/s]"
     }
    },
    "8915d8e524e9456e89d00a4b4dffd2c5": {
     "model_module": "@jupyter-widgets/controls",
     "model_module_version": "1.5.0",
     "model_name": "HBoxModel",
     "state": {
      "_dom_classes": [],
      "_model_module": "@jupyter-widgets/controls",
      "_model_module_version": "1.5.0",
      "_model_name": "HBoxModel",
      "_view_count": null,
      "_view_module": "@jupyter-widgets/controls",
      "_view_module_version": "1.5.0",
      "_view_name": "HBoxView",
      "box_style": "",
      "children": [
       "IPY_MODEL_8a5553788326463a96a766cf42681954",
       "IPY_MODEL_d1bc6631c4324aa09fc01e7a492726b9",
       "IPY_MODEL_cc6d3ae8b7434d639e9e7a3c2ffe7316"
      ],
      "layout": "IPY_MODEL_d207ec10a648446699f88344b8727589"
     }
    },
    "8a39372c0d7944d4bbd7781e7fdb2eb1": {
     "model_module": "@jupyter-widgets/controls",
     "model_module_version": "1.5.0",
     "model_name": "HBoxModel",
     "state": {
      "_dom_classes": [],
      "_model_module": "@jupyter-widgets/controls",
      "_model_module_version": "1.5.0",
      "_model_name": "HBoxModel",
      "_view_count": null,
      "_view_module": "@jupyter-widgets/controls",
      "_view_module_version": "1.5.0",
      "_view_name": "HBoxView",
      "box_style": "",
      "children": [
       "IPY_MODEL_ac6f5904475b4c2c9f1454682acbaf45",
       "IPY_MODEL_6e763d19798f410795a810b339b1371c",
       "IPY_MODEL_7ce3b52703a040d38ab4030c80324aef"
      ],
      "layout": "IPY_MODEL_e0c970d3b6154d78a1c08800151b34a0"
     }
    },
    "8a5553788326463a96a766cf42681954": {
     "model_module": "@jupyter-widgets/controls",
     "model_module_version": "1.5.0",
     "model_name": "HTMLModel",
     "state": {
      "_dom_classes": [],
      "_model_module": "@jupyter-widgets/controls",
      "_model_module_version": "1.5.0",
      "_model_name": "HTMLModel",
      "_view_count": null,
      "_view_module": "@jupyter-widgets/controls",
      "_view_module_version": "1.5.0",
      "_view_name": "HTMLView",
      "description": "",
      "description_tooltip": null,
      "layout": "IPY_MODEL_5baae0dec59047cf9814f8290614a5b2",
      "placeholder": "​",
      "style": "IPY_MODEL_b20c8e72d7cc4a8db0a7aadba2f68dfe",
      "value": "Sampling biased random walks: 100%"
     }
    },
    "8c11267bc29c47929f659e1003a1dfcf": {
     "model_module": "@jupyter-widgets/controls",
     "model_module_version": "1.5.0",
     "model_name": "ProgressStyleModel",
     "state": {
      "_model_module": "@jupyter-widgets/controls",
      "_model_module_version": "1.5.0",
      "_model_name": "ProgressStyleModel",
      "_view_count": null,
      "_view_module": "@jupyter-widgets/base",
      "_view_module_version": "1.2.0",
      "_view_name": "StyleView",
      "bar_color": null,
      "description_width": ""
     }
    },
    "8cd3b25c74b14cef95da4ae10778c67c": {
     "model_module": "@jupyter-widgets/controls",
     "model_module_version": "1.5.0",
     "model_name": "HTMLModel",
     "state": {
      "_dom_classes": [],
      "_model_module": "@jupyter-widgets/controls",
      "_model_module_version": "1.5.0",
      "_model_name": "HTMLModel",
      "_view_count": null,
      "_view_module": "@jupyter-widgets/controls",
      "_view_module_version": "1.5.0",
      "_view_name": "HTMLView",
      "description": "",
      "description_tooltip": null,
      "layout": "IPY_MODEL_4074a73f78534eb2a09caf3f35463e27",
      "placeholder": "​",
      "style": "IPY_MODEL_6375042745a24584a55575854e37b65a",
      "value": "100%"
     }
    },
    "9888aaf95c70421895d3c26c3282043d": {
     "model_module": "@jupyter-widgets/controls",
     "model_module_version": "1.5.0",
     "model_name": "DescriptionStyleModel",
     "state": {
      "_model_module": "@jupyter-widgets/controls",
      "_model_module_version": "1.5.0",
      "_model_name": "DescriptionStyleModel",
      "_view_count": null,
      "_view_module": "@jupyter-widgets/base",
      "_view_module_version": "1.2.0",
      "_view_name": "StyleView",
      "description_width": ""
     }
    },
    "9b0cdbf346114368bdad72acf84bfb99": {
     "model_module": "@jupyter-widgets/base",
     "model_module_version": "1.2.0",
     "model_name": "LayoutModel",
     "state": {
      "_model_module": "@jupyter-widgets/base",
      "_model_module_version": "1.2.0",
      "_model_name": "LayoutModel",
      "_view_count": null,
      "_view_module": "@jupyter-widgets/base",
      "_view_module_version": "1.2.0",
      "_view_name": "LayoutView",
      "align_content": null,
      "align_items": null,
      "align_self": null,
      "border": null,
      "bottom": null,
      "display": null,
      "flex": null,
      "flex_flow": null,
      "grid_area": null,
      "grid_auto_columns": null,
      "grid_auto_flow": null,
      "grid_auto_rows": null,
      "grid_column": null,
      "grid_gap": null,
      "grid_row": null,
      "grid_template_areas": null,
      "grid_template_columns": null,
      "grid_template_rows": null,
      "height": null,
      "justify_content": null,
      "justify_items": null,
      "left": null,
      "margin": null,
      "max_height": null,
      "max_width": null,
      "min_height": null,
      "min_width": null,
      "object_fit": null,
      "object_position": null,
      "order": null,
      "overflow": null,
      "overflow_x": null,
      "overflow_y": null,
      "padding": null,
      "right": null,
      "top": null,
      "visibility": null,
      "width": null
     }
    },
    "9d4cca973d4f497991327c530dbf42ba": {
     "model_module": "@jupyter-widgets/controls",
     "model_module_version": "1.5.0",
     "model_name": "FloatProgressModel",
     "state": {
      "_dom_classes": [],
      "_model_module": "@jupyter-widgets/controls",
      "_model_module_version": "1.5.0",
      "_model_name": "FloatProgressModel",
      "_view_count": null,
      "_view_module": "@jupyter-widgets/controls",
      "_view_module_version": "1.5.0",
      "_view_name": "ProgressView",
      "bar_style": "success",
      "description": "",
      "description_tooltip": null,
      "layout": "IPY_MODEL_3ada169d117048dd828c2b0eb7d7e5d0",
      "max": 50,
      "min": 0,
      "orientation": "horizontal",
      "style": "IPY_MODEL_fd62483c077847869732558fd48cc692",
      "value": 50
     }
    },
    "a8981e199f414d4686fef5df98403ffb": {
     "model_module": "@jupyter-widgets/controls",
     "model_module_version": "1.5.0",
     "model_name": "HTMLModel",
     "state": {
      "_dom_classes": [],
      "_model_module": "@jupyter-widgets/controls",
      "_model_module_version": "1.5.0",
      "_model_name": "HTMLModel",
      "_view_count": null,
      "_view_module": "@jupyter-widgets/controls",
      "_view_module_version": "1.5.0",
      "_view_name": "HTMLView",
      "description": "",
      "description_tooltip": null,
      "layout": "IPY_MODEL_cb5baf8c7891461f893e827b040223d7",
      "placeholder": "​",
      "style": "IPY_MODEL_660c47186f5f469c9fa56b3bc12dbafb",
      "value": "100%"
     }
    },
    "ac2f589466aa4adc8410c3a33e4e8b12": {
     "model_module": "@jupyter-widgets/controls",
     "model_module_version": "1.5.0",
     "model_name": "HBoxModel",
     "state": {
      "_dom_classes": [],
      "_model_module": "@jupyter-widgets/controls",
      "_model_module_version": "1.5.0",
      "_model_name": "HBoxModel",
      "_view_count": null,
      "_view_module": "@jupyter-widgets/controls",
      "_view_module_version": "1.5.0",
      "_view_name": "HBoxView",
      "box_style": "",
      "children": [
       "IPY_MODEL_8cd3b25c74b14cef95da4ae10778c67c",
       "IPY_MODEL_1142b2d3ecd1418ea80eb1bb3d1dcbf4",
       "IPY_MODEL_700b1b90991c4d44839f64b1d10025ff"
      ],
      "layout": "IPY_MODEL_43595dbc885742558dd80b1469442550"
     }
    },
    "ac6f5904475b4c2c9f1454682acbaf45": {
     "model_module": "@jupyter-widgets/controls",
     "model_module_version": "1.5.0",
     "model_name": "HTMLModel",
     "state": {
      "_dom_classes": [],
      "_model_module": "@jupyter-widgets/controls",
      "_model_module_version": "1.5.0",
      "_model_name": "HTMLModel",
      "_view_count": null,
      "_view_module": "@jupyter-widgets/controls",
      "_view_module_version": "1.5.0",
      "_view_name": "HTMLView",
      "description": "",
      "description_tooltip": null,
      "layout": "IPY_MODEL_5f1120e664cc4305b78cefafa63c9b93",
      "placeholder": "​",
      "style": "IPY_MODEL_e5fc97fd76ca425a973d96ede1d08678",
      "value": "Sampling biased random walks: 100%"
     }
    },
    "ae61cb27fa874099a6fea9321cc89cf3": {
     "model_module": "@jupyter-widgets/base",
     "model_module_version": "1.2.0",
     "model_name": "LayoutModel",
     "state": {
      "_model_module": "@jupyter-widgets/base",
      "_model_module_version": "1.2.0",
      "_model_name": "LayoutModel",
      "_view_count": null,
      "_view_module": "@jupyter-widgets/base",
      "_view_module_version": "1.2.0",
      "_view_name": "LayoutView",
      "align_content": null,
      "align_items": null,
      "align_self": null,
      "border": null,
      "bottom": null,
      "display": null,
      "flex": null,
      "flex_flow": null,
      "grid_area": null,
      "grid_auto_columns": null,
      "grid_auto_flow": null,
      "grid_auto_rows": null,
      "grid_column": null,
      "grid_gap": null,
      "grid_row": null,
      "grid_template_areas": null,
      "grid_template_columns": null,
      "grid_template_rows": null,
      "height": null,
      "justify_content": null,
      "justify_items": null,
      "left": null,
      "margin": null,
      "max_height": null,
      "max_width": null,
      "min_height": null,
      "min_width": null,
      "object_fit": null,
      "object_position": null,
      "order": null,
      "overflow": null,
      "overflow_x": null,
      "overflow_y": null,
      "padding": null,
      "right": null,
      "top": null,
      "visibility": null,
      "width": null
     }
    },
    "b20c8e72d7cc4a8db0a7aadba2f68dfe": {
     "model_module": "@jupyter-widgets/controls",
     "model_module_version": "1.5.0",
     "model_name": "DescriptionStyleModel",
     "state": {
      "_model_module": "@jupyter-widgets/controls",
      "_model_module_version": "1.5.0",
      "_model_name": "DescriptionStyleModel",
      "_view_count": null,
      "_view_module": "@jupyter-widgets/base",
      "_view_module_version": "1.2.0",
      "_view_name": "StyleView",
      "description_width": ""
     }
    },
    "c0124b803b5e4e61ae20245eb9777113": {
     "model_module": "@jupyter-widgets/controls",
     "model_module_version": "1.5.0",
     "model_name": "DescriptionStyleModel",
     "state": {
      "_model_module": "@jupyter-widgets/controls",
      "_model_module_version": "1.5.0",
      "_model_name": "DescriptionStyleModel",
      "_view_count": null,
      "_view_module": "@jupyter-widgets/base",
      "_view_module_version": "1.2.0",
      "_view_name": "StyleView",
      "description_width": ""
     }
    },
    "c5cdcc04ae8f4b6f8955aa51f2c5fb84": {
     "model_module": "@jupyter-widgets/controls",
     "model_module_version": "1.5.0",
     "model_name": "HTMLModel",
     "state": {
      "_dom_classes": [],
      "_model_module": "@jupyter-widgets/controls",
      "_model_module_version": "1.5.0",
      "_model_name": "HTMLModel",
      "_view_count": null,
      "_view_module": "@jupyter-widgets/controls",
      "_view_module_version": "1.5.0",
      "_view_name": "HTMLView",
      "description": "",
      "description_tooltip": null,
      "layout": "IPY_MODEL_ae61cb27fa874099a6fea9321cc89cf3",
      "placeholder": "​",
      "style": "IPY_MODEL_80244e511a504c929f1d29bd5d148a57",
      "value": "100%"
     }
    },
    "c6e64987178b42dd8553e72c3ab92137": {
     "model_module": "@jupyter-widgets/controls",
     "model_module_version": "1.5.0",
     "model_name": "HBoxModel",
     "state": {
      "_dom_classes": [],
      "_model_module": "@jupyter-widgets/controls",
      "_model_module_version": "1.5.0",
      "_model_name": "HBoxModel",
      "_view_count": null,
      "_view_module": "@jupyter-widgets/controls",
      "_view_module_version": "1.5.0",
      "_view_name": "HBoxView",
      "box_style": "",
      "children": [
       "IPY_MODEL_a8981e199f414d4686fef5df98403ffb",
       "IPY_MODEL_5767cde28d524f3682b470b585417f11",
       "IPY_MODEL_c704472dadda4263896ec31feed1b2c0"
      ],
      "layout": "IPY_MODEL_f29f288d77054f4f96bbe7ec4a052cd2"
     }
    },
    "c704472dadda4263896ec31feed1b2c0": {
     "model_module": "@jupyter-widgets/controls",
     "model_module_version": "1.5.0",
     "model_name": "HTMLModel",
     "state": {
      "_dom_classes": [],
      "_model_module": "@jupyter-widgets/controls",
      "_model_module_version": "1.5.0",
      "_model_name": "HTMLModel",
      "_view_count": null,
      "_view_module": "@jupyter-widgets/controls",
      "_view_module_version": "1.5.0",
      "_view_name": "HTMLView",
      "description": "",
      "description_tooltip": null,
      "layout": "IPY_MODEL_e5a9bb19066d47caa04cc8b0ea9ccc5c",
      "placeholder": "​",
      "style": "IPY_MODEL_4ebcffe97f234827b88f8c4d94762262",
      "value": " 50/50 [00:20&lt;00:00,  2.36it/s]"
     }
    },
    "cb5baf8c7891461f893e827b040223d7": {
     "model_module": "@jupyter-widgets/base",
     "model_module_version": "1.2.0",
     "model_name": "LayoutModel",
     "state": {
      "_model_module": "@jupyter-widgets/base",
      "_model_module_version": "1.2.0",
      "_model_name": "LayoutModel",
      "_view_count": null,
      "_view_module": "@jupyter-widgets/base",
      "_view_module_version": "1.2.0",
      "_view_name": "LayoutView",
      "align_content": null,
      "align_items": null,
      "align_self": null,
      "border": null,
      "bottom": null,
      "display": null,
      "flex": null,
      "flex_flow": null,
      "grid_area": null,
      "grid_auto_columns": null,
      "grid_auto_flow": null,
      "grid_auto_rows": null,
      "grid_column": null,
      "grid_gap": null,
      "grid_row": null,
      "grid_template_areas": null,
      "grid_template_columns": null,
      "grid_template_rows": null,
      "height": null,
      "justify_content": null,
      "justify_items": null,
      "left": null,
      "margin": null,
      "max_height": null,
      "max_width": null,
      "min_height": null,
      "min_width": null,
      "object_fit": null,
      "object_position": null,
      "order": null,
      "overflow": null,
      "overflow_x": null,
      "overflow_y": null,
      "padding": null,
      "right": null,
      "top": null,
      "visibility": null,
      "width": null
     }
    },
    "cc6d3ae8b7434d639e9e7a3c2ffe7316": {
     "model_module": "@jupyter-widgets/controls",
     "model_module_version": "1.5.0",
     "model_name": "HTMLModel",
     "state": {
      "_dom_classes": [],
      "_model_module": "@jupyter-widgets/controls",
      "_model_module_version": "1.5.0",
      "_model_name": "HTMLModel",
      "_view_count": null,
      "_view_module": "@jupyter-widgets/controls",
      "_view_module_version": "1.5.0",
      "_view_name": "HTMLView",
      "description": "",
      "description_tooltip": null,
      "layout": "IPY_MODEL_e7586c08cee34cf699ba2248c01abdf6",
      "placeholder": "​",
      "style": "IPY_MODEL_1564b81b7ecc450fbdf15b1323a4d565",
      "value": " 3861/3873 [01:32&lt;00:00, 77.55it/s]"
     }
    },
    "d1bc6631c4324aa09fc01e7a492726b9": {
     "model_module": "@jupyter-widgets/controls",
     "model_module_version": "1.5.0",
     "model_name": "FloatProgressModel",
     "state": {
      "_dom_classes": [],
      "_model_module": "@jupyter-widgets/controls",
      "_model_module_version": "1.5.0",
      "_model_name": "FloatProgressModel",
      "_view_count": null,
      "_view_module": "@jupyter-widgets/controls",
      "_view_module_version": "1.5.0",
      "_view_name": "ProgressView",
      "bar_style": "",
      "description": "",
      "description_tooltip": null,
      "layout": "IPY_MODEL_3a87a74057794059b1bda580834dbb2f",
      "max": 3873,
      "min": 0,
      "orientation": "horizontal",
      "style": "IPY_MODEL_dbe76ecf5c1248f091b376d980629f83",
      "value": 3873
     }
    },
    "d207ec10a648446699f88344b8727589": {
     "model_module": "@jupyter-widgets/base",
     "model_module_version": "1.2.0",
     "model_name": "LayoutModel",
     "state": {
      "_model_module": "@jupyter-widgets/base",
      "_model_module_version": "1.2.0",
      "_model_name": "LayoutModel",
      "_view_count": null,
      "_view_module": "@jupyter-widgets/base",
      "_view_module_version": "1.2.0",
      "_view_name": "LayoutView",
      "align_content": null,
      "align_items": null,
      "align_self": null,
      "border": null,
      "bottom": null,
      "display": null,
      "flex": null,
      "flex_flow": null,
      "grid_area": null,
      "grid_auto_columns": null,
      "grid_auto_flow": null,
      "grid_auto_rows": null,
      "grid_column": null,
      "grid_gap": null,
      "grid_row": null,
      "grid_template_areas": null,
      "grid_template_columns": null,
      "grid_template_rows": null,
      "height": null,
      "justify_content": null,
      "justify_items": null,
      "left": null,
      "margin": null,
      "max_height": null,
      "max_width": null,
      "min_height": null,
      "min_width": null,
      "object_fit": null,
      "object_position": null,
      "order": null,
      "overflow": null,
      "overflow_x": null,
      "overflow_y": null,
      "padding": null,
      "right": null,
      "top": null,
      "visibility": null,
      "width": null
     }
    },
    "dbcf92c1a11d428ea730de23cd19f209": {
     "model_module": "@jupyter-widgets/base",
     "model_module_version": "1.2.0",
     "model_name": "LayoutModel",
     "state": {
      "_model_module": "@jupyter-widgets/base",
      "_model_module_version": "1.2.0",
      "_model_name": "LayoutModel",
      "_view_count": null,
      "_view_module": "@jupyter-widgets/base",
      "_view_module_version": "1.2.0",
      "_view_name": "LayoutView",
      "align_content": null,
      "align_items": null,
      "align_self": null,
      "border": null,
      "bottom": null,
      "display": null,
      "flex": null,
      "flex_flow": null,
      "grid_area": null,
      "grid_auto_columns": null,
      "grid_auto_flow": null,
      "grid_auto_rows": null,
      "grid_column": null,
      "grid_gap": null,
      "grid_row": null,
      "grid_template_areas": null,
      "grid_template_columns": null,
      "grid_template_rows": null,
      "height": null,
      "justify_content": null,
      "justify_items": null,
      "left": null,
      "margin": null,
      "max_height": null,
      "max_width": null,
      "min_height": null,
      "min_width": null,
      "object_fit": null,
      "object_position": null,
      "order": null,
      "overflow": null,
      "overflow_x": null,
      "overflow_y": null,
      "padding": null,
      "right": null,
      "top": null,
      "visibility": null,
      "width": null
     }
    },
    "dbe76ecf5c1248f091b376d980629f83": {
     "model_module": "@jupyter-widgets/controls",
     "model_module_version": "1.5.0",
     "model_name": "ProgressStyleModel",
     "state": {
      "_model_module": "@jupyter-widgets/controls",
      "_model_module_version": "1.5.0",
      "_model_name": "ProgressStyleModel",
      "_view_count": null,
      "_view_module": "@jupyter-widgets/base",
      "_view_module_version": "1.2.0",
      "_view_name": "StyleView",
      "bar_color": null,
      "description_width": ""
     }
    },
    "e0c970d3b6154d78a1c08800151b34a0": {
     "model_module": "@jupyter-widgets/base",
     "model_module_version": "1.2.0",
     "model_name": "LayoutModel",
     "state": {
      "_model_module": "@jupyter-widgets/base",
      "_model_module_version": "1.2.0",
      "_model_name": "LayoutModel",
      "_view_count": null,
      "_view_module": "@jupyter-widgets/base",
      "_view_module_version": "1.2.0",
      "_view_name": "LayoutView",
      "align_content": null,
      "align_items": null,
      "align_self": null,
      "border": null,
      "bottom": null,
      "display": null,
      "flex": null,
      "flex_flow": null,
      "grid_area": null,
      "grid_auto_columns": null,
      "grid_auto_flow": null,
      "grid_auto_rows": null,
      "grid_column": null,
      "grid_gap": null,
      "grid_row": null,
      "grid_template_areas": null,
      "grid_template_columns": null,
      "grid_template_rows": null,
      "height": null,
      "justify_content": null,
      "justify_items": null,
      "left": null,
      "margin": null,
      "max_height": null,
      "max_width": null,
      "min_height": null,
      "min_width": null,
      "object_fit": null,
      "object_position": null,
      "order": null,
      "overflow": null,
      "overflow_x": null,
      "overflow_y": null,
      "padding": null,
      "right": null,
      "top": null,
      "visibility": null,
      "width": null
     }
    },
    "e5a9bb19066d47caa04cc8b0ea9ccc5c": {
     "model_module": "@jupyter-widgets/base",
     "model_module_version": "1.2.0",
     "model_name": "LayoutModel",
     "state": {
      "_model_module": "@jupyter-widgets/base",
      "_model_module_version": "1.2.0",
      "_model_name": "LayoutModel",
      "_view_count": null,
      "_view_module": "@jupyter-widgets/base",
      "_view_module_version": "1.2.0",
      "_view_name": "LayoutView",
      "align_content": null,
      "align_items": null,
      "align_self": null,
      "border": null,
      "bottom": null,
      "display": null,
      "flex": null,
      "flex_flow": null,
      "grid_area": null,
      "grid_auto_columns": null,
      "grid_auto_flow": null,
      "grid_auto_rows": null,
      "grid_column": null,
      "grid_gap": null,
      "grid_row": null,
      "grid_template_areas": null,
      "grid_template_columns": null,
      "grid_template_rows": null,
      "height": null,
      "justify_content": null,
      "justify_items": null,
      "left": null,
      "margin": null,
      "max_height": null,
      "max_width": null,
      "min_height": null,
      "min_width": null,
      "object_fit": null,
      "object_position": null,
      "order": null,
      "overflow": null,
      "overflow_x": null,
      "overflow_y": null,
      "padding": null,
      "right": null,
      "top": null,
      "visibility": null,
      "width": null
     }
    },
    "e5fc97fd76ca425a973d96ede1d08678": {
     "model_module": "@jupyter-widgets/controls",
     "model_module_version": "1.5.0",
     "model_name": "DescriptionStyleModel",
     "state": {
      "_model_module": "@jupyter-widgets/controls",
      "_model_module_version": "1.5.0",
      "_model_name": "DescriptionStyleModel",
      "_view_count": null,
      "_view_module": "@jupyter-widgets/base",
      "_view_module_version": "1.2.0",
      "_view_name": "StyleView",
      "description_width": ""
     }
    },
    "e7586c08cee34cf699ba2248c01abdf6": {
     "model_module": "@jupyter-widgets/base",
     "model_module_version": "1.2.0",
     "model_name": "LayoutModel",
     "state": {
      "_model_module": "@jupyter-widgets/base",
      "_model_module_version": "1.2.0",
      "_model_name": "LayoutModel",
      "_view_count": null,
      "_view_module": "@jupyter-widgets/base",
      "_view_module_version": "1.2.0",
      "_view_name": "LayoutView",
      "align_content": null,
      "align_items": null,
      "align_self": null,
      "border": null,
      "bottom": null,
      "display": null,
      "flex": null,
      "flex_flow": null,
      "grid_area": null,
      "grid_auto_columns": null,
      "grid_auto_flow": null,
      "grid_auto_rows": null,
      "grid_column": null,
      "grid_gap": null,
      "grid_row": null,
      "grid_template_areas": null,
      "grid_template_columns": null,
      "grid_template_rows": null,
      "height": null,
      "justify_content": null,
      "justify_items": null,
      "left": null,
      "margin": null,
      "max_height": null,
      "max_width": null,
      "min_height": null,
      "min_width": null,
      "object_fit": null,
      "object_position": null,
      "order": null,
      "overflow": null,
      "overflow_x": null,
      "overflow_y": null,
      "padding": null,
      "right": null,
      "top": null,
      "visibility": null,
      "width": null
     }
    },
    "eceaf917f28948a19eff59e769ca7c57": {
     "model_module": "@jupyter-widgets/base",
     "model_module_version": "1.2.0",
     "model_name": "LayoutModel",
     "state": {
      "_model_module": "@jupyter-widgets/base",
      "_model_module_version": "1.2.0",
      "_model_name": "LayoutModel",
      "_view_count": null,
      "_view_module": "@jupyter-widgets/base",
      "_view_module_version": "1.2.0",
      "_view_name": "LayoutView",
      "align_content": null,
      "align_items": null,
      "align_self": null,
      "border": null,
      "bottom": null,
      "display": null,
      "flex": null,
      "flex_flow": null,
      "grid_area": null,
      "grid_auto_columns": null,
      "grid_auto_flow": null,
      "grid_auto_rows": null,
      "grid_column": null,
      "grid_gap": null,
      "grid_row": null,
      "grid_template_areas": null,
      "grid_template_columns": null,
      "grid_template_rows": null,
      "height": null,
      "justify_content": null,
      "justify_items": null,
      "left": null,
      "margin": null,
      "max_height": null,
      "max_width": null,
      "min_height": null,
      "min_width": null,
      "object_fit": null,
      "object_position": null,
      "order": null,
      "overflow": null,
      "overflow_x": null,
      "overflow_y": null,
      "padding": null,
      "right": null,
      "top": null,
      "visibility": null,
      "width": null
     }
    },
    "eff6e8c5a87e4339adce3342553e1060": {
     "model_module": "@jupyter-widgets/controls",
     "model_module_version": "1.5.0",
     "model_name": "HTMLModel",
     "state": {
      "_dom_classes": [],
      "_model_module": "@jupyter-widgets/controls",
      "_model_module_version": "1.5.0",
      "_model_name": "HTMLModel",
      "_view_count": null,
      "_view_module": "@jupyter-widgets/controls",
      "_view_module_version": "1.5.0",
      "_view_name": "HTMLView",
      "description": "",
      "description_tooltip": null,
      "layout": "IPY_MODEL_dbcf92c1a11d428ea730de23cd19f209",
      "placeholder": "​",
      "style": "IPY_MODEL_2d597356e6c940afba19c5166d5660b3",
      "value": " 50/50 [00:20&lt;00:00,  2.41it/s]"
     }
    },
    "f02a455e777f4f4997477f341565ab37": {
     "model_module": "@jupyter-widgets/controls",
     "model_module_version": "1.5.0",
     "model_name": "HBoxModel",
     "state": {
      "_dom_classes": [],
      "_model_module": "@jupyter-widgets/controls",
      "_model_module_version": "1.5.0",
      "_model_name": "HBoxModel",
      "_view_count": null,
      "_view_module": "@jupyter-widgets/controls",
      "_view_module_version": "1.5.0",
      "_view_name": "HBoxView",
      "box_style": "",
      "children": [
       "IPY_MODEL_c5cdcc04ae8f4b6f8955aa51f2c5fb84",
       "IPY_MODEL_9d4cca973d4f497991327c530dbf42ba",
       "IPY_MODEL_eff6e8c5a87e4339adce3342553e1060"
      ],
      "layout": "IPY_MODEL_0f4371fe938141b9a9131af8c2173ab0"
     }
    },
    "f0e5c7ec07e94626b2c7e1a4f7cfe2e2": {
     "model_module": "@jupyter-widgets/base",
     "model_module_version": "1.2.0",
     "model_name": "LayoutModel",
     "state": {
      "_model_module": "@jupyter-widgets/base",
      "_model_module_version": "1.2.0",
      "_model_name": "LayoutModel",
      "_view_count": null,
      "_view_module": "@jupyter-widgets/base",
      "_view_module_version": "1.2.0",
      "_view_name": "LayoutView",
      "align_content": null,
      "align_items": null,
      "align_self": null,
      "border": null,
      "bottom": null,
      "display": null,
      "flex": null,
      "flex_flow": null,
      "grid_area": null,
      "grid_auto_columns": null,
      "grid_auto_flow": null,
      "grid_auto_rows": null,
      "grid_column": null,
      "grid_gap": null,
      "grid_row": null,
      "grid_template_areas": null,
      "grid_template_columns": null,
      "grid_template_rows": null,
      "height": null,
      "justify_content": null,
      "justify_items": null,
      "left": null,
      "margin": null,
      "max_height": null,
      "max_width": null,
      "min_height": null,
      "min_width": null,
      "object_fit": null,
      "object_position": null,
      "order": null,
      "overflow": null,
      "overflow_x": null,
      "overflow_y": null,
      "padding": null,
      "right": null,
      "top": null,
      "visibility": null,
      "width": null
     }
    },
    "f23d5a29aa064f4a8123be43f70095d9": {
     "model_module": "@jupyter-widgets/controls",
     "model_module_version": "1.5.0",
     "model_name": "DescriptionStyleModel",
     "state": {
      "_model_module": "@jupyter-widgets/controls",
      "_model_module_version": "1.5.0",
      "_model_name": "DescriptionStyleModel",
      "_view_count": null,
      "_view_module": "@jupyter-widgets/base",
      "_view_module_version": "1.2.0",
      "_view_name": "StyleView",
      "description_width": ""
     }
    },
    "f29f288d77054f4f96bbe7ec4a052cd2": {
     "model_module": "@jupyter-widgets/base",
     "model_module_version": "1.2.0",
     "model_name": "LayoutModel",
     "state": {
      "_model_module": "@jupyter-widgets/base",
      "_model_module_version": "1.2.0",
      "_model_name": "LayoutModel",
      "_view_count": null,
      "_view_module": "@jupyter-widgets/base",
      "_view_module_version": "1.2.0",
      "_view_name": "LayoutView",
      "align_content": null,
      "align_items": null,
      "align_self": null,
      "border": null,
      "bottom": null,
      "display": null,
      "flex": null,
      "flex_flow": null,
      "grid_area": null,
      "grid_auto_columns": null,
      "grid_auto_flow": null,
      "grid_auto_rows": null,
      "grid_column": null,
      "grid_gap": null,
      "grid_row": null,
      "grid_template_areas": null,
      "grid_template_columns": null,
      "grid_template_rows": null,
      "height": null,
      "justify_content": null,
      "justify_items": null,
      "left": null,
      "margin": null,
      "max_height": null,
      "max_width": null,
      "min_height": null,
      "min_width": null,
      "object_fit": null,
      "object_position": null,
      "order": null,
      "overflow": null,
      "overflow_x": null,
      "overflow_y": null,
      "padding": null,
      "right": null,
      "top": null,
      "visibility": null,
      "width": null
     }
    },
    "f4714f36d2b6441f8de4e9cd0256c4ff": {
     "model_module": "@jupyter-widgets/controls",
     "model_module_version": "1.5.0",
     "model_name": "DescriptionStyleModel",
     "state": {
      "_model_module": "@jupyter-widgets/controls",
      "_model_module_version": "1.5.0",
      "_model_name": "DescriptionStyleModel",
      "_view_count": null,
      "_view_module": "@jupyter-widgets/base",
      "_view_module_version": "1.2.0",
      "_view_name": "StyleView",
      "description_width": ""
     }
    },
    "fd62483c077847869732558fd48cc692": {
     "model_module": "@jupyter-widgets/controls",
     "model_module_version": "1.5.0",
     "model_name": "ProgressStyleModel",
     "state": {
      "_model_module": "@jupyter-widgets/controls",
      "_model_module_version": "1.5.0",
      "_model_name": "ProgressStyleModel",
      "_view_count": null,
      "_view_module": "@jupyter-widgets/base",
      "_view_module_version": "1.2.0",
      "_view_name": "StyleView",
      "bar_color": null,
      "description_width": ""
     }
    },
    "fdec3af90eab4faea793d307453d9f69": {
     "model_module": "@jupyter-widgets/base",
     "model_module_version": "1.2.0",
     "model_name": "LayoutModel",
     "state": {
      "_model_module": "@jupyter-widgets/base",
      "_model_module_version": "1.2.0",
      "_model_name": "LayoutModel",
      "_view_count": null,
      "_view_module": "@jupyter-widgets/base",
      "_view_module_version": "1.2.0",
      "_view_name": "LayoutView",
      "align_content": null,
      "align_items": null,
      "align_self": null,
      "border": null,
      "bottom": null,
      "display": null,
      "flex": null,
      "flex_flow": null,
      "grid_area": null,
      "grid_auto_columns": null,
      "grid_auto_flow": null,
      "grid_auto_rows": null,
      "grid_column": null,
      "grid_gap": null,
      "grid_row": null,
      "grid_template_areas": null,
      "grid_template_columns": null,
      "grid_template_rows": null,
      "height": null,
      "justify_content": null,
      "justify_items": null,
      "left": null,
      "margin": null,
      "max_height": null,
      "max_width": null,
      "min_height": null,
      "min_width": null,
      "object_fit": null,
      "object_position": null,
      "order": null,
      "overflow": null,
      "overflow_x": null,
      "overflow_y": null,
      "padding": null,
      "right": null,
      "top": null,
      "visibility": null,
      "width": null
     }
    }
   }
  }
 },
 "nbformat": 4,
 "nbformat_minor": 1
}
