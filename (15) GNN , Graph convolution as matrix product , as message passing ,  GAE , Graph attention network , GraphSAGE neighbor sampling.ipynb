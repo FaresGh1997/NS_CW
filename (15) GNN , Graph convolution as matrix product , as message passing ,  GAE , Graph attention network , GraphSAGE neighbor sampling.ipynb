{
 "cells": [
  {
   "cell_type": "markdown",
   "metadata": {
    "id": "HHXNf2ELZI1M"
   },
   "source": [
    "# Assignment — Graph neural networks"
   ]
  },
  {
   "cell_type": "code",
   "execution_count": 1,
   "metadata": {
    "id": "uhVr-XkwZI1Q"
   },
   "outputs": [],
   "source": [
    "from sklearn.manifold import TSNE\n",
    "import torch\n",
    "from tqdm.notebook import trange\n",
    "import matplotlib.pyplot as plt\n",
    "import numpy as np\n",
    "from torch.optim import Adam\n",
    "import torch.nn as nn\n",
    "import torch.nn.functional as F\n",
    "from sklearn.linear_model import LogisticRegression\n",
    "from sklearn.metrics import balanced_accuracy_score"
   ]
  },
  {
   "cell_type": "markdown",
   "metadata": {
    "id": "pCz1CEL_ZI1S"
   },
   "source": [
    "### CORA dataset"
   ]
  },
  {
   "cell_type": "code",
   "execution_count": 2,
   "metadata": {
    "colab": {
     "base_uri": "https://localhost:8080/"
    },
    "id": "8217ac0c",
    "outputId": "8bdb2a08-06ac-49cb-d43d-569ed54ebfa4"
   },
   "outputs": [
    {
     "name": "stdout",
     "output_type": "stream",
     "text": [
      "\u001b[K     |████████████████████████████████| 6.2 MB 2.7 MB/s \n",
      "\u001b[K     |████████████████████████████████| 77 kB 1.9 MB/s \n",
      "\u001b[K     |████████████████████████████████| 281 kB 24.2 MB/s \n",
      "\u001b[K     |████████████████████████████████| 51 kB 213 kB/s \n",
      "\u001b[K     |████████████████████████████████| 103 kB 46.6 MB/s \n",
      "\u001b[K     |████████████████████████████████| 596 kB 46.6 MB/s \n",
      "\u001b[K     |████████████████████████████████| 45 kB 1.9 MB/s \n",
      "\u001b[K     |████████████████████████████████| 109 kB 47.2 MB/s \n",
      "\u001b[K     |████████████████████████████████| 11.1 MB 7.7 MB/s \n",
      "\u001b[K     |████████████████████████████████| 42 kB 389 kB/s \n",
      "\u001b[K     |████████████████████████████████| 3.1 MB 11.5 MB/s \n",
      "\u001b[K     |████████████████████████████████| 546 kB 49.3 MB/s \n",
      "\u001b[K     |████████████████████████████████| 121 kB 32.8 MB/s \n",
      "\u001b[K     |████████████████████████████████| 84 kB 1.8 MB/s \n",
      "\u001b[K     |████████████████████████████████| 90 kB 5.1 MB/s \n",
      "\u001b[K     |████████████████████████████████| 100 kB 4.5 MB/s \n",
      "\u001b[31mERROR: pip's dependency resolver does not currently take into account all the packages that are installed. This behaviour is the source of the following dependency conflicts.\n",
      "datascience 0.10.6 requires folium==0.2.1, but you have folium 0.8.3 which is incompatible.\u001b[0m\n",
      "\u001b[?25h"
     ]
    }
   ],
   "source": [
    "!pip install dgl dglgo -f https://data.dgl.ai/wheels/repo.html -q"
   ]
  },
  {
   "cell_type": "code",
   "execution_count": 3,
   "metadata": {
    "colab": {
     "base_uri": "https://localhost:8080/"
    },
    "id": "97f7e59c",
    "outputId": "1df1cc74-afd9-47d0-d329-adad63e57ac7"
   },
   "outputs": [
    {
     "name": "stderr",
     "output_type": "stream",
     "text": [
      "DGL backend not selected or invalid.  Assuming PyTorch for now.\n"
     ]
    },
    {
     "name": "stdout",
     "output_type": "stream",
     "text": [
      "Setting the default backend to \"pytorch\". You can change it in the ~/.dgl/config.json file or export the DGLBACKEND environment variable.  Valid options are: pytorch, mxnet, tensorflow (all lowercase)\n"
     ]
    }
   ],
   "source": [
    "import dgl\n",
    "from dgl.data import CoraGraphDataset\n",
    "from dgl import function as fn\n",
    "from dgl.nn import SAGEConv"
   ]
  },
  {
   "cell_type": "code",
   "execution_count": 4,
   "metadata": {
    "id": "b9a52628"
   },
   "outputs": [],
   "source": [
    "import warnings\n",
    "warnings.filterwarnings(action='ignore', category=UserWarning)\n",
    "warnings.simplefilter(action='ignore', category=FutureWarning)"
   ]
  },
  {
   "cell_type": "markdown",
   "metadata": {
    "id": "6f992762"
   },
   "source": [
    "The Cora dataset consists of 2708 scientific publications classified into one of seven classes. The citation network consists of 10556/2 links. Let us take a closer look at this dataset. Each publication in the dataset is described by a 0/1-valued word vector indicating the absence/presence of the corresponding word from the dictionary. The dictionary consists of 1433 unique words."
   ]
  },
  {
   "cell_type": "code",
   "execution_count": 5,
   "metadata": {
    "colab": {
     "base_uri": "https://localhost:8080/"
    },
    "id": "3876dd0c",
    "outputId": "a39553fc-f877-442e-aa40-47f26a31012e"
   },
   "outputs": [
    {
     "name": "stdout",
     "output_type": "stream",
     "text": [
      "Downloading /root/.dgl/cora_v2.zip from https://data.dgl.ai/dataset/cora_v2.zip...\n",
      "Extracting file to /root/.dgl/cora_v2\n",
      "Finished data loading and preprocessing.\n",
      "  NumNodes: 2708\n",
      "  NumEdges: 10556\n",
      "  NumFeats: 1433\n",
      "  NumClasses: 7\n",
      "  NumTrainingSamples: 140\n",
      "  NumValidationSamples: 500\n",
      "  NumTestSamples: 1000\n",
      "Done saving data into cached files.\n"
     ]
    }
   ],
   "source": [
    "data = CoraGraphDataset(force_reload=True)"
   ]
  },
  {
   "cell_type": "code",
   "execution_count": 6,
   "metadata": {
    "colab": {
     "base_uri": "https://localhost:8080/"
    },
    "id": "60459d90",
    "outputId": "a69c3855-43bf-4369-e7cd-7203fe70f3a8"
   },
   "outputs": [
    {
     "data": {
      "text/plain": [
       "Graph(num_nodes=2708, num_edges=10556,\n",
       "      ndata_schemes={'train_mask': Scheme(shape=(), dtype=torch.bool), 'val_mask': Scheme(shape=(), dtype=torch.bool), 'test_mask': Scheme(shape=(), dtype=torch.bool), 'label': Scheme(shape=(), dtype=torch.int64), 'feat': Scheme(shape=(1433,), dtype=torch.float32)}\n",
       "      edata_schemes={'__orig__': Scheme(shape=(), dtype=torch.int64)})"
      ]
     },
     "execution_count": 6,
     "metadata": {},
     "output_type": "execute_result"
    }
   ],
   "source": [
    "graph = data[0]\n",
    "graph"
   ]
  },
  {
   "cell_type": "markdown",
   "metadata": {
    "id": "8e97b108"
   },
   "source": [
    "Adjacency matrix can be obtained as follows"
   ]
  },
  {
   "cell_type": "code",
   "execution_count": 7,
   "metadata": {
    "colab": {
     "base_uri": "https://localhost:8080/"
    },
    "id": "2cc92084",
    "outputId": "75604032-c104-438a-a101-8899c4b10686"
   },
   "outputs": [
    {
     "data": {
      "text/plain": [
       "tensor([[0., 1., 1.,  ..., 0., 0., 0.],\n",
       "        [1., 0., 0.,  ..., 0., 0., 0.],\n",
       "        [1., 0., 0.,  ..., 0., 0., 0.],\n",
       "        ...,\n",
       "        [0., 0., 0.,  ..., 0., 0., 0.],\n",
       "        [0., 0., 0.,  ..., 0., 0., 1.],\n",
       "        [0., 0., 0.,  ..., 0., 1., 0.]])"
      ]
     },
     "execution_count": 7,
     "metadata": {},
     "output_type": "execute_result"
    }
   ],
   "source": [
    "adj = graph.adj().to_dense()\n",
    "adj"
   ]
  },
  {
   "cell_type": "markdown",
   "metadata": {
    "id": "613d60e2"
   },
   "source": [
    "Feature matrix is stored in node features `feat`."
   ]
  },
  {
   "cell_type": "code",
   "execution_count": 8,
   "metadata": {
    "colab": {
     "base_uri": "https://localhost:8080/"
    },
    "id": "ffe904f8",
    "outputId": "f42617fd-0f5e-4c62-d5b6-d443df1cc222"
   },
   "outputs": [
    {
     "name": "stdout",
     "output_type": "stream",
     "text": [
      "torch.Size([2708, 1433])\n"
     ]
    },
    {
     "data": {
      "text/plain": [
       "tensor([[0.0000, 0.0000, 0.0000,  ..., 0.0000, 0.0000, 0.0000],\n",
       "        [0.0000, 0.0000, 0.0000,  ..., 0.0000, 0.0000, 0.0000],\n",
       "        [0.0000, 0.0000, 0.0000,  ..., 0.0000, 0.0000, 0.0000],\n",
       "        ...,\n",
       "        [0.0000, 0.0000, 0.0000,  ..., 0.0000, 0.0000, 0.0000],\n",
       "        [0.0000, 0.0000, 0.0000,  ..., 0.0000, 0.0000, 0.0000],\n",
       "        [0.0000, 0.0000, 0.0000,  ..., 0.0000, 0.0526, 0.0000]])"
      ]
     },
     "execution_count": 8,
     "metadata": {},
     "output_type": "execute_result"
    }
   ],
   "source": [
    "feat = graph.ndata['feat']\n",
    "print(feat.shape)\n",
    "feat"
   ]
  },
  {
   "cell_type": "markdown",
   "metadata": {
    "id": "a22e2f36"
   },
   "source": [
    "In DGL, Cora feature matrix are normalized so that the sum per row is 1. Labels are represent type of the publication, they are stored in `label`."
   ]
  },
  {
   "cell_type": "code",
   "execution_count": 9,
   "metadata": {
    "colab": {
     "base_uri": "https://localhost:8080/"
    },
    "id": "9c85b87c",
    "outputId": "9e323a7b-f29b-4126-b607-acd554424735"
   },
   "outputs": [
    {
     "data": {
      "text/plain": [
       "tensor([4, 4, 4,  ..., 4, 3, 3])"
      ]
     },
     "execution_count": 9,
     "metadata": {},
     "output_type": "execute_result"
    }
   ],
   "source": [
    "label = graph.ndata['label']\n",
    "label"
   ]
  },
  {
   "cell_type": "markdown",
   "metadata": {
    "id": "8ffdf1c0"
   },
   "source": [
    "Here are train, validation and test masks."
   ]
  },
  {
   "cell_type": "code",
   "execution_count": 10,
   "metadata": {
    "colab": {
     "base_uri": "https://localhost:8080/"
    },
    "id": "a0cb7ad4",
    "outputId": "9524430e-b773-43fb-a6b5-2df778e018d1"
   },
   "outputs": [
    {
     "data": {
      "text/plain": [
       "(tensor([False, False,  True,  ..., False, False, False]),\n",
       " tensor([False, False, False,  ..., False, False, False]),\n",
       " tensor([ True,  True, False,  ..., False, False, False]))"
      ]
     },
     "execution_count": 10,
     "metadata": {},
     "output_type": "execute_result"
    }
   ],
   "source": [
    "train_mask = graph.ndata['train_mask']\n",
    "val_mask = graph.ndata['val_mask']\n",
    "test_mask = graph.ndata['test_mask']\n",
    "val_mask, train_mask, test_mask"
   ]
  },
  {
   "cell_type": "markdown",
   "metadata": {
    "id": "PnQ4ubEnZI1Y"
   },
   "source": [
    "### Task 1. Graph convolution as matrix product (0 points)"
   ]
  },
  {
   "cell_type": "markdown",
   "metadata": {
    "id": "ddc79913"
   },
   "source": [
    "Graph convolutional network (GCN) was proposed in [[1]](#references) and defined on an undirected graph as the following propagation rule:\n",
    "\n",
    "$$H^{(l)}=\\sigma\\left(\\tilde D^{-1 / 2} \\tilde A \\tilde D^{-1 / 2} H^{(l-1)} W^{(l)}\\right)$$\n",
    "\n",
    "where $\\tilde A = A + I_N$ is the adjacency matrix with added self-connections. $I_N$ is the identity matrix, $\\tilde D_{ii} = \\sum_j \\tilde A_{ij}$ is the degree matrix and $W^{(l)}$ is trainable matrix at the layer $l$. $\\sigma$ represents non-linear activation function such as ReLU. $H^{(l)}$ is the hidden states at the layer $l$ and $H^{(0)} = X$ is the initial feature matrix.\n",
    "\n",
    "Write a class `GCNMatrixProductLayer` that takes adjacency matrix, hidden states and returns the next hidden states before activation."
   ]
  },
  {
   "cell_type": "code",
   "execution_count": 11,
   "metadata": {
    "deletable": false,
    "id": "7ff5b791",
    "nbgrader": {
     "cell_type": "code",
     "checksum": "a8e8bb1c6da30605ca8ba49a6c4ecfa9",
     "grade": false,
     "grade_id": "cell-b71f48a8f9c231a0",
     "locked": false,
     "schema_version": 3,
     "solution": true,
     "task": false
    }
   },
   "outputs": [],
   "source": [
    "class GCNMatrixProductLayer(nn.Module):\n",
    "    def __init__(self, in_dim, out_dim):\n",
    "        super().__init__()\n",
    "        self.dense = nn.Linear(in_dim, out_dim)\n",
    "        \n",
    "    def forward(self, adj, h):\n",
    "        _adj = adj.clone()\n",
    "        _adj = _adj + np.eye(_adj.shape[0], dtype='float32')\n",
    "        degree_norm = _adj.sum(dim=1) **  (- 1 / 2)\n",
    "        _adj = degree_norm[:, None] * _adj * degree_norm[None, :]\n",
    "        # torch.mm(torch.mm(degree_norm, _adj_with_identity), degree_norm)\n",
    "        h = _adj @ self.dense(h)\n",
    "        return h"
   ]
  },
  {
   "cell_type": "code",
   "execution_count": 12,
   "metadata": {
    "deletable": false,
    "editable": false,
    "id": "904fa061",
    "nbgrader": {
     "cell_type": "code",
     "checksum": "508f28b0a571960c10b36bb656874b59",
     "grade": true,
     "grade_id": "cell-59516dd351a3b233",
     "locked": true,
     "points": 0,
     "schema_version": 3,
     "solution": false,
     "task": false
    }
   },
   "outputs": [],
   "source": [
    "layer = GCNMatrixProductLayer(in_dim=2708, out_dim=10)\n",
    "with torch.no_grad():\n",
    "    layer.dense.weight.fill_(0.1)\n",
    "    layer.dense.bias.fill_(0.1)\n",
    "    h = layer(adj, torch.eye(2708))\n",
    "assert round(h[0, 0].item(), 2) == 0.19"
   ]
  },
  {
   "cell_type": "markdown",
   "metadata": {
    "id": "1b041722"
   },
   "source": [
    "Write a class `GCNMatrixProduct` that takes the adjacency matrix and feature matrix and performs two-layer convolution with intermediate ReLU activation. The class initialized by input, hidden and output dimensions."
   ]
  },
  {
   "cell_type": "code",
   "execution_count": 13,
   "metadata": {
    "deletable": false,
    "id": "1c9ef4e4",
    "nbgrader": {
     "cell_type": "code",
     "checksum": "856ad1e1e46a477d61fb9ebbde928fa4",
     "grade": false,
     "grade_id": "cell-5cecc368828015e4",
     "locked": false,
     "schema_version": 3,
     "solution": true,
     "task": false
    }
   },
   "outputs": [],
   "source": [
    "class GCNMatrixProduct(nn.Module):\n",
    "    def __init__(self, in_dim, hid_dim, out_dim):\n",
    "        super().__init__()\n",
    "        self.conv1 = GCNMatrixProductLayer(in_dim, hid_dim)\n",
    "        self.conv2 = GCNMatrixProductLayer(hid_dim, out_dim)\n",
    "\n",
    "    def forward(self, adj, feat):\n",
    "        h = self.conv1(adj, feat)\n",
    "        h = F.relu(h)\n",
    "        h = self.conv2(adj, h)\n",
    "        return h"
   ]
  },
  {
   "cell_type": "code",
   "execution_count": 14,
   "metadata": {
    "deletable": false,
    "editable": false,
    "id": "13b3e790",
    "nbgrader": {
     "cell_type": "code",
     "checksum": "20891f674b1f17ad9b39e5e7323599cd",
     "grade": true,
     "grade_id": "cell-13a9aa3e489245ee",
     "locked": true,
     "points": 0,
     "schema_version": 3,
     "solution": false,
     "task": false
    }
   },
   "outputs": [],
   "source": [
    "model = GCNMatrixProduct(2708, 32, 7)\n",
    "logits = model(adj, torch.eye(2708))\n",
    "assert logits.shape == (2708, 7)\n",
    "assert logits.min() < 0"
   ]
  },
  {
   "cell_type": "markdown",
   "metadata": {
    "id": "217ab100"
   },
   "source": [
    "Let us create the two-layer GCN for node classification task."
   ]
  },
  {
   "cell_type": "code",
   "execution_count": 15,
   "metadata": {
    "id": "a83c6c89"
   },
   "outputs": [],
   "source": [
    "model = GCNMatrixProduct(1433, 32, 7)\n",
    "opt = torch.optim.Adam(model.parameters(), lr=0.01)\n",
    "log = []"
   ]
  },
  {
   "cell_type": "markdown",
   "metadata": {
    "id": "0569ff05"
   },
   "source": [
    "We train the model in semi-supervised setting: propagate information over the full graph, but optimize it by only train cross-entropy loss."
   ]
  },
  {
   "cell_type": "code",
   "execution_count": 16,
   "metadata": {
    "colab": {
     "base_uri": "https://localhost:8080/",
     "height": 313,
     "referenced_widgets": [
      "3f8367c288364ae7beafb981cd556e36",
      "e6378a2eac534883b74e3a7be18bc57b",
      "78b190ed029648aea9e39544f8fd681e",
      "e9c843e0a54c430c85272df051c7ca96",
      "3a142ad2d82846ca9e103670627b478b",
      "7b9c88a47db6479ab6a00a64989afedb",
      "5c42fd0c6d9b479da28938197ccfb0d0",
      "e9f4f82015e94c648e2919dab926471e",
      "46625e59d2bf44559b964a4cc89bfe1c",
      "29919037b16a45508aa75ac47fdbceaf",
      "83e70d35bf65408a9c138f96a9a8a932"
     ]
    },
    "id": "e2e7d012",
    "outputId": "44104618-6d52-45ef-8aa3-b822d98e9362"
   },
   "outputs": [
    {
     "data": {
      "application/vnd.jupyter.widget-view+json": {
       "model_id": "3f8367c288364ae7beafb981cd556e36",
       "version_major": 2,
       "version_minor": 0
      },
      "text/plain": [
       "  0%|          | 0/200 [00:00<?, ?it/s]"
      ]
     },
     "metadata": {},
     "output_type": "display_data"
    },
    {
     "data": {
      "image/png": "[encoded data removed]",
      "text/plain": [
       "<Figure size 432x288 with 1 Axes>"
      ]
     },
     "metadata": {
      "needs_background": "light"
     },
     "output_type": "display_data"
    }
   ],
   "source": [
    "n_epochs = 200\n",
    "for i in trange(n_epochs):\n",
    "    \n",
    "    logits = model(adj, feat)\n",
    "    train_loss = F.cross_entropy(logits[train_mask], label[train_mask])\n",
    "\n",
    "    opt.zero_grad()\n",
    "    train_loss.backward()\n",
    "    opt.step()\n",
    "\n",
    "    with torch.no_grad():\n",
    "        val_loss = F.cross_entropy(logits[val_mask], label[val_mask])\n",
    "    \n",
    "    log.append([train_loss.item(), val_loss.item()])\n",
    "    \n",
    "plt.plot(np.array(log))\n",
    "plt.title('Loss')\n",
    "plt.legend(['train', 'val'])\n",
    "plt.show()"
   ]
  },
  {
   "cell_type": "markdown",
   "metadata": {
    "id": "9e222fe4"
   },
   "source": [
    "We evaluate the model by balanced accuracy that accounts for inbalanced classes."
   ]
  },
  {
   "cell_type": "code",
   "execution_count": 17,
   "metadata": {
    "colab": {
     "base_uri": "https://localhost:8080/"
    },
    "deletable": false,
    "editable": false,
    "id": "7945090a",
    "nbgrader": {
     "cell_type": "code",
     "checksum": "b39b99f78ca3f8319ac2b523edc550a9",
     "grade": true,
     "grade_id": "cell-d77d156cd37bfe99",
     "locked": true,
     "points": 0,
     "schema_version": 3,
     "solution": false,
     "task": false
    },
    "outputId": "251365de-ee04-41c1-fe98-6a8d2e3845c1"
   },
   "outputs": [
    {
     "name": "stdout",
     "output_type": "stream",
     "text": [
      "Balanced accuracy: 0.80\n"
     ]
    }
   ],
   "source": [
    "with torch.no_grad():\n",
    "    logits = model(adj, feat)\n",
    "y_pred = torch.argmax(logits[test_mask], 1)\n",
    "score = balanced_accuracy_score(label[test_mask], y_pred)\n",
    "assert score > 0.7\n",
    "print(f'Balanced accuracy: {score:.2f}')"
   ]
  },
  {
   "cell_type": "markdown",
   "metadata": {
    "id": "_CLAz6cAZI1c"
   },
   "source": [
    "### Task 2. Graph convolution as message passing (0 points)"
   ]
  },
  {
   "cell_type": "markdown",
   "metadata": {
    "id": "d23ffa87"
   },
   "source": [
    "The original GCN is computationally expensive for large graphs since it requires to compute matrix product $\\tilde D^{-1 / 2} \\tilde A \\tilde D^{-1 / 2} H^{l}$, that costs $O(|V|^2)$. However, the information is propagated along edges, the number of which is linearly depends on the number of nodes in scale-free networks, that is $O(|V|)$. Message passing framework was proposed in [[2]](#references) to reduce computation costs by representing a graph neural network's layer as the composition of two functions:\n",
    "\n",
    "$$m_{ij}^l = \\text{Message}\\left(h_i^{l-1}, h_j^{l-1}\\right)$$\n",
    "$$h_i^l = \\text{Reduce}_{j \\in \\mathcal{N}_\\text{in}(i)}\\left(m_{ji}^l\\right)$$\n",
    "\n",
    "where $\\text{Message}(\\cdot)$ is the message function that applied on each edges in the graph and stores computed values (messages) on edges. $\\text{Reduce}_{j \\in \\mathcal{N}_\\text{in}(i)}(\\cdot)$ is the reduce (aka aggregation, reduction) function that applied on each node and aggregates messages from incoming links (mailboxes). \n",
    "\n",
    "<img src='https://raw.githubusercontent.com/netspractice/network-science/main/images/messpass.png' width=600>\n",
    "\n",
    "In particular, GCN can be represented as follows:\n",
    "\n",
    "$$h_i^l = \\sigma \\left(W^l \\sum_{j \\in \\mathcal{N}_\\text{in}(i)}\\frac{h_j^{l-1}}{\\sqrt{|\\mathcal{N}_\\text{in}(j)||\\mathcal{N}_\\text{in}(i)|}}\\right)$$\n",
    "\n",
    "where the message function\n",
    "\n",
    "$$m_{ji}^l = \\frac{W^l h_j^{l-1}}{\\sqrt{|\\mathcal{N}_\\text{in}(j)|}}$$ \n",
    "\n",
    "is the transformed source node's hidden state normalized by the in-degree of the source node. The reduce function\n",
    "\n",
    "$$h_i^l = \\sigma \\left(\\frac{\\sum_{j \\in \\mathcal{N}_\\text{in}(i)} m_{ji}^l}{\\sqrt{|\\mathcal{N}_\\text{in}(i)|}}\\right)$$\n",
    "\n",
    "is the sum over all incoming neighbors' hidden states with in-degree normalization and subsequent activation $\\sigma$. Here we assume that the graph includes self-connections, that is a node is in its neighborhood. We also assume that the graph is equivalent to its undirected representation, that is $A = A^\\top$.\n",
    "\n",
    "In DGL, message passing is applied by `graph.update_all(message_func, reduce_func)` where `message_func` is defined on edges and `reduce_func` on nodes. DGL contains built-in message and reduce functions, but it is also possible to define your own functions. GCN can be implemented using following functions: \n",
    "* message function `fn.copy_src(src='h', out='m')` copies the source node feature `h` into the mailbox `m`\n",
    "* reduce function `fn.sum(msg='m', out='h')` sums messages from mailboxes `m` and save the result into the node feature `h`\n",
    "\n",
    "Write a class `GCNMessagePassingLayer` that takes a graph, hidden states and returns the next hidden states before activation.\n",
    "\n",
    "*Hints:*\n",
    "* _adding node features is similar to adding values to a dictionary: `graph.ndata['h'] = h`_\n",
    "* _in-degrees can be computed by `graph.in_degrees()`_\n",
    "\n",
    "*Remark: `graph.local_scope()` makes all operations isolated from the original graphs.*"
   ]
  },
  {
   "cell_type": "code",
   "execution_count": 18,
   "metadata": {
    "deletable": false,
    "id": "f5984036",
    "nbgrader": {
     "cell_type": "code",
     "checksum": "b7285e6772f70805893fd9df8c98dd43",
     "grade": false,
     "grade_id": "cell-7e663cf5c1afa659",
     "locked": false,
     "schema_version": 3,
     "solution": true,
     "task": false
    }
   },
   "outputs": [],
   "source": [
    "class GCNMessagePassingLayer(nn.Module):\n",
    "    def __init__(self, in_dim, out_dim):\n",
    "        super().__init__()\n",
    "        self.dense = nn.Linear(in_dim, out_dim)\n",
    "    def forward(self, graph, h):\n",
    "        with graph.local_scope():\n",
    "            graph = graph.add_self_loop()\n",
    "            norm = graph.in_degrees()[:, None] ** (- 1 / 2)\n",
    "            h = self.dense(h)\n",
    "            h = h * norm\n",
    "            graph.ndata[\"h\"] = h\n",
    "            graph.update_all(\n",
    "                fn.copy_src(src=\"h\", out=\"m\"),\n",
    "                fn.sum(msg=\"m\", out=\"h\")\n",
    "            )\n",
    "            h = graph.ndata[\"h\"]\n",
    "            h = h * norm\n",
    "            return h\n"
   ]
  },
  {
   "cell_type": "code",
   "execution_count": 19,
   "metadata": {
    "deletable": false,
    "editable": false,
    "id": "5d8f0c5f",
    "nbgrader": {
     "cell_type": "code",
     "checksum": "8073fd1f805718186c8fd3fd29de8351",
     "grade": true,
     "grade_id": "cell-b7b8314f51fe4d0f",
     "locked": true,
     "points": 0,
     "schema_version": 3,
     "solution": false,
     "task": false
    }
   },
   "outputs": [],
   "source": [
    "layer = GCNMessagePassingLayer(in_dim=2708, out_dim=10)\n",
    "with torch.no_grad():\n",
    "    layer.dense.weight.fill_(0.1)\n",
    "    layer.dense.bias.fill_(0.1)\n",
    "    h = layer(graph, torch.eye(2708))\n",
    "assert round(h[0, 0].item(), 2) == 0.19"
   ]
  },
  {
   "cell_type": "markdown",
   "metadata": {
    "id": "5fa85c8d"
   },
   "source": [
    "Write a class `GCNMessagePassing` that takes the graph and feature matrix and performs two-layer convolution with intermediate ReLU activation. The class initialized by input, hidden and output dimensions."
   ]
  },
  {
   "cell_type": "code",
   "execution_count": 20,
   "metadata": {
    "deletable": false,
    "id": "c5391849",
    "nbgrader": {
     "cell_type": "code",
     "checksum": "648906ac3877307e03e5e86946e862da",
     "grade": false,
     "grade_id": "cell-0e8fb3b6e5858162",
     "locked": false,
     "schema_version": 3,
     "solution": true,
     "task": false
    }
   },
   "outputs": [],
   "source": [
    "class GCNMessagePassing(nn.Module):\n",
    "    def __init__(self, in_dim, hid_dim, out_dim):\n",
    "        super().__init__()\n",
    "        self.conv1 = GCNMessagePassingLayer(in_dim, hid_dim)\n",
    "        self.conv2 = GCNMessagePassingLayer(hid_dim, out_dim)\n",
    "\n",
    "    def forward(self, adj, feat):\n",
    "        h = self.conv1(adj, feat)\n",
    "        h = F.relu(h)\n",
    "        h = self.conv2(adj, h)\n",
    "        return h"
   ]
  },
  {
   "cell_type": "code",
   "execution_count": 21,
   "metadata": {
    "deletable": false,
    "editable": false,
    "id": "f6c274e7",
    "nbgrader": {
     "cell_type": "code",
     "checksum": "39b9ccecacba09fdee61474dd14c580d",
     "grade": true,
     "grade_id": "cell-bbdfaaf84f5f19cf",
     "locked": true,
     "points": 0,
     "schema_version": 3,
     "solution": false,
     "task": false
    }
   },
   "outputs": [],
   "source": [
    "model = GCNMessagePassing(2708, 32, 7)\n",
    "logits = model(graph, torch.eye(2708))\n",
    "assert logits.shape == (2708, 7)\n",
    "assert logits.min() < 0"
   ]
  },
  {
   "cell_type": "code",
   "execution_count": 22,
   "metadata": {
    "id": "7b8332d3"
   },
   "outputs": [],
   "source": [
    "model = GCNMessagePassing(in_dim=1433, hid_dim=32, out_dim=7)\n",
    "opt = Adam(model.parameters(), lr=0.01)\n",
    "log = []"
   ]
  },
  {
   "cell_type": "code",
   "execution_count": null,
   "metadata": {
    "id": "CgIEmPTJ9rnr"
   },
   "outputs": [],
   "source": []
  },
  {
   "cell_type": "markdown",
   "metadata": {
    "id": "8712d82d"
   },
   "source": [
    "We train the model in semi-supervised setting: propagate information over the full graph, but optimize it by only train cross-entropy loss."
   ]
  },
  {
   "cell_type": "code",
   "execution_count": 23,
   "metadata": {
    "colab": {
     "base_uri": "https://localhost:8080/",
     "height": 313,
     "referenced_widgets": [
      "0351df69143147e19a9406b5acb85aed",
      "1ff7b1b49b6f4f6c95814b5942f18cdf",
      "cf3d5489823641c7adaeee3a34c972b8",
      "b53e12d8eaca4089a823aa551378b382",
      "defca7b742bd42b897760bd9683386a6",
      "5f6b83bcd2ba4ed7a515bd016aa6732a",
      "54220040475a4f65b141dfe9510d458d",
      "31c05a34f2e6488097f9907d629601c9",
      "c44165fe3aa2403eb96a64ae01bbc5ac",
      "73ade8dc331f49278ff9e59aad6d72cb",
      "27f0c886fc6d423a85e7ed0201d9b530"
     ]
    },
    "id": "628bc120",
    "outputId": "3530dcbb-48b5-4fac-c596-dd78bb83afda"
   },
   "outputs": [
    {
     "data": {
      "application/vnd.jupyter.widget-view+json": {
       "model_id": "0351df69143147e19a9406b5acb85aed",
       "version_major": 2,
       "version_minor": 0
      },
      "text/plain": [
       "  0%|          | 0/200 [00:00<?, ?it/s]"
      ]
     },
     "metadata": {},
     "output_type": "display_data"
    },
    {
     "data": {
      "image/png": "[encoded data removed]",
      "text/plain": [
       "<Figure size 432x288 with 1 Axes>"
      ]
     },
     "metadata": {
      "needs_background": "light"
     },
     "output_type": "display_data"
    }
   ],
   "source": [
    "n_epochs = 200\n",
    "for i in trange(n_epochs):\n",
    "    \n",
    "    logits = model(graph, feat)\n",
    "    train_loss = F.cross_entropy(logits[train_mask], label[train_mask])\n",
    "\n",
    "    opt.zero_grad()\n",
    "    train_loss.backward()\n",
    "    opt.step()\n",
    "\n",
    "    with torch.no_grad():\n",
    "        val_loss = F.cross_entropy(logits[val_mask], label[val_mask])\n",
    "    \n",
    "    log.append([train_loss.item(), val_loss.item()])\n",
    "    \n",
    "plt.plot(np.array(log))\n",
    "plt.title('Loss')\n",
    "plt.legend(['train', 'val'])\n",
    "plt.show()"
   ]
  },
  {
   "cell_type": "code",
   "execution_count": 24,
   "metadata": {
    "colab": {
     "base_uri": "https://localhost:8080/"
    },
    "deletable": false,
    "editable": false,
    "id": "709249ab",
    "nbgrader": {
     "cell_type": "code",
     "checksum": "d96adaccfb3d3494968ec7a788b7db10",
     "grade": true,
     "grade_id": "cell-5ec89b78a948cb61",
     "locked": true,
     "points": 0,
     "schema_version": 3,
     "solution": false,
     "task": false
    },
    "outputId": "255b210d-5054-4527-be7b-6b339e6334b2"
   },
   "outputs": [
    {
     "name": "stdout",
     "output_type": "stream",
     "text": [
      "Balanced accuracy: 0.80\n"
     ]
    }
   ],
   "source": [
    "with torch.no_grad():\n",
    "    logits = model(graph, feat)\n",
    "y_pred = torch.argmax(logits[test_mask], 1)\n",
    "score = balanced_accuracy_score(label[test_mask], y_pred)\n",
    "assert score > 0.7\n",
    "print(f'Balanced accuracy: {score:.2f}')"
   ]
  },
  {
   "cell_type": "markdown",
   "metadata": {
    "id": "Z7fPEGOaZI1e"
   },
   "source": [
    "### Task 3. Graph auto-encoder (3 points)"
   ]
  },
  {
   "cell_type": "markdown",
   "metadata": {
    "id": "53670340"
   },
   "source": [
    "Graph auto-encoder (GAE) was proposed in [[3]](#references) as a simple node embedding model that incorporates node features. The model is consists of two parts:\n",
    "* GCN node encoder $Z = \\text{GCN}(X, A)$ where $X$ is the feature matrix\n",
    "* Dot product decoder $\\hat A = \\sigma(ZZ^\\top)$ where $\\sigma$ is the sigmoid function\n",
    "\n",
    "Write a class `DotProductDecoder` that takes node embeddgins and returns dot product before activation."
   ]
  },
  {
   "cell_type": "code",
   "execution_count": 27,
   "metadata": {
    "deletable": false,
    "id": "15c460db",
    "nbgrader": {
     "cell_type": "code",
     "checksum": "94fc1408b8ccdeccd59e8c5d6f6aa5c4",
     "grade": false,
     "grade_id": "cell-a67dd0513e743f58",
     "locked": false,
     "schema_version": 3,
     "solution": true,
     "task": false
    }
   },
   "outputs": [],
   "source": [
    "class DotProductDecoder(nn.Module):\n",
    "    def __init__(self):\n",
    "        super().__init__()\n",
    "    def forward(self, z):\n",
    "        # YOUR CODE HERE\n",
    "        z_t = z.t()\n",
    "        A = F.relu(z@ z_t)\n",
    "        return A\n",
    "        #raise NotImplementedError()"
   ]
  },
  {
   "cell_type": "code",
   "execution_count": 29,
   "metadata": {
    "deletable": false,
    "editable": false,
    "id": "c730e093",
    "nbgrader": {
     "cell_type": "code",
     "checksum": "627e49028327bee50ff18660bc952fb5",
     "grade": true,
     "grade_id": "cell-4f9b59eac548798b",
     "locked": true,
     "points": 1,
     "schema_version": 3,
     "solution": false,
     "task": false
    }
   },
   "outputs": [],
   "source": [
    "decoder = DotProductDecoder()\n",
    "assert torch.all(decoder(torch.eye(2)[:, :1]) * 2 == torch.tensor([[2, 0], [0, 0]]))"
   ]
  },
  {
   "cell_type": "markdown",
   "metadata": {
    "id": "34fb8d87"
   },
   "source": [
    "The GAE is trained to reconstruct the adjacency matrix, that is the decoder can be considered as the link prediction model. The reconstruction loss is the binary cross entropy between the adjacency matrix $A$ and reconstructed adjacency matrix $\\hat A$. To overcome the imbalance between positive and negative edges, the loss is computed with positive weights — the number of negative exaples divided by the number of positive examples, that is $(|V|^2 - E)/E$.\n",
    "\n",
    "Write a class `ReconstructionLoss` that takes reconstructed adjacency matrix and computes the binary cross entropy with positive weights `F.binary_cross_entropy_with_logits(label, target, pos_weights=...)`. The class is initialized by the adjacency matrix."
   ]
  },
  {
   "cell_type": "code",
   "execution_count": 55,
   "metadata": {
    "deletable": false,
    "id": "38651b0b",
    "nbgrader": {
     "cell_type": "code",
     "checksum": "e94ea2e39a78930a13843e844add7ee2",
     "grade": false,
     "grade_id": "cell-725f9456c5768b1e",
     "locked": false,
     "schema_version": 3,
     "solution": true,
     "task": false
    }
   },
   "outputs": [],
   "source": [
    "class ReconstructionLoss:\n",
    "    def __init__(self, adj):\n",
    "      super().__init__()\n",
    "      self.adj = adj\n",
    "      v = adj.shape[0]**2\n",
    "      e = torch.sum(adj)\n",
    "      self.weight = (v-e)/e\n",
    "        # YOUR CODE HERE\n",
    "        #raise NotImplementedError()\n",
    "    \n",
    "    def __call__(self, rec_adj):\n",
    "        return F.binary_cross_entropy_with_logits(rec_adj, self.adj, pos_weight=self.weight)\n",
    "        # YOUR CODE HERE\n",
    "        #raise NotImplementedError()"
   ]
  },
  {
   "cell_type": "code",
   "execution_count": 56,
   "metadata": {
    "deletable": false,
    "editable": false,
    "id": "575a9887",
    "nbgrader": {
     "cell_type": "code",
     "checksum": "6822debfb10e4c8eaffb38f83d7011bd",
     "grade": true,
     "grade_id": "cell-e6b239111250755e",
     "locked": true,
     "points": 1,
     "schema_version": 3,
     "solution": false,
     "task": false
    }
   },
   "outputs": [],
   "source": [
    "rec_loss = ReconstructionLoss(torch.eye(2))\n",
    "assert round(rec_loss(1 - torch.eye(2)).item(), 4) == 1.0032"
   ]
  },
  {
   "cell_type": "markdown",
   "metadata": {
    "id": "e9403b0b"
   },
   "source": [
    "Here we initialize encoder, decoder, reconstruction loss and optimizer."
   ]
  },
  {
   "cell_type": "code",
   "execution_count": 57,
   "metadata": {
    "id": "0eb7900b"
   },
   "outputs": [],
   "source": [
    "encoder = GCNMessagePassing(in_dim=1433, hid_dim=64, out_dim=32)\n",
    "decoder = DotProductDecoder()\n",
    "rec_loss = ReconstructionLoss(adj)\n",
    "opt = Adam(encoder.parameters(), lr=0.02)\n",
    "log = []"
   ]
  },
  {
   "cell_type": "markdown",
   "metadata": {
    "id": "6b5b5f88"
   },
   "source": [
    "Complete the training loop for GAE. Train the model in unsupervised setting: calculate the reconstruction loss over all edges."
   ]
  },
  {
   "cell_type": "code",
   "execution_count": 58,
   "metadata": {
    "colab": {
     "base_uri": "https://localhost:8080/",
     "height": 313,
     "referenced_widgets": [
      "777356f463f54d348bfac17130ce17e4",
      "4eb4c7ca08bb48ffa48855e41422a679",
      "c3e173c06cf84109b52a5d3d8e88fbdd",
      "89f8303c6cdc4248ba0fbcb0e90143de",
      "e1076b51d8084b2ba789dad839852601",
      "05ec7b23371b448388f84d3d23844275",
      "49e0fc7c80204a21abe4de517fce456f",
      "33debd563ed34d658725cd0aeb89aab1",
      "ecd75c98792246789c1161e89b702169",
      "b74518bcd224470aa746c26b8e1054ba",
      "246e4afe159d42dbbbf7ffd06b37e46c"
     ]
    },
    "deletable": false,
    "id": "26457fa7",
    "nbgrader": {
     "cell_type": "code",
     "checksum": "e25fc920277cbb62e8b52c82bd0732c0",
     "grade": false,
     "grade_id": "cell-f1fe4005cbb20b73",
     "locked": false,
     "schema_version": 3,
     "solution": true,
     "task": false
    },
    "outputId": "593ea4dc-ac97-4b1c-d1a6-91183b1152f2"
   },
   "outputs": [
    {
     "data": {
      "application/vnd.jupyter.widget-view+json": {
       "model_id": "777356f463f54d348bfac17130ce17e4",
       "version_major": 2,
       "version_minor": 0
      },
      "text/plain": [
       "  0%|          | 0/400 [00:00<?, ?it/s]"
      ]
     },
     "metadata": {},
     "output_type": "display_data"
    },
    {
     "data": {
      "image/png": "[encoded data removed]",
      "text/plain": [
       "<Figure size 432x288 with 1 Axes>"
      ]
     },
     "metadata": {
      "needs_background": "light"
     },
     "output_type": "display_data"
    }
   ],
   "source": [
    "n_epochs = 400\n",
    "for i in trange(n_epochs):\n",
    "\n",
    "  logits = encoder(graph, feat)\n",
    "  A = decoder(logits)\n",
    "  loss = rec_loss(A)\n",
    "  \n",
    "  opt.zero_grad()\n",
    "  loss.backward()\n",
    "  opt.step()\n",
    "\n",
    "    \n",
    "  log.append(loss.item())\n",
    "\n",
    "\n",
    "plt.plot(np.array(log))\n",
    "plt.title('Loss')\n",
    "plt.show()\n",
    "\n",
    "    "
   ]
  },
  {
   "cell_type": "markdown",
   "metadata": {
    "id": "63152cb4"
   },
   "source": [
    "We evaluate GAE by obtaining node embeddings via GCN encoder and training the logistic regression for node classification task."
   ]
  },
  {
   "cell_type": "code",
   "execution_count": 59,
   "metadata": {
    "colab": {
     "base_uri": "https://localhost:8080/"
    },
    "deletable": false,
    "editable": false,
    "id": "8219af43",
    "nbgrader": {
     "cell_type": "code",
     "checksum": "ef3b36a212c279031e8dd78a9afeae0e",
     "grade": true,
     "grade_id": "cell-85a3ec5453dd8fc2",
     "locked": true,
     "points": 1,
     "schema_version": 3,
     "solution": false,
     "task": false
    },
    "outputId": "0bca6f9a-9f51-45da-877d-e348f3b9b99b"
   },
   "outputs": [
    {
     "name": "stdout",
     "output_type": "stream",
     "text": [
      "Balanced accuracy: 0.73\n"
     ]
    }
   ],
   "source": [
    "with torch.no_grad():\n",
    "    X = encoder.forward(graph, feat).numpy()\n",
    "y = label.numpy()\n",
    "\n",
    "lr = LogisticRegression()\n",
    "lr.fit(X[train_mask], y[train_mask])\n",
    "\n",
    "y_true = y[test_mask]\n",
    "y_pred = lr.predict(X[test_mask])\n",
    "score = balanced_accuracy_score(y_true, y_pred)\n",
    "assert score >= 0.6\n",
    "print(f'Balanced accuracy: {score:.2f}')"
   ]
  },
  {
   "cell_type": "markdown",
   "metadata": {
    "id": "ba9a163e"
   },
   "source": [
    "Let us visualize node embeddings via t-SNE."
   ]
  },
  {
   "cell_type": "code",
   "execution_count": 60,
   "metadata": {
    "colab": {
     "base_uri": "https://localhost:8080/",
     "height": 499
    },
    "id": "7bd996e0",
    "outputId": "627854fd-39ba-4794-c7ef-3f7ecf39a155"
   },
   "outputs": [
    {
     "data": {
      "image/png": "[encoded data removed]",
      "text/plain": [
       "<Figure size 576x576 with 1 Axes>"
      ]
     },
     "metadata": {
      "needs_background": "light"
     },
     "output_type": "display_data"
    }
   ],
   "source": [
    "xy_emb = TSNE(n_components=2).fit_transform(X)\n",
    "plt.figure(figsize=(8, 8))\n",
    "plt.title('Node embeddings of graph auto-encoder')\n",
    "scatter = plt.scatter(xy_emb[:, 0], xy_emb[:, 1], c=label, s=10, cmap=plt.cm.Set2)"
   ]
  },
  {
   "cell_type": "markdown",
   "metadata": {
    "id": "46be1142"
   },
   "source": [
    "Note that GAE is the simplest encoder-decoder graph model that can be extended to the variational graph auto-encoder (VGAE) [[3]](#references) and GraphVAE [[4]](#references)."
   ]
  },
  {
   "cell_type": "markdown",
   "metadata": {
    "id": "n1GySznuZI1i"
   },
   "source": [
    "### Task 4. Graph attention network (4 points)"
   ]
  },
  {
   "cell_type": "markdown",
   "metadata": {
    "id": "dda10446"
   },
   "source": [
    "The graph attention network (GAT) was proposed in [[5]](#references). The idea behind GAT is based on the multi-head self-attention mechanism [[6]](#references). The graph attention layer is defined by message passing as follows:\n",
    "\n",
    "$$h_i^{l} = \\sum_{j \\in \\mathcal{N}(i)}\\alpha_{ij}^{l}W_\\text{node}^{l}h_j^{l-1}$$\n",
    "\n",
    "where $\\alpha_{ij}$ is the attention score defined on each edge:\n",
    "\n",
    "$$\\alpha_{ij}^{l} = \\text{Softmax}_i(e_{ij}^{l})$$\n",
    "\n",
    "where $e_{ij}^{l}$ is the edge hidden state obtained by the linear transformation of concatenatenated nodes' hidden states and subsequent LeakyReLU activation:\n",
    "\n",
    "$$e_{ij}^{l} = \\text{LeakyReLU}(W_\\text{edge}^l[W_\\text{node}^{l}h_i^{l-1}||W_\\text{node}^{l}h_j^{l-1}])$$\n",
    "\n",
    "where $[\\cdot||\\cdot]$ is concatenation. The multi-head self-attention is defined by different types of attention score (heads) $(\\alpha_{ij}^{l})_0, (\\alpha_{ij}^{l})_1, ..., (\\alpha_{ij}^{l})_N,$. The final node's hidden state is obtained by concatenation all heads' outputs."
   ]
  },
  {
   "cell_type": "markdown",
   "metadata": {
    "id": "ed046bcf"
   },
   "source": [
    "Here is the GAT layer that calculates nodes' preliminary hidden states by `self.fc` ($W_\\text{node}$) layer and copies them to the node feature `z`, then concatenates them on edges by `edge_cat` function and copies to the edge feature `z`, then calculates attention score by `self.attn_fc` ($W_\\text{edge}$) layer and performs message passing. At the end, it concatenates the next hidden states from all heads.\n",
    "\n",
    "_Remark: `graph.apply_edges` applies an edge-wise function on all edges in the graph._"
   ]
  },
  {
   "cell_type": "code",
   "execution_count": 61,
   "metadata": {
    "deletable": false,
    "editable": false,
    "id": "7df03d73",
    "nbgrader": {
     "cell_type": "code",
     "checksum": "196cc47282c1195fda00e09bd227fe79",
     "grade": false,
     "grade_id": "cell-21314765531e0c74",
     "locked": true,
     "schema_version": 3,
     "solution": false,
     "task": false
    }
   },
   "outputs": [],
   "source": [
    "class GATLayer(nn.Module):\n",
    "    def __init__(self, in_dim, out_dim, n_heads):\n",
    "        super().__init__()\n",
    "        self.fc = nn.Linear(in_dim, out_dim)\n",
    "        self.n_heads = n_heads\n",
    "        attn_fc = []\n",
    "        for _ in range(n_heads):\n",
    "            attn_fc.append(nn.Linear(2 * out_dim, 1))\n",
    "        self.attn_fc = nn.ModuleList(attn_fc)\n",
    "        \n",
    "    def forward(self, graph, feat):\n",
    "        with graph.local_scope():\n",
    "            graph = graph.add_self_loop()\n",
    "            graph.ndata['z'] = self.fc(feat)\n",
    "            graph.apply_edges(edge_cat)\n",
    "            edge_z = graph.edata['z']\n",
    "            h = []\n",
    "            for i in range(self.n_heads):\n",
    "                graph.edata['e'] = F.leaky_relu(self.attn_fc[i](edge_z))\n",
    "                graph.update_all(message_func, reduce_func)\n",
    "                h.append(graph.ndata['h'])\n",
    "            return torch.cat(h, dim=1)"
   ]
  },
  {
   "cell_type": "markdown",
   "metadata": {
    "id": "fe1864c2"
   },
   "source": [
    "In DGL, we can implement specific functions that can be applied on edges or nodes. Let us define an edge-wise function that concatenates nodes' preliminary hidden states `z` and copies them to the edge feature `z`. It takes a batch of edges `dgl.udf.EdgeBatch` which contains source node features in the attribute `src`, destination node features in the attribute `dst` and edge features in the attribute `data`. For example:\n",
    "* `edges.src['z']` is the source node feature `z`\n",
    "* `edges.dst['z']` is the destination node feature `z`\n",
    "* `edges.data['e']` is the edges feature `e`\n",
    "\n",
    "Write a function `edge_cat` that takes a batch of edges and returns a dictionary where the key is `z` and the value is concatenated the source node feature `z` and the destination node feature `z`."
   ]
  },
  {
   "cell_type": "code",
   "execution_count": 65,
   "metadata": {
    "deletable": false,
    "id": "5b35055e",
    "nbgrader": {
     "cell_type": "code",
     "checksum": "668cbae4fbc494c01a25c8b354f258ea",
     "grade": false,
     "grade_id": "cell-ce362a06bda2e6de",
     "locked": false,
     "schema_version": 3,
     "solution": true,
     "task": false
    }
   },
   "outputs": [],
   "source": [
    "def edge_cat(edges):\n",
    "    return {'z': torch.cat((edges.src['z'],edges.dst['z']),dim=1)}\n",
    "    # YOUR CODE HERE\n",
    "    #raise NotImplementedError()"
   ]
  },
  {
   "cell_type": "code",
   "execution_count": 67,
   "metadata": {
    "deletable": false,
    "editable": false,
    "id": "2dba9efa",
    "nbgrader": {
     "cell_type": "code",
     "checksum": "04a8035313508d82117b7cf138a93a3a",
     "grade": true,
     "grade_id": "cell-ac20c7b9a52d701a",
     "locked": true,
     "points": 0.67,
     "schema_version": 3,
     "solution": false,
     "task": false
    }
   },
   "outputs": [],
   "source": [
    "class EdgeBatch:\n",
    "    def __init__(self):\n",
    "        self.src = {'z': torch.arange(10).tile(3, 1)}\n",
    "        self.dst = {'z': torch.arange(10, 20).tile(3, 1)}\n",
    "        self.data = {'e': torch.arange(20).tile(5, 1)}\n",
    "edges = EdgeBatch()\n",
    "res = edge_cat(edges)\n",
    "assert res['z'].shape == (3, 20)\n",
    "assert torch.all(res['z'][0] == torch.arange(20))"
   ]
  },
  {
   "cell_type": "markdown",
   "metadata": {
    "id": "554ac592"
   },
   "source": [
    "Next, implement the message function. Message function simply copies the source nodes' feature `z` and edges' feature `e` into mailboxes `z` and `e`.\n",
    "\n",
    "Write a function `message_func` that takes a batch of edges and returns a dictionary:\n",
    "* the key is `z`, the value is source nodes' feature `z`\n",
    "* the key is `e`, the value is edges' feature `e`"
   ]
  },
  {
   "cell_type": "code",
   "execution_count": 68,
   "metadata": {
    "deletable": false,
    "id": "a2e0475d",
    "nbgrader": {
     "cell_type": "code",
     "checksum": "8cc00e8a928114f9d63558d06f42a931",
     "grade": false,
     "grade_id": "cell-3a18badcbd54139b",
     "locked": false,
     "schema_version": 3,
     "solution": true,
     "task": false
    }
   },
   "outputs": [],
   "source": [
    "def message_func(edges):\n",
    "    return {'z': edges.src['z'],\n",
    "            'e': edges.data['e']}\n",
    "    # YOUR CODE HERE\n",
    "    #raise NotImplementedError()"
   ]
  },
  {
   "cell_type": "code",
   "execution_count": 69,
   "metadata": {
    "deletable": false,
    "editable": false,
    "id": "ed8c7b78",
    "nbgrader": {
     "cell_type": "code",
     "checksum": "c856676cd953bc1526a4e30294757ecd",
     "grade": true,
     "grade_id": "cell-2ef6cc6f7d9b708f",
     "locked": true,
     "points": 0.67,
     "schema_version": 3,
     "solution": false,
     "task": false
    }
   },
   "outputs": [],
   "source": [
    "class EdgeBatch:\n",
    "    def __init__(self):\n",
    "        self.src = {'z': torch.arange(10).tile(3, 1)}\n",
    "        self.dst = {'z': torch.arange(10, 20).tile(3, 1)}\n",
    "        self.data = {'e': torch.arange(20).tile(5, 1)}\n",
    "edges = EdgeBatch()\n",
    "res = message_func(edges)\n",
    "assert res['z'].shape == (3, 10)\n",
    "assert torch.all(res['z'][0] == torch.arange(10))\n",
    "assert res['e'].shape == (5, 20)\n",
    "assert torch.all(res['e'][0] == torch.arange(20))"
   ]
  },
  {
   "cell_type": "markdown",
   "metadata": {
    "id": "4f41c262"
   },
   "source": [
    "The reduce funtion takes a batch of nodes `dgl.udf.NodeBatch` and calculates the next hidden states of nodes by summation of preliminary hidden states `z` weighted by attention score:\n",
    "$$\\alpha_{ij} = \\text{Softmax}_i(e_{ij})$$\n",
    "$$h_i = \\sum_{j \\in \\mathcal{N}(i)}\\alpha_{ij}z_j$$\n",
    "\n",
    "The batch of nodes contains incoming messages in the attribute `mailbox` of the shape (N, D, 1), where N is the number of nodes in the batch, D is the number of messages received per node for this node batch. \n",
    "\n",
    "Write a function `reduce_func` that takes a batch of nodes with mailboxes `z` and `e` and returns a dictionary where the key is `h`, the value is the next hidden states of nodes."
   ]
  },
  {
   "cell_type": "code",
   "execution_count": 111,
   "metadata": {
    "deletable": false,
    "id": "e5dd2e63",
    "nbgrader": {
     "cell_type": "code",
     "checksum": "95573749111fe5a7223ef0070b2d0874",
     "grade": false,
     "grade_id": "cell-fa9346fd8971f05b",
     "locked": false,
     "schema_version": 3,
     "solution": true,
     "task": false
    }
   },
   "outputs": [],
   "source": [
    "def reduce_func(nodes):\n",
    "  e = nodes.mailbox['e']\n",
    "  z = nodes.mailbox['z']\n",
    "  a = F.softmax(e,dim = 1)\n",
    "  h = torch.sum(a*z,dim = 1)\n",
    "  return {'h':h} \n",
    "    # YOUR CODE HERE\n",
    "    #raise NotImplementedError()"
   ]
  },
  {
   "cell_type": "code",
   "execution_count": 112,
   "metadata": {
    "deletable": false,
    "editable": false,
    "id": "d2bb6114",
    "nbgrader": {
     "cell_type": "code",
     "checksum": "8bcfc66c7f372ac14df93ceefa350d26",
     "grade": true,
     "grade_id": "cell-6cf5795c738e58f8",
     "locked": true,
     "points": 0.67,
     "schema_version": 3,
     "solution": false,
     "task": false
    }
   },
   "outputs": [],
   "source": [
    "class NodeBatch:\n",
    "    def __init__(self):\n",
    "        self.mailbox = dict()\n",
    "        self.mailbox['e'] = torch.arange(10, 20, dtype=float).tile(3, 1)[..., None]\n",
    "        self.mailbox['z'] = torch.arange(10, dtype=float).tile(3, 1)[..., None]\n",
    "nodes = NodeBatch()\n",
    "assert reduce_func(nodes)['h'].shape == (3, 1)\n",
    "assert round(reduce_func(nodes)['h'][0].item(), 4) == 8.4185"
   ]
  },
  {
   "cell_type": "markdown",
   "metadata": {
    "id": "a2a14cf4"
   },
   "source": [
    "Write a class `GAT` that takes a graph and a feature matrix and performs two-layer convolution with intermediate ReLU activation. The class initialized by input, hidden, output dimensions and the number of heads in the first layer. The second layer contains a single head."
   ]
  },
  {
   "cell_type": "code",
   "execution_count": 121,
   "metadata": {
    "deletable": false,
    "id": "56ef1c65",
    "nbgrader": {
     "cell_type": "code",
     "checksum": "48273454d4e693bf7b20e8af8dde5196",
     "grade": false,
     "grade_id": "cell-57ec6b461b254ec6",
     "locked": false,
     "schema_version": 3,
     "solution": true,
     "task": false
    }
   },
   "outputs": [],
   "source": [
    "class GAT(nn.Module):\n",
    "    def __init__(self, in_dim, hid_dim, out_dim, n_heads):\n",
    "        super().__init__()\n",
    "        self.conv1 = GATLayer(in_dim, hid_dim, n_heads)\n",
    "        self.conv2 = GATLayer(hid_dim *n_heads, out_dim  , 1)\n",
    "        #self.conv1 = GCNMessagePassingLayer(in_dim, hid_dim)\n",
    "        #self.conv2 = GCNMessagePassingLayer(hid_dim, out_dim)\n",
    "         \n",
    "        # YOUR CODE HERE\n",
    "        #raise NotImplementedError()\n",
    "    def forward(self, graph, feat):\n",
    "        # YOUR CODE HERE\n",
    "        h = self.conv1(graph, feat)\n",
    "        h = F.relu(h)\n",
    "\n",
    "        h = self.conv2(graph, h)\n",
    "        return h\n",
    "        #raise NotImplementedError()"
   ]
  },
  {
   "cell_type": "code",
   "execution_count": 122,
   "metadata": {
    "deletable": false,
    "editable": false,
    "id": "23df8dcd",
    "nbgrader": {
     "cell_type": "code",
     "checksum": "dea3fd3cc1a0f67d8cf0ec2b4d07cfe2",
     "grade": true,
     "grade_id": "cell-fbee928783f27b2a",
     "locked": true,
     "points": 0.67,
     "schema_version": 3,
     "solution": false,
     "task": false
    }
   },
   "outputs": [],
   "source": [
    "model = GAT(2708, 32, 7, n_heads=4)\n",
    "logits = model.conv1(graph, torch.eye(2708))\n",
    "assert logits.shape == (2708, 128)\n",
    "logits = model(graph, torch.eye(2708))\n",
    "assert logits.shape == (2708, 7)\n",
    "assert logits.min() < 0"
   ]
  },
  {
   "cell_type": "markdown",
   "metadata": {
    "id": "3c849aec"
   },
   "source": [
    "Let us initialize the model and the optimizer."
   ]
  },
  {
   "cell_type": "code",
   "execution_count": 123,
   "metadata": {
    "id": "5fefc93e"
   },
   "outputs": [],
   "source": [
    "model = GAT(in_dim=1433, hid_dim=16, out_dim=7, n_heads=3)\n",
    "opt = Adam(model.parameters(), lr=0.005, weight_decay=0.001)\n",
    "log = []"
   ]
  },
  {
   "cell_type": "markdown",
   "metadata": {
    "id": "5e76ba50"
   },
   "source": [
    "We train the model in semi-supervised setting: propagate information over the full graph, but optimize it by only train cross-entropy loss."
   ]
  },
  {
   "cell_type": "code",
   "execution_count": 124,
   "metadata": {
    "colab": {
     "base_uri": "https://localhost:8080/",
     "height": 313,
     "referenced_widgets": [
      "20b15e229a8d44aeb601d6d30247dbef",
      "3f6f59282fc04f97a105eed3425e7bb1",
      "1215f7d0925742e1851a7ad07269b8d6",
      "1005fb0c7e3742659e569396f1ac4e1b",
      "4c1d09c341c84ef68f5833f1382b70db",
      "64ee473cbf944d9fb56ef47dd29bf215",
      "5c7355133d8e449baf0ce97789629f6d",
      "7afcd7a3841b4c22b81c713abc9d7f41",
      "bae9bf2b911a4a42a0b4554fa58ad9b8",
      "961b6603193f4be581dbcf0718aa2654",
      "2e05cf0607fd42128b5ec5474c8728c2"
     ]
    },
    "id": "f24f36b4",
    "outputId": "a3de3d9b-99b5-48db-e93e-1c21c73e3ba4"
   },
   "outputs": [
    {
     "data": {
      "application/vnd.jupyter.widget-view+json": {
       "model_id": "20b15e229a8d44aeb601d6d30247dbef",
       "version_major": 2,
       "version_minor": 0
      },
      "text/plain": [
       "  0%|          | 0/120 [00:00<?, ?it/s]"
      ]
     },
     "metadata": {},
     "output_type": "display_data"
    },
    {
     "data": {
      "image/png": "[encoded data removed]",
      "text/plain": [
       "<Figure size 432x288 with 1 Axes>"
      ]
     },
     "metadata": {
      "needs_background": "light"
     },
     "output_type": "display_data"
    }
   ],
   "source": [
    "n_epochs = 120\n",
    "for i in trange(n_epochs):\n",
    "    \n",
    "    logits = model(graph, feat)\n",
    "    train_loss = F.cross_entropy(logits[train_mask], label[train_mask])\n",
    "\n",
    "    opt.zero_grad()\n",
    "    train_loss.backward()\n",
    "    opt.step()\n",
    "\n",
    "    with torch.no_grad():\n",
    "        val_loss = F.cross_entropy(logits[val_mask], label[val_mask])\n",
    "    \n",
    "    log.append([train_loss.item(), val_loss.item()])\n",
    "    \n",
    "plt.plot(np.array(log))\n",
    "plt.title('Loss')\n",
    "plt.legend(['train', 'val'])\n",
    "plt.show()"
   ]
  },
  {
   "cell_type": "code",
   "execution_count": 125,
   "metadata": {
    "colab": {
     "base_uri": "https://localhost:8080/"
    },
    "deletable": false,
    "editable": false,
    "id": "e66301f3",
    "nbgrader": {
     "cell_type": "code",
     "checksum": "79efdeca8d9bd270d2ef0955d5fe5f4f",
     "grade": true,
     "grade_id": "cell-11d791f5122b19f3",
     "locked": true,
     "points": 0.67,
     "schema_version": 3,
     "solution": false,
     "task": false
    },
    "outputId": "08945887-7f7d-441c-d8cb-3f98d315c7af"
   },
   "outputs": [
    {
     "name": "stdout",
     "output_type": "stream",
     "text": [
      "Balanced accuracy: 0.77\n"
     ]
    }
   ],
   "source": [
    "with torch.no_grad():\n",
    "    logits = model(graph, feat)\n",
    "y_pred = torch.argmax(logits[test_mask], 1)\n",
    "score = balanced_accuracy_score(label[test_mask], y_pred)\n",
    "assert score > 0.7\n",
    "print(f'Balanced accuracy: {score:.2f}')"
   ]
  },
  {
   "cell_type": "markdown",
   "metadata": {
    "id": "d1c7e216"
   },
   "source": [
    "We can explain model's predictions using GAT — neighbors with large attention score have the great impact to model's prediction. Let us calculate the neighbors importance using the attention score.\n",
    "\n",
    "Write a function `neighbor_importance` that takes a node index for which we want to explain the prediction, a trained GAT, a graph and a feature matrix. It returns a tuple:\n",
    "* np.array with indices of neighbors\n",
    "* np.array with attention scores on the first GAT layer for each neighbor. Attention score is averaged among all heads.\n",
    "\n",
    "_Hint: use `graph.predecessors` to obtain neighbors_"
   ]
  },
  {
   "cell_type": "code",
   "execution_count": null,
   "metadata": {
    "deletable": false,
    "id": "49a81627",
    "nbgrader": {
     "cell_type": "code",
     "checksum": "bbc1d91f57b98dfcf437581e2b38a755",
     "grade": false,
     "grade_id": "cell-409230373547e910",
     "locked": false,
     "schema_version": 3,
     "solution": true,
     "task": false
    }
   },
   "outputs": [],
   "source": [
    "def neighbor_importance(expl_node, model, graph, feat):\n",
    "    with torch.no_grad(), graph.local_scope():\n",
    "        graph = graph.add_self_loop()\n",
    "        # YOUR CODE HERE\n",
    "        raise NotImplementedError()"
   ]
  },
  {
   "cell_type": "code",
   "execution_count": null,
   "metadata": {
    "deletable": false,
    "editable": false,
    "id": "4c6190ac",
    "nbgrader": {
     "cell_type": "code",
     "checksum": "e120b8bff1738540880015ee455dcb5f",
     "grade": true,
     "grade_id": "cell-9f74e551dbc38adf",
     "locked": true,
     "points": 0.6499999999999999,
     "schema_version": 3,
     "solution": false,
     "task": false
    }
   },
   "outputs": [],
   "source": [
    "neigh, attn = neighbor_importance(1941, model, graph, feat)\n",
    "assert type(neigh) == type(attn) == np.ndarray\n",
    "assert neigh.shape == attn.shape == (7, )\n",
    "assert round(attn.sum(), 2) == 1\n",
    "assert 1397 == neigh[attn.argmax()] or 1937 == neigh[attn.argmax()]\n",
    "plt.bar(neigh.astype('str'), attn)\n",
    "plt.xlabel('Node')\n",
    "plt.ylabel('Attention')\n",
    "plt.title('Neighbor importance')\n",
    "plt.show()"
   ]
  },
  {
   "cell_type": "markdown",
   "metadata": {
    "id": "t51m-VOBZI1n"
   },
   "source": [
    "### Task 5. Neighbor sampling with GraphSAGE (3 points)"
   ]
  },
  {
   "cell_type": "markdown",
   "metadata": {
    "id": "308322f8"
   },
   "source": [
    "GraphSAGE (SAmple and AggreGatE) was proposed in [[7]](#references) as a model for inductive representation learning on large graph. There are two main things:\n",
    "* Neighbor sampling allows to train models in mini-batches, that is the model can be trained on large graphs and it also can represent previously unseen nodes (semi-supervised inductive learning)\n",
    "* Aggregation is perfomed separately on neighboring nodes and the node itself, that can be considered as \"skip-connections\" in graph neural networks\n",
    "\n",
    "Neighbor sampling is a technique to construct a message flow graph by randomly sampled neighbors of a target node.\n",
    "\n",
    "<img src='https://raw.githubusercontent.com/netspractice/network-science/main/images/neighbor_sampling.png' width=800>"
   ]
  },
  {
   "cell_type": "markdown",
   "metadata": {
    "id": "4bddb502"
   },
   "source": [
    "In DGL, neighbor sampling is performed by `NodeDataLoader`. First, we create sets of indices with train, validation and test nodes."
   ]
  },
  {
   "cell_type": "code",
   "execution_count": 126,
   "metadata": {
    "colab": {
     "base_uri": "https://localhost:8080/"
    },
    "id": "c056e85a",
    "outputId": "6ba49b68-57bf-44f1-f336-feef70e675d6"
   },
   "outputs": [
    {
     "data": {
      "text/plain": [
       "(tensor([ 3,  7, 24, 34, 52]),\n",
       " tensor([ 2,  6,  9, 10, 22]),\n",
       " tensor([0, 1, 4, 5, 8]))"
      ]
     },
     "execution_count": 126,
     "metadata": {},
     "output_type": "execute_result"
    }
   ],
   "source": [
    "train_nids = graph.nodes()[train_mask]\n",
    "val_nids = graph.nodes()[val_mask]\n",
    "test_nids = graph.nodes()[test_mask]\n",
    "train_nids[:5], val_nids[:5], test_nids[:5]"
   ]
  },
  {
   "cell_type": "markdown",
   "metadata": {
    "id": "1a59f3e7"
   },
   "source": [
    "Next, we create `NeighborSampler` with given number of neighbors for each layer of our network. Let it be 4 neihbors for the first layer and 4 neighbors for the second. Next, we create dataloader with the sampler."
   ]
  },
  {
   "cell_type": "code",
   "execution_count": 127,
   "metadata": {
    "colab": {
     "base_uri": "https://localhost:8080/"
    },
    "id": "292d1347",
    "outputId": "39a56bc5-3623-4854-91e1-3e2e52c29df5"
   },
   "outputs": [
    {
     "data": {
      "text/plain": [
       "140"
      ]
     },
     "execution_count": 127,
     "metadata": {},
     "output_type": "execute_result"
    }
   ],
   "source": [
    "sampler = dgl.dataloading.NeighborSampler(fanouts=[4, 4])\n",
    "train_dataloader = dgl.dataloading.NodeDataLoader(graph, train_nids, sampler, batch_size=1)\n",
    "len(train_dataloader)"
   ]
  },
  {
   "cell_type": "markdown",
   "metadata": {
    "id": "f2ae454c"
   },
   "source": [
    "We have set batch size is 1, that is each batch contains a single target node. The number of train nodes is 140. Dataloader iterates over:\n",
    "* input nodes — the nodes from which we collect messages in the first layer\n",
    "* output nodes — the target nodes that aggregate messages from neighbors in the second layers\n",
    "* message flow graphs — list of graphs for layers"
   ]
  },
  {
   "cell_type": "code",
   "execution_count": 128,
   "metadata": {
    "colab": {
     "base_uri": "https://localhost:8080/"
    },
    "id": "bb6cba51",
    "outputId": "0dbe79e1-e824-4b8d-b80e-fda8138c79e7"
   },
   "outputs": [
    {
     "data": {
      "text/plain": [
       "(tensor([3, 5, 1, 4, 0, 2, 7, 8, 6]), tensor([3]))"
      ]
     },
     "execution_count": 128,
     "metadata": {},
     "output_type": "execute_result"
    }
   ],
   "source": [
    "for input_nodes, output_nodes, mfgs in train_dataloader:\n",
    "    break\n",
    "input_nodes, output_nodes"
   ]
  },
  {
   "cell_type": "markdown",
   "metadata": {
    "id": "04190b37"
   },
   "source": [
    "We see that the target node 0 aggregates messages from 0, 633, 1862, etc."
   ]
  },
  {
   "cell_type": "code",
   "execution_count": 129,
   "metadata": {
    "colab": {
     "base_uri": "https://localhost:8080/"
    },
    "id": "49567254",
    "outputId": "e17eb4ee-38ab-4a44-f1da-e068632c1920"
   },
   "outputs": [
    {
     "data": {
      "text/plain": [
       "(tensor([1, 2, 3, 4]), tensor([0, 0, 0, 0]))"
      ]
     },
     "execution_count": 129,
     "metadata": {},
     "output_type": "execute_result"
    }
   ],
   "source": [
    "mfgs[1].edges()"
   ]
  },
  {
   "cell_type": "markdown",
   "metadata": {
    "id": "16cdf063"
   },
   "source": [
    "The message flow graph (MFG) for the second layer consists of neighbors of the target nodes. Note that indices of nodes in MFG differs from indices in the original graph to optimize the message passing."
   ]
  },
  {
   "cell_type": "code",
   "execution_count": 130,
   "metadata": {
    "colab": {
     "base_uri": "https://localhost:8080/"
    },
    "id": "b95d9250",
    "outputId": "0522594b-7f5b-4feb-a37a-ce033072b641"
   },
   "outputs": [
    {
     "data": {
      "text/plain": [
       "(tensor([0, 1, 2, 3, 4]), tensor([0]))"
      ]
     },
     "execution_count": 130,
     "metadata": {},
     "output_type": "execute_result"
    }
   ],
   "source": [
    "mfgs[1].srcnodes(), mfgs[1].dstnodes()"
   ]
  },
  {
   "cell_type": "markdown",
   "metadata": {
    "id": "fd8edf40"
   },
   "source": [
    "MFG is bipartite, that is messages are passing from neighbors (source nodes) 0, 1, 2, 3 to the target (destination) node 0."
   ]
  },
  {
   "cell_type": "code",
   "execution_count": 131,
   "metadata": {
    "colab": {
     "base_uri": "https://localhost:8080/"
    },
    "id": "d6e130d0",
    "outputId": "b944e868-1e7d-4faa-e89d-b1ac2ef4935e"
   },
   "outputs": [
    {
     "data": {
      "text/plain": [
       "(tensor([4, 5, 2, 1, 5, 6, 7, 2, 1, 0, 8, 4, 8, 0, 1, 6, 5, 0, 8, 2]),\n",
       " tensor([0, 0, 0, 0, 1, 1, 1, 1, 2, 2, 2, 2, 3, 3, 3, 3, 4, 4, 4, 4]))"
      ]
     },
     "execution_count": 131,
     "metadata": {},
     "output_type": "execute_result"
    }
   ],
   "source": [
    "mfgs[0].edges()"
   ]
  },
  {
   "cell_type": "markdown",
   "metadata": {
    "id": "f4b74fcf"
   },
   "source": [
    "The first MFG consists of edges that follow from source nodes in the first layer (0, 1, 2, 3, 4, 5, 6, 7) to sourse nodes in the second layer (0, 1, 2, 3). Let us create train, validation and test dataloaders with batch size 64."
   ]
  },
  {
   "cell_type": "code",
   "execution_count": 132,
   "metadata": {
    "colab": {
     "base_uri": "https://localhost:8080/"
    },
    "id": "8c703230",
    "outputId": "3d777849-f1fd-4032-e4cb-17a9f9c241e6"
   },
   "outputs": [
    {
     "data": {
      "text/plain": [
       "(3, 8, 16)"
      ]
     },
     "execution_count": 132,
     "metadata": {},
     "output_type": "execute_result"
    }
   ],
   "source": [
    "train_dataloader = dgl.dataloading.NodeDataLoader(graph, train_nids, sampler, batch_size=64)\n",
    "val_dataloader = dgl.dataloading.NodeDataLoader(graph, val_nids, sampler, batch_size=64)\n",
    "test_dataloader = dgl.dataloading.NodeDataLoader(graph, test_nids, sampler, batch_size=64)\n",
    "len(train_dataloader), len(val_dataloader), len(test_dataloader)"
   ]
  },
  {
   "cell_type": "markdown",
   "metadata": {
    "id": "a7f1688b"
   },
   "source": [
    "GraphSAGE is defined by message passing:\n",
    "\n",
    "$$h_i^l = W^l[h_i^{l-1} || \\text{Aggregation}_{j \\in \\mathcal{N}(i)}(h_j^{l-1})]$$\n",
    "\n",
    "where $[\\cdot||\\cdot]$ is concatenation. Aggregation function may be represented by average, maximum or LSTM. Let us define two-layer GraphSAGE with average aggregation and intermediate ReLU activation. `SAGEConv` layer takes the MFG and features of source node, returns the hidden of destinations nodes.\n",
    "\n",
    "Write a function `forward` that takes MFGs, feature matrix for input nodes and returns the next hidden states of output nodes."
   ]
  },
  {
   "cell_type": "code",
   "execution_count": 133,
   "metadata": {
    "deletable": false,
    "id": "1c6d212a",
    "nbgrader": {
     "cell_type": "code",
     "checksum": "a8240c388d4a88c8baba1ad933da82ab",
     "grade": false,
     "grade_id": "cell-42631ac0523a62a7",
     "locked": false,
     "schema_version": 3,
     "solution": true,
     "task": false
    }
   },
   "outputs": [],
   "source": [
    "class GraphSAGE(nn.Module):\n",
    "    def __init__(self, in_dim, hid_dim, out_dim):\n",
    "        super().__init__()\n",
    "        self.conv1 = SAGEConv(in_dim, hid_dim, aggregator_type='mean')\n",
    "        self.conv2 = SAGEConv(hid_dim, out_dim, aggregator_type='mean')\n",
    "\n",
    "    def forward(self, mfgs, feat):\n",
    "        h = self.conv1(mfgs, feat)\n",
    "        h = F.relu(h())\n",
    "        h = self.conv2(mfgs, h)\n",
    "        return h\n",
    "        # YOUR CODE HERE\n",
    "        #raise NotImplementedError()"
   ]
  },
  {
   "cell_type": "markdown",
   "metadata": {
    "id": "e747b35e"
   },
   "source": [
    "We train the model in semi-supervised setting: propagate information over the full graph, but optimize it by only train cross-entropy loss.\n",
    "\n",
    "Write a function `train_epoch` that takes GraphSAGE model, train dataloader, validation dataloader, the full feature matrix, labels and optimizer. It returns a tuple: the average train loss and the average validation loss. "
   ]
  },
  {
   "cell_type": "code",
   "execution_count": null,
   "metadata": {
    "deletable": false,
    "id": "d43c50da",
    "nbgrader": {
     "cell_type": "code",
     "checksum": "73d95920bbbccb1a805f27142fe43168",
     "grade": false,
     "grade_id": "cell-7a7eb641f7d14a3b",
     "locked": false,
     "schema_version": 3,
     "solution": true,
     "task": false
    }
   },
   "outputs": [],
   "source": [
    "def train_epoch(model, train_dataloader, val_dataloader, feat, label, opt):\n",
    "\n",
    "    logits = model(train_dataloader, feat)\n",
    "    train_loss = F.cross_entropy(logits[train_mask], label[train_mask])\n",
    "\n",
    "    opt.zero_grad()\n",
    "    train_loss.backward()\n",
    "    opt.step()\n",
    "\n",
    "    with torch.no_grad():\n",
    "        val_loss = F.cross_entropy(logits[val_mask], label[val_mask])\n",
    "    \n",
    "    log.append([train_loss.item(), val_loss.item()])\n",
    "    \n",
    "    # YOUR CODE HERE\n",
    "    #raise NotImplementedError()"
   ]
  },
  {
   "cell_type": "code",
   "execution_count": null,
   "metadata": {
    "deletable": false,
    "editable": false,
    "id": "8776fb7b",
    "nbgrader": {
     "cell_type": "code",
     "checksum": "680b7450b92d8a2c0f5eaa77d0749eba",
     "grade": true,
     "grade_id": "cell-a6c94febdc58013b",
     "locked": true,
     "points": 1.5,
     "schema_version": 3,
     "solution": false,
     "task": false
    }
   },
   "outputs": [],
   "source": [
    "model = GraphSAGE(1433, 16, 7)\n",
    "opt = Adam(model.parameters(), lr=0.1)\n",
    "train_loss, val_loss = train_epoch(model, train_dataloader, val_dataloader, feat, label, opt)\n",
    "assert type(train_loss) == float\n",
    "assert type(val_loss) == float\n",
    "assert 1.8 < train_loss < 2.2\n",
    "assert 1.8 < val_loss < 2.2\n",
    "train_loss, val_loss = train_epoch(model, train_dataloader, val_dataloader, feat, label, opt)\n",
    "train_loss, val_loss = train_epoch(model, train_dataloader, val_dataloader, feat, label, opt)\n",
    "assert train_loss < val_loss"
   ]
  },
  {
   "cell_type": "markdown",
   "metadata": {
    "id": "e5530e48"
   },
   "source": [
    "Initialize the model and optimizers."
   ]
  },
  {
   "cell_type": "code",
   "execution_count": null,
   "metadata": {
    "id": "a58dff00"
   },
   "outputs": [],
   "source": [
    "model = GraphSAGE(1433, 16, 7)\n",
    "opt = Adam(model.parameters(), lr=0.01)"
   ]
  },
  {
   "cell_type": "markdown",
   "metadata": {
    "id": "28def0b8"
   },
   "source": [
    "Train the model."
   ]
  },
  {
   "cell_type": "code",
   "execution_count": null,
   "metadata": {
    "id": "55698c78"
   },
   "outputs": [],
   "source": [
    "log = []\n",
    "n_epochs = 50\n",
    "for i in trange(n_epochs):\n",
    "    train_loss, val_loss = train_epoch(model, train_dataloader, val_dataloader, feat, label, opt)\n",
    "    log.append([train_loss, val_loss])\n",
    "plt.plot(np.array(log))\n",
    "plt.title('Loss')\n",
    "plt.legend(['train', 'val'])\n",
    "plt.show()"
   ]
  },
  {
   "cell_type": "code",
   "execution_count": null,
   "metadata": {
    "deletable": false,
    "editable": false,
    "id": "9d0c16d2",
    "nbgrader": {
     "cell_type": "code",
     "checksum": "7c5bce0504893fe5753e233815f38af4",
     "grade": true,
     "grade_id": "cell-1f31b207a4f89e8f",
     "locked": true,
     "points": 1.5,
     "schema_version": 3,
     "solution": false,
     "task": false
    }
   },
   "outputs": [],
   "source": [
    "logits = []\n",
    "for input_nodes, output_nodes, mfgs in test_dataloader:\n",
    "    with torch.no_grad():\n",
    "        logits.append(model(mfgs, feat[input_nodes]))\n",
    "logits = torch.cat(logits)\n",
    "y_pred = torch.argmax(logits, 1)\n",
    "score = balanced_accuracy_score(label[test_mask], y_pred)\n",
    "assert score > 0.7\n",
    "print(f'Balanced accuracy: {score:.2f}')"
   ]
  },
  {
   "cell_type": "markdown",
   "metadata": {
    "id": "8MiNtnaJZI1w"
   },
   "source": [
    "### References"
   ]
  },
  {
   "cell_type": "markdown",
   "metadata": {
    "id": "yx1Gi4FdZI1x"
   },
   "source": [
    "<a id='references'></a>\n",
    "\n",
    "[1] Kipf, T. N., & Welling, M. (2016). Semi-Supervised Classification with Graph Convolutional Networks. CoRR, abs/1609.02907. http://arxiv.org/abs/1609.02907\n",
    "\n",
    "[2] Gilmer, J., Schoenholz, S. S., Riley, P. F., Vinyals, O., & Dahl, G. E. (2017). Neural Message Passing for Quantum Chemistry. CoRR, abs/1704.01212. http://arxiv.org/abs/1704.01212\n",
    "\n",
    "[3] Kipf, T. N., & Welling, M. (2016). Variational Graph Auto-Encoders. arXiv. https://doi.org/10.48550/ARXIV.1611.07308\n",
    "\n",
    "[4] Simonovsky, M., & Komodakis, N. (2018). GraphVAE: Towards Generation of Small Graphs Using Variational Autoencoders. CoRR, abs/1802.03480. http://arxiv.org/abs/1802.03480\n",
    "\n",
    "[5] VeliДЌkoviД‡, P., Cucurull, G., Casanova, A., Romero, A., LiГІ, P., & Bengio, Y. (2017). Graph Attention Networks. arXiv. https://doi.org/10.48550/ARXIV.1710.10903\n",
    "\n",
    "[6] Vaswani, A., Shazeer, N., Parmar, N., Uszkoreit, J., Jones, L., Gomez, A. N., Kaiser, L., & Polosukhin, I. (2017). Attention Is All You Need. CoRR, abs/1706.03762. http://arxiv.org/abs/1706.03762\n",
    "\n",
    "[7] Hamilton, W. L., Ying, R., & Leskovec, J. (2017). Inductive Representation Learning on Large Graphs. CoRR, abs/1706.02216. http://arxiv.org/abs/1706.02216"
   ]
  },
  {
   "cell_type": "code",
   "execution_count": null,
   "metadata": {
    "id": "xX9vu9x5ZI1x"
   },
   "outputs": [],
   "source": []
  }
 ],
 "metadata": {
  "colab": {
   "collapsed_sections": [
    "t51m-VOBZI1n"
   ],
   "name": "gnn_seminar.ipynb",
   "provenance": []
  },
  "kernelspec": {
   "display_name": "Python 3 (ipykernel)",
   "language": "python",
   "name": "python3"
  },
  "language_info": {
   "codemirror_mode": {
    "name": "ipython",
    "version": 3
   },
   "file_extension": ".py",
   "mimetype": "text/x-python",
   "name": "python",
   "nbconvert_exporter": "python",
   "pygments_lexer": "ipython3",
   "version": "3.9.7"
  },
  "widgets": {
   "application/vnd.jupyter.widget-state+json": {
    "0351df69143147e19a9406b5acb85aed": {
     "model_module": "@jupyter-widgets/controls",
     "model_module_version": "1.5.0",
     "model_name": "HBoxModel",
     "state": {
      "_dom_classes": [],
      "_model_module": "@jupyter-widgets/controls",
      "_model_module_version": "1.5.0",
      "_model_name": "HBoxModel",
      "_view_count": null,
      "_view_module": "@jupyter-widgets/controls",
      "_view_module_version": "1.5.0",
      "_view_name": "HBoxView",
      "box_style": "",
      "children": [
       "IPY_MODEL_1ff7b1b49b6f4f6c95814b5942f18cdf",
       "IPY_MODEL_cf3d5489823641c7adaeee3a34c972b8",
       "IPY_MODEL_b53e12d8eaca4089a823aa551378b382"
      ],
      "layout": "IPY_MODEL_defca7b742bd42b897760bd9683386a6"
     }
    },
    "05ec7b23371b448388f84d3d23844275": {
     "model_module": "@jupyter-widgets/base",
     "model_module_version": "1.2.0",
     "model_name": "LayoutModel",
     "state": {
      "_model_module": "@jupyter-widgets/base",
      "_model_module_version": "1.2.0",
      "_model_name": "LayoutModel",
      "_view_count": null,
      "_view_module": "@jupyter-widgets/base",
      "_view_module_version": "1.2.0",
      "_view_name": "LayoutView",
      "align_content": null,
      "align_items": null,
      "align_self": null,
      "border": null,
      "bottom": null,
      "display": null,
      "flex": null,
      "flex_flow": null,
      "grid_area": null,
      "grid_auto_columns": null,
      "grid_auto_flow": null,
      "grid_auto_rows": null,
      "grid_column": null,
      "grid_gap": null,
      "grid_row": null,
      "grid_template_areas": null,
      "grid_template_columns": null,
      "grid_template_rows": null,
      "height": null,
      "justify_content": null,
      "justify_items": null,
      "left": null,
      "margin": null,
      "max_height": null,
      "max_width": null,
      "min_height": null,
      "min_width": null,
      "object_fit": null,
      "object_position": null,
      "order": null,
      "overflow": null,
      "overflow_x": null,
      "overflow_y": null,
      "padding": null,
      "right": null,
      "top": null,
      "visibility": null,
      "width": null
     }
    },
    "1005fb0c7e3742659e569396f1ac4e1b": {
     "model_module": "@jupyter-widgets/controls",
     "model_module_version": "1.5.0",
     "model_name": "HTMLModel",
     "state": {
      "_dom_classes": [],
      "_model_module": "@jupyter-widgets/controls",
      "_model_module_version": "1.5.0",
      "_model_name": "HTMLModel",
      "_view_count": null,
      "_view_module": "@jupyter-widgets/controls",
      "_view_module_version": "1.5.0",
      "_view_name": "HTMLView",
      "description": "",
      "description_tooltip": null,
      "layout": "IPY_MODEL_961b6603193f4be581dbcf0718aa2654",
      "placeholder": "​",
      "style": "IPY_MODEL_2e05cf0607fd42128b5ec5474c8728c2",
      "value": " 120/120 [00:23&lt;00:00,  5.06it/s]"
     }
    },
    "1215f7d0925742e1851a7ad07269b8d6": {
     "model_module": "@jupyter-widgets/controls",
     "model_module_version": "1.5.0",
     "model_name": "FloatProgressModel",
     "state": {
      "_dom_classes": [],
      "_model_module": "@jupyter-widgets/controls",
      "_model_module_version": "1.5.0",
      "_model_name": "FloatProgressModel",
      "_view_count": null,
      "_view_module": "@jupyter-widgets/controls",
      "_view_module_version": "1.5.0",
      "_view_name": "ProgressView",
      "bar_style": "success",
      "description": "",
      "description_tooltip": null,
      "layout": "IPY_MODEL_7afcd7a3841b4c22b81c713abc9d7f41",
      "max": 120,
      "min": 0,
      "orientation": "horizontal",
      "style": "IPY_MODEL_bae9bf2b911a4a42a0b4554fa58ad9b8",
      "value": 120
     }
    },
    "1ff7b1b49b6f4f6c95814b5942f18cdf": {
     "model_module": "@jupyter-widgets/controls",
     "model_module_version": "1.5.0",
     "model_name": "HTMLModel",
     "state": {
      "_dom_classes": [],
      "_model_module": "@jupyter-widgets/controls",
      "_model_module_version": "1.5.0",
      "_model_name": "HTMLModel",
      "_view_count": null,
      "_view_module": "@jupyter-widgets/controls",
      "_view_module_version": "1.5.0",
      "_view_name": "HTMLView",
      "description": "",
      "description_tooltip": null,
      "layout": "IPY_MODEL_5f6b83bcd2ba4ed7a515bd016aa6732a",
      "placeholder": "​",
      "style": "IPY_MODEL_54220040475a4f65b141dfe9510d458d",
      "value": "100%"
     }
    },
    "20b15e229a8d44aeb601d6d30247dbef": {
     "model_module": "@jupyter-widgets/controls",
     "model_module_version": "1.5.0",
     "model_name": "HBoxModel",
     "state": {
      "_dom_classes": [],
      "_model_module": "@jupyter-widgets/controls",
      "_model_module_version": "1.5.0",
      "_model_name": "HBoxModel",
      "_view_count": null,
      "_view_module": "@jupyter-widgets/controls",
      "_view_module_version": "1.5.0",
      "_view_name": "HBoxView",
      "box_style": "",
      "children": [
       "IPY_MODEL_3f6f59282fc04f97a105eed3425e7bb1",
       "IPY_MODEL_1215f7d0925742e1851a7ad07269b8d6",
       "IPY_MODEL_1005fb0c7e3742659e569396f1ac4e1b"
      ],
      "layout": "IPY_MODEL_4c1d09c341c84ef68f5833f1382b70db"
     }
    },
    "246e4afe159d42dbbbf7ffd06b37e46c": {
     "model_module": "@jupyter-widgets/controls",
     "model_module_version": "1.5.0",
     "model_name": "DescriptionStyleModel",
     "state": {
      "_model_module": "@jupyter-widgets/controls",
      "_model_module_version": "1.5.0",
      "_model_name": "DescriptionStyleModel",
      "_view_count": null,
      "_view_module": "@jupyter-widgets/base",
      "_view_module_version": "1.2.0",
      "_view_name": "StyleView",
      "description_width": ""
     }
    },
    "27f0c886fc6d423a85e7ed0201d9b530": {
     "model_module": "@jupyter-widgets/controls",
     "model_module_version": "1.5.0",
     "model_name": "DescriptionStyleModel",
     "state": {
      "_model_module": "@jupyter-widgets/controls",
      "_model_module_version": "1.5.0",
      "_model_name": "DescriptionStyleModel",
      "_view_count": null,
      "_view_module": "@jupyter-widgets/base",
      "_view_module_version": "1.2.0",
      "_view_name": "StyleView",
      "description_width": ""
     }
    },
    "29919037b16a45508aa75ac47fdbceaf": {
     "model_module": "@jupyter-widgets/base",
     "model_module_version": "1.2.0",
     "model_name": "LayoutModel",
     "state": {
      "_model_module": "@jupyter-widgets/base",
      "_model_module_version": "1.2.0",
      "_model_name": "LayoutModel",
      "_view_count": null,
      "_view_module": "@jupyter-widgets/base",
      "_view_module_version": "1.2.0",
      "_view_name": "LayoutView",
      "align_content": null,
      "align_items": null,
      "align_self": null,
      "border": null,
      "bottom": null,
      "display": null,
      "flex": null,
      "flex_flow": null,
      "grid_area": null,
      "grid_auto_columns": null,
      "grid_auto_flow": null,
      "grid_auto_rows": null,
      "grid_column": null,
      "grid_gap": null,
      "grid_row": null,
      "grid_template_areas": null,
      "grid_template_columns": null,
      "grid_template_rows": null,
      "height": null,
      "justify_content": null,
      "justify_items": null,
      "left": null,
      "margin": null,
      "max_height": null,
      "max_width": null,
      "min_height": null,
      "min_width": null,
      "object_fit": null,
      "object_position": null,
      "order": null,
      "overflow": null,
      "overflow_x": null,
      "overflow_y": null,
      "padding": null,
      "right": null,
      "top": null,
      "visibility": null,
      "width": null
     }
    },
    "2e05cf0607fd42128b5ec5474c8728c2": {
     "model_module": "@jupyter-widgets/controls",
     "model_module_version": "1.5.0",
     "model_name": "DescriptionStyleModel",
     "state": {
      "_model_module": "@jupyter-widgets/controls",
      "_model_module_version": "1.5.0",
      "_model_name": "DescriptionStyleModel",
      "_view_count": null,
      "_view_module": "@jupyter-widgets/base",
      "_view_module_version": "1.2.0",
      "_view_name": "StyleView",
      "description_width": ""
     }
    },
    "31c05a34f2e6488097f9907d629601c9": {
     "model_module": "@jupyter-widgets/base",
     "model_module_version": "1.2.0",
     "model_name": "LayoutModel",
     "state": {
      "_model_module": "@jupyter-widgets/base",
      "_model_module_version": "1.2.0",
      "_model_name": "LayoutModel",
      "_view_count": null,
      "_view_module": "@jupyter-widgets/base",
      "_view_module_version": "1.2.0",
      "_view_name": "LayoutView",
      "align_content": null,
      "align_items": null,
      "align_self": null,
      "border": null,
      "bottom": null,
      "display": null,
      "flex": null,
      "flex_flow": null,
      "grid_area": null,
      "grid_auto_columns": null,
      "grid_auto_flow": null,
      "grid_auto_rows": null,
      "grid_column": null,
      "grid_gap": null,
      "grid_row": null,
      "grid_template_areas": null,
      "grid_template_columns": null,
      "grid_template_rows": null,
      "height": null,
      "justify_content": null,
      "justify_items": null,
      "left": null,
      "margin": null,
      "max_height": null,
      "max_width": null,
      "min_height": null,
      "min_width": null,
      "object_fit": null,
      "object_position": null,
      "order": null,
      "overflow": null,
      "overflow_x": null,
      "overflow_y": null,
      "padding": null,
      "right": null,
      "top": null,
      "visibility": null,
      "width": null
     }
    },
    "33debd563ed34d658725cd0aeb89aab1": {
     "model_module": "@jupyter-widgets/base",
     "model_module_version": "1.2.0",
     "model_name": "LayoutModel",
     "state": {
      "_model_module": "@jupyter-widgets/base",
      "_model_module_version": "1.2.0",
      "_model_name": "LayoutModel",
      "_view_count": null,
      "_view_module": "@jupyter-widgets/base",
      "_view_module_version": "1.2.0",
      "_view_name": "LayoutView",
      "align_content": null,
      "align_items": null,
      "align_self": null,
      "border": null,
      "bottom": null,
      "display": null,
      "flex": null,
      "flex_flow": null,
      "grid_area": null,
      "grid_auto_columns": null,
      "grid_auto_flow": null,
      "grid_auto_rows": null,
      "grid_column": null,
      "grid_gap": null,
      "grid_row": null,
      "grid_template_areas": null,
      "grid_template_columns": null,
      "grid_template_rows": null,
      "height": null,
      "justify_content": null,
      "justify_items": null,
      "left": null,
      "margin": null,
      "max_height": null,
      "max_width": null,
      "min_height": null,
      "min_width": null,
      "object_fit": null,
      "object_position": null,
      "order": null,
      "overflow": null,
      "overflow_x": null,
      "overflow_y": null,
      "padding": null,
      "right": null,
      "top": null,
      "visibility": null,
      "width": null
     }
    },
    "3a142ad2d82846ca9e103670627b478b": {
     "model_module": "@jupyter-widgets/base",
     "model_module_version": "1.2.0",
     "model_name": "LayoutModel",
     "state": {
      "_model_module": "@jupyter-widgets/base",
      "_model_module_version": "1.2.0",
      "_model_name": "LayoutModel",
      "_view_count": null,
      "_view_module": "@jupyter-widgets/base",
      "_view_module_version": "1.2.0",
      "_view_name": "LayoutView",
      "align_content": null,
      "align_items": null,
      "align_self": null,
      "border": null,
      "bottom": null,
      "display": null,
      "flex": null,
      "flex_flow": null,
      "grid_area": null,
      "grid_auto_columns": null,
      "grid_auto_flow": null,
      "grid_auto_rows": null,
      "grid_column": null,
      "grid_gap": null,
      "grid_row": null,
      "grid_template_areas": null,
      "grid_template_columns": null,
      "grid_template_rows": null,
      "height": null,
      "justify_content": null,
      "justify_items": null,
      "left": null,
      "margin": null,
      "max_height": null,
      "max_width": null,
      "min_height": null,
      "min_width": null,
      "object_fit": null,
      "object_position": null,
      "order": null,
      "overflow": null,
      "overflow_x": null,
      "overflow_y": null,
      "padding": null,
      "right": null,
      "top": null,
      "visibility": null,
      "width": null
     }
    },
    "3f6f59282fc04f97a105eed3425e7bb1": {
     "model_module": "@jupyter-widgets/controls",
     "model_module_version": "1.5.0",
     "model_name": "HTMLModel",
     "state": {
      "_dom_classes": [],
      "_model_module": "@jupyter-widgets/controls",
      "_model_module_version": "1.5.0",
      "_model_name": "HTMLModel",
      "_view_count": null,
      "_view_module": "@jupyter-widgets/controls",
      "_view_module_version": "1.5.0",
      "_view_name": "HTMLView",
      "description": "",
      "description_tooltip": null,
      "layout": "IPY_MODEL_64ee473cbf944d9fb56ef47dd29bf215",
      "placeholder": "​",
      "style": "IPY_MODEL_5c7355133d8e449baf0ce97789629f6d",
      "value": "100%"
     }
    },
    "3f8367c288364ae7beafb981cd556e36": {
     "model_module": "@jupyter-widgets/controls",
     "model_module_version": "1.5.0",
     "model_name": "HBoxModel",
     "state": {
      "_dom_classes": [],
      "_model_module": "@jupyter-widgets/controls",
      "_model_module_version": "1.5.0",
      "_model_name": "HBoxModel",
      "_view_count": null,
      "_view_module": "@jupyter-widgets/controls",
      "_view_module_version": "1.5.0",
      "_view_name": "HBoxView",
      "box_style": "",
      "children": [
       "IPY_MODEL_e6378a2eac534883b74e3a7be18bc57b",
       "IPY_MODEL_78b190ed029648aea9e39544f8fd681e",
       "IPY_MODEL_e9c843e0a54c430c85272df051c7ca96"
      ],
      "layout": "IPY_MODEL_3a142ad2d82846ca9e103670627b478b"
     }
    },
    "46625e59d2bf44559b964a4cc89bfe1c": {
     "model_module": "@jupyter-widgets/controls",
     "model_module_version": "1.5.0",
     "model_name": "ProgressStyleModel",
     "state": {
      "_model_module": "@jupyter-widgets/controls",
      "_model_module_version": "1.5.0",
      "_model_name": "ProgressStyleModel",
      "_view_count": null,
      "_view_module": "@jupyter-widgets/base",
      "_view_module_version": "1.2.0",
      "_view_name": "StyleView",
      "bar_color": null,
      "description_width": ""
     }
    },
    "49e0fc7c80204a21abe4de517fce456f": {
     "model_module": "@jupyter-widgets/controls",
     "model_module_version": "1.5.0",
     "model_name": "DescriptionStyleModel",
     "state": {
      "_model_module": "@jupyter-widgets/controls",
      "_model_module_version": "1.5.0",
      "_model_name": "DescriptionStyleModel",
      "_view_count": null,
      "_view_module": "@jupyter-widgets/base",
      "_view_module_version": "1.2.0",
      "_view_name": "StyleView",
      "description_width": ""
     }
    },
    "4c1d09c341c84ef68f5833f1382b70db": {
     "model_module": "@jupyter-widgets/base",
     "model_module_version": "1.2.0",
     "model_name": "LayoutModel",
     "state": {
      "_model_module": "@jupyter-widgets/base",
      "_model_module_version": "1.2.0",
      "_model_name": "LayoutModel",
      "_view_count": null,
      "_view_module": "@jupyter-widgets/base",
      "_view_module_version": "1.2.0",
      "_view_name": "LayoutView",
      "align_content": null,
      "align_items": null,
      "align_self": null,
      "border": null,
      "bottom": null,
      "display": null,
      "flex": null,
      "flex_flow": null,
      "grid_area": null,
      "grid_auto_columns": null,
      "grid_auto_flow": null,
      "grid_auto_rows": null,
      "grid_column": null,
      "grid_gap": null,
      "grid_row": null,
      "grid_template_areas": null,
      "grid_template_columns": null,
      "grid_template_rows": null,
      "height": null,
      "justify_content": null,
      "justify_items": null,
      "left": null,
      "margin": null,
      "max_height": null,
      "max_width": null,
      "min_height": null,
      "min_width": null,
      "object_fit": null,
      "object_position": null,
      "order": null,
      "overflow": null,
      "overflow_x": null,
      "overflow_y": null,
      "padding": null,
      "right": null,
      "top": null,
      "visibility": null,
      "width": null
     }
    },
    "4eb4c7ca08bb48ffa48855e41422a679": {
     "model_module": "@jupyter-widgets/controls",
     "model_module_version": "1.5.0",
     "model_name": "HTMLModel",
     "state": {
      "_dom_classes": [],
      "_model_module": "@jupyter-widgets/controls",
      "_model_module_version": "1.5.0",
      "_model_name": "HTMLModel",
      "_view_count": null,
      "_view_module": "@jupyter-widgets/controls",
      "_view_module_version": "1.5.0",
      "_view_name": "HTMLView",
      "description": "",
      "description_tooltip": null,
      "layout": "IPY_MODEL_05ec7b23371b448388f84d3d23844275",
      "placeholder": "​",
      "style": "IPY_MODEL_49e0fc7c80204a21abe4de517fce456f",
      "value": "100%"
     }
    },
    "54220040475a4f65b141dfe9510d458d": {
     "model_module": "@jupyter-widgets/controls",
     "model_module_version": "1.5.0",
     "model_name": "DescriptionStyleModel",
     "state": {
      "_model_module": "@jupyter-widgets/controls",
      "_model_module_version": "1.5.0",
      "_model_name": "DescriptionStyleModel",
      "_view_count": null,
      "_view_module": "@jupyter-widgets/base",
      "_view_module_version": "1.2.0",
      "_view_name": "StyleView",
      "description_width": ""
     }
    },
    "5c42fd0c6d9b479da28938197ccfb0d0": {
     "model_module": "@jupyter-widgets/controls",
     "model_module_version": "1.5.0",
     "model_name": "DescriptionStyleModel",
     "state": {
      "_model_module": "@jupyter-widgets/controls",
      "_model_module_version": "1.5.0",
      "_model_name": "DescriptionStyleModel",
      "_view_count": null,
      "_view_module": "@jupyter-widgets/base",
      "_view_module_version": "1.2.0",
      "_view_name": "StyleView",
      "description_width": ""
     }
    },
    "5c7355133d8e449baf0ce97789629f6d": {
     "model_module": "@jupyter-widgets/controls",
     "model_module_version": "1.5.0",
     "model_name": "DescriptionStyleModel",
     "state": {
      "_model_module": "@jupyter-widgets/controls",
      "_model_module_version": "1.5.0",
      "_model_name": "DescriptionStyleModel",
      "_view_count": null,
      "_view_module": "@jupyter-widgets/base",
      "_view_module_version": "1.2.0",
      "_view_name": "StyleView",
      "description_width": ""
     }
    },
    "5f6b83bcd2ba4ed7a515bd016aa6732a": {
     "model_module": "@jupyter-widgets/base",
     "model_module_version": "1.2.0",
     "model_name": "LayoutModel",
     "state": {
      "_model_module": "@jupyter-widgets/base",
      "_model_module_version": "1.2.0",
      "_model_name": "LayoutModel",
      "_view_count": null,
      "_view_module": "@jupyter-widgets/base",
      "_view_module_version": "1.2.0",
      "_view_name": "LayoutView",
      "align_content": null,
      "align_items": null,
      "align_self": null,
      "border": null,
      "bottom": null,
      "display": null,
      "flex": null,
      "flex_flow": null,
      "grid_area": null,
      "grid_auto_columns": null,
      "grid_auto_flow": null,
      "grid_auto_rows": null,
      "grid_column": null,
      "grid_gap": null,
      "grid_row": null,
      "grid_template_areas": null,
      "grid_template_columns": null,
      "grid_template_rows": null,
      "height": null,
      "justify_content": null,
      "justify_items": null,
      "left": null,
      "margin": null,
      "max_height": null,
      "max_width": null,
      "min_height": null,
      "min_width": null,
      "object_fit": null,
      "object_position": null,
      "order": null,
      "overflow": null,
      "overflow_x": null,
      "overflow_y": null,
      "padding": null,
      "right": null,
      "top": null,
      "visibility": null,
      "width": null
     }
    },
    "64ee473cbf944d9fb56ef47dd29bf215": {
     "model_module": "@jupyter-widgets/base",
     "model_module_version": "1.2.0",
     "model_name": "LayoutModel",
     "state": {
      "_model_module": "@jupyter-widgets/base",
      "_model_module_version": "1.2.0",
      "_model_name": "LayoutModel",
      "_view_count": null,
      "_view_module": "@jupyter-widgets/base",
      "_view_module_version": "1.2.0",
      "_view_name": "LayoutView",
      "align_content": null,
      "align_items": null,
      "align_self": null,
      "border": null,
      "bottom": null,
      "display": null,
      "flex": null,
      "flex_flow": null,
      "grid_area": null,
      "grid_auto_columns": null,
      "grid_auto_flow": null,
      "grid_auto_rows": null,
      "grid_column": null,
      "grid_gap": null,
      "grid_row": null,
      "grid_template_areas": null,
      "grid_template_columns": null,
      "grid_template_rows": null,
      "height": null,
      "justify_content": null,
      "justify_items": null,
      "left": null,
      "margin": null,
      "max_height": null,
      "max_width": null,
      "min_height": null,
      "min_width": null,
      "object_fit": null,
      "object_position": null,
      "order": null,
      "overflow": null,
      "overflow_x": null,
      "overflow_y": null,
      "padding": null,
      "right": null,
      "top": null,
      "visibility": null,
      "width": null
     }
    },
    "73ade8dc331f49278ff9e59aad6d72cb": {
     "model_module": "@jupyter-widgets/base",
     "model_module_version": "1.2.0",
     "model_name": "LayoutModel",
     "state": {
      "_model_module": "@jupyter-widgets/base",
      "_model_module_version": "1.2.0",
      "_model_name": "LayoutModel",
      "_view_count": null,
      "_view_module": "@jupyter-widgets/base",
      "_view_module_version": "1.2.0",
      "_view_name": "LayoutView",
      "align_content": null,
      "align_items": null,
      "align_self": null,
      "border": null,
      "bottom": null,
      "display": null,
      "flex": null,
      "flex_flow": null,
      "grid_area": null,
      "grid_auto_columns": null,
      "grid_auto_flow": null,
      "grid_auto_rows": null,
      "grid_column": null,
      "grid_gap": null,
      "grid_row": null,
      "grid_template_areas": null,
      "grid_template_columns": null,
      "grid_template_rows": null,
      "height": null,
      "justify_content": null,
      "justify_items": null,
      "left": null,
      "margin": null,
      "max_height": null,
      "max_width": null,
      "min_height": null,
      "min_width": null,
      "object_fit": null,
      "object_position": null,
      "order": null,
      "overflow": null,
      "overflow_x": null,
      "overflow_y": null,
      "padding": null,
      "right": null,
      "top": null,
      "visibility": null,
      "width": null
     }
    },
    "777356f463f54d348bfac17130ce17e4": {
     "model_module": "@jupyter-widgets/controls",
     "model_module_version": "1.5.0",
     "model_name": "HBoxModel",
     "state": {
      "_dom_classes": [],
      "_model_module": "@jupyter-widgets/controls",
      "_model_module_version": "1.5.0",
      "_model_name": "HBoxModel",
      "_view_count": null,
      "_view_module": "@jupyter-widgets/controls",
      "_view_module_version": "1.5.0",
      "_view_name": "HBoxView",
      "box_style": "",
      "children": [
       "IPY_MODEL_4eb4c7ca08bb48ffa48855e41422a679",
       "IPY_MODEL_c3e173c06cf84109b52a5d3d8e88fbdd",
       "IPY_MODEL_89f8303c6cdc4248ba0fbcb0e90143de"
      ],
      "layout": "IPY_MODEL_e1076b51d8084b2ba789dad839852601"
     }
    },
    "78b190ed029648aea9e39544f8fd681e": {
     "model_module": "@jupyter-widgets/controls",
     "model_module_version": "1.5.0",
     "model_name": "FloatProgressModel",
     "state": {
      "_dom_classes": [],
      "_model_module": "@jupyter-widgets/controls",
      "_model_module_version": "1.5.0",
      "_model_name": "FloatProgressModel",
      "_view_count": null,
      "_view_module": "@jupyter-widgets/controls",
      "_view_module_version": "1.5.0",
      "_view_name": "ProgressView",
      "bar_style": "success",
      "description": "",
      "description_tooltip": null,
      "layout": "IPY_MODEL_e9f4f82015e94c648e2919dab926471e",
      "max": 200,
      "min": 0,
      "orientation": "horizontal",
      "style": "IPY_MODEL_46625e59d2bf44559b964a4cc89bfe1c",
      "value": 200
     }
    },
    "7afcd7a3841b4c22b81c713abc9d7f41": {
     "model_module": "@jupyter-widgets/base",
     "model_module_version": "1.2.0",
     "model_name": "LayoutModel",
     "state": {
      "_model_module": "@jupyter-widgets/base",
      "_model_module_version": "1.2.0",
      "_model_name": "LayoutModel",
      "_view_count": null,
      "_view_module": "@jupyter-widgets/base",
      "_view_module_version": "1.2.0",
      "_view_name": "LayoutView",
      "align_content": null,
      "align_items": null,
      "align_self": null,
      "border": null,
      "bottom": null,
      "display": null,
      "flex": null,
      "flex_flow": null,
      "grid_area": null,
      "grid_auto_columns": null,
      "grid_auto_flow": null,
      "grid_auto_rows": null,
      "grid_column": null,
      "grid_gap": null,
      "grid_row": null,
      "grid_template_areas": null,
      "grid_template_columns": null,
      "grid_template_rows": null,
      "height": null,
      "justify_content": null,
      "justify_items": null,
      "left": null,
      "margin": null,
      "max_height": null,
      "max_width": null,
      "min_height": null,
      "min_width": null,
      "object_fit": null,
      "object_position": null,
      "order": null,
      "overflow": null,
      "overflow_x": null,
      "overflow_y": null,
      "padding": null,
      "right": null,
      "top": null,
      "visibility": null,
      "width": null
     }
    },
    "7b9c88a47db6479ab6a00a64989afedb": {
     "model_module": "@jupyter-widgets/base",
     "model_module_version": "1.2.0",
     "model_name": "LayoutModel",
     "state": {
      "_model_module": "@jupyter-widgets/base",
      "_model_module_version": "1.2.0",
      "_model_name": "LayoutModel",
      "_view_count": null,
      "_view_module": "@jupyter-widgets/base",
      "_view_module_version": "1.2.0",
      "_view_name": "LayoutView",
      "align_content": null,
      "align_items": null,
      "align_self": null,
      "border": null,
      "bottom": null,
      "display": null,
      "flex": null,
      "flex_flow": null,
      "grid_area": null,
      "grid_auto_columns": null,
      "grid_auto_flow": null,
      "grid_auto_rows": null,
      "grid_column": null,
      "grid_gap": null,
      "grid_row": null,
      "grid_template_areas": null,
      "grid_template_columns": null,
      "grid_template_rows": null,
      "height": null,
      "justify_content": null,
      "justify_items": null,
      "left": null,
      "margin": null,
      "max_height": null,
      "max_width": null,
      "min_height": null,
      "min_width": null,
      "object_fit": null,
      "object_position": null,
      "order": null,
      "overflow": null,
      "overflow_x": null,
      "overflow_y": null,
      "padding": null,
      "right": null,
      "top": null,
      "visibility": null,
      "width": null
     }
    },
    "83e70d35bf65408a9c138f96a9a8a932": {
     "model_module": "@jupyter-widgets/controls",
     "model_module_version": "1.5.0",
     "model_name": "DescriptionStyleModel",
     "state": {
      "_model_module": "@jupyter-widgets/controls",
      "_model_module_version": "1.5.0",
      "_model_name": "DescriptionStyleModel",
      "_view_count": null,
      "_view_module": "@jupyter-widgets/base",
      "_view_module_version": "1.2.0",
      "_view_name": "StyleView",
      "description_width": ""
     }
    },
    "89f8303c6cdc4248ba0fbcb0e90143de": {
     "model_module": "@jupyter-widgets/controls",
     "model_module_version": "1.5.0",
     "model_name": "HTMLModel",
     "state": {
      "_dom_classes": [],
      "_model_module": "@jupyter-widgets/controls",
      "_model_module_version": "1.5.0",
      "_model_name": "HTMLModel",
      "_view_count": null,
      "_view_module": "@jupyter-widgets/controls",
      "_view_module_version": "1.5.0",
      "_view_name": "HTMLView",
      "description": "",
      "description_tooltip": null,
      "layout": "IPY_MODEL_b74518bcd224470aa746c26b8e1054ba",
      "placeholder": "​",
      "style": "IPY_MODEL_246e4afe159d42dbbbf7ffd06b37e46c",
      "value": " 400/400 [01:35&lt;00:00,  4.26it/s]"
     }
    },
    "961b6603193f4be581dbcf0718aa2654": {
     "model_module": "@jupyter-widgets/base",
     "model_module_version": "1.2.0",
     "model_name": "LayoutModel",
     "state": {
      "_model_module": "@jupyter-widgets/base",
      "_model_module_version": "1.2.0",
      "_model_name": "LayoutModel",
      "_view_count": null,
      "_view_module": "@jupyter-widgets/base",
      "_view_module_version": "1.2.0",
      "_view_name": "LayoutView",
      "align_content": null,
      "align_items": null,
      "align_self": null,
      "border": null,
      "bottom": null,
      "display": null,
      "flex": null,
      "flex_flow": null,
      "grid_area": null,
      "grid_auto_columns": null,
      "grid_auto_flow": null,
      "grid_auto_rows": null,
      "grid_column": null,
      "grid_gap": null,
      "grid_row": null,
      "grid_template_areas": null,
      "grid_template_columns": null,
      "grid_template_rows": null,
      "height": null,
      "justify_content": null,
      "justify_items": null,
      "left": null,
      "margin": null,
      "max_height": null,
      "max_width": null,
      "min_height": null,
      "min_width": null,
      "object_fit": null,
      "object_position": null,
      "order": null,
      "overflow": null,
      "overflow_x": null,
      "overflow_y": null,
      "padding": null,
      "right": null,
      "top": null,
      "visibility": null,
      "width": null
     }
    },
    "b53e12d8eaca4089a823aa551378b382": {
     "model_module": "@jupyter-widgets/controls",
     "model_module_version": "1.5.0",
     "model_name": "HTMLModel",
     "state": {
      "_dom_classes": [],
      "_model_module": "@jupyter-widgets/controls",
      "_model_module_version": "1.5.0",
      "_model_name": "HTMLModel",
      "_view_count": null,
      "_view_module": "@jupyter-widgets/controls",
      "_view_module_version": "1.5.0",
      "_view_name": "HTMLView",
      "description": "",
      "description_tooltip": null,
      "layout": "IPY_MODEL_73ade8dc331f49278ff9e59aad6d72cb",
      "placeholder": "​",
      "style": "IPY_MODEL_27f0c886fc6d423a85e7ed0201d9b530",
      "value": " 200/200 [00:04&lt;00:00, 42.18it/s]"
     }
    },
    "b74518bcd224470aa746c26b8e1054ba": {
     "model_module": "@jupyter-widgets/base",
     "model_module_version": "1.2.0",
     "model_name": "LayoutModel",
     "state": {
      "_model_module": "@jupyter-widgets/base",
      "_model_module_version": "1.2.0",
      "_model_name": "LayoutModel",
      "_view_count": null,
      "_view_module": "@jupyter-widgets/base",
      "_view_module_version": "1.2.0",
      "_view_name": "LayoutView",
      "align_content": null,
      "align_items": null,
      "align_self": null,
      "border": null,
      "bottom": null,
      "display": null,
      "flex": null,
      "flex_flow": null,
      "grid_area": null,
      "grid_auto_columns": null,
      "grid_auto_flow": null,
      "grid_auto_rows": null,
      "grid_column": null,
      "grid_gap": null,
      "grid_row": null,
      "grid_template_areas": null,
      "grid_template_columns": null,
      "grid_template_rows": null,
      "height": null,
      "justify_content": null,
      "justify_items": null,
      "left": null,
      "margin": null,
      "max_height": null,
      "max_width": null,
      "min_height": null,
      "min_width": null,
      "object_fit": null,
      "object_position": null,
      "order": null,
      "overflow": null,
      "overflow_x": null,
      "overflow_y": null,
      "padding": null,
      "right": null,
      "top": null,
      "visibility": null,
      "width": null
     }
    },
    "bae9bf2b911a4a42a0b4554fa58ad9b8": {
     "model_module": "@jupyter-widgets/controls",
     "model_module_version": "1.5.0",
     "model_name": "ProgressStyleModel",
     "state": {
      "_model_module": "@jupyter-widgets/controls",
      "_model_module_version": "1.5.0",
      "_model_name": "ProgressStyleModel",
      "_view_count": null,
      "_view_module": "@jupyter-widgets/base",
      "_view_module_version": "1.2.0",
      "_view_name": "StyleView",
      "bar_color": null,
      "description_width": ""
     }
    },
    "c3e173c06cf84109b52a5d3d8e88fbdd": {
     "model_module": "@jupyter-widgets/controls",
     "model_module_version": "1.5.0",
     "model_name": "FloatProgressModel",
     "state": {
      "_dom_classes": [],
      "_model_module": "@jupyter-widgets/controls",
      "_model_module_version": "1.5.0",
      "_model_name": "FloatProgressModel",
      "_view_count": null,
      "_view_module": "@jupyter-widgets/controls",
      "_view_module_version": "1.5.0",
      "_view_name": "ProgressView",
      "bar_style": "success",
      "description": "",
      "description_tooltip": null,
      "layout": "IPY_MODEL_33debd563ed34d658725cd0aeb89aab1",
      "max": 400,
      "min": 0,
      "orientation": "horizontal",
      "style": "IPY_MODEL_ecd75c98792246789c1161e89b702169",
      "value": 400
     }
    },
    "c44165fe3aa2403eb96a64ae01bbc5ac": {
     "model_module": "@jupyter-widgets/controls",
     "model_module_version": "1.5.0",
     "model_name": "ProgressStyleModel",
     "state": {
      "_model_module": "@jupyter-widgets/controls",
      "_model_module_version": "1.5.0",
      "_model_name": "ProgressStyleModel",
      "_view_count": null,
      "_view_module": "@jupyter-widgets/base",
      "_view_module_version": "1.2.0",
      "_view_name": "StyleView",
      "bar_color": null,
      "description_width": ""
     }
    },
    "cf3d5489823641c7adaeee3a34c972b8": {
     "model_module": "@jupyter-widgets/controls",
     "model_module_version": "1.5.0",
     "model_name": "FloatProgressModel",
     "state": {
      "_dom_classes": [],
      "_model_module": "@jupyter-widgets/controls",
      "_model_module_version": "1.5.0",
      "_model_name": "FloatProgressModel",
      "_view_count": null,
      "_view_module": "@jupyter-widgets/controls",
      "_view_module_version": "1.5.0",
      "_view_name": "ProgressView",
      "bar_style": "success",
      "description": "",
      "description_tooltip": null,
      "layout": "IPY_MODEL_31c05a34f2e6488097f9907d629601c9",
      "max": 200,
      "min": 0,
      "orientation": "horizontal",
      "style": "IPY_MODEL_c44165fe3aa2403eb96a64ae01bbc5ac",
      "value": 200
     }
    },
    "defca7b742bd42b897760bd9683386a6": {
     "model_module": "@jupyter-widgets/base",
     "model_module_version": "1.2.0",
     "model_name": "LayoutModel",
     "state": {
      "_model_module": "@jupyter-widgets/base",
      "_model_module_version": "1.2.0",
      "_model_name": "LayoutModel",
      "_view_count": null,
      "_view_module": "@jupyter-widgets/base",
      "_view_module_version": "1.2.0",
      "_view_name": "LayoutView",
      "align_content": null,
      "align_items": null,
      "align_self": null,
      "border": null,
      "bottom": null,
      "display": null,
      "flex": null,
      "flex_flow": null,
      "grid_area": null,
      "grid_auto_columns": null,
      "grid_auto_flow": null,
      "grid_auto_rows": null,
      "grid_column": null,
      "grid_gap": null,
      "grid_row": null,
      "grid_template_areas": null,
      "grid_template_columns": null,
      "grid_template_rows": null,
      "height": null,
      "justify_content": null,
      "justify_items": null,
      "left": null,
      "margin": null,
      "max_height": null,
      "max_width": null,
      "min_height": null,
      "min_width": null,
      "object_fit": null,
      "object_position": null,
      "order": null,
      "overflow": null,
      "overflow_x": null,
      "overflow_y": null,
      "padding": null,
      "right": null,
      "top": null,
      "visibility": null,
      "width": null
     }
    },
    "e1076b51d8084b2ba789dad839852601": {
     "model_module": "@jupyter-widgets/base",
     "model_module_version": "1.2.0",
     "model_name": "LayoutModel",
     "state": {
      "_model_module": "@jupyter-widgets/base",
      "_model_module_version": "1.2.0",
      "_model_name": "LayoutModel",
      "_view_count": null,
      "_view_module": "@jupyter-widgets/base",
      "_view_module_version": "1.2.0",
      "_view_name": "LayoutView",
      "align_content": null,
      "align_items": null,
      "align_self": null,
      "border": null,
      "bottom": null,
      "display": null,
      "flex": null,
      "flex_flow": null,
      "grid_area": null,
      "grid_auto_columns": null,
      "grid_auto_flow": null,
      "grid_auto_rows": null,
      "grid_column": null,
      "grid_gap": null,
      "grid_row": null,
      "grid_template_areas": null,
      "grid_template_columns": null,
      "grid_template_rows": null,
      "height": null,
      "justify_content": null,
      "justify_items": null,
      "left": null,
      "margin": null,
      "max_height": null,
      "max_width": null,
      "min_height": null,
      "min_width": null,
      "object_fit": null,
      "object_position": null,
      "order": null,
      "overflow": null,
      "overflow_x": null,
      "overflow_y": null,
      "padding": null,
      "right": null,
      "top": null,
      "visibility": null,
      "width": null
     }
    },
    "e6378a2eac534883b74e3a7be18bc57b": {
     "model_module": "@jupyter-widgets/controls",
     "model_module_version": "1.5.0",
     "model_name": "HTMLModel",
     "state": {
      "_dom_classes": [],
      "_model_module": "@jupyter-widgets/controls",
      "_model_module_version": "1.5.0",
      "_model_name": "HTMLModel",
      "_view_count": null,
      "_view_module": "@jupyter-widgets/controls",
      "_view_module_version": "1.5.0",
      "_view_name": "HTMLView",
      "description": "",
      "description_tooltip": null,
      "layout": "IPY_MODEL_7b9c88a47db6479ab6a00a64989afedb",
      "placeholder": "​",
      "style": "IPY_MODEL_5c42fd0c6d9b479da28938197ccfb0d0",
      "value": "100%"
     }
    },
    "e9c843e0a54c430c85272df051c7ca96": {
     "model_module": "@jupyter-widgets/controls",
     "model_module_version": "1.5.0",
     "model_name": "HTMLModel",
     "state": {
      "_dom_classes": [],
      "_model_module": "@jupyter-widgets/controls",
      "_model_module_version": "1.5.0",
      "_model_name": "HTMLModel",
      "_view_count": null,
      "_view_module": "@jupyter-widgets/controls",
      "_view_module_version": "1.5.0",
      "_view_name": "HTMLView",
      "description": "",
      "description_tooltip": null,
      "layout": "IPY_MODEL_29919037b16a45508aa75ac47fdbceaf",
      "placeholder": "​",
      "style": "IPY_MODEL_83e70d35bf65408a9c138f96a9a8a932",
      "value": " 200/200 [00:31&lt;00:00,  6.50it/s]"
     }
    },
    "e9f4f82015e94c648e2919dab926471e": {
     "model_module": "@jupyter-widgets/base",
     "model_module_version": "1.2.0",
     "model_name": "LayoutModel",
     "state": {
      "_model_module": "@jupyter-widgets/base",
      "_model_module_version": "1.2.0",
      "_model_name": "LayoutModel",
      "_view_count": null,
      "_view_module": "@jupyter-widgets/base",
      "_view_module_version": "1.2.0",
      "_view_name": "LayoutView",
      "align_content": null,
      "align_items": null,
      "align_self": null,
      "border": null,
      "bottom": null,
      "display": null,
      "flex": null,
      "flex_flow": null,
      "grid_area": null,
      "grid_auto_columns": null,
      "grid_auto_flow": null,
      "grid_auto_rows": null,
      "grid_column": null,
      "grid_gap": null,
      "grid_row": null,
      "grid_template_areas": null,
      "grid_template_columns": null,
      "grid_template_rows": null,
      "height": null,
      "justify_content": null,
      "justify_items": null,
      "left": null,
      "margin": null,
      "max_height": null,
      "max_width": null,
      "min_height": null,
      "min_width": null,
      "object_fit": null,
      "object_position": null,
      "order": null,
      "overflow": null,
      "overflow_x": null,
      "overflow_y": null,
      "padding": null,
      "right": null,
      "top": null,
      "visibility": null,
      "width": null
     }
    },
    "ecd75c98792246789c1161e89b702169": {
     "model_module": "@jupyter-widgets/controls",
     "model_module_version": "1.5.0",
     "model_name": "ProgressStyleModel",
     "state": {
      "_model_module": "@jupyter-widgets/controls",
      "_model_module_version": "1.5.0",
      "_model_name": "ProgressStyleModel",
      "_view_count": null,
      "_view_module": "@jupyter-widgets/base",
      "_view_module_version": "1.2.0",
      "_view_name": "StyleView",
      "bar_color": null,
      "description_width": ""
     }
    }
   }
  }
 },
 "nbformat": 4,
 "nbformat_minor": 1
}
